{
  "nbformat": 4,
  "nbformat_minor": 0,
  "metadata": {
    "kernelspec": {
      "display_name": "Python 3",
      "language": "python",
      "name": "python3"
    },
    "language_info": {
      "codemirror_mode": {
        "name": "ipython",
        "version": 3
      },
      "file_extension": ".py",
      "mimetype": "text/x-python",
      "name": "python",
      "nbconvert_exporter": "python",
      "pygments_lexer": "ipython3",
      "version": "3.7.8"
    },
    "toc": {
      "base_numbering": 1,
      "nav_menu": {},
      "number_sections": true,
      "sideBar": true,
      "skip_h1_title": true,
      "title_cell": "Содержание",
      "title_sidebar": "Contents",
      "toc_cell": true,
      "toc_position": {
        "height": "calc(100% - 180px)",
        "left": "10px",
        "top": "150px",
        "width": "246px"
      },
      "toc_section_display": true,
      "toc_window_display": true
    },
    "colab": {
      "name": "2_EDA__real_estate.ipynb",
      "provenance": [],
      "collapsed_sections": []
    }
  },
  "cells": [
    {
      "cell_type": "markdown",
      "metadata": {
        "toc": true,
        "id": "UEvcr2NXkDiP"
      },
      "source": [
        "<h1>Содержание<span class=\"tocSkip\"></span></h1>\n",
        "<div class=\"toc\"><ul class=\"toc-item\"><li><span><a href=\"#Изучение-данных-из-файла\" data-toc-modified-id=\"Изучение-данных-из-файла-1\"><span class=\"toc-item-num\">1&nbsp;&nbsp;</span>Изучение данных из файла</a></span><ul class=\"toc-item\"><li><ul class=\"toc-item\"><li><span><a href=\"#Вывод\" data-toc-modified-id=\"Вывод-1.0.1\"><span class=\"toc-item-num\">1.0.1&nbsp;&nbsp;</span>Вывод</a></span></li><li><span><a href=\"#Вывод\" data-toc-modified-id=\"Вывод-1.0.2\"><span class=\"toc-item-num\">1.0.2&nbsp;&nbsp;</span>Вывод</a></span></li></ul></li></ul></li><li><span><a href=\"#Предобработка-данных\" data-toc-modified-id=\"Предобработка-данных-2\"><span class=\"toc-item-num\">2&nbsp;&nbsp;</span>Предобработка данных</a></span><ul class=\"toc-item\"><li><ul class=\"toc-item\"><li><span><a href=\"#Заполнение-пропущенных-значений-и-очистка-от-артефактов\" data-toc-modified-id=\"Заполнение-пропущенных-значений-и-очистка-от-артефактов-2.0.1\"><span class=\"toc-item-num\">2.0.1&nbsp;&nbsp;</span>Заполнение пропущенных значений и очистка от артефактов</a></span></li><li><span><a href=\"#Преобразование-типов\" data-toc-modified-id=\"Преобразование-типов-2.0.2\"><span class=\"toc-item-num\">2.0.2&nbsp;&nbsp;</span>Преобразование типов</a></span></li><li><span><a href=\"#Проверка-наличия-дубликатов\" data-toc-modified-id=\"Проверка-наличия-дубликатов-2.0.3\"><span class=\"toc-item-num\">2.0.3&nbsp;&nbsp;</span>Проверка наличия дубликатов</a></span></li></ul></li></ul></li><li><span><a href=\"#Рассчёты-и-добавление-результатов-в-таблицу\" data-toc-modified-id=\"Рассчёты-и-добавление-результатов-в-таблицу-3\"><span class=\"toc-item-num\">3&nbsp;&nbsp;</span>Рассчёты и добавление результатов в таблицу</a></span></li><li><span><a href=\"#Исследовательский-анализ-данных\" data-toc-modified-id=\"Исследовательский-анализ-данных-4\"><span class=\"toc-item-num\">4&nbsp;&nbsp;</span>Исследовательский анализ данных</a></span><ul class=\"toc-item\"><li><ul class=\"toc-item\"><li><span><a href=\"#Изучение-параметров:-площадь,-цена,-число-комнат,-высота-потолков.\" data-toc-modified-id=\"Изучение-параметров:-площадь,-цена,-число-комнат,-высота-потолков.-4.0.1\"><span class=\"toc-item-num\">4.0.1&nbsp;&nbsp;</span>Изучение параметров: площадь, цена, число комнат, высота потолков.</a></span></li><li><span><a href=\"#Изучение-времени-продажи-квартиры.\" data-toc-modified-id=\"Изучение-времени-продажи-квартиры.-4.0.2\"><span class=\"toc-item-num\">4.0.2&nbsp;&nbsp;</span>Изучение времени продажи квартиры.</a></span></li><li><span><a href=\"#Влияние-различных-факторов-на-стоимость-квартиры\" data-toc-modified-id=\"Влияние-различных-факторов-на-стоимость-квартиры-4.0.3\"><span class=\"toc-item-num\">4.0.3&nbsp;&nbsp;</span>Влияние различных факторов на стоимость квартиры</a></span></li><li><span><a href=\"#Анализ-населённых-пунктов-с-наибольшим-числом-объявлений.\" data-toc-modified-id=\"Анализ-населённых-пунктов-с-наибольшим-числом-объявлений.-4.0.4\"><span class=\"toc-item-num\">4.0.4&nbsp;&nbsp;</span>Анализ населённых пунктов с наибольшим числом объявлений.</a></span></li><li><span><a href=\"#Анализ-квартир-в-Санкт-Петербурге\" data-toc-modified-id=\"Анализ-квартир-в-Санкт-Петербурге-4.0.5\"><span class=\"toc-item-num\">4.0.5&nbsp;&nbsp;</span>Анализ квартир в Санкт-Петербурге</a></span></li><li><span><a href=\"#Анализ-сегмента-квартир-в-центре.\" data-toc-modified-id=\"Анализ-сегмента-квартир-в-центре.-4.0.6\"><span class=\"toc-item-num\">4.0.6&nbsp;&nbsp;</span>Анализ сегмента квартир в центре.</a></span></li></ul></li></ul></li><li><span><a href=\"#Общий-вывод\" data-toc-modified-id=\"Общий-вывод-5\"><span class=\"toc-item-num\">5&nbsp;&nbsp;</span>Общий вывод</a></span></li></ul></div>"
      ]
    },
    {
      "cell_type": "markdown",
      "metadata": {
        "id": "2Whk6FEXkDiS"
      },
      "source": [
        "## **Изучение данных из файла**"
      ]
    },
    {
      "cell_type": "markdown",
      "metadata": {
        "id": "STcLF9-PmPLR"
      },
      "source": [
        "**Импорт библиотек**"
      ]
    },
    {
      "cell_type": "code",
      "metadata": {
        "id": "ypx_vW4UkDiS",
        "colab": {
          "base_uri": "https://localhost:8080/"
        },
        "outputId": "5552aa68-5e52-47ff-d948-1c723847deb6"
      },
      "source": [
        "import pandas as pd\n",
        "import matplotlib as plt\n",
        "import matplotlib.pyplot as plt_pyp\n",
        "import numpy as np\n",
        "\n",
        "from datetime import datetime, timezone\n",
        "import calendar\n",
        "import locale\n",
        "locale.setlocale(locale.LC_ALL, '')\n",
        "locale._override_localeconv = {'mon_thousands_sep': ' '}\n",
        "import statsmodels.api as sm\n",
        "from statsmodels.formula.api import ols\n",
        "\n",
        "import warnings\n",
        "warnings.filterwarnings(\"ignore\")"
      ],
      "execution_count": 1,
      "outputs": [
        {
          "output_type": "stream",
          "name": "stderr",
          "text": [
            "/usr/local/lib/python3.7/dist-packages/statsmodels/tools/_testing.py:19: FutureWarning: pandas.util.testing is deprecated. Use the functions in the public API at pandas.testing instead.\n",
            "  import pandas.util.testing as tm\n"
          ]
        }
      ]
    },
    {
      "cell_type": "markdown",
      "metadata": {
        "id": "bAkkM1yamW6m"
      },
      "source": [
        "**Загрузка данных**"
      ]
    },
    {
      "cell_type": "code",
      "metadata": {
        "id": "6H6IsXQ9KQbl"
      },
      "source": [
        "try:\n",
        "    db=pd.DataFrame(pd.read_csv('',sep='\\\\t'))\n",
        "    \n",
        "except:\n",
        "    url='https://drive.google.com/file/d//view?usp=sharing'\n",
        "    url2='https://drive.google.com/uc?id=' + url.split('/')[-2]\n",
        "    db = pd.read_csv(url2,sep='\\\\t')"
      ],
      "execution_count": 2,
      "outputs": []
    },
    {
      "cell_type": "markdown",
      "metadata": {
        "id": "uv-gQel7wrTz"
      },
      "source": [
        "Проверим датасет на соотвествие типов данных описанию, отсутствие пропусков и дубликатов в категориях."
      ]
    },
    {
      "cell_type": "code",
      "metadata": {
        "id": "elV55oz1t9vN"
      },
      "source": [
        "# Функция для вывода информации о структуре и типах данных датафрейма, проверки на пропуски в столбцах и дубликаты записей\n",
        "\n",
        "def check_dataset(dataset):\n",
        "    \n",
        "    try:\n",
        "        name =[x for x in globals() if globals()[x] is dataset][0]\n",
        "        width = 10*len(dataset.columns)\n",
        "        print('\\033[1m','Проверка таблицы: {}'.format(name),'\\033[0m')\n",
        "        print('.'*width)\n",
        "        print('\\033[1m','\\nИнформация о типах данных:', '\\033[0m')\n",
        "        display(dataset.info())\n",
        "        print('.'*width)\n",
        "        if dataset.isna().mean().sum()==0:\n",
        "            print('\\033[1m', '\\nПропусков в столбцах \\033[32;1m НЕТ', '\\033[0m')\n",
        "        else:\n",
        "            print('\\033[1m', '\\nДоля пропусков в столбцах:', '\\033[0m')\n",
        "            display(pd.DataFrame(round((dataset.isna().mean()*100),2)).style.background_gradient())\n",
        "        print('.'*width)\n",
        "        if dataset.duplicated().sum()==0:\n",
        "            print('\\033[1m', '\\nДубликатов строк \\033[32;1m НЕТ', '\\033[0m')\n",
        "        else:\n",
        "            print('\\033[1m', '\\nКоличество дубликатов: \\033[31;1m{}\\033[0m'.format(dataset.duplicated().sum()))\n",
        "        print('.'*width)\n",
        "        print('\\033[1m', '\\n10 случайных строк датафрейма', '\\033[0m')\n",
        "        display(dataset.sample(10))\n",
        "           \n",
        "    except:\n",
        "        print('Ошибка')"
      ],
      "execution_count": 3,
      "outputs": []
    },
    {
      "cell_type": "code",
      "metadata": {
        "colab": {
          "base_uri": "https://localhost:8080/",
          "height": 1000
        },
        "id": "DeJpFN_HmcMI",
        "outputId": "8213dd82-1665-44f3-99e7-abf3c0cbbc5f"
      },
      "source": [
        "check_dataset(db)"
      ],
      "execution_count": 4,
      "outputs": [
        {
          "output_type": "stream",
          "name": "stdout",
          "text": [
            "\u001b[1m Проверка таблицы: db \u001b[0m\n",
            "............................................................................................................................................................................................................................\n",
            "\u001b[1m \n",
            "Информация о типах данных: \u001b[0m\n",
            "<class 'pandas.core.frame.DataFrame'>\n",
            "RangeIndex: 23699 entries, 0 to 23698\n",
            "Data columns (total 22 columns):\n",
            " #   Column                Non-Null Count  Dtype  \n",
            "---  ------                --------------  -----  \n",
            " 0   total_images          23699 non-null  int64  \n",
            " 1   last_price            23699 non-null  float64\n",
            " 2   total_area            23699 non-null  float64\n",
            " 3   first_day_exposition  23699 non-null  object \n",
            " 4   rooms                 23699 non-null  int64  \n",
            " 5   ceiling_height        14504 non-null  float64\n",
            " 6   floors_total          23613 non-null  float64\n",
            " 7   living_area           21796 non-null  float64\n",
            " 8   floor                 23699 non-null  int64  \n",
            " 9   is_apartment          2775 non-null   object \n",
            " 10  studio                23699 non-null  bool   \n",
            " 11  open_plan             23699 non-null  bool   \n",
            " 12  kitchen_area          21421 non-null  float64\n",
            " 13  balcony               12180 non-null  float64\n",
            " 14  locality_name         23650 non-null  object \n",
            " 15  airports_nearest      18157 non-null  float64\n",
            " 16  cityCenters_nearest   18180 non-null  float64\n",
            " 17  parks_around3000      18181 non-null  float64\n",
            " 18  parks_nearest         8079 non-null   float64\n",
            " 19  ponds_around3000      18181 non-null  float64\n",
            " 20  ponds_nearest         9110 non-null   float64\n",
            " 21  days_exposition       20518 non-null  float64\n",
            "dtypes: bool(2), float64(14), int64(3), object(3)\n",
            "memory usage: 3.7+ MB\n"
          ]
        },
        {
          "output_type": "display_data",
          "data": {
            "text/plain": [
              "None"
            ]
          },
          "metadata": {}
        },
        {
          "output_type": "stream",
          "name": "stdout",
          "text": [
            "............................................................................................................................................................................................................................\n",
            "\u001b[1m \n",
            "Доля пропусков в столбцах: \u001b[0m\n"
          ]
        },
        {
          "output_type": "display_data",
          "data": {
            "text/html": [
              "<style  type=\"text/css\" >\n",
              "#T_787f964a_17ae_11ec_bce6_0242ac1c0002row0_col0,#T_787f964a_17ae_11ec_bce6_0242ac1c0002row1_col0,#T_787f964a_17ae_11ec_bce6_0242ac1c0002row2_col0,#T_787f964a_17ae_11ec_bce6_0242ac1c0002row3_col0,#T_787f964a_17ae_11ec_bce6_0242ac1c0002row4_col0,#T_787f964a_17ae_11ec_bce6_0242ac1c0002row8_col0,#T_787f964a_17ae_11ec_bce6_0242ac1c0002row10_col0,#T_787f964a_17ae_11ec_bce6_0242ac1c0002row11_col0,#T_787f964a_17ae_11ec_bce6_0242ac1c0002row14_col0{\n",
              "            background-color:  #fff7fb;\n",
              "            color:  #000000;\n",
              "        }#T_787f964a_17ae_11ec_bce6_0242ac1c0002row5_col0{\n",
              "            background-color:  #8cb3d5;\n",
              "            color:  #000000;\n",
              "        }#T_787f964a_17ae_11ec_bce6_0242ac1c0002row6_col0{\n",
              "            background-color:  #fef6fb;\n",
              "            color:  #000000;\n",
              "        }#T_787f964a_17ae_11ec_bce6_0242ac1c0002row7_col0{\n",
              "            background-color:  #f1ebf5;\n",
              "            color:  #000000;\n",
              "        }#T_787f964a_17ae_11ec_bce6_0242ac1c0002row9_col0{\n",
              "            background-color:  #023858;\n",
              "            color:  #f1f1f1;\n",
              "        }#T_787f964a_17ae_11ec_bce6_0242ac1c0002row12_col0{\n",
              "            background-color:  #efe9f3;\n",
              "            color:  #000000;\n",
              "        }#T_787f964a_17ae_11ec_bce6_0242ac1c0002row13_col0{\n",
              "            background-color:  #5c9fc9;\n",
              "            color:  #000000;\n",
              "        }#T_787f964a_17ae_11ec_bce6_0242ac1c0002row15_col0,#T_787f964a_17ae_11ec_bce6_0242ac1c0002row16_col0,#T_787f964a_17ae_11ec_bce6_0242ac1c0002row17_col0,#T_787f964a_17ae_11ec_bce6_0242ac1c0002row19_col0{\n",
              "            background-color:  #cccfe5;\n",
              "            color:  #000000;\n",
              "        }#T_787f964a_17ae_11ec_bce6_0242ac1c0002row18_col0{\n",
              "            background-color:  #0570b0;\n",
              "            color:  #f1f1f1;\n",
              "        }#T_787f964a_17ae_11ec_bce6_0242ac1c0002row20_col0{\n",
              "            background-color:  #197db7;\n",
              "            color:  #000000;\n",
              "        }#T_787f964a_17ae_11ec_bce6_0242ac1c0002row21_col0{\n",
              "            background-color:  #e7e3f0;\n",
              "            color:  #000000;\n",
              "        }</style><table id=\"T_787f964a_17ae_11ec_bce6_0242ac1c0002\" ><thead>    <tr>        <th class=\"blank level0\" ></th>        <th class=\"col_heading level0 col0\" >0</th>    </tr></thead><tbody>\n",
              "                <tr>\n",
              "                        <th id=\"T_787f964a_17ae_11ec_bce6_0242ac1c0002level0_row0\" class=\"row_heading level0 row0\" >total_images</th>\n",
              "                        <td id=\"T_787f964a_17ae_11ec_bce6_0242ac1c0002row0_col0\" class=\"data row0 col0\" >0.000000</td>\n",
              "            </tr>\n",
              "            <tr>\n",
              "                        <th id=\"T_787f964a_17ae_11ec_bce6_0242ac1c0002level0_row1\" class=\"row_heading level0 row1\" >last_price</th>\n",
              "                        <td id=\"T_787f964a_17ae_11ec_bce6_0242ac1c0002row1_col0\" class=\"data row1 col0\" >0.000000</td>\n",
              "            </tr>\n",
              "            <tr>\n",
              "                        <th id=\"T_787f964a_17ae_11ec_bce6_0242ac1c0002level0_row2\" class=\"row_heading level0 row2\" >total_area</th>\n",
              "                        <td id=\"T_787f964a_17ae_11ec_bce6_0242ac1c0002row2_col0\" class=\"data row2 col0\" >0.000000</td>\n",
              "            </tr>\n",
              "            <tr>\n",
              "                        <th id=\"T_787f964a_17ae_11ec_bce6_0242ac1c0002level0_row3\" class=\"row_heading level0 row3\" >first_day_exposition</th>\n",
              "                        <td id=\"T_787f964a_17ae_11ec_bce6_0242ac1c0002row3_col0\" class=\"data row3 col0\" >0.000000</td>\n",
              "            </tr>\n",
              "            <tr>\n",
              "                        <th id=\"T_787f964a_17ae_11ec_bce6_0242ac1c0002level0_row4\" class=\"row_heading level0 row4\" >rooms</th>\n",
              "                        <td id=\"T_787f964a_17ae_11ec_bce6_0242ac1c0002row4_col0\" class=\"data row4 col0\" >0.000000</td>\n",
              "            </tr>\n",
              "            <tr>\n",
              "                        <th id=\"T_787f964a_17ae_11ec_bce6_0242ac1c0002level0_row5\" class=\"row_heading level0 row5\" >ceiling_height</th>\n",
              "                        <td id=\"T_787f964a_17ae_11ec_bce6_0242ac1c0002row5_col0\" class=\"data row5 col0\" >38.800000</td>\n",
              "            </tr>\n",
              "            <tr>\n",
              "                        <th id=\"T_787f964a_17ae_11ec_bce6_0242ac1c0002level0_row6\" class=\"row_heading level0 row6\" >floors_total</th>\n",
              "                        <td id=\"T_787f964a_17ae_11ec_bce6_0242ac1c0002row6_col0\" class=\"data row6 col0\" >0.360000</td>\n",
              "            </tr>\n",
              "            <tr>\n",
              "                        <th id=\"T_787f964a_17ae_11ec_bce6_0242ac1c0002level0_row7\" class=\"row_heading level0 row7\" >living_area</th>\n",
              "                        <td id=\"T_787f964a_17ae_11ec_bce6_0242ac1c0002row7_col0\" class=\"data row7 col0\" >8.030000</td>\n",
              "            </tr>\n",
              "            <tr>\n",
              "                        <th id=\"T_787f964a_17ae_11ec_bce6_0242ac1c0002level0_row8\" class=\"row_heading level0 row8\" >floor</th>\n",
              "                        <td id=\"T_787f964a_17ae_11ec_bce6_0242ac1c0002row8_col0\" class=\"data row8 col0\" >0.000000</td>\n",
              "            </tr>\n",
              "            <tr>\n",
              "                        <th id=\"T_787f964a_17ae_11ec_bce6_0242ac1c0002level0_row9\" class=\"row_heading level0 row9\" >is_apartment</th>\n",
              "                        <td id=\"T_787f964a_17ae_11ec_bce6_0242ac1c0002row9_col0\" class=\"data row9 col0\" >88.290000</td>\n",
              "            </tr>\n",
              "            <tr>\n",
              "                        <th id=\"T_787f964a_17ae_11ec_bce6_0242ac1c0002level0_row10\" class=\"row_heading level0 row10\" >studio</th>\n",
              "                        <td id=\"T_787f964a_17ae_11ec_bce6_0242ac1c0002row10_col0\" class=\"data row10 col0\" >0.000000</td>\n",
              "            </tr>\n",
              "            <tr>\n",
              "                        <th id=\"T_787f964a_17ae_11ec_bce6_0242ac1c0002level0_row11\" class=\"row_heading level0 row11\" >open_plan</th>\n",
              "                        <td id=\"T_787f964a_17ae_11ec_bce6_0242ac1c0002row11_col0\" class=\"data row11 col0\" >0.000000</td>\n",
              "            </tr>\n",
              "            <tr>\n",
              "                        <th id=\"T_787f964a_17ae_11ec_bce6_0242ac1c0002level0_row12\" class=\"row_heading level0 row12\" >kitchen_area</th>\n",
              "                        <td id=\"T_787f964a_17ae_11ec_bce6_0242ac1c0002row12_col0\" class=\"data row12 col0\" >9.610000</td>\n",
              "            </tr>\n",
              "            <tr>\n",
              "                        <th id=\"T_787f964a_17ae_11ec_bce6_0242ac1c0002level0_row13\" class=\"row_heading level0 row13\" >balcony</th>\n",
              "                        <td id=\"T_787f964a_17ae_11ec_bce6_0242ac1c0002row13_col0\" class=\"data row13 col0\" >48.610000</td>\n",
              "            </tr>\n",
              "            <tr>\n",
              "                        <th id=\"T_787f964a_17ae_11ec_bce6_0242ac1c0002level0_row14\" class=\"row_heading level0 row14\" >locality_name</th>\n",
              "                        <td id=\"T_787f964a_17ae_11ec_bce6_0242ac1c0002row14_col0\" class=\"data row14 col0\" >0.210000</td>\n",
              "            </tr>\n",
              "            <tr>\n",
              "                        <th id=\"T_787f964a_17ae_11ec_bce6_0242ac1c0002level0_row15\" class=\"row_heading level0 row15\" >airports_nearest</th>\n",
              "                        <td id=\"T_787f964a_17ae_11ec_bce6_0242ac1c0002row15_col0\" class=\"data row15 col0\" >23.380000</td>\n",
              "            </tr>\n",
              "            <tr>\n",
              "                        <th id=\"T_787f964a_17ae_11ec_bce6_0242ac1c0002level0_row16\" class=\"row_heading level0 row16\" >cityCenters_nearest</th>\n",
              "                        <td id=\"T_787f964a_17ae_11ec_bce6_0242ac1c0002row16_col0\" class=\"data row16 col0\" >23.290000</td>\n",
              "            </tr>\n",
              "            <tr>\n",
              "                        <th id=\"T_787f964a_17ae_11ec_bce6_0242ac1c0002level0_row17\" class=\"row_heading level0 row17\" >parks_around3000</th>\n",
              "                        <td id=\"T_787f964a_17ae_11ec_bce6_0242ac1c0002row17_col0\" class=\"data row17 col0\" >23.280000</td>\n",
              "            </tr>\n",
              "            <tr>\n",
              "                        <th id=\"T_787f964a_17ae_11ec_bce6_0242ac1c0002level0_row18\" class=\"row_heading level0 row18\" >parks_nearest</th>\n",
              "                        <td id=\"T_787f964a_17ae_11ec_bce6_0242ac1c0002row18_col0\" class=\"data row18 col0\" >65.910000</td>\n",
              "            </tr>\n",
              "            <tr>\n",
              "                        <th id=\"T_787f964a_17ae_11ec_bce6_0242ac1c0002level0_row19\" class=\"row_heading level0 row19\" >ponds_around3000</th>\n",
              "                        <td id=\"T_787f964a_17ae_11ec_bce6_0242ac1c0002row19_col0\" class=\"data row19 col0\" >23.280000</td>\n",
              "            </tr>\n",
              "            <tr>\n",
              "                        <th id=\"T_787f964a_17ae_11ec_bce6_0242ac1c0002level0_row20\" class=\"row_heading level0 row20\" >ponds_nearest</th>\n",
              "                        <td id=\"T_787f964a_17ae_11ec_bce6_0242ac1c0002row20_col0\" class=\"data row20 col0\" >61.560000</td>\n",
              "            </tr>\n",
              "            <tr>\n",
              "                        <th id=\"T_787f964a_17ae_11ec_bce6_0242ac1c0002level0_row21\" class=\"row_heading level0 row21\" >days_exposition</th>\n",
              "                        <td id=\"T_787f964a_17ae_11ec_bce6_0242ac1c0002row21_col0\" class=\"data row21 col0\" >13.420000</td>\n",
              "            </tr>\n",
              "    </tbody></table>"
            ],
            "text/plain": [
              "<pandas.io.formats.style.Styler at 0x7f32cd25b050>"
            ]
          },
          "metadata": {}
        },
        {
          "output_type": "stream",
          "name": "stdout",
          "text": [
            "............................................................................................................................................................................................................................\n",
            "\u001b[1m \n",
            "Дубликатов строк \u001b[32;1m НЕТ \u001b[0m\n",
            "............................................................................................................................................................................................................................\n",
            "\u001b[1m \n",
            "10 случайных строк датафрейма \u001b[0m\n"
          ]
        },
        {
          "output_type": "display_data",
          "data": {
            "text/html": [
              "<div>\n",
              "<style scoped>\n",
              "    .dataframe tbody tr th:only-of-type {\n",
              "        vertical-align: middle;\n",
              "    }\n",
              "\n",
              "    .dataframe tbody tr th {\n",
              "        vertical-align: top;\n",
              "    }\n",
              "\n",
              "    .dataframe thead th {\n",
              "        text-align: right;\n",
              "    }\n",
              "</style>\n",
              "<table border=\"1\" class=\"dataframe\">\n",
              "  <thead>\n",
              "    <tr style=\"text-align: right;\">\n",
              "      <th></th>\n",
              "      <th>total_images</th>\n",
              "      <th>last_price</th>\n",
              "      <th>total_area</th>\n",
              "      <th>first_day_exposition</th>\n",
              "      <th>rooms</th>\n",
              "      <th>ceiling_height</th>\n",
              "      <th>floors_total</th>\n",
              "      <th>living_area</th>\n",
              "      <th>floor</th>\n",
              "      <th>is_apartment</th>\n",
              "      <th>studio</th>\n",
              "      <th>open_plan</th>\n",
              "      <th>kitchen_area</th>\n",
              "      <th>balcony</th>\n",
              "      <th>locality_name</th>\n",
              "      <th>airports_nearest</th>\n",
              "      <th>cityCenters_nearest</th>\n",
              "      <th>parks_around3000</th>\n",
              "      <th>parks_nearest</th>\n",
              "      <th>ponds_around3000</th>\n",
              "      <th>ponds_nearest</th>\n",
              "      <th>days_exposition</th>\n",
              "    </tr>\n",
              "  </thead>\n",
              "  <tbody>\n",
              "    <tr>\n",
              "      <th>6793</th>\n",
              "      <td>11</td>\n",
              "      <td>4500000.0</td>\n",
              "      <td>36.40</td>\n",
              "      <td>2017-05-17T00:00:00</td>\n",
              "      <td>1</td>\n",
              "      <td>NaN</td>\n",
              "      <td>17.0</td>\n",
              "      <td>18.60</td>\n",
              "      <td>14</td>\n",
              "      <td>False</td>\n",
              "      <td>False</td>\n",
              "      <td>False</td>\n",
              "      <td>8.80</td>\n",
              "      <td>2.0</td>\n",
              "      <td>Санкт-Петербург</td>\n",
              "      <td>43431.0</td>\n",
              "      <td>12188.0</td>\n",
              "      <td>0.0</td>\n",
              "      <td>NaN</td>\n",
              "      <td>0.0</td>\n",
              "      <td>NaN</td>\n",
              "      <td>43.0</td>\n",
              "    </tr>\n",
              "    <tr>\n",
              "      <th>4634</th>\n",
              "      <td>14</td>\n",
              "      <td>2700000.0</td>\n",
              "      <td>36.90</td>\n",
              "      <td>2018-01-12T00:00:00</td>\n",
              "      <td>1</td>\n",
              "      <td>2.65</td>\n",
              "      <td>4.0</td>\n",
              "      <td>17.00</td>\n",
              "      <td>1</td>\n",
              "      <td>NaN</td>\n",
              "      <td>False</td>\n",
              "      <td>False</td>\n",
              "      <td>9.00</td>\n",
              "      <td>NaN</td>\n",
              "      <td>посёлок Ильичёво</td>\n",
              "      <td>NaN</td>\n",
              "      <td>NaN</td>\n",
              "      <td>NaN</td>\n",
              "      <td>NaN</td>\n",
              "      <td>NaN</td>\n",
              "      <td>NaN</td>\n",
              "      <td>178.0</td>\n",
              "    </tr>\n",
              "    <tr>\n",
              "      <th>10221</th>\n",
              "      <td>5</td>\n",
              "      <td>7000000.0</td>\n",
              "      <td>57.00</td>\n",
              "      <td>2016-05-30T00:00:00</td>\n",
              "      <td>2</td>\n",
              "      <td>2.50</td>\n",
              "      <td>10.0</td>\n",
              "      <td>35.00</td>\n",
              "      <td>3</td>\n",
              "      <td>NaN</td>\n",
              "      <td>False</td>\n",
              "      <td>False</td>\n",
              "      <td>13.00</td>\n",
              "      <td>2.0</td>\n",
              "      <td>Санкт-Петербург</td>\n",
              "      <td>48727.0</td>\n",
              "      <td>16655.0</td>\n",
              "      <td>0.0</td>\n",
              "      <td>NaN</td>\n",
              "      <td>0.0</td>\n",
              "      <td>NaN</td>\n",
              "      <td>594.0</td>\n",
              "    </tr>\n",
              "    <tr>\n",
              "      <th>3234</th>\n",
              "      <td>9</td>\n",
              "      <td>6150000.0</td>\n",
              "      <td>37.00</td>\n",
              "      <td>2018-08-08T00:00:00</td>\n",
              "      <td>1</td>\n",
              "      <td>2.65</td>\n",
              "      <td>9.0</td>\n",
              "      <td>18.00</td>\n",
              "      <td>4</td>\n",
              "      <td>NaN</td>\n",
              "      <td>False</td>\n",
              "      <td>False</td>\n",
              "      <td>11.00</td>\n",
              "      <td>NaN</td>\n",
              "      <td>Санкт-Петербург</td>\n",
              "      <td>33085.0</td>\n",
              "      <td>12825.0</td>\n",
              "      <td>1.0</td>\n",
              "      <td>635.0</td>\n",
              "      <td>0.0</td>\n",
              "      <td>NaN</td>\n",
              "      <td>74.0</td>\n",
              "    </tr>\n",
              "    <tr>\n",
              "      <th>11172</th>\n",
              "      <td>12</td>\n",
              "      <td>3300000.0</td>\n",
              "      <td>30.00</td>\n",
              "      <td>2016-04-10T00:00:00</td>\n",
              "      <td>1</td>\n",
              "      <td>NaN</td>\n",
              "      <td>9.0</td>\n",
              "      <td>18.00</td>\n",
              "      <td>5</td>\n",
              "      <td>False</td>\n",
              "      <td>False</td>\n",
              "      <td>False</td>\n",
              "      <td>6.00</td>\n",
              "      <td>0.0</td>\n",
              "      <td>Санкт-Петербург</td>\n",
              "      <td>16278.0</td>\n",
              "      <td>15074.0</td>\n",
              "      <td>1.0</td>\n",
              "      <td>373.0</td>\n",
              "      <td>0.0</td>\n",
              "      <td>NaN</td>\n",
              "      <td>134.0</td>\n",
              "    </tr>\n",
              "    <tr>\n",
              "      <th>13736</th>\n",
              "      <td>6</td>\n",
              "      <td>14990000.0</td>\n",
              "      <td>203.00</td>\n",
              "      <td>2017-07-03T00:00:00</td>\n",
              "      <td>7</td>\n",
              "      <td>3.66</td>\n",
              "      <td>6.0</td>\n",
              "      <td>132.00</td>\n",
              "      <td>4</td>\n",
              "      <td>NaN</td>\n",
              "      <td>False</td>\n",
              "      <td>False</td>\n",
              "      <td>14.00</td>\n",
              "      <td>NaN</td>\n",
              "      <td>Санкт-Петербург</td>\n",
              "      <td>24102.0</td>\n",
              "      <td>4670.0</td>\n",
              "      <td>1.0</td>\n",
              "      <td>443.0</td>\n",
              "      <td>0.0</td>\n",
              "      <td>NaN</td>\n",
              "      <td>NaN</td>\n",
              "    </tr>\n",
              "    <tr>\n",
              "      <th>8402</th>\n",
              "      <td>1</td>\n",
              "      <td>10200000.0</td>\n",
              "      <td>96.00</td>\n",
              "      <td>2017-04-11T00:00:00</td>\n",
              "      <td>4</td>\n",
              "      <td>NaN</td>\n",
              "      <td>6.0</td>\n",
              "      <td>64.00</td>\n",
              "      <td>6</td>\n",
              "      <td>False</td>\n",
              "      <td>False</td>\n",
              "      <td>False</td>\n",
              "      <td>16.00</td>\n",
              "      <td>4.0</td>\n",
              "      <td>Санкт-Петербург</td>\n",
              "      <td>26893.0</td>\n",
              "      <td>7320.0</td>\n",
              "      <td>1.0</td>\n",
              "      <td>276.0</td>\n",
              "      <td>3.0</td>\n",
              "      <td>505.0</td>\n",
              "      <td>90.0</td>\n",
              "    </tr>\n",
              "    <tr>\n",
              "      <th>23495</th>\n",
              "      <td>3</td>\n",
              "      <td>5000000.0</td>\n",
              "      <td>53.35</td>\n",
              "      <td>2017-04-09T00:00:00</td>\n",
              "      <td>2</td>\n",
              "      <td>2.75</td>\n",
              "      <td>25.0</td>\n",
              "      <td>29.81</td>\n",
              "      <td>7</td>\n",
              "      <td>NaN</td>\n",
              "      <td>False</td>\n",
              "      <td>False</td>\n",
              "      <td>10.22</td>\n",
              "      <td>0.0</td>\n",
              "      <td>деревня Кудрово</td>\n",
              "      <td>NaN</td>\n",
              "      <td>NaN</td>\n",
              "      <td>NaN</td>\n",
              "      <td>NaN</td>\n",
              "      <td>NaN</td>\n",
              "      <td>NaN</td>\n",
              "      <td>211.0</td>\n",
              "    </tr>\n",
              "    <tr>\n",
              "      <th>8131</th>\n",
              "      <td>9</td>\n",
              "      <td>3600000.0</td>\n",
              "      <td>45.00</td>\n",
              "      <td>2018-09-19T00:00:00</td>\n",
              "      <td>2</td>\n",
              "      <td>2.50</td>\n",
              "      <td>5.0</td>\n",
              "      <td>31.60</td>\n",
              "      <td>2</td>\n",
              "      <td>NaN</td>\n",
              "      <td>False</td>\n",
              "      <td>False</td>\n",
              "      <td>5.10</td>\n",
              "      <td>1.0</td>\n",
              "      <td>Санкт-Петербург</td>\n",
              "      <td>17115.0</td>\n",
              "      <td>16118.0</td>\n",
              "      <td>1.0</td>\n",
              "      <td>615.0</td>\n",
              "      <td>1.0</td>\n",
              "      <td>809.0</td>\n",
              "      <td>36.0</td>\n",
              "    </tr>\n",
              "    <tr>\n",
              "      <th>18429</th>\n",
              "      <td>9</td>\n",
              "      <td>7600000.0</td>\n",
              "      <td>96.00</td>\n",
              "      <td>2017-07-24T00:00:00</td>\n",
              "      <td>4</td>\n",
              "      <td>2.60</td>\n",
              "      <td>16.0</td>\n",
              "      <td>69.00</td>\n",
              "      <td>2</td>\n",
              "      <td>NaN</td>\n",
              "      <td>False</td>\n",
              "      <td>False</td>\n",
              "      <td>15.00</td>\n",
              "      <td>2.0</td>\n",
              "      <td>Санкт-Петербург</td>\n",
              "      <td>34497.0</td>\n",
              "      <td>14798.0</td>\n",
              "      <td>0.0</td>\n",
              "      <td>NaN</td>\n",
              "      <td>1.0</td>\n",
              "      <td>750.0</td>\n",
              "      <td>45.0</td>\n",
              "    </tr>\n",
              "  </tbody>\n",
              "</table>\n",
              "</div>"
            ],
            "text/plain": [
              "       total_images  last_price  ...  ponds_nearest days_exposition\n",
              "6793             11   4500000.0  ...            NaN            43.0\n",
              "4634             14   2700000.0  ...            NaN           178.0\n",
              "10221             5   7000000.0  ...            NaN           594.0\n",
              "3234              9   6150000.0  ...            NaN            74.0\n",
              "11172            12   3300000.0  ...            NaN           134.0\n",
              "13736             6  14990000.0  ...            NaN             NaN\n",
              "8402              1  10200000.0  ...          505.0            90.0\n",
              "23495             3   5000000.0  ...            NaN           211.0\n",
              "8131              9   3600000.0  ...          809.0            36.0\n",
              "18429             9   7600000.0  ...          750.0            45.0\n",
              "\n",
              "[10 rows x 22 columns]"
            ]
          },
          "metadata": {}
        }
      ]
    },
    {
      "cell_type": "markdown",
      "metadata": {
        "id": "14HKp1pfkDia"
      },
      "source": [
        "\n",
        "\n",
        "---\n",
        "\n",
        "\n",
        "Проверяем количество и распределение пропущенных записей в полях, заполненных пользователями"
      ]
    },
    {
      "cell_type": "code",
      "metadata": {
        "id": "e5FuXO7skDia",
        "colab": {
          "base_uri": "https://localhost:8080/"
        },
        "outputId": "3a495e1c-0c00-4a2a-c922-aca88e145831"
      },
      "source": [
        "user_columns = db.columns[0:15].append(db.columns[21:22])\n",
        "print(db[user_columns].isna().sum())"
      ],
      "execution_count": 5,
      "outputs": [
        {
          "output_type": "stream",
          "name": "stdout",
          "text": [
            "total_images                0\n",
            "last_price                  0\n",
            "total_area                  0\n",
            "first_day_exposition        0\n",
            "rooms                       0\n",
            "ceiling_height           9195\n",
            "floors_total               86\n",
            "living_area              1903\n",
            "floor                       0\n",
            "is_apartment            20924\n",
            "studio                      0\n",
            "open_plan                   0\n",
            "kitchen_area             2278\n",
            "balcony                 11519\n",
            "locality_name              49\n",
            "days_exposition          3181\n",
            "dtype: int64\n"
          ]
        }
      ]
    },
    {
      "cell_type": "markdown",
      "metadata": {
        "id": "rJ9tcmz5kDib"
      },
      "source": [
        "#### Вывод"
      ]
    },
    {
      "cell_type": "markdown",
      "metadata": {
        "id": "zKsRHStvkDib"
      },
      "source": [
        "Данные представляют собой 23699 записей состоящих из 22 полей. Некоторые поля имеют неоптимальный или неверный тип данных.\n",
        "Данные, предоставленные пользователями, отностительно ключевых характеристик объектов полны и, на первый взгляд, не имеют симметричных пропусков. Предварительно, некоторые пропуски могут быть заполнены вычисленными данными на основании значений других полей."
      ]
    },
    {
      "cell_type": "markdown",
      "metadata": {
        "id": "Qlg9iutCkDic"
      },
      "source": [
        "\n",
        "\n",
        "---\n",
        "\n",
        "\n",
        "Проверяем количество и распределение пропущенных записей в полях, заполненных автоматически на основе картографических данных."
      ]
    },
    {
      "cell_type": "code",
      "metadata": {
        "id": "VOc5KfPrkDic",
        "colab": {
          "base_uri": "https://localhost:8080/"
        },
        "outputId": "7040573b-ca91-41ca-cc2c-f9674ece4361"
      },
      "source": [
        "ya_columns = db.columns[15:21]\n",
        "print(db[ya_columns].isna().sum())"
      ],
      "execution_count": 6,
      "outputs": [
        {
          "output_type": "stream",
          "name": "stdout",
          "text": [
            "airports_nearest        5542\n",
            "cityCenters_nearest     5519\n",
            "parks_around3000        5518\n",
            "parks_nearest          15620\n",
            "ponds_around3000        5518\n",
            "ponds_nearest          14589\n",
            "dtype: int64\n"
          ]
        }
      ]
    },
    {
      "cell_type": "markdown",
      "metadata": {
        "id": "HmHZrqUykDid"
      },
      "source": [
        "#### Вывод"
      ]
    },
    {
      "cell_type": "markdown",
      "metadata": {
        "id": "JmOgISmxkDid"
      },
      "source": [
        "Значения полей, заполненных автоматически на основе картографических данных, содержат сравнительно много пропусков. Это, вероятно, является недостатком или сбоем в работе примененного алгоритма заполнения. Так, например, при наличии в 3х километровой зоне парков и водоемов, расстояние до ближайшего не определено для 9000-10000 записей."
      ]
    },
    {
      "cell_type": "markdown",
      "metadata": {
        "id": "jGV6H_O6kDie"
      },
      "source": [
        "## **Предобработка данных**"
      ]
    },
    {
      "cell_type": "markdown",
      "metadata": {
        "id": "95dN3tJYkDie"
      },
      "source": [
        "#### Заполнение пропущенных значений и очистка от артефактов"
      ]
    },
    {
      "cell_type": "markdown",
      "metadata": {
        "id": "HD3i7ZBgkDie"
      },
      "source": [
        "**1)** Колонка \"число комнат\" не содержит пропущенных значений, однако имеет 197 записей с нулевым количеством комнат. Эти данные можно в достаточной долей достоверности частично восстановить по значениям общей площади для указанных записей. Так как коэффициент корреляции этих значений довольно высок (75,8%)."
      ]
    },
    {
      "cell_type": "code",
      "metadata": {
        "id": "BtZiZAadkDie",
        "colab": {
          "base_uri": "https://localhost:8080/"
        },
        "outputId": "7be4788b-326e-463d-e8a0-586f3803f0ce"
      },
      "source": [
        "print(db['rooms'].corr(db['total_area']))"
      ],
      "execution_count": 7,
      "outputs": [
        {
          "output_type": "stream",
          "name": "stdout",
          "text": [
            "0.7583438234725666\n"
          ]
        }
      ]
    },
    {
      "cell_type": "markdown",
      "metadata": {
        "id": "7Qpeuo3tkDif"
      },
      "source": [
        "Получим распределение общей площади в записях с нулевыми значениями количества комнат. "
      ]
    },
    {
      "cell_type": "code",
      "metadata": {
        "id": "hlp2_TpTkDif",
        "colab": {
          "base_uri": "https://localhost:8080/",
          "height": 436
        },
        "outputId": "a5f88672-e504-4922-f984-dae968c7beb8"
      },
      "source": [
        "print(db[db['rooms']==0]['total_area'].describe())\n",
        "zero_rooms_hist=db[db['rooms']==0]['total_area'].hist();\n",
        "plt_pyp.xlabel(\"total_area\")\n",
        "plt_pyp.ylabel(\"counts\");"
      ],
      "execution_count": 8,
      "outputs": [
        {
          "output_type": "stream",
          "name": "stdout",
          "text": [
            "count    197.000000\n",
            "mean      29.279746\n",
            "std       25.855264\n",
            "min       15.500000\n",
            "25%       24.050000\n",
            "50%       26.050000\n",
            "75%       28.400000\n",
            "max      371.000000\n",
            "Name: total_area, dtype: float64\n"
          ]
        },
        {
          "output_type": "display_data",
          "data": {
            "image/png": "[encoded data removed]",
            "text/plain": [
              "<Figure size 432x288 with 1 Axes>"
            ]
          },
          "metadata": {
            "needs_background": "light"
          }
        }
      ]
    },
    {
      "cell_type": "markdown",
      "metadata": {
        "id": "xBxjUxrWkDig"
      },
      "source": [
        "Не менее 75% записей имеют значение общей площади не выше 28,5 кв.м. Получим медианные значения общей площади в зависимости от количества комнат по исходным данным."
      ]
    },
    {
      "cell_type": "code",
      "metadata": {
        "id": "HEIXO3sXkDig",
        "colab": {
          "base_uri": "https://localhost:8080/"
        },
        "outputId": "3892a692-b961-4fff-d024-15e502ce522b"
      },
      "source": [
        "total_from_rooms = db.pivot_table(index=\"rooms\",values='total_area',aggfunc='median')\n",
        "print(total_from_rooms)"
      ],
      "execution_count": 9,
      "outputs": [
        {
          "output_type": "stream",
          "name": "stdout",
          "text": [
            "       total_area\n",
            "rooms            \n",
            "0           26.05\n",
            "1           36.56\n",
            "2           53.00\n",
            "3           73.00\n",
            "4           99.30\n",
            "5          146.45\n",
            "6          184.30\n",
            "7          214.00\n",
            "8          235.70\n",
            "9          300.95\n",
            "10         272.60\n",
            "11         188.90\n",
            "12         900.00\n",
            "14         304.20\n",
            "15         590.00\n",
            "16         270.00\n",
            "19         374.60\n"
          ]
        }
      ]
    },
    {
      "cell_type": "code",
      "metadata": {
        "id": "kt2bZQ1DkDig",
        "colab": {
          "base_uri": "https://localhost:8080/"
        },
        "outputId": "17009499-9633-45ed-a6f1-7ab948e57e86"
      },
      "source": [
        "print('Из общего количества ({} записей) с пропущенными значениями количества комнат, {} - объявления о продаже студий.'.format(db.query('rooms==0')['total_area'].count(),db.query('rooms==0 and studio==True')['total_area'].count()))"
      ],
      "execution_count": 10,
      "outputs": [
        {
          "output_type": "stream",
          "name": "stdout",
          "text": [
            "Из общего количества (197 записей) с пропущенными значениями количества комнат, 138 - объявления о продаже студий.\n"
          ]
        }
      ]
    },
    {
      "cell_type": "markdown",
      "metadata": {
        "id": "CMfi031AkDig"
      },
      "source": [
        "Можно уверенно утверждать, что бОльшая часть записей с нулевыми данными о количестве комнат относится к однокомнатным квартирам. "
      ]
    },
    {
      "cell_type": "code",
      "metadata": {
        "id": "ZxffE_6PkDih",
        "colab": {
          "base_uri": "https://localhost:8080/"
        },
        "outputId": "984b55e2-80e1-4361-d2f6-0387f12f9ce8"
      },
      "source": [
        "print('Количество однокомнатных квартир в записях с нулевым количеством комнат: {} или {:.1%}'.format(db.query(\"rooms==0 and total_area<=36.56\").shape[0],db.query(\"rooms==0 and total_area<=36.56\").shape[0]/db[db[\"rooms\"]==0][\"total_area\"].shape[0]))"
      ],
      "execution_count": 11,
      "outputs": [
        {
          "output_type": "stream",
          "name": "stdout",
          "text": [
            "Количество однокомнатных квартир в записях с нулевым количеством комнат: 187 или 94.9%\n"
          ]
        }
      ]
    },
    {
      "cell_type": "markdown",
      "metadata": {
        "id": "tU8KfvChkDih"
      },
      "source": [
        "Произведем замену для записей удовлетворяющих условию \"количество комнат\" = 0 и \"общая площадь\" <= 36.56 кв.м."
      ]
    },
    {
      "cell_type": "code",
      "metadata": {
        "id": "TTUA5sbPkDih"
      },
      "source": [
        "for ind in db.query(\"rooms==0 and total_area<=36.56\").index:\n",
        "    db.loc[ind,'rooms']=1"
      ],
      "execution_count": 12,
      "outputs": []
    },
    {
      "cell_type": "markdown",
      "metadata": {
        "id": "Em7PHNeKkDii"
      },
      "source": [
        "**2)** В столбце \"высота потолков (м)\" пропущены данные в 9195 записях. Информация о высоте потолков зависит от множества факторов, не нашедших отражения в исходных данных. Так, помимо этажности, высота потолков зависист от типа и архитектурных особенностей постройки, года возведения, условий последующей эксплуатации и т.д. Исходя из этого, замена пропусков усредненными значениями (например по локации) будет являться произвольной и исказит исследование."
      ]
    },
    {
      "cell_type": "markdown",
      "metadata": {
        "id": "RmI132takDii"
      },
      "source": [
        "Произведем замену пропущенных значений по полю \"высота потолков (м)\" на (-1) - маркер отсутствуюего значения."
      ]
    },
    {
      "cell_type": "code",
      "metadata": {
        "id": "diq3viAfkDii"
      },
      "source": [
        "db['ceiling_height'].fillna(int(-1),inplace=True)"
      ],
      "execution_count": 13,
      "outputs": []
    },
    {
      "cell_type": "markdown",
      "metadata": {
        "id": "t-1loykckDii"
      },
      "source": [
        "Проверим значения столбца \"высота потолков (м)\" на наличие артефактов. Исходя из характера данных (информации о жилых помещениях) будем считать критерием \"нормальных\" данных высоту не менее 2м и не более 8м (например, в дуплексе или лофте). В наших данных планку отсечения поднимем до 10.3м, так как оно на 2м больше предыдущего и уже на 3,7м меньше последующего значений в упорядоченном ряду. "
      ]
    },
    {
      "cell_type": "code",
      "metadata": {
        "id": "Ob0gVGOUkDij",
        "colab": {
          "base_uri": "https://localhost:8080/"
        },
        "outputId": "d8d744e6-a2df-4c40-edff-753eff6f7123"
      },
      "source": [
        "print(db.query('ceiling_height >0 and (ceiling_height < 2.0 or ceiling_height > 10.3)')['ceiling_height'].value_counts())"
      ],
      "execution_count": 14,
      "outputs": [
        {
          "output_type": "stream",
          "name": "stdout",
          "text": [
            "27.00     8\n",
            "25.00     7\n",
            "32.00     2\n",
            "22.60     1\n",
            "100.00    1\n",
            "1.20      1\n",
            "1.00      1\n",
            "27.50     1\n",
            "20.00     1\n",
            "1.75      1\n",
            "14.00     1\n",
            "26.00     1\n",
            "24.00     1\n",
            "Name: ceiling_height, dtype: int64\n"
          ]
        }
      ]
    },
    {
      "cell_type": "markdown",
      "metadata": {
        "id": "POcCJ_0jkDij"
      },
      "source": [
        "Имеем 27 записей о недвижимости, значения высоты потолков в которых не соотвествуют типичным для жилых помещений. Скорее всего, эти значения являются ошибками фиксации, случайными (27м вместо 2,7м) или намеренными (1м и 100м)."
      ]
    },
    {
      "cell_type": "markdown",
      "metadata": {
        "id": "R8JAnmKVkDil"
      },
      "source": [
        "Произведем замену артефактных значений по полю \"высота потолков (м)\" на (-1) - маркер отсутствуюего значения."
      ]
    },
    {
      "cell_type": "code",
      "metadata": {
        "id": "ffcV8E8ckDim"
      },
      "source": [
        "to_replace=db.query('ceiling_height >0 and (ceiling_height < 2.0 or ceiling_height > 10.3)')['ceiling_height'].tolist()\n",
        "db['ceiling_height']=db['ceiling_height'].replace(to_replace,int(-1))"
      ],
      "execution_count": 15,
      "outputs": []
    },
    {
      "cell_type": "markdown",
      "metadata": {
        "id": "FBrSiaT5kDim"
      },
      "source": [
        "**3)** У 86 записей в поле \"всего этажей в доме\" пропущены значения. Без ущерба для достоверности анализа  пропуски могут быть заполнены значениями из списка этажностей домов в исследовании выше или равных этажу в записи (хотя, так как в представленных данных значения этажности дома представлены непрерывным рядом [1:33], можно было бы произвести замену способом \"всего этажей в доме\" = \"этаж\")."
      ]
    },
    {
      "cell_type": "code",
      "metadata": {
        "id": "unmtacL9kDin"
      },
      "source": [
        "number_of_floors=list(pd.Series(db['floor'].unique()).sort_values())\n",
        "for ind in db[db['floors_total'].isna()==True].index:\n",
        "    db.loc[ind,'floors_total']=min(i for i in number_of_floors if i >=db.loc[ind,'floor'])"
      ],
      "execution_count": 16,
      "outputs": []
    },
    {
      "cell_type": "markdown",
      "metadata": {
        "id": "H96gDZtekDin"
      },
      "source": [
        "Так как количество таких записей составляет 0,36%, эти замены (хотя и добавят значений в категорию \"последний этаж\") не окажут существенного влияния на анализ зависимости цены от типа этажа (первый, последний, другой). "
      ]
    },
    {
      "cell_type": "markdown",
      "metadata": {
        "id": "-VYZXEwTkDio"
      },
      "source": [
        "**4)** Данный о \"жилой площади\" не заполнены у 1903 записей. Причиой может являться отсутствие сведений у пользователя на момент заполнения (не указано в документах, перепланировка, забыл). Размер жилой площади в исходных данных находится в сильной взаимосвязи с количеством комнат (корреляция 85,78%). На основании значений этого столбца эти пропуски могут быть заменены медианными значениями для соотвествующего количества комнат (поле \"жилая площадь\" не будет использовано в последующем анализе)."
      ]
    },
    {
      "cell_type": "code",
      "metadata": {
        "id": "P-OYs0nvkDio",
        "colab": {
          "base_uri": "https://localhost:8080/"
        },
        "outputId": "2b03900e-b5e7-4f5c-8e9c-f60681c9b864"
      },
      "source": [
        "print(db['living_area'].corr(db['rooms']))"
      ],
      "execution_count": 17,
      "outputs": [
        {
          "output_type": "stream",
          "name": "stdout",
          "text": [
            "0.8496043952432574\n"
          ]
        }
      ]
    },
    {
      "cell_type": "markdown",
      "metadata": {
        "id": "N-ecPlUwkDip"
      },
      "source": [
        "Получим медианные значения жилой площади в зависимости от количества комнат по исходным данным и произведем заполнение пропусков."
      ]
    },
    {
      "cell_type": "code",
      "metadata": {
        "id": "d8x7wrp0kDip"
      },
      "source": [
        "living_to_rooms = db.pivot_table(index=\"rooms\",values='living_area',aggfunc='median')\n",
        "for ind in db[db['living_area'].isna()==True].index:\n",
        "    db.loc[ind,'living_area']=living_to_rooms.loc[db.loc[ind,'rooms'],'living_area']"
      ],
      "execution_count": 18,
      "outputs": []
    },
    {
      "cell_type": "markdown",
      "metadata": {
        "id": "kWyMQ1GnkDit"
      },
      "source": [
        "**5)** В поле \"апартаменты\" 20924 пропущеных значений или 88,3%. Из заполненных записей апартаментами являются только 50 (или 1,8% от заполненных). В соответствии с опубликованным <a ref='https://www.bsn.ru/articles/liveestate/17213_reyting_apartamentov_sanktpeterburga/#:~:text=Доля%20апартаментов%20в%20центральных%20районах,из%20центра%20в%20спальные%20районы'>исследованием</a>, в Санкт-Петербурге доля апартаментов во вводимом квартирном фонде с 2016 года составляла от 2% до 27% (в зависимости от района). Резонно предположить, что в представленных данных вторичного рынка (2014-2019гг) доля апартаментов не может быть ниже 2%, а значит пропущенные значения не являются False по умолчанию. Однако, с удовлетворяющей степенью достоверности заполнить пропуски дифференцированными значениями не представляется возможным ввиду отсутствия корреляции с другими характеристиками объекта (любое жилое помещение может быть переведено собственником в категорию апартаментов). Cчитаем уместным заполнить отсуствующие значения False и не использовать данные о признаке аппартаментов в дальнейшем анализе."
      ]
    },
    {
      "cell_type": "code",
      "metadata": {
        "id": "1m4fwpRykDit",
        "colab": {
          "base_uri": "https://localhost:8080/"
        },
        "outputId": "62e61044-8ef0-47b5-ab39-c3e793fdcf54"
      },
      "source": [
        "print(db['is_apartment'].value_counts())\n",
        "db['is_apartment'].fillna(False,inplace=True)"
      ],
      "execution_count": 19,
      "outputs": [
        {
          "output_type": "stream",
          "name": "stdout",
          "text": [
            "False    2725\n",
            "True       50\n",
            "Name: is_apartment, dtype: int64\n"
          ]
        }
      ]
    },
    {
      "cell_type": "markdown",
      "metadata": {
        "id": "3DbcDMK0kDiu"
      },
      "source": [
        "**6)** \"Площадь кухни\" не заполнена у 2278 записей. Причины пропусков, скорее всего, аналогичны пропускам в данных о жилой площади. Площадь кухни в основном зависит только от индивидуальных особенностей объекта (проект, наличие перепланировок) и слабо коррелирует с имеющимися данными. Максимальную зависимость площадь кухни демонстрирует только по отношению к общей площади. Однако значение коэффициента корреляции (60,91%) не позволяет использовать эту зависимость для формирования заполняющих значений."
      ]
    },
    {
      "cell_type": "code",
      "metadata": {
        "id": "TP23YWv2kDiu",
        "colab": {
          "base_uri": "https://localhost:8080/"
        },
        "outputId": "c3ceaad5-30a2-4d31-a26c-46d53f2d323f"
      },
      "source": [
        "print(db['kitchen_area'].corr(db['total_area']))"
      ],
      "execution_count": 20,
      "outputs": [
        {
          "output_type": "stream",
          "name": "stdout",
          "text": [
            "0.6091211711198318\n"
          ]
        }
      ]
    },
    {
      "cell_type": "markdown",
      "metadata": {
        "id": "NW-qeQpokDiv"
      },
      "source": [
        "Произведем замену пропущенных значений по полю \"площаадь кухни\" на (-1) - маркер отсутствуюего значения."
      ]
    },
    {
      "cell_type": "code",
      "metadata": {
        "id": "9zP6bRONkDiv"
      },
      "source": [
        "db['kitchen_area'].fillna(int(-1),inplace=True)"
      ],
      "execution_count": 21,
      "outputs": []
    },
    {
      "cell_type": "markdown",
      "metadata": {
        "id": "Qrv0IXLJkDiv"
      },
      "source": [
        "**7)** По полю \"число балконов\" пропущены значения в 11519 записях. С большой долей вероятности можно считать, что пропуски являются аналогом значения 0 для пользователя при заполнении данных (это данные о недвижимости, которые пользователь точно знает и помнит, в отличие от размера жилой площади и площади кухни, например, и их нет резона скрывать). Произведем замену пропущенных значений по колонке \"число балконов\" на значение 0."
      ]
    },
    {
      "cell_type": "code",
      "metadata": {
        "id": "Itd4DZvxkDiw"
      },
      "source": [
        "db['balcony'].fillna(0,inplace=True)"
      ],
      "execution_count": 22,
      "outputs": []
    },
    {
      "cell_type": "markdown",
      "metadata": {
        "id": "TqfKSCetkDiw"
      },
      "source": [
        "**8)** Название населённого пункта пропущено в 49 записях. Эти пропуски скорее всего являются ошибкой формирования данных и не могут быть восстановлены на основании значений других полей (данные яндекса дают линейное растояние до объекта от фиксированных точек и не позволяют произвести полноценную триангуляцию)."
      ]
    },
    {
      "cell_type": "code",
      "metadata": {
        "id": "iZ8lRVWRkDiw",
        "colab": {
          "base_uri": "https://localhost:8080/"
        },
        "outputId": "5d4696db-b939-4602-873b-f3640b7b4d31"
      },
      "source": [
        "db[db['locality_name'].isna()==True].isna().sum()"
      ],
      "execution_count": 23,
      "outputs": [
        {
          "output_type": "execute_result",
          "data": {
            "text/plain": [
              "total_images             0\n",
              "last_price               0\n",
              "total_area               0\n",
              "first_day_exposition     0\n",
              "rooms                    0\n",
              "ceiling_height           0\n",
              "floors_total             0\n",
              "living_area              0\n",
              "floor                    0\n",
              "is_apartment             0\n",
              "studio                   0\n",
              "open_plan                0\n",
              "kitchen_area             0\n",
              "balcony                  0\n",
              "locality_name           49\n",
              "airports_nearest         8\n",
              "cityCenters_nearest      8\n",
              "parks_around3000         8\n",
              "parks_nearest           34\n",
              "ponds_around3000         8\n",
              "ponds_nearest           24\n",
              "days_exposition          1\n",
              "dtype: int64"
            ]
          },
          "metadata": {},
          "execution_count": 23
        }
      ]
    },
    {
      "cell_type": "markdown",
      "metadata": {
        "id": "VXb93t9hkDix"
      },
      "source": [
        "Так как данные записи могут быть использованы для анализа иных взаимосвязей помимо локации, произведем заполнение пропусков значением \"не указано\"."
      ]
    },
    {
      "cell_type": "code",
      "metadata": {
        "id": "4IO49ZcrkDix"
      },
      "source": [
        "db['locality_name'].fillna('не указано',inplace=True)"
      ],
      "execution_count": 24,
      "outputs": []
    },
    {
      "cell_type": "markdown",
      "metadata": {
        "id": "xaEqywCwkDix"
      },
      "source": [
        "Большое количество пропусков в поле \"сколько дней было размещено объявление (от публикации до снятия)\" (3181) может иметь разнообразные причины. Например, что квартира была продана в день публикации, что объявление было активно на момент формирования данных, что пользователь забыл снять объявление с публикации и т.п. Статистика данных по этому полю и значение самой ранней и самой поздней даты публикации объявлений с пропущенными значениями не дают однозначного ответа о характере пропусков.   "
      ]
    },
    {
      "cell_type": "code",
      "metadata": {
        "id": "CL1Y5eqqkDiy",
        "colab": {
          "base_uri": "https://localhost:8080/"
        },
        "outputId": "d79b3645-3505-48b3-9b5d-053d695d7a0f"
      },
      "source": [
        "print(db['days_exposition'].describe())\n",
        "print('Самое ранне объявление, с пропуском:',db[db['days_exposition'].isna()]['first_day_exposition'].min())\n",
        "print('Самое позднее объявление, с пропуском:',db[db['days_exposition'].isna()]['first_day_exposition'].max())\n",
        "print('Самое позднее объявление в данных:',db['first_day_exposition'].max())"
      ],
      "execution_count": 25,
      "outputs": [
        {
          "output_type": "stream",
          "name": "stdout",
          "text": [
            "count    20518.000000\n",
            "mean       180.888634\n",
            "std        219.727988\n",
            "min          1.000000\n",
            "25%         45.000000\n",
            "50%         95.000000\n",
            "75%        232.000000\n",
            "max       1580.000000\n",
            "Name: days_exposition, dtype: float64\n",
            "Самое ранне объявление, с пропуском: 2014-11-27T00:00:00\n",
            "Самое позднее объявление, с пропуском: 2019-05-03T00:00:00\n",
            "Самое позднее объявление в данных: 2019-05-03T00:00:00\n"
          ]
        }
      ]
    },
    {
      "cell_type": "markdown",
      "metadata": {
        "id": "00Vv65PSkDiy"
      },
      "source": [
        "Соотвественно, пропуски в данном поле не могут быть заполнены значениями на основе разности \"дата формирования данных\" или \"дата самого последнего объявления в данных\" и \"дата публикации\", так как это приведет к искажению данных исследоввания."
      ]
    },
    {
      "cell_type": "markdown",
      "metadata": {
        "id": "7zLaTPDakDiy"
      },
      "source": [
        "Произведем замену пропущенных значений по полю \"сколько дней было размещено объявление (от публикации до снятия)\" на (-1) - маркер отсутствуюего значения."
      ]
    },
    {
      "cell_type": "code",
      "metadata": {
        "id": "cb2xH5lykDiz"
      },
      "source": [
        "db['days_exposition'].fillna(int(-1),inplace=True)"
      ],
      "execution_count": 26,
      "outputs": []
    },
    {
      "cell_type": "markdown",
      "metadata": {
        "id": "8F9CTOXxkDiz"
      },
      "source": [
        "Пропущенные данные в полях, являющихся результатом автоматического заполнения на основе картографических данных не могут быть восстановлены, так как сформированы на основе индивидуальных координат расположения объектов. Полагаем разумным заполнить эти пропуски маркером отсутствующих значений (-1)."
      ]
    },
    {
      "cell_type": "code",
      "metadata": {
        "id": "B5W1sFQJkDiz"
      },
      "source": [
        "for ind in ya_columns:\n",
        "    db[ind].fillna(int(-1),inplace=True)"
      ],
      "execution_count": 27,
      "outputs": []
    },
    {
      "cell_type": "markdown",
      "metadata": {
        "id": "dYrIT-NFkDi0"
      },
      "source": [
        "#### Преобразование типов"
      ]
    },
    {
      "cell_type": "markdown",
      "metadata": {
        "id": "9lUIPjCHkDi0"
      },
      "source": [
        "В исходных данных некоторые столбцы имеют не оптимальный тип. Произведем преобразование полей, содержащих данные о количестве объектов и расстояниях, кратных метру, к целочисленному типу."
      ]
    },
    {
      "cell_type": "code",
      "metadata": {
        "id": "kM3trevGkDi0"
      },
      "source": [
        "filds_list=['floors_total', 'balcony', 'airports_nearest', 'cityCenters_nearest', 'parks_around3000', 'parks_nearest', 'ponds_around3000', 'ponds_nearest', 'days_exposition']\n",
        "db.loc[:,filds_list]=db.loc[:,filds_list].apply(pd.to_numeric,errors='coerce',downcast='integer')"
      ],
      "execution_count": 28,
      "outputs": []
    },
    {
      "cell_type": "markdown",
      "metadata": {
        "id": "lxRFo_qxkDi0"
      },
      "source": [
        "Логическое поле, определяющее является ли объект апартаментами, имеет ошибочный тип дпнных. Произведем преобразование."
      ]
    },
    {
      "cell_type": "code",
      "metadata": {
        "id": "WbKI1xvBkDi1"
      },
      "source": [
        "db['is_apartment'] = db['is_apartment'].astype('bool')"
      ],
      "execution_count": 29,
      "outputs": []
    },
    {
      "cell_type": "markdown",
      "metadata": {
        "id": "L-snHnPWkDi1"
      },
      "source": [
        "#### Проверка наличия дубликатов"
      ]
    },
    {
      "cell_type": "markdown",
      "metadata": {
        "id": "jPjKRT0hkDi1"
      },
      "source": [
        "Проверим данные на наличие дублированных записей."
      ]
    },
    {
      "cell_type": "code",
      "metadata": {
        "id": "jALtMzHTkDi1",
        "colab": {
          "base_uri": "https://localhost:8080/"
        },
        "outputId": "10dbb9bb-5072-4ff2-ec91-c8ebe3b3801d"
      },
      "source": [
        "print('Количество дубликатов: ',db.duplicated().sum())"
      ],
      "execution_count": 30,
      "outputs": [
        {
          "output_type": "stream",
          "name": "stdout",
          "text": [
            "Количество дубликатов:  0\n"
          ]
        }
      ]
    },
    {
      "cell_type": "markdown",
      "metadata": {
        "id": "wRUN72mYz5kf"
      },
      "source": [
        "Обработка строк в колонке 'locality_name'. В данных о местопложении объектов параллельно используются типы населенных пунктов содержащие \"ё\" и \"е\" в наименованиях (\"посёлок\" и \"поселок\"). Приведем к однозначному наименовнию типов населенных пунктов."
      ]
    },
    {
      "cell_type": "code",
      "metadata": {
        "colab": {
          "base_uri": "https://localhost:8080/"
        },
        "id": "mFw85Vvaz6bW",
        "outputId": "b814a25f-b639-417d-94ac-4ff1c9fb50e0"
      },
      "source": [
        "db['locality_name'].unique().shape[0]"
      ],
      "execution_count": 31,
      "outputs": [
        {
          "output_type": "execute_result",
          "data": {
            "text/plain": [
              "365"
            ]
          },
          "metadata": {},
          "execution_count": 31
        }
      ]
    },
    {
      "cell_type": "code",
      "metadata": {
        "id": "dw3uqFOGz8Qd"
      },
      "source": [
        "db['locality_name']=db['locality_name'].str.replace('ё','е')"
      ],
      "execution_count": 32,
      "outputs": []
    },
    {
      "cell_type": "code",
      "metadata": {
        "colab": {
          "base_uri": "https://localhost:8080/"
        },
        "id": "hmrgZ0sM0kNW",
        "outputId": "75e9ce12-38a2-4a68-90c0-e273b06317bd"
      },
      "source": [
        "db['locality_name'].unique().shape[0]"
      ],
      "execution_count": 33,
      "outputs": [
        {
          "output_type": "execute_result",
          "data": {
            "text/plain": [
              "331"
            ]
          },
          "metadata": {},
          "execution_count": 33
        }
      ]
    },
    {
      "cell_type": "markdown",
      "metadata": {
        "id": "DJzWDejXkDi2"
      },
      "source": [
        "## **Рассчёты и добавление результатов в таблицу**"
      ]
    },
    {
      "cell_type": "markdown",
      "metadata": {
        "id": "PtvNQhmgkDi2"
      },
      "source": [
        "Добавляем столбец, содержащий расчетные данные: цену квадратного метра площади объекта."
      ]
    },
    {
      "cell_type": "code",
      "metadata": {
        "id": "2f5kvv75kDi2"
      },
      "source": [
        "db['price_per_sqmeter']=db['last_price']/db['total_area']"
      ],
      "execution_count": 34,
      "outputs": []
    },
    {
      "cell_type": "markdown",
      "metadata": {
        "id": "GAu-YXeokDi2"
      },
      "source": [
        "Добавляем столбцы: день недели, месяц и год публикации объявления."
      ]
    },
    {
      "cell_type": "code",
      "metadata": {
        "id": "ZD9I4bfAkDi2"
      },
      "source": [
        "db['first_day_exposition']=pd.to_datetime(db['first_day_exposition'])\n",
        "db['weekday_published']=pd.DatetimeIndex(db['first_day_exposition']).day_name()\n",
        "db['month_published'] = pd.DatetimeIndex(db['first_day_exposition']).month\n",
        "db['month_published'] = db['month_published'].apply(lambda x: calendar.month_abbr[x])\n",
        "db['year_published'] = pd.DatetimeIndex(db['first_day_exposition']).year"
      ],
      "execution_count": 35,
      "outputs": []
    },
    {
      "cell_type": "markdown",
      "metadata": {
        "id": "CM4Km_tokDi3"
      },
      "source": [
        "Добавляем столбец типа этажа объекта (первый, последний, другой)."
      ]
    },
    {
      "cell_type": "code",
      "metadata": {
        "id": "N7PhGi2dkDi3"
      },
      "source": [
        "db['floor_type']=np.where(db['floor']==1, 'first',np.where(db['floor']==db['floors_total'], 'last', 'other'))"
      ],
      "execution_count": 36,
      "outputs": []
    },
    {
      "cell_type": "markdown",
      "metadata": {
        "id": "vGCWZSyFkDi3"
      },
      "source": [
        "Добавляем столбец, содержащий расчетные данные: соотношение жилой и общей площади."
      ]
    },
    {
      "cell_type": "code",
      "metadata": {
        "id": "jQqoZ4kLkDi3"
      },
      "source": [
        "db['living_to_total']=db['living_area']/db['total_area']"
      ],
      "execution_count": 37,
      "outputs": []
    },
    {
      "cell_type": "markdown",
      "metadata": {
        "id": "jRfIeLT8kDi4"
      },
      "source": [
        "Добавляем столбец, содержащий расчетные данные: отношение площади кухни к общей площади. Для строк, площадь кухни которых не известна (-1), устанавливаем значение также (-1)."
      ]
    },
    {
      "cell_type": "code",
      "metadata": {
        "id": "Wc3N8SetkDi4"
      },
      "source": [
        "db['kitchen_to_total']=np.where(db['kitchen_area']>0, db['kitchen_area']/db['total_area'], int(-1))"
      ],
      "execution_count": 38,
      "outputs": []
    },
    {
      "cell_type": "markdown",
      "metadata": {
        "id": "y2nX3Gp4kDi4"
      },
      "source": [
        "## **Исследовательский анализ данных**"
      ]
    },
    {
      "cell_type": "markdown",
      "metadata": {
        "id": "vTDgpHDRkDi4"
      },
      "source": [
        "#### Изучение параметров: площадь, цена, число комнат, высота потолков."
      ]
    },
    {
      "cell_type": "markdown",
      "metadata": {
        "id": "vYmRXqtYkDi5"
      },
      "source": [
        "**1)** Изучим распределение данных об общей площади объектов недвижимости в исследовании."
      ]
    },
    {
      "cell_type": "code",
      "metadata": {
        "id": "qr5hezAakDi5",
        "colab": {
          "base_uri": "https://localhost:8080/"
        },
        "outputId": "baf8bddc-2aa3-49d3-eca2-3f599716ef58"
      },
      "source": [
        "total_area_analisis=pd.DataFrame(db['total_area'].describe().apply(lambda x: format(x, '.1f')))\n",
        "print(total_area_analisis)"
      ],
      "execution_count": 39,
      "outputs": [
        {
          "output_type": "stream",
          "name": "stdout",
          "text": [
            "      total_area\n",
            "count    23699.0\n",
            "mean        60.3\n",
            "std         35.7\n",
            "min         12.0\n",
            "25%         40.0\n",
            "50%         52.0\n",
            "75%         69.9\n",
            "max        900.0\n"
          ]
        }
      ]
    },
    {
      "cell_type": "markdown",
      "metadata": {
        "id": "skVLWlUrkDi5"
      },
      "source": [
        "Показатели описательной статистики свидетельствуют:\n",
        "- о смещении плотности распределения данных об общей площади вправо (максимальное значение превосходит границу 75%го интервала в 13 раз);\n",
        "- о сравнительно плотном распределении и наличии небольшого количества выбросов, нетипичных данных (стандартное отклонение составляет около половины величины среднего значения, размах \"первый-третий квартили\" составляет половину среднего значения)."
      ]
    },
    {
      "cell_type": "code",
      "metadata": {
        "id": "Y1FZs9-hkDi5",
        "colab": {
          "base_uri": "https://localhost:8080/"
        },
        "outputId": "fbdeef51-659d-4148-aa7a-4e617082b882"
      },
      "source": [
        "print(db['total_area'].value_counts(bins=10,sort=False))"
      ],
      "execution_count": 40,
      "outputs": [
        {
          "output_type": "stream",
          "name": "stdout",
          "text": [
            "(11.111, 100.8]    21895\n",
            "(100.8, 189.6]      1539\n",
            "(189.6, 278.4]       180\n",
            "(278.4, 367.2]        51\n",
            "(367.2, 456.0]        18\n",
            "(456.0, 544.8]        11\n",
            "(544.8, 633.6]         4\n",
            "(633.6, 722.4]         0\n",
            "(722.4, 811.2]         0\n",
            "(811.2, 900.0]         1\n",
            "Name: total_area, dtype: int64\n"
          ]
        }
      ]
    },
    {
      "cell_type": "markdown",
      "metadata": {
        "id": "DcslrjkokDi6"
      },
      "source": [
        "Исключим очевидно нетипичное значение в диапазоне 811,2-900 кв.м. и построим гистограмму частот."
      ]
    },
    {
      "cell_type": "code",
      "metadata": {
        "id": "ivZh9dTokDi6",
        "colab": {
          "base_uri": "https://localhost:8080/",
          "height": 320
        },
        "outputId": "d49b9a43-478d-4d13-a6d3-334db207d3de"
      },
      "source": [
        "db['total_area'].hist(figsize=(10,5),range=(0,650));"
      ],
      "execution_count": 41,
      "outputs": [
        {
          "output_type": "display_data",
          "data": {
            "image/png": "[encoded data removed]",
            "text/plain": [
              "<Figure size 720x360 with 1 Axes>"
            ]
          },
          "metadata": {
            "needs_background": "light"
          }
        }
      ]
    },
    {
      "cell_type": "markdown",
      "metadata": {
        "id": "Cq1HPjSekDi6"
      },
      "source": [
        "98.88% значений общей площади расположены в диапазоне 11.111-189.6кв.м. Построим гистограмму по этому диапазону, чтобы определить тип распределения."
      ]
    },
    {
      "cell_type": "markdown",
      "metadata": {
        "id": "ebzEvBzOkDi6"
      },
      "source": [
        "Квартиры с большой площадью нужно исключить, так как такая недвижимость относится к элитному классу и заслуживает отдельного исследования."
      ]
    },
    {
      "cell_type": "code",
      "metadata": {
        "id": "hvbK6tw2kDi7",
        "colab": {
          "base_uri": "https://localhost:8080/",
          "height": 320
        },
        "outputId": "de86e26f-2e1c-46fa-c9e2-2491c95778c7"
      },
      "source": [
        "db['total_area'].hist(bins=20,figsize=(10,5),range=(11.111,189.6));"
      ],
      "execution_count": 42,
      "outputs": [
        {
          "output_type": "display_data",
          "data": {
            "image/png": "[encoded data removed]",
            "text/plain": [
              "<Figure size 720x360 with 1 Axes>"
            ]
          },
          "metadata": {
            "needs_background": "light"
          }
        }
      ]
    },
    {
      "cell_type": "markdown",
      "metadata": {
        "id": "il3_kBb-kDi7"
      },
      "source": [
        "Распределение частот значений общей площади графически совпадает с распределением Пуассона."
      ]
    },
    {
      "cell_type": "markdown",
      "metadata": {
        "id": "ryt-WGvJkDi7"
      },
      "source": [
        "**2)** Изучим распределение данных о цене на момент снятия с публикации в исследовании."
      ]
    },
    {
      "cell_type": "code",
      "metadata": {
        "id": "A3qA-iIEkDi7",
        "colab": {
          "base_uri": "https://localhost:8080/"
        },
        "outputId": "4c477d96-3aac-490a-f5e4-7e2eb2002577"
      },
      "source": [
        "last_price_analisis=pd.DataFrame(db['last_price'].describe().apply(lambda x: locale.format_string('%d', x, grouping=True, monetary=True)))\n",
        "print(last_price_analisis)"
      ],
      "execution_count": 43,
      "outputs": [
        {
          "output_type": "stream",
          "name": "stdout",
          "text": [
            "        last_price\n",
            "count       23 699\n",
            "mean     6 541 548\n",
            "std     10 887 013\n",
            "min         12 190\n",
            "25%      3 400 000\n",
            "50%      4 650 000\n",
            "75%      6 800 000\n",
            "max    763 000 000\n"
          ]
        }
      ]
    },
    {
      "cell_type": "markdown",
      "metadata": {
        "id": "4yjp_EKAkDi8"
      },
      "source": [
        "Показатели описательной статистики свидетельствуют о наличии выбросов на два порядка превосходящих границу 75%го интервала, стандартное отклонение превосходит среднее значение в 1,5 раза."
      ]
    },
    {
      "cell_type": "code",
      "metadata": {
        "id": "hC9rj3H2kDi8",
        "colab": {
          "base_uri": "https://localhost:8080/"
        },
        "outputId": "a897597a-eb4f-41b8-e30b-4d58f98b978e"
      },
      "source": [
        "print(pd.cut(db['last_price'],bins=np.linspace(10000,800000000,8)).value_counts(sort=False))"
      ],
      "execution_count": 44,
      "outputs": [
        {
          "output_type": "stream",
          "name": "stdout",
          "text": [
            "(10000.0, 114294285.714]          23662\n",
            "(114294285.714, 228578571.429]       28\n",
            "(228578571.429, 342862857.143]        6\n",
            "(342862857.143, 457147142.857]        2\n",
            "(457147142.857, 571431428.571]        0\n",
            "(571431428.571, 685715714.286]        0\n",
            "(685715714.286, 800000000.0]          1\n",
            "Name: last_price, dtype: int64\n"
          ]
        }
      ]
    },
    {
      "cell_type": "markdown",
      "metadata": {
        "id": "WL79ZBwlkDi8"
      },
      "source": [
        "Исключим очевидно нетипичное значение в диапазоне (685715714.286, 800000000.0] рублей и построим гистограмму частот."
      ]
    },
    {
      "cell_type": "code",
      "metadata": {
        "id": "5Od-oHS6kDi8",
        "colab": {
          "base_uri": "https://localhost:8080/",
          "height": 334
        },
        "outputId": "2de01a65-fc62-49af-c3cc-5733c1605cb5"
      },
      "source": [
        "db['last_price'].hist(bins=100,figsize=(10,5), range=(0,457147142.857));"
      ],
      "execution_count": 45,
      "outputs": [
        {
          "output_type": "display_data",
          "data": {
            "image/png": "[encoded data removed]",
            "text/plain": [
              "<Figure size 720x360 with 1 Axes>"
            ]
          },
          "metadata": {
            "needs_background": "light"
          }
        }
      ]
    },
    {
      "cell_type": "markdown",
      "metadata": {
        "id": "PwDAbIFVkDi8"
      },
      "source": [
        "99.84% значений цены расположены в диапазоне (10000.0, 114294285.714] рублей. Построим гистограмму по этому диапазону, чтобы определить тип распределения."
      ]
    },
    {
      "cell_type": "code",
      "metadata": {
        "id": "KgbrNaxnkDi9",
        "colab": {
          "base_uri": "https://localhost:8080/",
          "height": 333
        },
        "outputId": "22679769-c0ae-47b5-e08a-566ca7aa0694"
      },
      "source": [
        "db['last_price'].hist(bins=100,figsize=(10,5), range=(10000.0, 114294285.714));"
      ],
      "execution_count": 46,
      "outputs": [
        {
          "output_type": "display_data",
          "data": {
            "image/png": "[encoded data removed]",
            "text/plain": [
              "<Figure size 720x360 with 1 Axes>"
            ]
          },
          "metadata": {
            "needs_background": "light"
          }
        }
      ]
    },
    {
      "cell_type": "markdown",
      "metadata": {
        "id": "2E8cEVIbkDi9"
      },
      "source": [
        "Распределение частот значений цены графически не полноостью совпадает с распределением Пуассона. Большая часть кваритр имеет стоимость 3-5 млн р."
      ]
    },
    {
      "cell_type": "markdown",
      "metadata": {
        "id": "ak9g3UmrkDi9"
      },
      "source": [
        "**3)** Изучим распределение данных о числе комнат объектов в исследовании."
      ]
    },
    {
      "cell_type": "code",
      "metadata": {
        "id": "4yYy1boMkDi-",
        "colab": {
          "base_uri": "https://localhost:8080/"
        },
        "outputId": "63a0e66e-94bc-4b0e-e0a8-29163df02dc6"
      },
      "source": [
        "rooms_analisis=pd.DataFrame(db['rooms'].describe().apply(lambda x: format(x, '.0f')))\n",
        "print(rooms_analisis)"
      ],
      "execution_count": 47,
      "outputs": [
        {
          "output_type": "stream",
          "name": "stdout",
          "text": [
            "       rooms\n",
            "count  23699\n",
            "mean       2\n",
            "std        1\n",
            "min        0\n",
            "25%        1\n",
            "50%        2\n",
            "75%        3\n",
            "max       19\n"
          ]
        }
      ]
    },
    {
      "cell_type": "markdown",
      "metadata": {
        "id": "qkM-qfbWkDi-"
      },
      "source": [
        "Основной объем записей исходных даных описывает объявления о продаже 1-3 комнатных квартир, Среднее значение совпадает с медианой столбца - типичной является 2х комнатная квартира. "
      ]
    },
    {
      "cell_type": "code",
      "metadata": {
        "id": "5WZyqNXgkDi-",
        "colab": {
          "base_uri": "https://localhost:8080/"
        },
        "outputId": "5fdabaef-eb10-4e62-c90e-75429391331e"
      },
      "source": [
        "print(db['rooms'].value_counts())"
      ],
      "execution_count": 48,
      "outputs": [
        {
          "output_type": "stream",
          "name": "stdout",
          "text": [
            "1     8234\n",
            "2     7940\n",
            "3     5814\n",
            "4     1180\n",
            "5      326\n",
            "6      105\n",
            "7       59\n",
            "8       12\n",
            "0       10\n",
            "9        8\n",
            "10       3\n",
            "14       2\n",
            "11       2\n",
            "19       1\n",
            "12       1\n",
            "16       1\n",
            "15       1\n",
            "Name: rooms, dtype: int64\n"
          ]
        }
      ]
    },
    {
      "cell_type": "markdown",
      "metadata": {
        "id": "8ovkpWS0kDi-"
      },
      "source": [
        "В статистике выбиваются из ряда записи с незаполненной информацией о количестве комнат (0) и запись о продаже нетипичного объекта c 19-ю комнатами."
      ]
    },
    {
      "cell_type": "code",
      "metadata": {
        "id": "xPod5xZBkDi-",
        "colab": {
          "base_uri": "https://localhost:8080/"
        },
        "outputId": "5e56fdbc-24d9-4745-f68f-166994c2815d"
      },
      "source": [
        "print('Площадь, приходящаяся на одну комнату, в среднем по исследованию:',format(db['total_area'].median()/db['rooms'].median(), '.2f'))\n",
        "print('Площадь, приходящаяся на одну комнату, для 19ти комнатного объекта:',format(db.query('rooms==@db.rooms.max()')['total_area'].median()/db.query('rooms==@db.rooms.max()')['rooms'].median(), '.2f'))"
      ],
      "execution_count": 49,
      "outputs": [
        {
          "output_type": "stream",
          "name": "stdout",
          "text": [
            "Площадь, приходящаяся на одну комнату, в среднем по исследованию: 26.00\n",
            "Площадь, приходящаяся на одну комнату, для 19ти комнатного объекта: 19.72\n"
          ]
        }
      ]
    },
    {
      "cell_type": "markdown",
      "metadata": {
        "id": "XBgaKZerkDi_"
      },
      "source": [
        "Можно с уверенностью предположить, что запись о объекте с максимальным количеством комнат не является ошибочной. Однако, для визуализации характера распределения данных о количестве комнат в исследовании, при построении диаграммы частот исключим минимальные и максимальное значчение."
      ]
    },
    {
      "cell_type": "code",
      "metadata": {
        "id": "2nh0myBPkDi_",
        "colab": {
          "base_uri": "https://localhost:8080/",
          "height": 320
        },
        "outputId": "b8254b04-006f-47cd-e812-63c72cb89c46"
      },
      "source": [
        "selection=db.query('not((rooms==@db.rooms.max())|(rooms==@db.rooms.min()))')\n",
        "minimum=selection['rooms'].min()\n",
        "maximum=selection['rooms'].max()\n",
        "bins=selection['rooms'].value_counts().shape[0]\n",
        "selection['rooms'].hist(bins=maximum,range=(minimum,maximum),figsize=(10,5));"
      ],
      "execution_count": 50,
      "outputs": [
        {
          "output_type": "display_data",
          "data": {
            "image/png": "[encoded data removed]",
            "text/plain": [
              "<Figure size 720x360 with 1 Axes>"
            ]
          },
          "metadata": {
            "needs_background": "light"
          }
        }
      ]
    },
    {
      "cell_type": "markdown",
      "metadata": {
        "id": "6UB_C-JBkDi_"
      },
      "source": [
        "Распределение частот значений количества комнат графически совпадает с распределением Пуассона. Наиболее популярные -- 1-комантные и 2-х комнатные квартиры."
      ]
    },
    {
      "cell_type": "markdown",
      "metadata": {
        "id": "P2ZiZIxvkDjA"
      },
      "source": [
        "**4)** Изучим распределение данных о высоте потолков объектов недвижимости в исследовании (исключая записи с маркерами отсутстующих значений в данном поле)."
      ]
    },
    {
      "cell_type": "code",
      "metadata": {
        "id": "eooTd8hwkDjA",
        "colab": {
          "base_uri": "https://localhost:8080/"
        },
        "outputId": "a4454d68-bfcc-44d4-b862-5dc545a79958"
      },
      "source": [
        "ceiling_height_exist=db.query('ceiling_height>0')\n",
        "ceiling_height_analisis=pd.DataFrame(ceiling_height_exist['ceiling_height'].describe().apply(lambda x: format(x, '.2f')))\n",
        "print(ceiling_height_analisis)"
      ],
      "execution_count": 51,
      "outputs": [
        {
          "output_type": "stream",
          "name": "stdout",
          "text": [
            "      ceiling_height\n",
            "count       14477.00\n",
            "mean            2.73\n",
            "std             0.30\n",
            "min             2.00\n",
            "25%             2.52\n",
            "50%             2.65\n",
            "75%             2.80\n",
            "max            10.30\n"
          ]
        }
      ]
    },
    {
      "cell_type": "markdown",
      "metadata": {
        "id": "l3dlf-9EkDjA"
      },
      "source": [
        "Типичная высота потолков объектов исследования находится в диапазоне от 2,52м до 2,8м (среднее значение 2,73м +/- 0.3м)."
      ]
    },
    {
      "cell_type": "code",
      "metadata": {
        "id": "ac4_tZCMkDjA",
        "colab": {
          "base_uri": "https://localhost:8080/",
          "height": 320
        },
        "outputId": "fdfb23dc-354e-4a64-dfac-6312f7a48cb3"
      },
      "source": [
        "minimum=ceiling_height_exist['ceiling_height'].min()\n",
        "maximum=ceiling_height_exist['ceiling_height'].max()\n",
        "bins=ceiling_height_exist['ceiling_height'].value_counts().shape[0]\n",
        "ceiling_height_exist['ceiling_height'].hist(bins=bins,range=(minimum,maximum),figsize=(10,5));"
      ],
      "execution_count": 52,
      "outputs": [
        {
          "output_type": "display_data",
          "data": {
            "image/png": "[encoded data removed]",
            "text/plain": [
              "<Figure size 720x360 with 1 Axes>"
            ]
          },
          "metadata": {
            "needs_background": "light"
          }
        }
      ]
    },
    {
      "cell_type": "markdown",
      "metadata": {
        "id": "uEnwZXktkDjB"
      },
      "source": [
        "Построим гистограмму по диапазону типичной высоты потолков (от 2.52м до 2.8м), чтобы определить наиболее часто встречающиеся значения."
      ]
    },
    {
      "cell_type": "code",
      "metadata": {
        "id": "tuEXgA0wkDjB",
        "colab": {
          "base_uri": "https://localhost:8080/",
          "height": 320
        },
        "outputId": "6379ae2c-cff6-42cb-bfb4-d7fd629d39bd"
      },
      "source": [
        "minimum=2.52\n",
        "maximum=2.8\n",
        "bins=ceiling_height_exist.query('ceiling_height>@minimum and ceiling_height<@maximum')['ceiling_height'].value_counts().shape[0]\n",
        "ceiling_height_exist['ceiling_height'].hist(bins=bins,range=(minimum,maximum),figsize=(10,5));"
      ],
      "execution_count": 53,
      "outputs": [
        {
          "output_type": "display_data",
          "data": {
            "image/png": "[encoded data removed]",
            "text/plain": [
              "<Figure size 720x360 with 1 Axes>"
            ]
          },
          "metadata": {
            "needs_background": "light"
          }
        }
      ]
    },
    {
      "cell_type": "markdown",
      "metadata": {
        "id": "-X6yVDoskDjB"
      },
      "source": [
        "Такими являются [2.55, 2.60, 2.65, 2.70, 2.75, 2.80], высота потолка до 3,5 м соответсвует стандартам ГОСТа. Апостериори, появление остальных значений связано действиями пользователя: с ошибкой измерения, перепланировкой, ремонтом, индивидуальным проектом и т.д. "
      ]
    },
    {
      "cell_type": "markdown",
      "metadata": {
        "id": "GznbcEugkDjC"
      },
      "source": [
        "#### Изучение времени продажи квартиры."
      ]
    },
    {
      "cell_type": "markdown",
      "metadata": {
        "id": "_ES8_4tMkDjC"
      },
      "source": [
        "Построим гистограмму частот длительности периода от размещения объявления до его снятия (исключая записи с отсутствующими значениями)."
      ]
    },
    {
      "cell_type": "code",
      "metadata": {
        "id": "9_GD52OGkDjC",
        "colab": {
          "base_uri": "https://localhost:8080/",
          "height": 320
        },
        "outputId": "ceecf0e3-7301-4292-c4d5-b0c1ec3f8f50"
      },
      "source": [
        "days_exposition_exist=db.query('days_exposition>0')\n",
        "minimum=days_exposition_exist['days_exposition'].min()\n",
        "maximum=days_exposition_exist['days_exposition'].max()\n",
        "bins=100\n",
        "days_exposition_exist['days_exposition'].hist(bins=bins,range=(minimum,maximum),figsize=(10,5));"
      ],
      "execution_count": 54,
      "outputs": [
        {
          "output_type": "display_data",
          "data": {
            "image/png": "[encoded data removed]",
            "text/plain": [
              "<Figure size 720x360 with 1 Axes>"
            ]
          },
          "metadata": {
            "needs_background": "light"
          }
        }
      ]
    },
    {
      "cell_type": "markdown",
      "metadata": {
        "id": "Vd5pbq3nkDjC"
      },
      "source": [
        "Получим основные статистические показатели по выборке."
      ]
    },
    {
      "cell_type": "code",
      "metadata": {
        "id": "p1fNWX_MkDjC",
        "colab": {
          "base_uri": "https://localhost:8080/"
        },
        "outputId": "f03e7c0f-6d04-4096-b7f1-fcefbccb7ce2"
      },
      "source": [
        "all_existing_stat=days_exposition_exist['days_exposition'].describe().apply(lambda x: format(x, '.1f'))\n",
        "print(all_existing_stat)"
      ],
      "execution_count": 55,
      "outputs": [
        {
          "output_type": "stream",
          "name": "stdout",
          "text": [
            "count    20518.0\n",
            "mean       180.9\n",
            "std        219.7\n",
            "min          1.0\n",
            "25%         45.0\n",
            "50%         95.0\n",
            "75%        232.0\n",
            "max       1580.0\n",
            "Name: days_exposition, dtype: object\n"
          ]
        }
      ]
    },
    {
      "cell_type": "markdown",
      "metadata": {
        "id": "waFcCm7gkDjD"
      },
      "source": [
        "Медианное время продаж составляет 95 дней с даты размещения объявления, половина объявлений снитается с публикации в период от 45 до 232 дней. Данные о среднем значении и величине стандартного отклонения от него свидетельствует о наличии значительного количества записей с необычно долгими продажами."
      ]
    },
    {
      "cell_type": "markdown",
      "metadata": {
        "id": "SJYwcBB1kDjD"
      },
      "source": [
        "Определим границы необчно быстрых и долгих продаж (5% первых и 5 последних в ряду)."
      ]
    },
    {
      "cell_type": "code",
      "metadata": {
        "id": "ifZlKKFFkDjD",
        "colab": {
          "base_uri": "https://localhost:8080/"
        },
        "outputId": "639cc8c6-9e1a-4999-f3f8-15b785255721"
      },
      "source": [
        "print(pd.qcut(days_exposition_exist['days_exposition'], q=20, precision=0))"
      ],
      "execution_count": 56,
      "outputs": [
        {
          "output_type": "stream",
          "name": "stdout",
          "text": [
            "1          (67.0, 82.0]\n",
            "2        (460.0, 647.0]\n",
            "3        (364.0, 460.0]\n",
            "4        (114.0, 135.0]\n",
            "5          (48.0, 60.0]\n",
            "              ...      \n",
            "23691    (460.0, 647.0]\n",
            "23692    (364.0, 460.0]\n",
            "23693    (232.0, 287.0]\n",
            "23695      (35.0, 45.0]\n",
            "23697    (460.0, 647.0]\n",
            "Name: days_exposition, Length: 20518, dtype: category\n",
            "Categories (20, interval[float64]): [(0.0, 9.0] < (9.0, 17.0] < (17.0, 26.0] < (26.0, 35.0] < ... <\n",
            "                                     (287.0, 364.0] < (364.0, 460.0] < (460.0, 647.0] <\n",
            "                                     (647.0, 1580.0]]\n"
          ]
        }
      ]
    },
    {
      "cell_type": "markdown",
      "metadata": {
        "id": "JZJ6gT45kDjD"
      },
      "source": [
        "Необычно быстрые продажи происходят за период до 9 дней от публикации, а необычно долгие занимают более 647 дней. 15 процентов продаж происходят на второй год после публикации (или, что кажется более правдоподобным, закрываются неактивные объявления)."
      ]
    },
    {
      "cell_type": "markdown",
      "metadata": {
        "id": "oV_k6Bl6kDjE"
      },
      "source": [
        "Построим распределение частот для 15% самых быстрых и 15% самых медленных продаж."
      ]
    },
    {
      "cell_type": "code",
      "metadata": {
        "id": "gN22LRYckDjE",
        "colab": {
          "base_uri": "https://localhost:8080/",
          "height": 336
        },
        "outputId": "b8f75856-693d-4cd6-8480-557dde7c6fdf"
      },
      "source": [
        "fig, ax = plt_pyp.subplots(nrows=1, ncols=2,figsize=(10,5))\n",
        "bins=days_exposition_exist.query('days_exposition<=26')['days_exposition'].value_counts().shape[0]\n",
        "ax[0].title.set_text('15% самых быстрых')\n",
        "ax[0].hist(days_exposition_exist.query('days_exposition<=26')['days_exposition'],bins=bins);\n",
        "ax[1].title.set_text('15% самых медленных')\n",
        "ax[1].hist(days_exposition_exist.query('days_exposition>364')['days_exposition'],bins=100);"
      ],
      "execution_count": 57,
      "outputs": [
        {
          "output_type": "display_data",
          "data": {
            "image/png": "[encoded data removed]",
            "text/plain": [
              "<Figure size 720x360 with 2 Axes>"
            ]
          },
          "metadata": {
            "needs_background": "light"
          }
        }
      ]
    },
    {
      "cell_type": "markdown",
      "metadata": {
        "id": "qhgXKlQLkDjE"
      },
      "source": [
        "Самые быстрые продажи характеризуются плотным распределением частот, в то время как самые медленные, имеющие вид распределения Пуассона, вносят наибольший вклад в искажение средних данных по выборке."
      ]
    },
    {
      "cell_type": "markdown",
      "metadata": {
        "id": "GKoxrethkDjE"
      },
      "source": [
        "Построим диаграмму распределения времени продаж длительностью до одного года."
      ]
    },
    {
      "cell_type": "code",
      "metadata": {
        "id": "i1VdTWgokDjF",
        "colab": {
          "base_uri": "https://localhost:8080/",
          "height": 320
        },
        "outputId": "f20e02e1-6e46-4b3d-a0ec-f1c97847c634"
      },
      "source": [
        "days_exposition_365=days_exposition_exist.query('days_exposition<=365')\n",
        "minimum=days_exposition_365['days_exposition'].min()\n",
        "maximum=days_exposition_365['days_exposition'].max()\n",
        "bins=10\n",
        "days_exposition_365['days_exposition'].hist(bins=bins,range=(minimum,maximum),figsize=(10,5));"
      ],
      "execution_count": 58,
      "outputs": [
        {
          "output_type": "display_data",
          "data": {
            "image/png": "[encoded data removed]",
            "text/plain": [
              "<Figure size 720x360 with 1 Axes>"
            ]
          },
          "metadata": {
            "needs_background": "light"
          }
        }
      ]
    },
    {
      "cell_type": "markdown",
      "metadata": {
        "id": "lWRWSqxQkDjF"
      },
      "source": [
        "Сравним статистические показатели выборки всех известных значений количества дней размещения объявлений и выборки, уменьшенной до значений не превышающих 1 года."
      ]
    },
    {
      "cell_type": "code",
      "metadata": {
        "id": "DAfu8ai3kDjF",
        "colab": {
          "base_uri": "https://localhost:8080/"
        },
        "outputId": "47d57051-dfdf-4897-be16-743acc6603ae"
      },
      "source": [
        "stat_365=days_exposition_365['days_exposition'].describe().apply(lambda x: format(x, '.1f'))\n",
        "stat_365=pd.DataFrame(stat_365)\n",
        "stat_365.columns=['days_exposition_365']\n",
        "all_stat=pd.DataFrame(all_existing_stat)\n",
        "print(all_stat.join(stat_365))"
      ],
      "execution_count": 59,
      "outputs": [
        {
          "output_type": "stream",
          "name": "stdout",
          "text": [
            "      days_exposition days_exposition_365\n",
            "count         20518.0             17474.0\n",
            "mean            180.9               105.0\n",
            "std             219.7                89.8\n",
            "min               1.0                 1.0\n",
            "25%              45.0                37.0\n",
            "50%              95.0                74.0\n",
            "75%             232.0               154.0\n",
            "max            1580.0               365.0\n"
          ]
        }
      ]
    },
    {
      "cell_type": "markdown",
      "metadata": {
        "id": "Vch56e_gkDjG"
      },
      "source": [
        "В 85%-й выборке самых быстрых продаж среднее значение приблизилось к медианному, а стандартное отклонение больше его не превышает. Построим диаграммы размаха для выборки всех известных значений количества дней размещения объявлений и выборки, уменьшенной до значений не превышающих 365 дней."
      ]
    },
    {
      "cell_type": "code",
      "metadata": {
        "id": "us9A8spZkDjG",
        "colab": {
          "base_uri": "https://localhost:8080/",
          "height": 337
        },
        "outputId": "5d616ddb-2de7-4909-e582-b5cbead1a588"
      },
      "source": [
        "fig, axes = plt_pyp.subplots(nrows=1, ncols=2,figsize=(10,5))\n",
        "axes[0].title.set_text('все имеющиеся данные')\n",
        "days_exposition_exist.boxplot(['days_exposition'], ax=axes[0]);\n",
        "\n",
        "axes[1].title.set_text('данные, длительностью до 365 дней')\n",
        "days_exposition_365.boxplot(['days_exposition'], ax=axes[1]);\n",
        "plt_pyp.show()"
      ],
      "execution_count": 60,
      "outputs": [
        {
          "output_type": "display_data",
          "data": {
            "image/png": "[encoded data removed]",
            "text/plain": [
              "<Figure size 720x360 with 2 Axes>"
            ]
          },
          "metadata": {
            "needs_background": "light"
          }
        }
      ]
    },
    {
      "cell_type": "markdown",
      "metadata": {
        "id": "BwgDSMXbkDjG"
      },
      "source": [
        "В 85%-й выборке самых быстрых продаж все еще присутствует значительное количество выбросов в правой части ряда. Выбросы практичест исчезают в 80%-й выборке:"
      ]
    },
    {
      "cell_type": "code",
      "metadata": {
        "id": "xkEypkPKkDjG",
        "colab": {
          "base_uri": "https://localhost:8080/",
          "height": 270
        },
        "outputId": "d28e89ac-cf5c-4dff-9524-824401d16dd4"
      },
      "source": [
        "days_exposition_exist.query('days_exposition<287').boxplot(['days_exposition']);"
      ],
      "execution_count": 61,
      "outputs": [
        {
          "output_type": "display_data",
          "data": {
            "image/png": "[encoded data removed]",
            "text/plain": [
              "<Figure size 432x288 with 1 Axes>"
            ]
          },
          "metadata": {
            "needs_background": "light"
          }
        }
      ]
    },
    {
      "cell_type": "markdown",
      "metadata": {
        "id": "eP4NXWy4kDjH"
      },
      "source": [
        "Получим статистическое описание для выборки времени продажи от 1 до 287 дней."
      ]
    },
    {
      "cell_type": "code",
      "metadata": {
        "id": "7MoyZnN5kDjH",
        "colab": {
          "base_uri": "https://localhost:8080/"
        },
        "outputId": "b21dae55-4ed0-4212-cb61-62bdd3c9e81e"
      },
      "source": [
        "days_exposition_287=days_exposition_exist.query('days_exposition<=287')\n",
        "print(days_exposition_287['days_exposition'].describe().apply(lambda x: format(x, '.1f')))"
      ],
      "execution_count": 62,
      "outputs": [
        {
          "output_type": "stream",
          "name": "stdout",
          "text": [
            "count    16416.0\n",
            "mean        90.8\n",
            "std         72.3\n",
            "min          1.0\n",
            "25%         35.0\n",
            "50%         67.0\n",
            "75%        135.0\n",
            "max        287.0\n",
            "Name: days_exposition, dtype: object\n"
          ]
        }
      ]
    },
    {
      "cell_type": "markdown",
      "metadata": {
        "id": "-u1sFvj0kDjH"
      },
      "source": [
        "Уменьшение выборки до 80%-го интервала ухудшило показатели статистики (отношение стандартного отклонения к среднему значению увеличилось). А значит сокращение выборки всех известных значений количества дней размещения объявлений до 80% было неоправданным, и действительное среднее значение времени продажи лежит в диапазоне [74:105] дней."
      ]
    },
    {
      "cell_type": "markdown",
      "metadata": {
        "id": "2Rew4by6kDjI"
      },
      "source": [
        "#### Влияние различных факторов на стоимость квартиры"
      ]
    },
    {
      "cell_type": "markdown",
      "metadata": {
        "id": "WG3vf-u6kDjI"
      },
      "source": [
        "**1)** Влияние площади на стоимость квартиры"
      ]
    },
    {
      "cell_type": "markdown",
      "metadata": {
        "id": "bVhNWMaqkDjI"
      },
      "source": [
        "Рассчитаем коэффициент корреляции между ценой продажи квартиры и ее площадью."
      ]
    },
    {
      "cell_type": "code",
      "metadata": {
        "id": "CtgwS1rhkDjI",
        "colab": {
          "base_uri": "https://localhost:8080/"
        },
        "outputId": "c59ac463-7463-4482-c628-a611caca1635"
      },
      "source": [
        "print(db['last_price'].corr(db['total_area']))\n",
        "print(np.cov(db['last_price'],db['total_area']))"
      ],
      "execution_count": 63,
      "outputs": [
        {
          "output_type": "stream",
          "name": "stdout",
          "text": [
            "0.6536750579657242\n",
            "[[1.18527058e+14 2.53734742e+08]\n",
            " [2.53734742e+08 1.27121363e+03]]\n"
          ]
        }
      ]
    },
    {
      "cell_type": "markdown",
      "metadata": {
        "id": "HHPz5Da1kDjI"
      },
      "source": [
        "Значение коэффициента корреляции позволяет сделать вывод о наличии взаимосвязи цены квартиры и ее площади. Однако его величина показывает, что влияние фактора размера общей площади не является определяющим."
      ]
    },
    {
      "cell_type": "markdown",
      "metadata": {
        "id": "kKnJAfuykDjJ"
      },
      "source": [
        "**2)** Влияние количества комнат на стоимость квартиры"
      ]
    },
    {
      "cell_type": "markdown",
      "metadata": {
        "id": "T9NaOphnkDjJ"
      },
      "source": [
        "Рассчитаем коэффициент корреляции между ценой продажи квартиры и количеством комнат."
      ]
    },
    {
      "cell_type": "code",
      "metadata": {
        "id": "iAXPsM_fkDjJ",
        "colab": {
          "base_uri": "https://localhost:8080/"
        },
        "outputId": "33fe999a-09ac-44aa-9bf0-39532869f5cf"
      },
      "source": [
        "print(db['last_price'].corr(db['rooms']))\n",
        "print(np.cov(db['last_price'],db['rooms']))"
      ],
      "execution_count": 64,
      "outputs": [
        {
          "output_type": "stream",
          "name": "stdout",
          "text": [
            "0.36474617272031684\n",
            "[[1.18527058e+14 4.23634248e+06]\n",
            " [4.23634248e+06 1.13810710e+00]]\n"
          ]
        }
      ]
    },
    {
      "cell_type": "markdown",
      "metadata": {
        "id": "4Zy2SRdXkDjJ"
      },
      "source": [
        "Значение коэффициента корреляции (менее 0.5) позволяет сделать вывод о том, что взаимосвязь стоимости квартиры и количества комнат не очевидна и должна рассматриваться в комплексе факторов."
      ]
    },
    {
      "cell_type": "markdown",
      "metadata": {
        "id": "spX7qqxxkDjK"
      },
      "source": [
        "**3)** Влияние удаленности квартиры от центра на ее стоимость"
      ]
    },
    {
      "cell_type": "code",
      "metadata": {
        "id": "53FK00wOkDjK",
        "colab": {
          "base_uri": "https://localhost:8080/"
        },
        "outputId": "3c685a6d-be57-4990-cab8-3426c6df1e27"
      },
      "source": [
        "print(db['last_price'].corr(db['cityCenters_nearest']))\n",
        "print(np.cov(db['last_price'],db['cityCenters_nearest']))"
      ],
      "execution_count": 65,
      "outputs": [
        {
          "output_type": "stream",
          "name": "stdout",
          "text": [
            "-0.05095199334276184\n",
            "[[ 1.18527058e+14 -5.34461098e+09]\n",
            " [-5.34461098e+09  9.28308519e+07]]\n"
          ]
        }
      ]
    },
    {
      "cell_type": "markdown",
      "metadata": {
        "id": "cEDstDWvkDjK"
      },
      "source": [
        "Значение коэффициента корреляции близкое к 0 в анализируемых данных позволяет заключить, что взаимосвязь стоимости квартиры и ее удаленности от центра отсутствует."
      ]
    },
    {
      "cell_type": "markdown",
      "metadata": {
        "id": "uSTaVynIkDjK"
      },
      "source": [
        "**4)** Влияние стоимости квартиры от ее расположения в этажности дома."
      ]
    },
    {
      "cell_type": "markdown",
      "metadata": {
        "id": "jkU4l6lTkDjL"
      },
      "source": [
        "Для анализа зависимости стоимости квартиры от того, на каком этаже расположена квартира: первом, последнем или другом, применим Anova Test для определения наличия статистически значимой взаимосвязи. Рассчитаем уровень значимости (коэффициент р) гипотезы о том, что стоимость квартиры не зависит от ее расположения в этажности дома."
      ]
    },
    {
      "cell_type": "code",
      "metadata": {
        "id": "DSCPLmJUkDjL",
        "colab": {
          "base_uri": "https://localhost:8080/"
        },
        "outputId": "5c330650-5a96-401e-c998-02a458930a07"
      },
      "source": [
        "model = ols('last_price~floor_type', data = db).fit()\n",
        "result_anova = sm.stats.anova_lm(model)\n",
        "print('Коэффициент р равен: ', result_anova.loc['floor_type','PR(>F)'])"
      ],
      "execution_count": 66,
      "outputs": [
        {
          "output_type": "stream",
          "name": "stdout",
          "text": [
            "Коэффициент р равен:  1.4158007183811627e-21\n"
          ]
        }
      ]
    },
    {
      "cell_type": "markdown",
      "metadata": {
        "id": "gDE8F9DRkDjL"
      },
      "source": [
        "Так как значение P составляет менее 0.05, предполагаем, что существует значительные различия в среднем групп, образованных каждым уровнем типа этажа. Следовательно, делаем вывод о существовании зависимости цены квартиры от того, на каком этаже она расположена. "
      ]
    },
    {
      "cell_type": "code",
      "metadata": {
        "id": "o43FEXwzkDjL",
        "colab": {
          "base_uri": "https://localhost:8080/"
        },
        "outputId": "b2e76fc2-356d-443d-9a81-4c04f3ea6ef3"
      },
      "source": [
        "pivot_floor_type=db.pivot_table(index='floor_type', values='price_per_sqmeter')\n",
        "pd.options.display.float_format = '{:.2f} руб.'.format\n",
        "print(pivot_floor_type)"
      ],
      "execution_count": 67,
      "outputs": [
        {
          "output_type": "stream",
          "name": "stdout",
          "text": [
            "            price_per_sqmeter\n",
            "floor_type                   \n",
            "first           81983.56 руб.\n",
            "last            93749.37 руб.\n",
            "other          103468.22 руб.\n"
          ]
        }
      ]
    },
    {
      "cell_type": "markdown",
      "metadata": {
        "id": "AkEKFDwlkDjM"
      },
      "source": [
        "Можно сделать вывод о том, что средняя стоимость квадратного метра квартир, находящихся на этажах отличных от первого и последнего, соответственно на 20,8% и 9,4% выше."
      ]
    },
    {
      "cell_type": "markdown",
      "metadata": {
        "id": "0dKE75b9kDjM"
      },
      "source": [
        "**5)** Зависимость стоимости квартиры от дня недели публикации объявления."
      ]
    },
    {
      "cell_type": "markdown",
      "metadata": {
        "id": "QcyxFqPXkDjM"
      },
      "source": [
        "Так как день недели тоже является категориальной переменной, для анализа зависимости стоимости квартиры так же применим метод наименьших квадратов для определения наличия статистически значимой взаимосвязи. Рассчитаем уровень значимости гипотезы о том, что стоимость квартиры не зависит от дня недели публикации объявления."
      ]
    },
    {
      "cell_type": "code",
      "metadata": {
        "id": "_y7cFc1zkDjM",
        "colab": {
          "base_uri": "https://localhost:8080/"
        },
        "outputId": "03d92c3b-4b2d-48ad-a809-98f00ac074c4"
      },
      "source": [
        "model = ols('last_price~weekday_published', data = db).fit()\n",
        "result_anova = sm.stats.anova_lm(model)\n",
        "print('Коэффициент р равен: ', result_anova.loc['weekday_published','PR(>F)'])"
      ],
      "execution_count": 68,
      "outputs": [
        {
          "output_type": "stream",
          "name": "stdout",
          "text": [
            "Коэффициент р равен:  0.28805783557605447\n"
          ]
        }
      ]
    },
    {
      "cell_type": "markdown",
      "metadata": {
        "id": "aUa1WfQ-kDjN"
      },
      "source": [
        "Так как значение P составляет более 0.05, предполагаем, что не существует значительных различий в среднем групп, образованных каждым уровнем дня недели публикации объявления. Следовательно, подтверждаем вывод об отсутствии зависимости цены квартиры от дня недели публикации объявления. Данное заключение согласуется с априори выводом, что, если время от даты публикации до даты снятия объявления находится в интервале 2.5-3.5 месяцев, не должно быть прямой зависимости между днем недели размещения и стоимостью квартиры."
      ]
    },
    {
      "cell_type": "code",
      "metadata": {
        "id": "NZcrYCipkDjN",
        "colab": {
          "base_uri": "https://localhost:8080/",
          "height": 339
        },
        "outputId": "99872d17-e014-40bd-e7ee-4eccdf21afff"
      },
      "source": [
        "pivot_weekday_published=db.pivot_table(index='weekday_published', values='price_per_sqmeter')\n",
        "pivot_weekday_published.plot(grid=True, figsize=(15,5),ylim=(90000,110000), ylabel='price_per_sqmeter');"
      ],
      "execution_count": 69,
      "outputs": [
        {
          "output_type": "display_data",
          "data": {
            "image/png": "[encoded data removed]",
            "text/plain": [
              "<Figure size 1080x360 with 1 Axes>"
            ]
          },
          "metadata": {
            "needs_background": "light"
          }
        }
      ]
    },
    {
      "cell_type": "markdown",
      "metadata": {
        "id": "K6EEnfqvkDjN"
      },
      "source": [
        "Форма графика зависимости средней стоимости квадратного метра квартиры от дня недели публикации приближается к прямой линии без ярко выраженного наклона к оси х. Это подтверждает вышеприведенный вывод."
      ]
    },
    {
      "cell_type": "markdown",
      "metadata": {
        "id": "BeaYilANkDjN"
      },
      "source": [
        "**6)** Взаимосвязь стоимости квартиры и месяца публикации объявления."
      ]
    },
    {
      "cell_type": "markdown",
      "metadata": {
        "id": "4AJhBV2NkDjO"
      },
      "source": [
        "Для анализа зависимости стоимости квартиры от месяца публикации применим Anova Test для определения наличия статистически значимой взаимосвязи. Рассчитаем уровень значимости гипотезы о том, что стоимость квартиры не зависит от месяца публикации объявления."
      ]
    },
    {
      "cell_type": "code",
      "metadata": {
        "id": "hNJplNvvkDjO",
        "colab": {
          "base_uri": "https://localhost:8080/"
        },
        "outputId": "dc00768f-323d-43e9-c75e-80939c0a3dea"
      },
      "source": [
        "model = ols('last_price~month_published', data = db).fit()\n",
        "result_anova = sm.stats.anova_lm(model)\n",
        "print('Коэффициент р равен: ', result_anova.loc['month_published','PR(>F)'])"
      ],
      "execution_count": 70,
      "outputs": [
        {
          "output_type": "stream",
          "name": "stdout",
          "text": [
            "Коэффициент р равен:  0.5690795172121447\n"
          ]
        }
      ]
    },
    {
      "cell_type": "markdown",
      "metadata": {
        "id": "NqjU87qfkDjO"
      },
      "source": [
        "Так как значение P составляет более 0.05, предполагаем, что не существует значительных различий в среднем групп, образованных каждым уровнем месяца публикации объявления. Следовательно, делаем вывод об отсутствии зависимости цены квартиры от месяца публикации объявления."
      ]
    },
    {
      "cell_type": "code",
      "metadata": {
        "id": "G67RUdXHkDjP",
        "colab": {
          "base_uri": "https://localhost:8080/",
          "height": 339
        },
        "outputId": "0a73cd2c-78a9-4e22-816b-c742d85a039e"
      },
      "source": [
        "pivot_month_published=db.pivot_table(index='month_published', values='price_per_sqmeter')\n",
        "pivot_month_published.plot(grid=True, figsize=(15,5),ylim=(90000,110000), ylabel='price_per_sqmeter');"
      ],
      "execution_count": 71,
      "outputs": [
        {
          "output_type": "display_data",
          "data": {
            "image/png": "[encoded data removed]",
            "text/plain": [
              "<Figure size 1080x360 with 1 Axes>"
            ]
          },
          "metadata": {
            "needs_background": "light"
          }
        }
      ]
    },
    {
      "cell_type": "markdown",
      "metadata": {
        "id": "TZXFmAGlkDjP"
      },
      "source": [
        "Форма графика зависимости средней стоимости квадратного метра квартиры от месяца публикации приближается к прямой линии без ярко выраженного наклона к оси х. Это свидетельствует о том, что зависимость стоимости жилья от временного фактора следует рассматривать в комплексе, например от связки месяц-год публикации."
      ]
    },
    {
      "cell_type": "markdown",
      "metadata": {
        "id": "tEiX5KyCkDjP"
      },
      "source": [
        "**7)** Зависимость стоимости квартиры от года публикации объявления."
      ]
    },
    {
      "cell_type": "markdown",
      "metadata": {
        "id": "i-U5H-QtkDjQ"
      },
      "source": [
        "Для анализа зависимости стоимости квартиры от года публикации рассчитаем коэффициент значимости р по методу наименьших квадратов (Anova Test). Он продемострирует уровень значимости гипотезы о том, что стоимость квартиры не зависит от года публикации объявления."
      ]
    },
    {
      "cell_type": "code",
      "metadata": {
        "id": "hTXiOPEdkDjQ",
        "colab": {
          "base_uri": "https://localhost:8080/"
        },
        "outputId": "9a6cfd9e-3c8f-4fb7-ae17-189b479be589"
      },
      "source": [
        "model = ols('last_price~year_published', data = db).fit()\n",
        "result_anova = sm.stats.anova_lm(model)\n",
        "print('Коэффициент р равен: ', result_anova.loc['year_published','PR(>F)'])"
      ],
      "execution_count": 72,
      "outputs": [
        {
          "output_type": "stream",
          "name": "stdout",
          "text": [
            "Коэффициент р равен:  3.2216805249645355e-11\n"
          ]
        }
      ]
    },
    {
      "cell_type": "markdown",
      "metadata": {
        "id": "Hij_REMgkDjQ"
      },
      "source": [
        "Так как значение P составляет значительно меньше порогового значения 0.05, предполагаем, что существует значительные различия в среднем групп, образованных каждым уровнем года публикации объявления. Это согласуется с известным утверждением, что стоимость недвижимости, находящаяся под влиянием макроэкономических факторов, зависит от фактора времени."
      ]
    },
    {
      "cell_type": "code",
      "metadata": {
        "id": "GfruNSeHkDjQ",
        "colab": {
          "base_uri": "https://localhost:8080/",
          "height": 339
        },
        "outputId": "d885fde9-b1d1-4a20-eece-e444c59b05d6"
      },
      "source": [
        "pivot_year_published=db.pivot_table(index='year_published', values='price_per_sqmeter')\n",
        "pivot_year_published.plot(grid=True, figsize=(15,5),ylim=(90000,130000),style=\"o-\", ylabel='price_per_sqmeter');"
      ],
      "execution_count": 73,
      "outputs": [
        {
          "output_type": "display_data",
          "data": {
            "image/png": "[encoded data removed]",
            "text/plain": [
              "<Figure size 1080x360 with 1 Axes>"
            ]
          },
          "metadata": {
            "needs_background": "light"
          }
        }
      ]
    },
    {
      "cell_type": "markdown",
      "metadata": {
        "id": "1pEs9u8GkDjR"
      },
      "source": [
        "На графике зависимости средней стоимости квадратного метра жилья от года публикации объявления прослеживается ее зависимость от макроэкономической ситуации и кризисных явлений в экономике."
      ]
    },
    {
      "cell_type": "markdown",
      "metadata": {
        "id": "5zFnYyW3kDjR"
      },
      "source": [
        "#### Анализ населённых пунктов с наибольшим числом объявлений."
      ]
    },
    {
      "cell_type": "markdown",
      "metadata": {
        "id": "7vURLKiTkDjR"
      },
      "source": [
        "Определим 10 населённых пунктов с наибольшим числом объявлений."
      ]
    },
    {
      "cell_type": "code",
      "metadata": {
        "id": "AKaSeZf3kDjS",
        "colab": {
          "base_uri": "https://localhost:8080/"
        },
        "outputId": "4dfab262-3da9-49cd-9ea6-8febd02d215b"
      },
      "source": [
        "top_10_locations_name = list(db.groupby('locality_name')['last_price'].count().sort_values(ascending=False).head(10).index)\n",
        "print(top_10_locations_name)"
      ],
      "execution_count": 74,
      "outputs": [
        {
          "output_type": "stream",
          "name": "stdout",
          "text": [
            "['Санкт-Петербург', 'поселок Мурино', 'поселок Шушары', 'Всеволожск', 'Пушкин', 'Колпино', 'поселок Парголово', 'Гатчина', 'деревня Кудрово', 'Выборг']\n"
          ]
        }
      ]
    },
    {
      "cell_type": "markdown",
      "metadata": {
        "id": "CoZzFF_xkDjS"
      },
      "source": [
        "Исключим из исследования объявления содержащие абсолютно нетипичные данные: квартира с общей стоимостью кратно ниже стоимости квадратного метра и объект недвижимости максимальной стоимости, превышающей предыдущую в упорядоченом ряду почти в 2 раза ."
      ]
    },
    {
      "cell_type": "code",
      "metadata": {
        "id": "f9q5w2awkDjS",
        "colab": {
          "base_uri": "https://localhost:8080/"
        },
        "outputId": "e5f59cb0-cc5e-4df6-995a-755031f1bc3c"
      },
      "source": [
        "min_last_price=db['last_price'].min()\n",
        "min_last_price_loc=list(db.query('last_price==@min_last_price')['locality_name'])\n",
        "print('Наименьшая стоимость квартиры {} руб. зафиксирована в {}'.format(min_last_price,min_last_price_loc[0]))\n",
        "max_last_price=db['last_price'].max()\n",
        "max_last_price_loc=list(db.query('last_price==@max_last_price')['locality_name'])\n",
        "print('Наибольшая стоимость квартиры {} руб. зафиксирована в {}'.format(max_last_price,max_last_price_loc[0]))"
      ],
      "execution_count": 75,
      "outputs": [
        {
          "output_type": "stream",
          "name": "stdout",
          "text": [
            "Наименьшая стоимость квартиры 12190.0 руб. зафиксирована в Санкт-Петербург\n",
            "Наибольшая стоимость квартиры 763000000.0 руб. зафиксирована в Санкт-Петербург\n"
          ]
        }
      ]
    },
    {
      "cell_type": "markdown",
      "metadata": {
        "id": "FTs5jULnkDjT"
      },
      "source": [
        "Получим информацию о максимальной и минимальной стоимости жилья, а так же о  средней стоимости одного квадатного метра для 10 населённых пунктов с наибольшим числом объявлений."
      ]
    },
    {
      "cell_type": "code",
      "metadata": {
        "id": "2f7ebXP-kDjT",
        "colab": {
          "base_uri": "https://localhost:8080/",
          "height": 390
        },
        "outputId": "6d80c873-5ba0-417b-9cb4-a7851c935743"
      },
      "source": [
        "top_10_locations=db.query('locality_name in @top_10_locations_name and last_price > @min_last_price and last_price < @max_last_price')\n",
        "top_10_locations_pivot=top_10_locations.pivot_table(index='locality_name',aggfunc={'last_price':['count',min,max],'price_per_sqmeter':'mean'})\n",
        "top_10_locations_pivot.columns=['publications_count','last_price_max','last_price_min','price_per_sqmeter_mean']\n",
        "top_10_locations_pivot.sort_values(by='publications_count',ascending=False)"
      ],
      "execution_count": 76,
      "outputs": [
        {
          "output_type": "execute_result",
          "data": {
            "text/html": [
              "<div>\n",
              "<style scoped>\n",
              "    .dataframe tbody tr th:only-of-type {\n",
              "        vertical-align: middle;\n",
              "    }\n",
              "\n",
              "    .dataframe tbody tr th {\n",
              "        vertical-align: top;\n",
              "    }\n",
              "\n",
              "    .dataframe thead th {\n",
              "        text-align: right;\n",
              "    }\n",
              "</style>\n",
              "<table border=\"1\" class=\"dataframe\">\n",
              "  <thead>\n",
              "    <tr style=\"text-align: right;\">\n",
              "      <th></th>\n",
              "      <th>publications_count</th>\n",
              "      <th>last_price_max</th>\n",
              "      <th>last_price_min</th>\n",
              "      <th>price_per_sqmeter_mean</th>\n",
              "    </tr>\n",
              "    <tr>\n",
              "      <th>locality_name</th>\n",
              "      <th></th>\n",
              "      <th></th>\n",
              "      <th></th>\n",
              "      <th></th>\n",
              "    </tr>\n",
              "  </thead>\n",
              "  <tbody>\n",
              "    <tr>\n",
              "      <th>Санкт-Петербург</th>\n",
              "      <td>15719</td>\n",
              "      <td>420000000.00 руб.</td>\n",
              "      <td>1190000.00 руб.</td>\n",
              "      <td>114742.26 руб.</td>\n",
              "    </tr>\n",
              "    <tr>\n",
              "      <th>поселок Мурино</th>\n",
              "      <td>556</td>\n",
              "      <td>8500000.00 руб.</td>\n",
              "      <td>1730000.00 руб.</td>\n",
              "      <td>85681.76 руб.</td>\n",
              "    </tr>\n",
              "    <tr>\n",
              "      <th>поселок Шушары</th>\n",
              "      <td>440</td>\n",
              "      <td>10990000.00 руб.</td>\n",
              "      <td>1500000.00 руб.</td>\n",
              "      <td>78677.36 руб.</td>\n",
              "    </tr>\n",
              "    <tr>\n",
              "      <th>Всеволожск</th>\n",
              "      <td>398</td>\n",
              "      <td>24412900.00 руб.</td>\n",
              "      <td>965780.00 руб.</td>\n",
              "      <td>68654.47 руб.</td>\n",
              "    </tr>\n",
              "    <tr>\n",
              "      <th>Пушкин</th>\n",
              "      <td>369</td>\n",
              "      <td>42000000.00 руб.</td>\n",
              "      <td>1990000.00 руб.</td>\n",
              "      <td>103125.82 руб.</td>\n",
              "    </tr>\n",
              "    <tr>\n",
              "      <th>Колпино</th>\n",
              "      <td>338</td>\n",
              "      <td>36900000.00 руб.</td>\n",
              "      <td>2100000.00 руб.</td>\n",
              "      <td>75424.58 руб.</td>\n",
              "    </tr>\n",
              "    <tr>\n",
              "      <th>поселок Парголово</th>\n",
              "      <td>327</td>\n",
              "      <td>9140000.00 руб.</td>\n",
              "      <td>1400000.00 руб.</td>\n",
              "      <td>90175.91 руб.</td>\n",
              "    </tr>\n",
              "    <tr>\n",
              "      <th>Гатчина</th>\n",
              "      <td>307</td>\n",
              "      <td>13900000.00 руб.</td>\n",
              "      <td>850000.00 руб.</td>\n",
              "      <td>68746.15 руб.</td>\n",
              "    </tr>\n",
              "    <tr>\n",
              "      <th>деревня Кудрово</th>\n",
              "      <td>299</td>\n",
              "      <td>13000000.00 руб.</td>\n",
              "      <td>1800000.00 руб.</td>\n",
              "      <td>92473.55 руб.</td>\n",
              "    </tr>\n",
              "    <tr>\n",
              "      <th>Выборг</th>\n",
              "      <td>237</td>\n",
              "      <td>19990000.00 руб.</td>\n",
              "      <td>600000.00 руб.</td>\n",
              "      <td>58141.91 руб.</td>\n",
              "    </tr>\n",
              "  </tbody>\n",
              "</table>\n",
              "</div>"
            ],
            "text/plain": [
              "                   publications_count  ...  price_per_sqmeter_mean\n",
              "locality_name                          ...                        \n",
              "Санкт-Петербург                 15719  ...          114742.26 руб.\n",
              "поселок Мурино                    556  ...           85681.76 руб.\n",
              "поселок Шушары                    440  ...           78677.36 руб.\n",
              "Всеволожск                        398  ...           68654.47 руб.\n",
              "Пушкин                            369  ...          103125.82 руб.\n",
              "Колпино                           338  ...           75424.58 руб.\n",
              "поселок Парголово                 327  ...           90175.91 руб.\n",
              "Гатчина                           307  ...           68746.15 руб.\n",
              "деревня Кудрово                   299  ...           92473.55 руб.\n",
              "Выборг                            237  ...           58141.91 руб.\n",
              "\n",
              "[10 rows x 4 columns]"
            ]
          },
          "metadata": {},
          "execution_count": 76
        }
      ]
    },
    {
      "cell_type": "markdown",
      "metadata": {
        "id": "HfkXhWVgkDjT"
      },
      "source": [
        "Определим населенные пункты из ТОП10 в которых зафиксирована самая высокая и самая низкая стоимость жилья."
      ]
    },
    {
      "cell_type": "code",
      "metadata": {
        "id": "ep6I-GWWkDjT",
        "colab": {
          "base_uri": "https://localhost:8080/"
        },
        "outputId": "977d51fa-a6dc-498b-f3a8-1e916d5da53d"
      },
      "source": [
        "print('Населенный пункт с самой высокой стоимостью жилья:',list(top_10_locations_pivot.query('last_price_max==last_price_max.max()').index)[0])\n",
        "print('Населенный пункт с самой низкой стоимостью жилья:',list(top_10_locations_pivot.query('last_price_min==last_price_min.min()').index)[0])"
      ],
      "execution_count": 77,
      "outputs": [
        {
          "output_type": "stream",
          "name": "stdout",
          "text": [
            "Населенный пункт с самой высокой стоимостью жилья: Санкт-Петербург\n",
            "Населенный пункт с самой низкой стоимостью жилья: Выборг\n"
          ]
        }
      ]
    },
    {
      "cell_type": "markdown",
      "metadata": {
        "id": "gRa-RzJpkDjU"
      },
      "source": [
        "#### Анализ квартир в Санкт-Петербурге"
      ]
    },
    {
      "cell_type": "markdown",
      "metadata": {
        "id": "LzytTI_-kDjU"
      },
      "source": [
        "Изучим предложения квартир в Санкт-Петербурге. Создадим выборку объявлений в Санкт-Петербурге, у которых известно расстояние до центра города, и расчитаем удаленность в километрах."
      ]
    },
    {
      "cell_type": "code",
      "metadata": {
        "id": "p37OSCqCkDjU"
      },
      "source": [
        "whole_SPB = top_10_locations.query('locality_name==\"Санкт-Петербург\" and cityCenters_nearest>0')\n",
        "whole_SPB['cityCenters_nearest_km']=(whole_SPB['cityCenters_nearest']/1000).round(0).astype('int')"
      ],
      "execution_count": 78,
      "outputs": []
    },
    {
      "cell_type": "markdown",
      "metadata": {
        "id": "pSV5CpD6kDjV"
      },
      "source": [
        "Чтобы определить радиус центральной зоны города, построим график зависимости цены за квадратный метр от удаленности от центра."
      ]
    },
    {
      "cell_type": "code",
      "metadata": {
        "id": "I5vK8uR5kDjV",
        "colab": {
          "base_uri": "https://localhost:8080/",
          "height": 335
        },
        "outputId": "3a2966ad-3bc9-4d4f-b311-20a1b88aac31"
      },
      "source": [
        "whole_SPB_pivot=whole_SPB.pivot_table(index='cityCenters_nearest_km',values='price_per_sqmeter')\n",
        "whole_SPB_pivot.plot(grid=True, figsize=(15,5), ylabel='price_per_sqmeter');"
      ],
      "execution_count": 79,
      "outputs": [
        {
          "output_type": "display_data",
          "data": {
            "image/png": "[encoded data removed]",
            "text/plain": [
              "<Figure size 1080x360 with 1 Axes>"
            ]
          },
          "metadata": {
            "needs_background": "light"
          }
        }
      ]
    },
    {
      "cell_type": "markdown",
      "metadata": {
        "id": "Y5zqQeibkDjW"
      },
      "source": [
        "Излом на графике на отметке 3х километров свидетельствует о неоднородности стоимости кв.м. в центральной зоне. Однако граница центральной зоны пролегает в районе 7-8 км: после этой отметки наблюдается устойчивый понижающийся тренд."
      ]
    },
    {
      "cell_type": "code",
      "metadata": {
        "id": "INhXDPL6kDjW",
        "colab": {
          "base_uri": "https://localhost:8080/",
          "height": 335
        },
        "outputId": "6d353621-e0f7-4ae4-9ff9-c4f2879a5380"
      },
      "source": [
        "whole_SPB_pivot.query('index>5 and index<10').plot(grid=True, figsize=(15,5), ylabel='price_per_sqmeter');"
      ],
      "execution_count": 80,
      "outputs": [
        {
          "output_type": "display_data",
          "data": {
            "image/png": "[encoded data removed]",
            "text/plain": [
              "<Figure size 1080x360 with 1 Axes>"
            ]
          },
          "metadata": {
            "needs_background": "light"
          }
        }
      ]
    },
    {
      "cell_type": "markdown",
      "metadata": {
        "id": "GiCHP3pUkDjX"
      },
      "source": [
        "Граница центральной зоны пролегает на отметке 7 км."
      ]
    },
    {
      "cell_type": "markdown",
      "metadata": {
        "id": "ygVb-NcVkDjX"
      },
      "source": [
        "#### Анализ сегмента квартир в центре."
      ]
    },
    {
      "cell_type": "markdown",
      "metadata": {
        "id": "8CWwV0FokDjX"
      },
      "source": [
        "Создадим выборку объектов недвижимости, предлагаемой для продажи в центре г. Санкт-Петербурга."
      ]
    },
    {
      "cell_type": "code",
      "metadata": {
        "id": "sN9sCab7kDjX"
      },
      "source": [
        "center_SPB=whole_SPB.query('cityCenters_nearest_km<=7')"
      ],
      "execution_count": 81,
      "outputs": []
    },
    {
      "cell_type": "markdown",
      "metadata": {
        "id": "mNRSoh8ckDjY"
      },
      "source": [
        "Проанализируем данные об общей площади для всего города и объектов в центре."
      ]
    },
    {
      "cell_type": "code",
      "metadata": {
        "id": "4bjEHEpckDjY",
        "colab": {
          "base_uri": "https://localhost:8080/"
        },
        "outputId": "2db70317-a945-47f0-9a48-20e50418d4c3"
      },
      "source": [
        "whole_SPB_total_area=pd.DataFrame(whole_SPB['total_area'].describe().apply(lambda x: format(x, '.1f')))\n",
        "center_SPB_total_area=pd.DataFrame(center_SPB['total_area'].describe().apply(lambda x: format(x, '.1f')))\n",
        "center_SPB_total_area.columns=['center_SPB']\n",
        "print(whole_SPB_total_area.join(center_SPB_total_area))"
      ],
      "execution_count": 82,
      "outputs": [
        {
          "output_type": "stream",
          "name": "stdout",
          "text": [
            "      total_area center_SPB\n",
            "count    15658.0     3524.0\n",
            "mean        64.6       93.1\n",
            "std         40.1       59.3\n",
            "min         12.0       12.0\n",
            "25%         42.0       57.0\n",
            "50%         55.0       78.7\n",
            "75%         74.5      110.0\n",
            "max        900.0      631.2\n"
          ]
        }
      ]
    },
    {
      "cell_type": "markdown",
      "metadata": {
        "id": "aFyM7YzbkDjY"
      },
      "source": [
        "Квартиры, предлагаемые в центре Санкт-Питербурга в среднем больше по площади, чем в объявлениях по всему городу."
      ]
    },
    {
      "cell_type": "markdown",
      "metadata": {
        "id": "Zdxnmh7nkDjY"
      },
      "source": [
        "Так же квартиры, предлагаемые в центре Санкт-Питербурга дороже, чем  в среднем по городу:"
      ]
    },
    {
      "cell_type": "code",
      "metadata": {
        "id": "JfbWRF6nkDjY",
        "colab": {
          "base_uri": "https://localhost:8080/"
        },
        "outputId": "fa876712-f57a-48bd-fca9-1e0c184a0ac2"
      },
      "source": [
        "whole_SPB_last_price=pd.DataFrame(whole_SPB['last_price'].describe().apply(lambda x: format(x, '.1f')))\n",
        "center_SPB_last_price=pd.DataFrame(center_SPB['last_price'].describe().apply(lambda x: format(x, '.1f')))\n",
        "center_SPB_last_price.columns=['center_SPB']\n",
        "print(whole_SPB_last_price.join(center_SPB_last_price))"
      ],
      "execution_count": 83,
      "outputs": [
        {
          "output_type": "stream",
          "name": "stdout",
          "text": [
            "        last_price   center_SPB\n",
            "count      15658.0       3524.0\n",
            "mean     7985079.2   14683241.0\n",
            "std     11481797.4   20803138.8\n",
            "min      1190000.0    1600000.0\n",
            "25%      4200000.0    6682500.0\n",
            "50%      5500000.0    9200000.0\n",
            "75%      8124250.0   14500000.0\n",
            "max    420000000.0  401300000.0\n"
          ]
        }
      ]
    },
    {
      "cell_type": "markdown",
      "metadata": {
        "id": "LcxPF-7dkDjZ"
      },
      "source": [
        "Логично, что большие по площади, чем в среднем по городу, объекты в центре имеют и большее количество комнат. Предлагаются, в основном, 3х-комнатные квартиры."
      ]
    },
    {
      "cell_type": "code",
      "metadata": {
        "id": "dAWZ1xT8kDjZ",
        "colab": {
          "base_uri": "https://localhost:8080/"
        },
        "outputId": "eaf2b4e3-22af-4a7f-9179-8b22ab1f807f"
      },
      "source": [
        "whole_SPB_rooms=pd.DataFrame(whole_SPB['rooms'].describe().apply(lambda x: format(x, '.1f')))\n",
        "center_SPB_rooms=pd.DataFrame(center_SPB['rooms'].describe().apply(lambda x: format(x, '.1f')))\n",
        "center_SPB_rooms.columns=['center_SPB']\n",
        "print(whole_SPB_rooms.join(center_SPB_rooms))"
      ],
      "execution_count": 84,
      "outputs": [
        {
          "output_type": "stream",
          "name": "stdout",
          "text": [
            "         rooms center_SPB\n",
            "count  15658.0     3524.0\n",
            "mean       2.2        2.8\n",
            "std        1.1        1.4\n",
            "min        0.0        0.0\n",
            "25%        1.0        2.0\n",
            "50%        2.0        3.0\n",
            "75%        3.0        3.0\n",
            "max       19.0       19.0\n"
          ]
        }
      ]
    },
    {
      "cell_type": "markdown",
      "metadata": {
        "id": "8g9DwdrRkDjZ"
      },
      "source": [
        "Проанализируем высоту потолков для квартир в центре (для которых она известна)."
      ]
    },
    {
      "cell_type": "code",
      "metadata": {
        "id": "ON6ntQCykDja",
        "colab": {
          "base_uri": "https://localhost:8080/"
        },
        "outputId": "6802b637-ab8b-4893-a6ba-d42bea5dac95"
      },
      "source": [
        "whole_SPB_ceiling_height=pd.DataFrame(whole_SPB.query('ceiling_height>0')['ceiling_height'].describe().apply(lambda x: format(x, '.1f')))\n",
        "center_SPB_ceiling_height=pd.DataFrame(center_SPB.query('ceiling_height>0')['ceiling_height'].describe().apply(lambda x: format(x, '.1f')))\n",
        "center_SPB_ceiling_height.columns=['center_SPB']\n",
        "print(whole_SPB_ceiling_height.join(center_SPB_ceiling_height))"
      ],
      "execution_count": 85,
      "outputs": [
        {
          "output_type": "stream",
          "name": "stdout",
          "text": [
            "      ceiling_height center_SPB\n",
            "count        10056.0     2284.0\n",
            "mean             2.8        3.1\n",
            "std              0.3        0.4\n",
            "min              2.0        2.4\n",
            "25%              2.5        2.8\n",
            "50%              2.7        3.0\n",
            "75%              2.9        3.3\n",
            "max             10.3        6.0\n"
          ]
        }
      ]
    },
    {
      "cell_type": "markdown",
      "metadata": {
        "id": "e0JM8CnmkDja"
      },
      "source": [
        "Высота потолков в квартирах цетрального района Санкт-Петербурга существенно превышает этот показатель в данных по всему городу. Возможно, в результате влияния года постройки домов в центре."
      ]
    },
    {
      "cell_type": "markdown",
      "metadata": {
        "id": "kdbcsdCnkDjb"
      },
      "source": [
        "Проанализируем влияние на стоимость квартир количества комнат:"
      ]
    },
    {
      "cell_type": "code",
      "metadata": {
        "id": "Y9G3kcRekDjb",
        "colab": {
          "base_uri": "https://localhost:8080/"
        },
        "outputId": "25873746-a047-42a9-b35e-da9d7ef89b47"
      },
      "source": [
        "print('Коэффициент корреляции Пирсона для всего города равен: ', whole_SPB['last_price'].corr(whole_SPB['rooms']))\n",
        "print('Коэффициент корреляции Пирсона для центра равен: ',  center_SPB['last_price'].corr(center_SPB['rooms']))"
      ],
      "execution_count": 86,
      "outputs": [
        {
          "output_type": "stream",
          "name": "stdout",
          "text": [
            "Коэффициент корреляции Пирсона для всего города равен:  0.40298103533169627\n",
            "Коэффициент корреляции Пирсона для центра равен:  0.339266549250565\n"
          ]
        }
      ]
    },
    {
      "cell_type": "markdown",
      "metadata": {
        "id": "Sg4ZqEBqkDjb"
      },
      "source": [
        "Значения коэффициента корреляции свидетельствуют о наличии определенного взаимного влияния факторов. В среднем по городу данные демонстрируют более устойчивую взаимосвязь стоимости квартир и количества комнат."
      ]
    },
    {
      "cell_type": "code",
      "metadata": {
        "id": "tvneQIehkDjb",
        "colab": {
          "base_uri": "https://localhost:8080/",
          "height": 334
        },
        "outputId": "739091a4-2b71-4238-acb6-c43980e25ee0"
      },
      "source": [
        "ax1=whole_SPB.pivot_table(index='rooms',values='price_per_sqmeter').rename({'price_per_sqmeter':'whole_SPB'},axis=1).plot(grid=True, figsize=(15,5), ylabel='price_per_sqmeter');\n",
        "center_SPB.pivot_table(index='rooms',values='price_per_sqmeter').rename({'price_per_sqmeter':'center_SPB'},axis=1).plot(grid=True, figsize=(15,5),ax=ax1,label='center_SPB');"
      ],
      "execution_count": 87,
      "outputs": [
        {
          "output_type": "display_data",
          "data": {
            "image/png": "[encoded data removed]",
            "text/plain": [
              "<Figure size 1080x360 with 1 Axes>"
            ]
          },
          "metadata": {
            "needs_background": "light"
          }
        }
      ]
    },
    {
      "cell_type": "markdown",
      "metadata": {
        "id": "2bfKckNfkDjc"
      },
      "source": [
        "Исключая аномальный всплеск в данных по городу для 12-ти комнатных объектов, средняя стоимость квадратного метра для обеих выборок демонстрируют небольшой понижающийся тренд в правую сторону."
      ]
    },
    {
      "cell_type": "markdown",
      "metadata": {
        "id": "anQ1chu8kDjc"
      },
      "source": [
        "Проанализируем зависимость стоимости квартир от этажа расположения:"
      ]
    },
    {
      "cell_type": "code",
      "metadata": {
        "id": "rRTD7bPskDjc",
        "colab": {
          "base_uri": "https://localhost:8080/"
        },
        "outputId": "e594f8b2-7047-4b20-9319-8de24a4fcd20"
      },
      "source": [
        "print('Коэффициент корреляции Пирсона для всего города равен: ', whole_SPB['last_price'].corr(whole_SPB['floor']))\n",
        "print('Коэффициент корреляции Пирсона для центра равен: ',  center_SPB['last_price'].corr(center_SPB['floor']))"
      ],
      "execution_count": 88,
      "outputs": [
        {
          "output_type": "stream",
          "name": "stdout",
          "text": [
            "Коэффициент корреляции Пирсона для всего города равен:  -0.00342670064734797\n",
            "Коэффициент корреляции Пирсона для центра равен:  0.10697243595364522\n"
          ]
        }
      ]
    },
    {
      "cell_type": "markdown",
      "metadata": {
        "id": "uWNVhAQIkDjc"
      },
      "source": [
        "Низкие значения коэффициента корреляции свидетельствуют об отсутствии взаимного влияния факторов. Хотя примечательно их соотношение для квартир в центре и в среднем по городу."
      ]
    },
    {
      "cell_type": "code",
      "metadata": {
        "id": "rO57PvJbkDjc",
        "colab": {
          "base_uri": "https://localhost:8080/",
          "height": 345
        },
        "outputId": "4c588c58-a8b6-41e6-8064-ff21aa7182d8"
      },
      "source": [
        "ax1=whole_SPB.pivot_table(index='floor',values='last_price').rename({'price_per_sqmeter':'whole_SPB'},axis=1).plot(grid=True, figsize=(15,5));\n",
        "center_SPB.pivot_table(index='floor',values='last_price').rename({'price_per_sqmeter':'center_SPB'},axis=1).plot(grid=True, figsize=(15,5),ax=ax1);"
      ],
      "execution_count": 89,
      "outputs": [
        {
          "output_type": "display_data",
          "data": {
            "image/png": "[encoded data removed]",
            "text/plain": [
              "<Figure size 1080x360 with 1 Axes>"
            ]
          },
          "metadata": {
            "needs_background": "light"
          }
        }
      ]
    },
    {
      "cell_type": "markdown",
      "metadata": {
        "id": "oTjDnoF4kDjd"
      },
      "source": [
        "Характер графика зависимости стоимости квартиры от этажа показывает бОльшую взаимосвязь для объектов в центре города."
      ]
    },
    {
      "cell_type": "markdown",
      "metadata": {
        "id": "v5DD1w0dkDjd"
      },
      "source": [
        "Проанализируем зависимость стоимости квартир от удаленности от центра:"
      ]
    },
    {
      "cell_type": "code",
      "metadata": {
        "id": "tCZIuFPKkDjd",
        "colab": {
          "base_uri": "https://localhost:8080/"
        },
        "outputId": "e918222f-0954-4176-f7c7-fb997fdb5cf6"
      },
      "source": [
        "print('Коэффициент корреляции Пирсона для всего города равен: ', whole_SPB['last_price'].corr(whole_SPB['cityCenters_nearest']))\n",
        "print('Коэффициент корреляции Пирсона для центра равен: ',  center_SPB['last_price'].corr(center_SPB['cityCenters_nearest']))"
      ],
      "execution_count": 90,
      "outputs": [
        {
          "output_type": "stream",
          "name": "stdout",
          "text": [
            "Коэффициент корреляции Пирсона для всего города равен:  -0.2865779906683176\n",
            "Коэффициент корреляции Пирсона для центра равен:  -0.04580980621110353\n"
          ]
        }
      ]
    },
    {
      "cell_type": "markdown",
      "metadata": {
        "id": "29ECtHJ9kDjd"
      },
      "source": [
        "Значение коэффициента корреляции свидетельствуют об отсутствии взаимного влияния факторов для центра города. \n",
        "Для квартир в среднем по городу есть некоторая взаимосвязь уменьшения цены с удалением от центра."
      ]
    },
    {
      "cell_type": "markdown",
      "metadata": {
        "id": "6XDqZrWpkDjd"
      },
      "source": [
        "Для анализа зависимости стоимости квартиры в Санкт-Петербурге от даты размещения объявления создадим колонку \"Месяц и год размещения объявления\"."
      ]
    },
    {
      "cell_type": "code",
      "metadata": {
        "id": "BmwL4SyAkDje"
      },
      "source": [
        "whole_SPB['month_year']=whole_SPB['month_published']+\" \"+whole_SPB['year_published'].astype(str)\n",
        "center_SPB['month_year']=center_SPB['month_published']+\" \"+center_SPB['year_published'].astype(str)"
      ],
      "execution_count": 91,
      "outputs": []
    },
    {
      "cell_type": "code",
      "metadata": {
        "id": "QD97zAf-kDje",
        "colab": {
          "base_uri": "https://localhost:8080/",
          "height": 335
        },
        "outputId": "3e30c532-2646-4c2d-e04d-bb470946a6fc"
      },
      "source": [
        "ax1=whole_SPB.pivot_table(index='month_year',values='price_per_sqmeter').rename({'price_per_sqmeter':'whole_SPB'},axis=1).plot(grid=True, figsize=(15,5));\n",
        "center_SPB.pivot_table(index='month_year',values='price_per_sqmeter').rename({'price_per_sqmeter':'center_SPB'},axis=1).plot(grid=True, figsize=(15,5),ax=ax1);"
      ],
      "execution_count": 92,
      "outputs": [
        {
          "output_type": "display_data",
          "data": {
            "image/png": "[encoded data removed]",
            "text/plain": [
              "<Figure size 1080x360 with 1 Axes>"
            ]
          },
          "metadata": {
            "needs_background": "light"
          }
        }
      ]
    },
    {
      "cell_type": "markdown",
      "metadata": {
        "id": "0TO0XJEekDje"
      },
      "source": [
        "Графики зависимости средней стоимости квадратного метра квартир от даты размещения (месяца и года) не демонстрируют ярко выраженной зависимости.  "
      ]
    },
    {
      "cell_type": "markdown",
      "metadata": {
        "id": "vpKbHgwTkDjf"
      },
      "source": [
        "Для подтверждения зависимости стоимости квартиры от даты публикации для г. Санкт-Петербурга рассчитаем коэффициент значимости р по методу наименьших квадратов (Anova Test). Он продемострирует уровень значимости гипотезы о том, что стоимость квартиры не зависит от даты публикации объявления."
      ]
    },
    {
      "cell_type": "code",
      "metadata": {
        "id": "Dpzm-rZYkDjf",
        "colab": {
          "base_uri": "https://localhost:8080/"
        },
        "outputId": "9a1ee3cd-cf3e-4a53-c0f9-7262d068b254"
      },
      "source": [
        "model = ols('last_price~month_year', data = whole_SPB).fit()\n",
        "result_anova = sm.stats.anova_lm(model)\n",
        "print('Коэффициент р для всего города равен: ', result_anova.loc['month_year','PR(>F)'])\n",
        "model = ols('last_price~month_year', data = center_SPB).fit()\n",
        "result_anova = sm.stats.anova_lm(model)\n",
        "print('Коэффициент р для центра города равен: ', result_anova.loc['month_year','PR(>F)'])"
      ],
      "execution_count": 93,
      "outputs": [
        {
          "output_type": "stream",
          "name": "stdout",
          "text": [
            "Коэффициент р для всего города равен:  2.9954018777419853e-18\n",
            "Коэффициент р для центра города равен:  0.0003595926439794654\n"
          ]
        }
      ]
    },
    {
      "cell_type": "markdown",
      "metadata": {
        "id": "Pcl2khKHkDjf"
      },
      "source": [
        "Так как значение P составляет значительно меньше порогового значения 0.05, предполагаем, что существует значительные различия в среднем групп, образованных каждым уровнем месяца+года публикации объявления. "
      ]
    },
    {
      "cell_type": "markdown",
      "metadata": {
        "id": "MT_z5pkukDjf"
      },
      "source": [
        "## **Общий вывод**"
      ]
    },
    {
      "cell_type": "markdown",
      "metadata": {
        "id": "jLpLN8e3kDjg"
      },
      "source": [
        "В представленном анализе по представленным данным изучен рынок недвижимости Санкт-Петербурга и области. Изучены следующие параметры: площадь, цена, число комнат, высота потолков. Средним объектом является: 2х комнатная квартира в 52-60 кв.м., высотой потолков 2.65-2,73 м, стоимостью 4,65-6,54 млн. рублей."
      ]
    },
    {
      "cell_type": "markdown",
      "metadata": {
        "id": "X6osuBlVkDjg"
      },
      "source": [
        "Определено, что объекты из исследования в среднем продаются за 74-105 дней от даты размещения. 15% объявлений завершаются до истечения первого месяца."
      ]
    },
    {
      "cell_type": "markdown",
      "metadata": {
        "id": "m16CXa3XkDjh"
      },
      "source": [
        "Выявлена взаимосвязь стоимости и площади квартиры, а так же стоимости квартиры и того, на каком этаже она расположена: первом, последнем или другом. Существует определенная, априори предполагаемая взаимосвязь, стоимости квартиры и количества комнат в ней."
      ]
    },
    {
      "cell_type": "markdown",
      "metadata": {
        "id": "buYOJ_VdkDjh"
      },
      "source": [
        "Зависимость стоимости квартиры от временного фактора прослеживается только для года размещения оъявления. День недели и месяц сам по себе не оказывают взаимного влияния на стоимсть жилья."
      ]
    },
    {
      "cell_type": "markdown",
      "metadata": {
        "id": "WXFaRyXFkDjh"
      },
      "source": [
        "Сформирована выборка 10 населённых пунктов с наибольшим числом объявлений. На долю Санкт-Петербурга приходится более 66% всего количества объявлений. Среди ТОР10 населённых пунктов самая высокая стоимость жилья зафиксирована в Санкт-Петербурге, а самая низкая - в Выборге."
      ]
    },
    {
      "cell_type": "markdown",
      "metadata": {
        "id": "J_FWj0qokDjh"
      },
      "source": [
        "Определен радиус центральной зоны Санкт-Петербурга, он равен 7 км."
      ]
    },
    {
      "cell_type": "markdown",
      "metadata": {
        "id": "_kQUZ9vOkDjh"
      },
      "source": [
        "На основе анализа выборки данных по Санкт петербургу выявлено, что из центрального района поступают предложения более дорогих квартир, с большей площадью (и количеством комнат) и высотой потолков. Стоимость квартир в центре чувствительна к этажу расположения и не демонстрирует связи с удалением от географического центра в пределах 7ми километровой зоны. В целом же по городу с увеличением растояния от центра стоимость квартир снижается. "
      ]
    }
  ]
}