{
  "nbformat": 4,
  "nbformat_minor": 0,
  "metadata": {
    "colab": {
      "name": "3_statistic_analysis__telecom.ipynb",
      "provenance": [],
      "collapsed_sections": []
    },
    "kernelspec": {
      "display_name": "Python 3",
      "language": "python",
      "name": "python3"
    },
    "language_info": {
      "codemirror_mode": {
        "name": "ipython",
        "version": 3
      },
      "file_extension": ".py",
      "mimetype": "text/x-python",
      "name": "python",
      "nbconvert_exporter": "python",
      "pygments_lexer": "ipython3",
      "version": "3.7.8"
    },
    "toc": {
      "base_numbering": 1,
      "nav_menu": {},
      "number_sections": true,
      "sideBar": true,
      "skip_h1_title": true,
      "title_cell": "Table of Contents",
      "title_sidebar": "Contents",
      "toc_cell": false,
      "toc_position": {},
      "toc_section_display": true,
      "toc_window_display": false
    }
  },
  "cells": [
    {
      "cell_type": "markdown",
      "metadata": {
        "id": "X_IrRXBzkA0K"
      },
      "source": [
        "**Проект Яндекс.Практикума. Статистический анализ данных**\n",
        "\n",
        "**Курс: Аналитик данных**\n",
        "\n",
        "---\n",
        "\n",
        "\n",
        "\n",
        "**СОДЕРЖАНИЕ**\n",
        "\n",
        "---\n",
        "[**Описание проекта**](#description)\n",
        "\n",
        "[**Импорт библиотек и загрузка данных**](#loading)\n",
        "\n",
        "[**Предобработка данных**](#preparing)\n",
        "\n",
        "[**Исследовательский анализ данных (EDA)**](#EDA)\n",
        "\n",
        "[**Формулировка и проверка статистических гипотез**](#hypotheses)\n",
        "\n",
        "[**Выводы и рекомендации**](#summary)\n",
        "\n",
        "---\n",
        "\n",
        "\n"
      ]
    },
    {
      "cell_type": "markdown",
      "metadata": {
        "id": "LXdTlNpIEsfP"
      },
      "source": [
        "## **Описание проекта**<a  class=\"anchor\" id=\"description\"></a>"
      ]
    },
    {
      "cell_type": "markdown",
      "metadata": {
        "id": "hZCpa7FoNtHi"
      },
      "source": [
        "##  **Импорт библиотек и загрузка данных**<a  class=\"anchor\" id=\"loading\"></a>\n",
        "\n"
      ]
    },
    {
      "cell_type": "markdown",
      "metadata": {
        "id": "Fidwn8T6NUP8"
      },
      "source": [
        "**Импорт библиотек**\n",
        "\n",
        "---\n",
        "\n"
      ]
    },
    {
      "cell_type": "code",
      "metadata": {
        "id": "ce5wf0TCKYFV"
      },
      "source": [
        "import pandas as pd\n",
        "\n",
        "import matplotlib\n",
        "from matplotlib import pyplot as plt\n",
        "import seaborn as sns; sns.set()\n",
        "\n",
        "import numpy as np\n",
        "from scipy import stats as st\n",
        "\n",
        "from datetime import datetime, timezone\n",
        "import calendar\n",
        "\n",
        "import warnings\n",
        "warnings.filterwarnings(\"ignore\")"
      ],
      "execution_count": 1,
      "outputs": []
    },
    {
      "cell_type": "markdown",
      "metadata": {
        "id": "HDihYcbpNa3F"
      },
      "source": [
        "**Загрузка данных**\n",
        "\n",
        "---\n",
        "\n"
      ]
    },
    {
      "cell_type": "code",
      "metadata": {
        "id": "TIIl0JhCF1Jy"
      },
      "source": [
        "# Функция формирования ссылки для загрузки файлов с гугл-диска\n",
        "def gdisk_gownload(link):\n",
        "    return 'https://drive.google.com/uc?id=' + link.split('/')[-2]"
      ],
      "execution_count": 2,
      "outputs": []
    },
    {
      "cell_type": "code",
      "metadata": {
        "id": "6H6IsXQ9KQbl"
      },
      "source": [
        "try:\n",
        "    calls=pd.DataFrame(pd.read_csv(' ',parse_dates=['call_date']))\n",
        "    internet=pd.DataFrame(pd.read_csv(' ',parse_dates=['session_date']))\n",
        "    messages=pd.DataFrame(pd.read_csv( ',parse_dates=['message_date']))\n",
        "    tariffs=pd.DataFrame(pd.read_csv(' '))\n",
        "    users=pd.DataFrame(pd.read_csv(' '))\n",
        "except:\n",
        "    calls=pd.read_csv(gdisk_download('https://drive.google.com/file/d/ /view?usp=sharing'),parse_dates=['call_date'])\n",
        "    internet=pd.read_csv(gdisk_download('https://drive.google.com/file/d/ /view?usp=sharing'),parse_dates=['session_date'])\n",
        "    messages=pd.read_csv(gdisk_download('https://drive.google.com/file/d/ /view?usp=sharing'),parse_dates=['message_date'])\n",
        "    tariffs=pd.read_csv(gdisk_download('https://drive.google.com/file/d/ /view?usp=sharing'))\n",
        "    users=pd.read_csv(gdisk_download('https://drive.google.com/file/d/ /view?usp=sharing'))"
      ],
      "execution_count": 3,
      "outputs": []
    },
    {
      "cell_type": "markdown",
      "metadata": {
        "id": "eGpxe-2vIfmQ"
      },
      "source": [
        "**Проверка таблиц на полноту и соответствие типов полей описанию**\n",
        "\n",
        "---\n",
        "\n"
      ]
    },
    {
      "cell_type": "code",
      "metadata": {
        "colab": {
          "base_uri": "https://localhost:8080/"
        },
        "id": "e3KmKctzL5X9",
        "outputId": "04e64342-a96b-47a3-f03a-f33a554ebe99"
      },
      "source": [
        "calls.info()"
      ],
      "execution_count": 4,
      "outputs": [
        {
          "output_type": "stream",
          "name": "stdout",
          "text": [
            "<class 'pandas.core.frame.DataFrame'>\n",
            "RangeIndex: 202607 entries, 0 to 202606\n",
            "Data columns (total 4 columns):\n",
            " #   Column     Non-Null Count   Dtype         \n",
            "---  ------     --------------   -----         \n",
            " 0   id         202607 non-null  object        \n",
            " 1   call_date  202607 non-null  datetime64[ns]\n",
            " 2   duration   202607 non-null  float64       \n",
            " 3   user_id    202607 non-null  int64         \n",
            "dtypes: datetime64[ns](1), float64(1), int64(1), object(1)\n",
            "memory usage: 6.2+ MB\n"
          ]
        }
      ]
    },
    {
      "cell_type": "markdown",
      "metadata": {
        "id": "2jkzs2PBL5L1"
      },
      "source": [
        "Таблица \"Информация о звонках\" не содержит пропусков. Большинство типов данных полей соотвествуют описанию."
      ]
    },
    {
      "cell_type": "code",
      "metadata": {
        "colab": {
          "base_uri": "https://localhost:8080/"
        },
        "id": "n-0Bzaa4Hyu2",
        "outputId": "9b0ad1d5-5338-4ace-e6f5-7b2060355b98"
      },
      "source": [
        "internet.info()"
      ],
      "execution_count": 5,
      "outputs": [
        {
          "output_type": "stream",
          "name": "stdout",
          "text": [
            "<class 'pandas.core.frame.DataFrame'>\n",
            "RangeIndex: 149396 entries, 0 to 149395\n",
            "Data columns (total 5 columns):\n",
            " #   Column        Non-Null Count   Dtype         \n",
            "---  ------        --------------   -----         \n",
            " 0   Unnamed: 0    149396 non-null  int64         \n",
            " 1   id            149396 non-null  object        \n",
            " 2   mb_used       149396 non-null  float64       \n",
            " 3   session_date  149396 non-null  datetime64[ns]\n",
            " 4   user_id       149396 non-null  int64         \n",
            "dtypes: datetime64[ns](1), float64(1), int64(2), object(1)\n",
            "memory usage: 5.7+ MB\n"
          ]
        }
      ]
    },
    {
      "cell_type": "markdown",
      "metadata": {
        "id": "oZGlBecOMVpg"
      },
      "source": [
        "Таблица \"Информация об интернет сессиях\" не содержит пропусков. Большинство типов данных полей соотвествуют ожидаемым значениям. В структуре присутствует поле не указанное в описании данных."
      ]
    },
    {
      "cell_type": "code",
      "metadata": {
        "colab": {
          "base_uri": "https://localhost:8080/"
        },
        "id": "x2ZWBegYH60e",
        "outputId": "67a6c4bc-cd37-4ed8-8b09-fa10002435b1"
      },
      "source": [
        "messages.info()"
      ],
      "execution_count": 6,
      "outputs": [
        {
          "output_type": "stream",
          "name": "stdout",
          "text": [
            "<class 'pandas.core.frame.DataFrame'>\n",
            "RangeIndex: 123036 entries, 0 to 123035\n",
            "Data columns (total 3 columns):\n",
            " #   Column        Non-Null Count   Dtype         \n",
            "---  ------        --------------   -----         \n",
            " 0   id            123036 non-null  object        \n",
            " 1   message_date  123036 non-null  datetime64[ns]\n",
            " 2   user_id       123036 non-null  int64         \n",
            "dtypes: datetime64[ns](1), int64(1), object(1)\n",
            "memory usage: 2.8+ MB\n"
          ]
        }
      ]
    },
    {
      "cell_type": "markdown",
      "metadata": {
        "id": "GP3UG7rzNOPN"
      },
      "source": [
        "Таблица \"Информация о сообщениях\" не содержит пропусков. Типы данных полей соотвествуют описанию."
      ]
    },
    {
      "cell_type": "code",
      "metadata": {
        "colab": {
          "base_uri": "https://localhost:8080/"
        },
        "id": "5v54kZfXH7Kz",
        "outputId": "99d774dc-30f4-4f9a-8402-38aad9bcd613"
      },
      "source": [
        "tariffs.info()"
      ],
      "execution_count": 7,
      "outputs": [
        {
          "output_type": "stream",
          "name": "stdout",
          "text": [
            "<class 'pandas.core.frame.DataFrame'>\n",
            "RangeIndex: 2 entries, 0 to 1\n",
            "Data columns (total 8 columns):\n",
            " #   Column                 Non-Null Count  Dtype \n",
            "---  ------                 --------------  ----- \n",
            " 0   messages_included      2 non-null      int64 \n",
            " 1   mb_per_month_included  2 non-null      int64 \n",
            " 2   minutes_included       2 non-null      int64 \n",
            " 3   rub_monthly_fee        2 non-null      int64 \n",
            " 4   rub_per_gb             2 non-null      int64 \n",
            " 5   rub_per_message        2 non-null      int64 \n",
            " 6   rub_per_minute         2 non-null      int64 \n",
            " 7   tariff_name            2 non-null      object\n",
            "dtypes: int64(7), object(1)\n",
            "memory usage: 256.0+ bytes\n"
          ]
        }
      ]
    },
    {
      "cell_type": "markdown",
      "metadata": {
        "id": "udZoQ1mNNaR9"
      },
      "source": [
        "Таблица \"Информация о тарифах\" не содержит пропусков. Типы данных полей соотвествуют описанию."
      ]
    },
    {
      "cell_type": "code",
      "metadata": {
        "colab": {
          "base_uri": "https://localhost:8080/"
        },
        "id": "VtqEIsWOH7WT",
        "outputId": "0f44c903-cf68-4dfa-c90a-9880f9ff8af6"
      },
      "source": [
        "users.info()"
      ],
      "execution_count": 8,
      "outputs": [
        {
          "output_type": "stream",
          "name": "stdout",
          "text": [
            "<class 'pandas.core.frame.DataFrame'>\n",
            "RangeIndex: 500 entries, 0 to 499\n",
            "Data columns (total 8 columns):\n",
            " #   Column      Non-Null Count  Dtype \n",
            "---  ------      --------------  ----- \n",
            " 0   user_id     500 non-null    int64 \n",
            " 1   age         500 non-null    int64 \n",
            " 2   churn_date  38 non-null     object\n",
            " 3   city        500 non-null    object\n",
            " 4   first_name  500 non-null    object\n",
            " 5   last_name   500 non-null    object\n",
            " 6   reg_date    500 non-null    object\n",
            " 7   tariff      500 non-null    object\n",
            "dtypes: int64(2), object(6)\n",
            "memory usage: 31.4+ KB\n"
          ]
        }
      ]
    },
    {
      "cell_type": "markdown",
      "metadata": {
        "id": "vSVk5w4uNh8W"
      },
      "source": [
        "Таблица \"Информация о пользователях\" содержит пропуски в поле \"Дата прекращения пользования тарифом\" обусловленные характером содержащихся данных. Типы данных полей соотвествуют описанию."
      ]
    },
    {
      "cell_type": "markdown",
      "metadata": {
        "id": "F6o4Kt4TeJzm"
      },
      "source": [
        "\n",
        "\n",
        "---\n",
        "\n",
        "\n",
        "\n",
        "---\n",
        "\n"
      ]
    },
    {
      "cell_type": "markdown",
      "metadata": {
        "id": "RxVVqqDGKET4"
      },
      "source": [
        "\n",
        "## **Предобработка данных**<a  class=\"anchor\" id=\"preparing\"></a>"
      ]
    },
    {
      "cell_type": "markdown",
      "metadata": {
        "id": "R4D-VThROzoz"
      },
      "source": [
        "#### **Приведение типов данных и исправление структуры таблиц**\n",
        "\n",
        "---\n",
        "\n"
      ]
    },
    {
      "cell_type": "markdown",
      "metadata": {
        "id": "LezrYtJ9uCtb"
      },
      "source": [
        "В поле \"Продолжительность звонка в минутах\" (таблица \"Информация о звонках\" ) и \"Объем потраченного за сессию интернет-трафика\" (таблица \"Информация об интернет сессиях\") имеют вещественный тип, хотя по условию \"Мегалайн\" округляет вверх значения минут разговоров и мегабайтов сессий. Округлим значения и приведем тип полей к целочисленному. "
      ]
    },
    {
      "cell_type": "code",
      "metadata": {
        "id": "7LM6OS2-uDTy"
      },
      "source": [
        "calls['duration']=np.ceil(calls['duration'])\n",
        "calls['duration']=calls['duration'].astype('int64')"
      ],
      "execution_count": 9,
      "outputs": []
    },
    {
      "cell_type": "code",
      "metadata": {
        "id": "VqmyxQmjv3X6"
      },
      "source": [
        "internet['mb_used']=np.ceil(internet['mb_used'])\n",
        "internet['mb_used']=internet['mb_used'].astype('int64')"
      ],
      "execution_count": 10,
      "outputs": []
    },
    {
      "cell_type": "markdown",
      "metadata": {
        "id": "QlXA_2hfv43r"
      },
      "source": [
        "\n",
        "\n",
        "---\n",
        "\n"
      ]
    },
    {
      "cell_type": "markdown",
      "metadata": {
        "id": "rM8j5bIaOzyn"
      },
      "source": [
        "Визуально в столбце \"Unnamed: 0\" таблицы \"Информация об интернет сессиях\" содержится задвоенный индекс строк."
      ]
    },
    {
      "cell_type": "code",
      "metadata": {
        "colab": {
          "base_uri": "https://localhost:8080/",
          "height": 359
        },
        "id": "lnI5UMK0JZm2",
        "outputId": "2a90f503-2298-4bd7-a012-9d700e615c46"
      },
      "source": [
        "internet.sample(10)"
      ],
      "execution_count": 11,
      "outputs": [
        {
          "output_type": "execute_result",
          "data": {
            "text/html": [
              "<div>\n",
              "<style scoped>\n",
              "    .dataframe tbody tr th:only-of-type {\n",
              "        vertical-align: middle;\n",
              "    }\n",
              "\n",
              "    .dataframe tbody tr th {\n",
              "        vertical-align: top;\n",
              "    }\n",
              "\n",
              "    .dataframe thead th {\n",
              "        text-align: right;\n",
              "    }\n",
              "</style>\n",
              "<table border=\"1\" class=\"dataframe\">\n",
              "  <thead>\n",
              "    <tr style=\"text-align: right;\">\n",
              "      <th></th>\n",
              "      <th>Unnamed: 0</th>\n",
              "      <th>id</th>\n",
              "      <th>mb_used</th>\n",
              "      <th>session_date</th>\n",
              "      <th>user_id</th>\n",
              "    </tr>\n",
              "  </thead>\n",
              "  <tbody>\n",
              "    <tr>\n",
              "      <th>89086</th>\n",
              "      <td>89086</td>\n",
              "      <td>1301_82</td>\n",
              "      <td>353</td>\n",
              "      <td>2018-11-25</td>\n",
              "      <td>1301</td>\n",
              "    </tr>\n",
              "    <tr>\n",
              "      <th>51901</th>\n",
              "      <td>51901</td>\n",
              "      <td>1176_56</td>\n",
              "      <td>98</td>\n",
              "      <td>2018-07-23</td>\n",
              "      <td>1176</td>\n",
              "    </tr>\n",
              "    <tr>\n",
              "      <th>100212</th>\n",
              "      <td>100212</td>\n",
              "      <td>1337_249</td>\n",
              "      <td>380</td>\n",
              "      <td>2018-11-26</td>\n",
              "      <td>1337</td>\n",
              "    </tr>\n",
              "    <tr>\n",
              "      <th>90607</th>\n",
              "      <td>90607</td>\n",
              "      <td>1307_224</td>\n",
              "      <td>132</td>\n",
              "      <td>2018-12-22</td>\n",
              "      <td>1307</td>\n",
              "    </tr>\n",
              "    <tr>\n",
              "      <th>67640</th>\n",
              "      <td>67640</td>\n",
              "      <td>1228_425</td>\n",
              "      <td>19</td>\n",
              "      <td>2018-11-26</td>\n",
              "      <td>1228</td>\n",
              "    </tr>\n",
              "    <tr>\n",
              "      <th>50964</th>\n",
              "      <td>50964</td>\n",
              "      <td>1174_172</td>\n",
              "      <td>220</td>\n",
              "      <td>2018-06-22</td>\n",
              "      <td>1174</td>\n",
              "    </tr>\n",
              "    <tr>\n",
              "      <th>107765</th>\n",
              "      <td>107765</td>\n",
              "      <td>1366_120</td>\n",
              "      <td>124</td>\n",
              "      <td>2018-12-24</td>\n",
              "      <td>1366</td>\n",
              "    </tr>\n",
              "    <tr>\n",
              "      <th>113419</th>\n",
              "      <td>113419</td>\n",
              "      <td>1384_129</td>\n",
              "      <td>252</td>\n",
              "      <td>2018-06-06</td>\n",
              "      <td>1384</td>\n",
              "    </tr>\n",
              "    <tr>\n",
              "      <th>44752</th>\n",
              "      <td>44752</td>\n",
              "      <td>1154_310</td>\n",
              "      <td>795</td>\n",
              "      <td>2018-09-11</td>\n",
              "      <td>1154</td>\n",
              "    </tr>\n",
              "    <tr>\n",
              "      <th>36524</th>\n",
              "      <td>36524</td>\n",
              "      <td>1126_471</td>\n",
              "      <td>498</td>\n",
              "      <td>2018-05-27</td>\n",
              "      <td>1126</td>\n",
              "    </tr>\n",
              "  </tbody>\n",
              "</table>\n",
              "</div>"
            ],
            "text/plain": [
              "        Unnamed: 0        id  mb_used session_date  user_id\n",
              "89086        89086   1301_82      353   2018-11-25     1301\n",
              "51901        51901   1176_56       98   2018-07-23     1176\n",
              "100212      100212  1337_249      380   2018-11-26     1337\n",
              "90607        90607  1307_224      132   2018-12-22     1307\n",
              "67640        67640  1228_425       19   2018-11-26     1228\n",
              "50964        50964  1174_172      220   2018-06-22     1174\n",
              "107765      107765  1366_120      124   2018-12-24     1366\n",
              "113419      113419  1384_129      252   2018-06-06     1384\n",
              "44752        44752  1154_310      795   2018-09-11     1154\n",
              "36524        36524  1126_471      498   2018-05-27     1126"
            ]
          },
          "metadata": {},
          "execution_count": 11
        }
      ]
    },
    {
      "cell_type": "markdown",
      "metadata": {
        "id": "evCJZMTwOxpI"
      },
      "source": [
        "Проверим количество записей в таблице \"Информация об интернет сессиях\", для которых значения в столбце  \"Unnamed: 0\" совпадают с их индексом."
      ]
    },
    {
      "cell_type": "code",
      "metadata": {
        "colab": {
          "base_uri": "https://localhost:8080/"
        },
        "id": "4tbGeHTkKKIu",
        "outputId": "56b745c6-53cf-42a0-f4ba-6d29b808755b"
      },
      "source": [
        "print('Доля совпадений значения столбца с индексом строки: {:.1%}'.\\\n",
        "      format(internet[internet.index==internet['Unnamed: 0']]['Unnamed: 0'].count()/len(internet)))"
      ],
      "execution_count": 12,
      "outputs": [
        {
          "output_type": "stream",
          "name": "stdout",
          "text": [
            "Доля совпадений значения столбца с индексом строки: 100.0%\n"
          ]
        }
      ]
    },
    {
      "cell_type": "markdown",
      "metadata": {
        "id": "bg0biePjQzO-"
      },
      "source": [
        "Удалим лишний столбец из таблицы."
      ]
    },
    {
      "cell_type": "code",
      "metadata": {
        "id": "TKcOLYc0Q34v"
      },
      "source": [
        "del internet['Unnamed: 0']"
      ],
      "execution_count": 13,
      "outputs": []
    },
    {
      "cell_type": "markdown",
      "metadata": {
        "id": "_wHXV2AuRO-a"
      },
      "source": [
        "\n",
        "\n",
        "---\n",
        "\n"
      ]
    },
    {
      "cell_type": "markdown",
      "metadata": {
        "id": "FZQPE2x7SVOR"
      },
      "source": [
        "Приведем тип столбца \"Возраст пользователя (годы)\" таблицы \"Информация о пользователях\" к более соотвествующему короткому целому (Int8)."
      ]
    },
    {
      "cell_type": "code",
      "metadata": {
        "id": "9GFJ9k2mSVlo"
      },
      "source": [
        "users['age']=users['age'].astype('int8')"
      ],
      "execution_count": 14,
      "outputs": []
    },
    {
      "cell_type": "markdown",
      "metadata": {
        "id": "9tJMC52teFyl"
      },
      "source": [
        "\n",
        "\n",
        "---\n",
        "\n"
      ]
    },
    {
      "cell_type": "markdown",
      "metadata": {
        "id": "aR7nvZVZVQJA"
      },
      "source": [
        "#### **Исправление ошибок в данных и добавление новых полей**"
      ]
    },
    {
      "cell_type": "markdown",
      "metadata": {
        "id": "Z7y4zSIQyxNL"
      },
      "source": [
        "**Исследование таблицы \"Информация о звонках\".**\n",
        "\n"
      ]
    },
    {
      "cell_type": "markdown",
      "metadata": {
        "id": "Urd6tfoLyyHR"
      },
      "source": [
        "Проанализируем сводную статистику по звонкам абонентов. \n",
        "\n",
        "Дублированных записей в таблице \"Информация о звонках\" нет."
      ]
    },
    {
      "cell_type": "code",
      "metadata": {
        "colab": {
          "base_uri": "https://localhost:8080/"
        },
        "id": "XpKXmGWeZ8g-",
        "outputId": "a0194415-552e-45ed-88db-2af158b71f4e"
      },
      "source": [
        "calls.duplicated().sum()"
      ],
      "execution_count": 15,
      "outputs": [
        {
          "output_type": "execute_result",
          "data": {
            "text/plain": [
              "0"
            ]
          },
          "metadata": {},
          "execution_count": 15
        }
      ]
    },
    {
      "cell_type": "markdown",
      "metadata": {
        "id": "VXfpzH8IaXV5"
      },
      "source": [
        "Половина звонков приходится на интервал от 2 до 11 минут. Максимальная длительность звонка зафиксирована в 38 минут, что находится в разумных границах продолжительности разговоров."
      ]
    },
    {
      "cell_type": "code",
      "metadata": {
        "colab": {
          "base_uri": "https://localhost:8080/"
        },
        "id": "nooJUzwcyyUI",
        "outputId": "5a21eef3-12c7-450d-c357-3be9c5625a9e"
      },
      "source": [
        "calls['duration'].describe().apply(lambda x: format(x, '.1f'))"
      ],
      "execution_count": 16,
      "outputs": [
        {
          "output_type": "execute_result",
          "data": {
            "text/plain": [
              "count    202607.0\n",
              "mean          7.2\n",
              "std           6.0\n",
              "min           0.0\n",
              "25%           2.0\n",
              "50%           6.0\n",
              "75%          11.0\n",
              "max          38.0\n",
              "Name: duration, dtype: object"
            ]
          },
          "metadata": {},
          "execution_count": 16
        }
      ]
    },
    {
      "cell_type": "code",
      "metadata": {
        "colab": {
          "base_uri": "https://localhost:8080/",
          "height": 356
        },
        "id": "3KrvY3OtgBXg",
        "outputId": "78163bc6-b386-4fbb-c055-a304a26e4bad"
      },
      "source": [
        "plt.figure(figsize=(15, 5))\n",
        "plt.hist(calls.duration,bins=int(max(calls.duration)))\n",
        "plt.title('Distribution of calls duration',fontsize=14)\n",
        "plt.xlabel('calls_duration')\n",
        "plt.ylabel('counts')\n",
        "plt.grid(True)\n",
        "plt.show();"
      ],
      "execution_count": 17,
      "outputs": [
        {
          "output_type": "display_data",
          "data": {
            "image/png": "[encoded data removed]",
            "text/plain": [
              "<Figure size 1080x360 with 1 Axes>"
            ]
          },
          "metadata": {
            "needs_background": "light"
          }
        }
      ]
    },
    {
      "cell_type": "markdown",
      "metadata": {
        "id": "4bfuLyLBhNax"
      },
      "source": [
        "Минимальная продолжительность звонков зафиксирована на уровне 0 минут. Количество таких записей отностительно велико - около 1/5. "
      ]
    },
    {
      "cell_type": "code",
      "metadata": {
        "colab": {
          "base_uri": "https://localhost:8080/"
        },
        "id": "GVDMRI0CbkCO",
        "outputId": "9ccee4a8-ee0a-43b4-e453-cb7c0099d16b"
      },
      "source": [
        "print('Доля звонков с нулевой длительностью в общем количестве соcтавляет {:.2%}.'.format(calls.query('duration==0').shape[0]/calls.shape[0]))"
      ],
      "execution_count": 18,
      "outputs": [
        {
          "output_type": "stream",
          "name": "stdout",
          "text": [
            "Доля звонков с нулевой длительностью в общем количестве соcтавляет 19.55%.\n"
          ]
        }
      ]
    },
    {
      "cell_type": "markdown",
      "metadata": {
        "id": "4mvteIy5iGko"
      },
      "source": [
        "Проанализируем, являются ли записи с нулевой продолжительностью звонков ошибкой в данных, характерной для информации от некоторых абонентов, или представляют собой стандартную ситуацию."
      ]
    },
    {
      "cell_type": "code",
      "metadata": {
        "id": "eZRbsx6DyycJ"
      },
      "source": [
        "user_zero_calls=calls.query('duration==0')\n",
        "user_zero_calls_total=calls[calls['user_id'].isin(user_zero_calls[\"user_id\"])]"
      ],
      "execution_count": 19,
      "outputs": []
    },
    {
      "cell_type": "markdown",
      "metadata": {
        "id": "rZucNU7dLB-y"
      },
      "source": [
        "Сформируем сводную таблицу, содержащую данные о количестве пропущенных звонков у абонентов и общем количестве их звонков."
      ]
    },
    {
      "cell_type": "code",
      "metadata": {
        "id": "HB7vr46QzXAt"
      },
      "source": [
        "zero_calls_pivot=user_zero_calls.pivot_table(index='user_id',values=\"duration\",aggfunc='count')\n",
        "zero_calls_total_pivot=user_zero_calls_total.pivot_table(index='user_id',values=\"duration\",aggfunc='count')\n",
        "zero_calls_pivot=zero_calls_pivot.join(zero_calls_total_pivot, rsuffix='_total')"
      ],
      "execution_count": 20,
      "outputs": []
    },
    {
      "cell_type": "code",
      "metadata": {
        "colab": {
          "base_uri": "https://localhost:8080/"
        },
        "id": "98rRKhkOjf0j",
        "outputId": "3118cd93-9b05-46b3-fffa-ed5058bac599"
      },
      "source": [
        "print('Количество абонентов со звонками нулевой длительности соcтавляет {} ({:.2%} от общего количества).'.format(zero_calls_pivot.shape[0],zero_calls_pivot.shape[0]/users.shape[0]))"
      ],
      "execution_count": 21,
      "outputs": [
        {
          "output_type": "stream",
          "name": "stdout",
          "text": [
            "Количество абонентов со звонками нулевой длительности соcтавляет 492 (98.40% от общего количества).\n"
          ]
        }
      ]
    },
    {
      "cell_type": "markdown",
      "metadata": {
        "id": "LJkB4wuYLN5s"
      },
      "source": [
        "Звонки нулевой длительности характерны для данных подавляющего большинства абонентов (98,4%). "
      ]
    },
    {
      "cell_type": "markdown",
      "metadata": {
        "id": "8ByBX4vQk7qv"
      },
      "source": [
        "Рассчитаем долю нулевых звонков в общем количестве у абонентов, у которых они обнаружены."
      ]
    },
    {
      "cell_type": "code",
      "metadata": {
        "id": "qqhZnIZsJc81"
      },
      "source": [
        "zero_calls_pivot.columns =['zero_calls_count','total_calls_count']\n",
        "zero_calls_pivot['zero_calls_ratio']=zero_calls_pivot['zero_calls_count']/zero_calls_pivot['total_calls_count']"
      ],
      "execution_count": 22,
      "outputs": []
    },
    {
      "cell_type": "code",
      "metadata": {
        "colab": {
          "base_uri": "https://localhost:8080/"
        },
        "id": "6JLhbvWZaO3o",
        "outputId": "437e3876-d1c8-4633-a89b-e205ae3d97cb"
      },
      "source": [
        "print('Доля звонков с нулевой длительностью у абонентов в среднем соcтавляет {:.2%} (стандартное отклонение - {:.2%}).'.format(np.mean(zero_calls_pivot['zero_calls_ratio']),np.var(zero_calls_pivot['zero_calls_ratio'])**0.5))"
      ],
      "execution_count": 23,
      "outputs": [
        {
          "output_type": "stream",
          "name": "stdout",
          "text": [
            "Доля звонков с нулевой длительностью у абонентов в среднем соcтавляет 19.61% (стандартное отклонение - 2.95%).\n"
          ]
        }
      ]
    },
    {
      "cell_type": "markdown",
      "metadata": {
        "id": "8MWHPTKOaLxb"
      },
      "source": [
        "Сравнительно небольшой разброс (плюс/минус ~ 3%) от высокой средней доли нулевых звонков, позволяет сделать вывод типичности подобной ситуации для абонентов сети."
      ]
    },
    {
      "cell_type": "code",
      "metadata": {
        "colab": {
          "base_uri": "https://localhost:8080/",
          "height": 339
        },
        "id": "_s2BwcpgXq-8",
        "outputId": "83ed8f08-b825-4f35-fe9b-daddd45a43d3"
      },
      "source": [
        "plt.figure(figsize=(15, 5))\n",
        "plt.plot(zero_calls_pivot['zero_calls_ratio'])\n",
        "plt.xlabel('user_id')\n",
        "plt.ylabel('zero_calls_ratio')\n",
        "plt.show()"
      ],
      "execution_count": 24,
      "outputs": [
        {
          "output_type": "display_data",
          "data": {
            "image/png": "[encoded data removed]",
            "text/plain": [
              "<Figure size 1080x360 with 1 Axes>"
            ]
          },
          "metadata": {
            "needs_background": "light"
          }
        }
      ]
    },
    {
      "cell_type": "markdown",
      "metadata": {
        "id": "UOfuy9ZDlzEK"
      },
      "source": [
        "Как мы можем предположить, звонки с нулевой общей продолжительностью могут иметь следующую природу: это либо звонок, пропущенный вызываемым абонентом, либо ошибочный набор (не целевому абоненту, неправильно набран номер) или условный, \"сигнальный\" набор номера (\"выходи\", \"прочитай сообщение\", \"перезвони\" и т.д.)."
      ]
    },
    {
      "cell_type": "markdown",
      "metadata": {
        "id": "Sm0yPT7sRL5S"
      },
      "source": [
        "![droped_call.jpg](data:image/jpeg;base64,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)"
      ]
    },
    {
      "cell_type": "markdown",
      "metadata": {
        "id": "6x3mD6-haLBM"
      },
      "source": [
        "Из вышеуказанных причин появления в данных нулевых звонков для нас могут иметь значение только звонки первого рода, как выражающие намерение абонента осуществить разговор с потенциальной монетизацией для \"Мегалайна\". Дальнейшим развитием этой ситуации является или поступление входящего от пропустившего звонок абонента, или последующий пропущенный звонок, или, наконец, полноценный исходящий звонок (в случае дозвона)."
      ]
    },
    {
      "cell_type": "markdown",
      "metadata": {
        "id": "GnaREgdZoLWD"
      },
      "source": [
        "Однако, исходящие звонки (субституты) в результате дозвона, скорее всего, уже присутствуют в базе данных, а значит информация о звонках нулевой длительности им предществовавших не имеет ценности для целей исследования тарифов. Эти записи могут быть удалены из анализируемых данных без ущерба для качества исследования."
      ]
    },
    {
      "cell_type": "code",
      "metadata": {
        "id": "0PIAyInbp2OS"
      },
      "source": [
        "calls_wo_zero = pd.DataFrame(calls.query('duration!=0'))"
      ],
      "execution_count": 25,
      "outputs": []
    },
    {
      "cell_type": "code",
      "metadata": {
        "colab": {
          "base_uri": "https://localhost:8080/"
        },
        "id": "KWkguMIbqDY_",
        "outputId": "5f7a1216-a6af-4677-f766-11d4f4786700"
      },
      "source": [
        "calls_wo_zero['duration'].describe().apply(lambda x: format(x, '.2f'))"
      ],
      "execution_count": 26,
      "outputs": [
        {
          "output_type": "execute_result",
          "data": {
            "text/plain": [
              "count    162994.00\n",
              "mean          8.90\n",
              "std           5.35\n",
              "min           1.00\n",
              "25%           5.00\n",
              "50%           8.00\n",
              "75%          12.00\n",
              "max          38.00\n",
              "Name: duration, dtype: object"
            ]
          },
          "metadata": {},
          "execution_count": 26
        }
      ]
    },
    {
      "cell_type": "code",
      "metadata": {
        "colab": {
          "base_uri": "https://localhost:8080/",
          "height": 356
        },
        "id": "ccPY8dsnwqhr",
        "outputId": "8df8643c-d3a8-473e-aea9-d6cc10315fc2"
      },
      "source": [
        "plt.figure(figsize=(15, 5))\n",
        "plt.hist(calls_wo_zero.duration,bins=int(max(calls_wo_zero['duration'])))\n",
        "plt.title('Distribution of calls duration',fontsize=14)\n",
        "plt.xlabel('calls_duration')\n",
        "plt.ylabel('counts')\n",
        "plt.grid(True)\n",
        "plt.show();"
      ],
      "execution_count": 27,
      "outputs": [
        {
          "output_type": "display_data",
          "data": {
            "image/png": "[encoded data removed]",
            "text/plain": [
              "<Figure size 1080x360 with 1 Axes>"
            ]
          },
          "metadata": {
            "needs_background": "light"
          }
        }
      ]
    },
    {
      "cell_type": "markdown",
      "metadata": {
        "id": "2W1rXeVHxHgZ"
      },
      "source": [
        "По очищенным от нулеых значений данным о продолжительности разговоров получаем распределение со смещением вправо с (по форме - распределение Пуассона) типичным (средним) разговором длительностью около 9 минут (плюс/минус 5 мин 21 сек.)."
      ]
    },
    {
      "cell_type": "markdown",
      "metadata": {
        "id": "nfxclEGFhenK"
      },
      "source": [
        "Добавим в таблицу с очищенными данными о продолжительности разговоров столбец, содержащий информацию о месяце совершения звонка."
      ]
    },
    {
      "cell_type": "code",
      "metadata": {
        "id": "zW_apc9Uhe2b"
      },
      "source": [
        "calls_wo_zero['month'] = pd.DatetimeIndex(calls_wo_zero['call_date']).month\n",
        "calls_wo_zero['month'] = calls_wo_zero['month'].apply(lambda x: calendar.month_abbr[x])"
      ],
      "execution_count": 28,
      "outputs": []
    },
    {
      "cell_type": "markdown",
      "metadata": {
        "id": "ZFsIUv9yMbYf"
      },
      "source": [
        "Создадим результирующую таблицу с данными об использовании минут звонков, мегабайтов трафика и количестве сообщений пользователей по месяцам."
      ]
    },
    {
      "cell_type": "code",
      "metadata": {
        "id": "sb0Bz8R_KeLM"
      },
      "source": [
        "result_table = calls_wo_zero.pivot_table(index=['user_id','month'],values='duration',aggfunc=['count','sum']).fillna(0)"
      ],
      "execution_count": 29,
      "outputs": []
    },
    {
      "cell_type": "code",
      "metadata": {
        "colab": {
          "base_uri": "https://localhost:8080/",
          "height": 266
        },
        "id": "37HFVfL7KeO4",
        "outputId": "3e0e8cd0-dcb5-418a-a434-2d27bea185c3"
      },
      "source": [
        "result_table.head()"
      ],
      "execution_count": 30,
      "outputs": [
        {
          "output_type": "execute_result",
          "data": {
            "text/html": [
              "<div>\n",
              "<style scoped>\n",
              "    .dataframe tbody tr th:only-of-type {\n",
              "        vertical-align: middle;\n",
              "    }\n",
              "\n",
              "    .dataframe tbody tr th {\n",
              "        vertical-align: top;\n",
              "    }\n",
              "\n",
              "    .dataframe thead tr th {\n",
              "        text-align: left;\n",
              "    }\n",
              "\n",
              "    .dataframe thead tr:last-of-type th {\n",
              "        text-align: right;\n",
              "    }\n",
              "</style>\n",
              "<table border=\"1\" class=\"dataframe\">\n",
              "  <thead>\n",
              "    <tr>\n",
              "      <th></th>\n",
              "      <th></th>\n",
              "      <th>count</th>\n",
              "      <th>sum</th>\n",
              "    </tr>\n",
              "    <tr>\n",
              "      <th></th>\n",
              "      <th></th>\n",
              "      <th>duration</th>\n",
              "      <th>duration</th>\n",
              "    </tr>\n",
              "    <tr>\n",
              "      <th>user_id</th>\n",
              "      <th>month</th>\n",
              "      <th></th>\n",
              "      <th></th>\n",
              "    </tr>\n",
              "  </thead>\n",
              "  <tbody>\n",
              "    <tr>\n",
              "      <th rowspan=\"5\" valign=\"top\">1000</th>\n",
              "      <th>Aug</th>\n",
              "      <td>42</td>\n",
              "      <td>408</td>\n",
              "    </tr>\n",
              "    <tr>\n",
              "      <th>Dec</th>\n",
              "      <td>38</td>\n",
              "      <td>333</td>\n",
              "    </tr>\n",
              "    <tr>\n",
              "      <th>Jul</th>\n",
              "      <td>41</td>\n",
              "      <td>340</td>\n",
              "    </tr>\n",
              "    <tr>\n",
              "      <th>Jun</th>\n",
              "      <td>28</td>\n",
              "      <td>172</td>\n",
              "    </tr>\n",
              "    <tr>\n",
              "      <th>May</th>\n",
              "      <td>17</td>\n",
              "      <td>159</td>\n",
              "    </tr>\n",
              "  </tbody>\n",
              "</table>\n",
              "</div>"
            ],
            "text/plain": [
              "                 count      sum\n",
              "              duration duration\n",
              "user_id month                  \n",
              "1000    Aug         42      408\n",
              "        Dec         38      333\n",
              "        Jul         41      340\n",
              "        Jun         28      172\n",
              "        May         17      159"
            ]
          },
          "metadata": {},
          "execution_count": 30
        }
      ]
    },
    {
      "cell_type": "markdown",
      "metadata": {
        "id": "T20RCPl_jt_n"
      },
      "source": [
        "**Исследование таблицы \"Информация об интернет сессиях\".**\n",
        "\n",
        "---\n",
        "\n"
      ]
    },
    {
      "cell_type": "markdown",
      "metadata": {
        "id": "5cNOJyexhRq5"
      },
      "source": [
        "Проанализируем сводную статистику по интернет-сессиям абонентов. \n",
        "\n",
        "Дублированных записей в таблице \"Информация об интернет сессиях\" нет."
      ]
    },
    {
      "cell_type": "code",
      "metadata": {
        "colab": {
          "base_uri": "https://localhost:8080/"
        },
        "id": "2SfvaM2Lav46",
        "outputId": "05b57061-be75-4720-cb07-ca010af0a436"
      },
      "source": [
        "internet.duplicated().sum()"
      ],
      "execution_count": 31,
      "outputs": [
        {
          "output_type": "execute_result",
          "data": {
            "text/plain": [
              "0"
            ]
          },
          "metadata": {},
          "execution_count": 31
        }
      ]
    },
    {
      "cell_type": "code",
      "metadata": {
        "colab": {
          "base_uri": "https://localhost:8080/"
        },
        "id": "CkH1JOcUjuPQ",
        "outputId": "d683d60f-6ab1-47c0-d98d-09d9b7316be4"
      },
      "source": [
        "internet.mb_used.describe().apply(lambda x: format(x, '.1f'))"
      ],
      "execution_count": 32,
      "outputs": [
        {
          "output_type": "execute_result",
          "data": {
            "text/plain": [
              "count    149396.0\n",
              "mean        370.6\n",
              "std         278.4\n",
              "min           0.0\n",
              "25%         139.0\n",
              "50%         349.0\n",
              "75%         560.0\n",
              "max        1725.0\n",
              "Name: mb_used, dtype: object"
            ]
          },
          "metadata": {},
          "execution_count": 32
        }
      ]
    },
    {
      "cell_type": "markdown",
      "metadata": {
        "id": "cPxbttRTa3cF"
      },
      "source": [
        "Половина интернет-сессий имеет объем в интервале от 139 до 560 Мб. Максимальный зафиксированный трафик - 1.68Гб, адекватен для мобильного интернета."
      ]
    },
    {
      "cell_type": "code",
      "metadata": {
        "colab": {
          "base_uri": "https://localhost:8080/",
          "height": 356
        },
        "id": "2nhsF2qMmG9M",
        "outputId": "3d35fa22-9f20-4928-8036-3eeb915894db"
      },
      "source": [
        "plt.figure(figsize=(15, 5))\n",
        "plt.hist(internet.mb_used,bins=40)\n",
        "plt.title('Distribution of internet trafic',fontsize=14)\n",
        "plt.xlabel('mb_used')\n",
        "plt.ylabel('counts')\n",
        "plt.grid(True)\n",
        "plt.show();"
      ],
      "execution_count": 33,
      "outputs": [
        {
          "output_type": "display_data",
          "data": {
            "image/png": "[encoded data removed]",
            "text/plain": [
              "<Figure size 1080x360 with 1 Axes>"
            ]
          },
          "metadata": {
            "needs_background": "light"
          }
        }
      ]
    },
    {
      "cell_type": "markdown",
      "metadata": {
        "id": "7S2ub0j5iOUb"
      },
      "source": [
        "Довольно значительное количество интернет-сессий имеет нулевой объем."
      ]
    },
    {
      "cell_type": "code",
      "metadata": {
        "colab": {
          "base_uri": "https://localhost:8080/"
        },
        "id": "v2TrzFVzjN45",
        "outputId": "ac59caac-6a99-4c07-da56-cd341063aefc"
      },
      "source": [
        "print('Доля интернет-сессий \"0Мб\" в общем количестве соcтавляет {:.2%}.'.format(internet.query('mb_used==0').shape[0]/internet.shape[0]))"
      ],
      "execution_count": 34,
      "outputs": [
        {
          "output_type": "stream",
          "name": "stdout",
          "text": [
            "Доля интернет-сессий \"0Мб\" в общем количестве соcтавляет 13.12%.\n"
          ]
        }
      ]
    },
    {
      "cell_type": "markdown",
      "metadata": {
        "id": "Cg9-Fs0Bj8_i"
      },
      "source": [
        "Проанализируем, являются ли сессии нулевого объема ошибкой в данных, характерной для информации от некоторых абонентов, или представляют собой стандартную ситуацию."
      ]
    },
    {
      "cell_type": "markdown",
      "metadata": {
        "id": "fSHH7nP6kNGa"
      },
      "source": [
        "Сформируем сводную таблицу, содержащую данные о количестве у абонентов интернет-сессий нулевого трафика и общем количестве соединений."
      ]
    },
    {
      "cell_type": "code",
      "metadata": {
        "id": "zwdYrEMgmxDf"
      },
      "source": [
        "user_zero_inet=internet.query('mb_used==0')\n",
        "user_zero_inet_total=internet[internet['user_id'].isin(user_zero_inet[\"user_id\"])]"
      ],
      "execution_count": 35,
      "outputs": []
    },
    {
      "cell_type": "code",
      "metadata": {
        "id": "Wjc-HFM6m93V"
      },
      "source": [
        "zero_inet_pivot=user_zero_inet.pivot_table(index='user_id',values=\"mb_used\",aggfunc='count')\n",
        "zero_inet_total_pivot=user_zero_inet_total.pivot_table(index='user_id',values=\"mb_used\",aggfunc='count')\n",
        "zero_inet_pivot=zero_inet_pivot.join(zero_inet_total_pivot, rsuffix='_total')"
      ],
      "execution_count": 36,
      "outputs": []
    },
    {
      "cell_type": "code",
      "metadata": {
        "colab": {
          "base_uri": "https://localhost:8080/"
        },
        "id": "2o74gbd1oDAo",
        "outputId": "66db482a-81cc-484a-f6ca-98cb74126ded"
      },
      "source": [
        "print('Количество абонентов с интернет-сессиями нулевого объема соcтавляет {} ({:.2%} от общего количества).'.format(zero_inet_pivot.shape[0],zero_inet_pivot.shape[0]/users.shape[0]))"
      ],
      "execution_count": 37,
      "outputs": [
        {
          "output_type": "stream",
          "name": "stdout",
          "text": [
            "Количество абонентов с интернет-сессиями нулевого объема соcтавляет 494 (98.80% от общего количества).\n"
          ]
        }
      ]
    },
    {
      "cell_type": "markdown",
      "metadata": {
        "id": "0HgfyqP9k08k"
      },
      "source": [
        "Интернет-сессии с нулевым трафиком обнаружены в данных подавляющего большинства абонентов."
      ]
    },
    {
      "cell_type": "markdown",
      "metadata": {
        "id": "Qnb8JsM5lIIU"
      },
      "source": [
        "Рассчитаем долю нулевых интернет-сессий в общем количестве у абонентов, у которых они обнаружены."
      ]
    },
    {
      "cell_type": "code",
      "metadata": {
        "id": "X9IKYU2woRp2"
      },
      "source": [
        "zero_inet_pivot.columns =['zero_inet_count','total_inet_count']\n",
        "zero_inet_pivot['zero_inet_ratio']=zero_inet_pivot['zero_inet_count']/zero_inet_pivot['total_inet_count']"
      ],
      "execution_count": 38,
      "outputs": []
    },
    {
      "cell_type": "code",
      "metadata": {
        "colab": {
          "base_uri": "https://localhost:8080/"
        },
        "id": "m7kBgNZJovBP",
        "outputId": "a1e50984-c39b-427a-8e77-00ea76b84788"
      },
      "source": [
        "print('Доля сессий нулевого объема у абонентов в среднем соcтавляет {:.2%} (стандартное отклонение - {:.2%}).'.\\\n",
        "      format(np.mean(zero_inet_pivot['zero_inet_ratio']),np.var(zero_inet_pivot['zero_inet_ratio'])**0.5))"
      ],
      "execution_count": 39,
      "outputs": [
        {
          "output_type": "stream",
          "name": "stdout",
          "text": [
            "Доля сессий нулевого объема у абонентов в среднем соcтавляет 12.66% (стандартное отклонение - 5.61%).\n"
          ]
        }
      ]
    },
    {
      "cell_type": "markdown",
      "metadata": {
        "id": "FZkd1K3klTSD"
      },
      "source": [
        "Типичной ситуацией для абонентов сети является доля интернет сессий без обмена трафиком от 7 до 18%."
      ]
    },
    {
      "cell_type": "code",
      "metadata": {
        "colab": {
          "base_uri": "https://localhost:8080/",
          "height": 339
        },
        "id": "4Px7RaqPpSUW",
        "outputId": "16bb36c1-57ef-4b97-923d-a7efaff40fa8"
      },
      "source": [
        "plt.figure(figsize=(15, 5))\n",
        "plt.plot(zero_inet_pivot['zero_inet_ratio'])\n",
        "plt.xlabel('user_id')\n",
        "plt.ylabel('zero_inet_ratio')\n",
        "plt.show()"
      ],
      "execution_count": 40,
      "outputs": [
        {
          "output_type": "display_data",
          "data": {
            "image/png": "[encoded data removed]",
            "text/plain": [
              "<Figure size 1080x360 with 1 Axes>"
            ]
          },
          "metadata": {
            "needs_background": "light"
          }
        }
      ]
    },
    {
      "cell_type": "markdown",
      "metadata": {
        "id": "-zbECAQSpqqD"
      },
      "source": [
        "Предполагаем, что источниками записей с нулевым объемом интернет-сессий являются: попытки синхронизации сервисов и приложений, прерванный пользователем переход по ссылкам, разрыв соединения при неустойчивом приеме и т.п.\n",
        "\n",
        "Однако, следует проверить нет ли взаимосвязи у абонентов между количеством звонков длительностью 0 минут и количеством интренет-сессий нулевого объема."
      ]
    },
    {
      "cell_type": "markdown",
      "metadata": {
        "id": "a024pEfZoP2C"
      },
      "source": [
        "Сформируем сводную таблицу с информацией о звонках и интернет-сессиях абонентов, имеющих и звонки длительностью 0 минут и сессии объемом 0Мб. Определим число таких абонентов и коэфиициент корреляции появления нулевых значений двух показателей."
      ]
    },
    {
      "cell_type": "code",
      "metadata": {
        "id": "ElK87Y6NqClL"
      },
      "source": [
        "zero_calls_inet = pd.merge(zero_calls_pivot, zero_inet_pivot, how='inner', on=['user_id'])"
      ],
      "execution_count": 41,
      "outputs": []
    },
    {
      "cell_type": "code",
      "metadata": {
        "colab": {
          "base_uri": "https://localhost:8080/"
        },
        "id": "Vt26WwKTraIj",
        "outputId": "fa4c4039-5a04-48d5-fe00-35a7f92f4d80"
      },
      "source": [
        "print('Количество абонентов в таблице: {} ({:.1%} - {:.1%})'.\\\n",
        "      format(zero_calls_inet.shape[0],zero_calls_inet.shape[0]/zero_inet_pivot.shape[0],zero_calls_inet.shape[0]/zero_calls_pivot.shape[0]))"
      ],
      "execution_count": 42,
      "outputs": [
        {
          "output_type": "stream",
          "name": "stdout",
          "text": [
            "Количество абонентов в таблице: 488 (98.8% - 99.2%)\n"
          ]
        }
      ]
    },
    {
      "cell_type": "code",
      "metadata": {
        "colab": {
          "base_uri": "https://localhost:8080/"
        },
        "id": "xqAD1rAFrCuE",
        "outputId": "9655bf92-9681-4016-9e7d-a90be3323f5d"
      },
      "source": [
        "print('Коэффициент корреляции звонков длительностью 0 минут объема интернета 0Мб: {:.5f}'.\\\n",
        "      format(zero_calls_inet.zero_inet_count.corr(zero_calls_inet.zero_calls_count)))"
      ],
      "execution_count": 43,
      "outputs": [
        {
          "output_type": "stream",
          "name": "stdout",
          "text": [
            "Коэффициент корреляции звонков длительностью 0 минут объема интернета 0Мб: 0.33657\n"
          ]
        }
      ]
    },
    {
      "cell_type": "markdown",
      "metadata": {
        "id": "FQJZDSJircsI"
      },
      "source": [
        "Идентификаторы абонентов имеющих как звонки нулевой продолжительности, так и интернет-сессии нулевого объема пересекаются на 99%. Однако низкий коэффициент корреляции количества \"нулевых звонков\" и \"пустых сессий\" у абонентов не позволяет сделать вывод об их единой природе."
      ]
    },
    {
      "cell_type": "markdown",
      "metadata": {
        "id": "c4BNGGtioqyo"
      },
      "source": [
        "Считаем, что записи об интернет-сессиях нулевого объема, хотя и представляющие ценность для исследования качества обслуживания, не представляют интереса для анализа тарифов \"Мегалайна\". Данные записи могут быть удалены из таблицы без ущерба для качества выводов."
      ]
    },
    {
      "cell_type": "code",
      "metadata": {
        "id": "4KNE4HCWuwEg"
      },
      "source": [
        "internet_wo_zero = pd.DataFrame(internet.query('mb_used!=0'))"
      ],
      "execution_count": 44,
      "outputs": []
    },
    {
      "cell_type": "code",
      "metadata": {
        "colab": {
          "base_uri": "https://localhost:8080/"
        },
        "id": "G-0aOgWYvHdr",
        "outputId": "bd95cc6c-4a58-45e9-e133-f8c3e47b7fb1"
      },
      "source": [
        "internet_wo_zero['mb_used'].describe().apply(lambda x: format(x, '.2f'))"
      ],
      "execution_count": 45,
      "outputs": [
        {
          "output_type": "execute_result",
          "data": {
            "text/plain": [
              "count    129798.00\n",
              "mean        426.58\n",
              "std         255.60\n",
              "min           1.00\n",
              "25%         228.00\n",
              "50%         401.00\n",
              "75%         593.00\n",
              "max        1725.00\n",
              "Name: mb_used, dtype: object"
            ]
          },
          "metadata": {},
          "execution_count": 45
        }
      ]
    },
    {
      "cell_type": "code",
      "metadata": {
        "colab": {
          "base_uri": "https://localhost:8080/",
          "height": 356
        },
        "id": "yHpCegBBvHdt",
        "outputId": "317bd412-eefd-4620-e699-bf4056a0e577"
      },
      "source": [
        "plt.figure(figsize=(15, 5))\n",
        "plt.hist(internet_wo_zero.mb_used,bins=40)\n",
        "plt.title('Distribution of internet trafic',fontsize=14)\n",
        "plt.xlabel('mb_used')\n",
        "plt.ylabel('counts')\n",
        "plt.grid(True)\n",
        "plt.show();"
      ],
      "execution_count": 46,
      "outputs": [
        {
          "output_type": "display_data",
          "data": {
            "image/png": "[encoded data removed]",
            "text/plain": [
              "<Figure size 1080x360 with 1 Axes>"
            ]
          },
          "metadata": {
            "needs_background": "light"
          }
        }
      ]
    },
    {
      "cell_type": "markdown",
      "metadata": {
        "id": "7FrU1SE8p14R"
      },
      "source": [
        "По очищенным от нулеых значений данным об объемах интернет-сессий получаем распределение со смещением вправо с (по форме - распределение Пуассона) типичным (средним) трафиком в 426,58Мб и стандартным отклонением 255,6Мб."
      ]
    },
    {
      "cell_type": "markdown",
      "metadata": {
        "id": "G46uzwimU8sw"
      },
      "source": [
        "Добавим в таблицу с очищенными данными об объеме интернет-трафика, столбец содержащий информацию о месяце интернет-сессии."
      ]
    },
    {
      "cell_type": "code",
      "metadata": {
        "id": "wrzQquX2U8tE"
      },
      "source": [
        "internet_wo_zero['month'] = pd.DatetimeIndex(internet_wo_zero['session_date']).month\n",
        "internet_wo_zero['month'] = internet_wo_zero['month'].apply(lambda x: calendar.month_abbr[x])"
      ],
      "execution_count": 47,
      "outputs": []
    },
    {
      "cell_type": "markdown",
      "metadata": {
        "id": "9PTxNvrKNHXt"
      },
      "source": [
        "Добавим в **результирующую таблицу** информацию об объеме потребленного пользователями интернет трафика по месяцам."
      ]
    },
    {
      "cell_type": "code",
      "metadata": {
        "id": "U_nPHs4kLDF6"
      },
      "source": [
        "result_table=result_table.join(internet_wo_zero.pivot_table(index=['user_id','month'],values='mb_used',aggfunc='sum').fillna(0),how='outer',lsuffix='_min',rsuffix='_mb')"
      ],
      "execution_count": 48,
      "outputs": []
    },
    {
      "cell_type": "code",
      "metadata": {
        "colab": {
          "base_uri": "https://localhost:8080/",
          "height": 235
        },
        "id": "K3XgbT0AMO5d",
        "outputId": "dc8d82d7-d509-4e6c-b0f2-7b780cf7b588"
      },
      "source": [
        "result_table.head()"
      ],
      "execution_count": 49,
      "outputs": [
        {
          "output_type": "execute_result",
          "data": {
            "text/html": [
              "<div>\n",
              "<style scoped>\n",
              "    .dataframe tbody tr th:only-of-type {\n",
              "        vertical-align: middle;\n",
              "    }\n",
              "\n",
              "    .dataframe tbody tr th {\n",
              "        vertical-align: top;\n",
              "    }\n",
              "\n",
              "    .dataframe thead th {\n",
              "        text-align: right;\n",
              "    }\n",
              "</style>\n",
              "<table border=\"1\" class=\"dataframe\">\n",
              "  <thead>\n",
              "    <tr style=\"text-align: right;\">\n",
              "      <th></th>\n",
              "      <th></th>\n",
              "      <th>(count, duration)</th>\n",
              "      <th>(sum, duration)</th>\n",
              "      <th>mb_used</th>\n",
              "    </tr>\n",
              "    <tr>\n",
              "      <th>user_id</th>\n",
              "      <th>month</th>\n",
              "      <th></th>\n",
              "      <th></th>\n",
              "      <th></th>\n",
              "    </tr>\n",
              "  </thead>\n",
              "  <tbody>\n",
              "    <tr>\n",
              "      <th rowspan=\"5\" valign=\"top\">1000</th>\n",
              "      <th>Aug</th>\n",
              "      <td>42.0</td>\n",
              "      <td>408.0</td>\n",
              "      <td>14070.0</td>\n",
              "    </tr>\n",
              "    <tr>\n",
              "      <th>Dec</th>\n",
              "      <td>38.0</td>\n",
              "      <td>333.0</td>\n",
              "      <td>9827.0</td>\n",
              "    </tr>\n",
              "    <tr>\n",
              "      <th>Jul</th>\n",
              "      <td>41.0</td>\n",
              "      <td>340.0</td>\n",
              "      <td>14016.0</td>\n",
              "    </tr>\n",
              "    <tr>\n",
              "      <th>Jun</th>\n",
              "      <td>28.0</td>\n",
              "      <td>172.0</td>\n",
              "      <td>23257.0</td>\n",
              "    </tr>\n",
              "    <tr>\n",
              "      <th>May</th>\n",
              "      <td>17.0</td>\n",
              "      <td>159.0</td>\n",
              "      <td>2256.0</td>\n",
              "    </tr>\n",
              "  </tbody>\n",
              "</table>\n",
              "</div>"
            ],
            "text/plain": [
              "               (count, duration)  (sum, duration)  mb_used\n",
              "user_id month                                             \n",
              "1000    Aug                 42.0            408.0  14070.0\n",
              "        Dec                 38.0            333.0   9827.0\n",
              "        Jul                 41.0            340.0  14016.0\n",
              "        Jun                 28.0            172.0  23257.0\n",
              "        May                 17.0            159.0   2256.0"
            ]
          },
          "metadata": {},
          "execution_count": 49
        }
      ]
    },
    {
      "cell_type": "markdown",
      "metadata": {
        "id": "lnMY69sSq7b_"
      },
      "source": [
        "**Исследование таблицы \"Информация о сообщениях\".**\n",
        "\n",
        "---\n",
        "\n"
      ]
    },
    {
      "cell_type": "markdown",
      "metadata": {
        "id": "VSyBs_52rGMB"
      },
      "source": [
        "Дублей в таблице \"Информация о сообщениях\" нет."
      ]
    },
    {
      "cell_type": "code",
      "metadata": {
        "colab": {
          "base_uri": "https://localhost:8080/"
        },
        "id": "J8OQ3JjobYx7",
        "outputId": "641e0938-5b96-44e0-b38b-10124cba0487"
      },
      "source": [
        "messages.duplicated().sum()"
      ],
      "execution_count": 50,
      "outputs": [
        {
          "output_type": "execute_result",
          "data": {
            "text/plain": [
              "0"
            ]
          },
          "metadata": {},
          "execution_count": 50
        }
      ]
    },
    {
      "cell_type": "markdown",
      "metadata": {
        "id": "gV8WZnikbfpw"
      },
      "source": [
        "Для получения информации об СМС абонентов сформируем сводную таблицу и определим количество сообщений, приходящихся на каждого пользователя."
      ]
    },
    {
      "cell_type": "code",
      "metadata": {
        "colab": {
          "base_uri": "https://localhost:8080/"
        },
        "id": "yFJE2OVIrGYo",
        "outputId": "5b16d051-de7b-486d-8366-5f9852bf2e97"
      },
      "source": [
        "messages_pivot=pd.pivot_table(messages,index='user_id', values='id', aggfunc='count')\n",
        "messages_pivot['id'].describe().apply(lambda x: format(x, '.1f'))"
      ],
      "execution_count": 51,
      "outputs": [
        {
          "output_type": "execute_result",
          "data": {
            "text/plain": [
              "count     426.0\n",
              "mean      288.8\n",
              "std       267.6\n",
              "min         1.0\n",
              "25%        85.8\n",
              "50%       215.5\n",
              "75%       414.0\n",
              "max      1463.0\n",
              "Name: id, dtype: object"
            ]
          },
          "metadata": {},
          "execution_count": 51
        }
      ]
    },
    {
      "cell_type": "markdown",
      "metadata": {
        "id": "oEFjBDjvwsFR"
      },
      "source": [
        "В среднем абоненты \"Мегалайна\" из представленной выборки отправляют 2 сообщения за три дня, но есть и пользователи, не использующие сервис коротких сообщений (таких 74 человека) или редко использующие. Четверть абонентов отправляют СМС в среднем не чаще одного раза за 5 дней. \n",
        "\n",
        "Зафиксированный максимум - в среднем 4 сообщения в день, очевидно, не является ошибкой, судя по форме графика количества СМС."
      ]
    },
    {
      "cell_type": "code",
      "metadata": {
        "colab": {
          "base_uri": "https://localhost:8080/",
          "height": 339
        },
        "id": "GlnWM6_Zstg6",
        "outputId": "47b28fdf-7faf-49fb-f220-33beb7e7b37f"
      },
      "source": [
        "plt.figure(figsize=(15, 5))\n",
        "plt.plot(messages_pivot.id)\n",
        "plt.xlabel('user_id')\n",
        "plt.ylabel('messages counts')\n",
        "plt.show();"
      ],
      "execution_count": 52,
      "outputs": [
        {
          "output_type": "display_data",
          "data": {
            "image/png": "[encoded data removed]",
            "text/plain": [
              "<Figure size 1080x360 with 1 Axes>"
            ]
          },
          "metadata": {
            "needs_background": "light"
          }
        }
      ]
    },
    {
      "cell_type": "markdown",
      "metadata": {
        "id": "8mKgL8fdWzlP"
      },
      "source": [
        "Добавим в таблицу с данными о сообщениях пользователей, столбец содержащий информацию о месяце отправки СМС."
      ]
    },
    {
      "cell_type": "code",
      "metadata": {
        "id": "ZCzdMm5cWzlh"
      },
      "source": [
        "messages['month'] = pd.DatetimeIndex(messages['message_date']).month\n",
        "messages['month'] = messages['month'].apply(lambda x: calendar.month_abbr[x])"
      ],
      "execution_count": 53,
      "outputs": []
    },
    {
      "cell_type": "markdown",
      "metadata": {
        "id": "xpVHXIG3Xb1Q"
      },
      "source": [
        "Рассчитаем для каждого пользователя отправленных сообщений по месяцам и добавим в **результирующую таблицу**:"
      ]
    },
    {
      "cell_type": "code",
      "metadata": {
        "id": "pgfutRpRONak"
      },
      "source": [
        "result_table=result_table.join(messages.pivot_table(index=['user_id','month'],values='id',aggfunc='count').fillna(0),how='outer',lsuffix='_min',rsuffix='_mb')"
      ],
      "execution_count": 54,
      "outputs": []
    },
    {
      "cell_type": "code",
      "metadata": {
        "colab": {
          "base_uri": "https://localhost:8080/",
          "height": 235
        },
        "id": "UH98rirZOCCE",
        "outputId": "72f24c42-083a-4941-f792-22a703dc1ec3"
      },
      "source": [
        "result_table.columns=['calls_count','calls_duration','mb_used','messages_count']\n",
        "result_table['ext_rev_calls']=0\n",
        "result_table['ext_rev_mb']=0\n",
        "result_table['ext_rev_msgs']=0\n",
        "result_table['revenue']=0\n",
        "result_table.head()"
      ],
      "execution_count": 55,
      "outputs": [
        {
          "output_type": "execute_result",
          "data": {
            "text/html": [
              "<div>\n",
              "<style scoped>\n",
              "    .dataframe tbody tr th:only-of-type {\n",
              "        vertical-align: middle;\n",
              "    }\n",
              "\n",
              "    .dataframe tbody tr th {\n",
              "        vertical-align: top;\n",
              "    }\n",
              "\n",
              "    .dataframe thead th {\n",
              "        text-align: right;\n",
              "    }\n",
              "</style>\n",
              "<table border=\"1\" class=\"dataframe\">\n",
              "  <thead>\n",
              "    <tr style=\"text-align: right;\">\n",
              "      <th></th>\n",
              "      <th></th>\n",
              "      <th>calls_count</th>\n",
              "      <th>calls_duration</th>\n",
              "      <th>mb_used</th>\n",
              "      <th>messages_count</th>\n",
              "      <th>ext_rev_calls</th>\n",
              "      <th>ext_rev_mb</th>\n",
              "      <th>ext_rev_msgs</th>\n",
              "      <th>revenue</th>\n",
              "    </tr>\n",
              "    <tr>\n",
              "      <th>user_id</th>\n",
              "      <th>month</th>\n",
              "      <th></th>\n",
              "      <th></th>\n",
              "      <th></th>\n",
              "      <th></th>\n",
              "      <th></th>\n",
              "      <th></th>\n",
              "      <th></th>\n",
              "      <th></th>\n",
              "    </tr>\n",
              "  </thead>\n",
              "  <tbody>\n",
              "    <tr>\n",
              "      <th rowspan=\"5\" valign=\"top\">1000</th>\n",
              "      <th>Aug</th>\n",
              "      <td>42.0</td>\n",
              "      <td>408.0</td>\n",
              "      <td>14070.0</td>\n",
              "      <td>81.0</td>\n",
              "      <td>0</td>\n",
              "      <td>0</td>\n",
              "      <td>0</td>\n",
              "      <td>0</td>\n",
              "    </tr>\n",
              "    <tr>\n",
              "      <th>Dec</th>\n",
              "      <td>38.0</td>\n",
              "      <td>333.0</td>\n",
              "      <td>9827.0</td>\n",
              "      <td>70.0</td>\n",
              "      <td>0</td>\n",
              "      <td>0</td>\n",
              "      <td>0</td>\n",
              "      <td>0</td>\n",
              "    </tr>\n",
              "    <tr>\n",
              "      <th>Jul</th>\n",
              "      <td>41.0</td>\n",
              "      <td>340.0</td>\n",
              "      <td>14016.0</td>\n",
              "      <td>75.0</td>\n",
              "      <td>0</td>\n",
              "      <td>0</td>\n",
              "      <td>0</td>\n",
              "      <td>0</td>\n",
              "    </tr>\n",
              "    <tr>\n",
              "      <th>Jun</th>\n",
              "      <td>28.0</td>\n",
              "      <td>172.0</td>\n",
              "      <td>23257.0</td>\n",
              "      <td>60.0</td>\n",
              "      <td>0</td>\n",
              "      <td>0</td>\n",
              "      <td>0</td>\n",
              "      <td>0</td>\n",
              "    </tr>\n",
              "    <tr>\n",
              "      <th>May</th>\n",
              "      <td>17.0</td>\n",
              "      <td>159.0</td>\n",
              "      <td>2256.0</td>\n",
              "      <td>22.0</td>\n",
              "      <td>0</td>\n",
              "      <td>0</td>\n",
              "      <td>0</td>\n",
              "      <td>0</td>\n",
              "    </tr>\n",
              "  </tbody>\n",
              "</table>\n",
              "</div>"
            ],
            "text/plain": [
              "               calls_count  calls_duration  ...  ext_rev_msgs  revenue\n",
              "user_id month                               ...                       \n",
              "1000    Aug           42.0           408.0  ...             0        0\n",
              "        Dec           38.0           333.0  ...             0        0\n",
              "        Jul           41.0           340.0  ...             0        0\n",
              "        Jun           28.0           172.0  ...             0        0\n",
              "        May           17.0           159.0  ...             0        0\n",
              "\n",
              "[5 rows x 8 columns]"
            ]
          },
          "metadata": {},
          "execution_count": 55
        }
      ]
    },
    {
      "cell_type": "markdown",
      "metadata": {
        "id": "7_HY6ymlzNOc"
      },
      "source": [
        "**Исследование таблицы \"Информация о тарифах\".**\n",
        "\n",
        "---\n",
        "\n"
      ]
    },
    {
      "cell_type": "markdown",
      "metadata": {
        "id": "LOo_0U-azepY"
      },
      "source": [
        "Информация о тарифах заполена в соотвествии с описанием данных."
      ]
    },
    {
      "cell_type": "code",
      "metadata": {
        "colab": {
          "base_uri": "https://localhost:8080/",
          "height": 111
        },
        "id": "BsnhakxdzfIK",
        "outputId": "ba69cc8c-efc2-4088-c4af-012198409b88"
      },
      "source": [
        "display(tariffs)"
      ],
      "execution_count": 56,
      "outputs": [
        {
          "output_type": "display_data",
          "data": {
            "text/html": [
              "<div>\n",
              "<style scoped>\n",
              "    .dataframe tbody tr th:only-of-type {\n",
              "        vertical-align: middle;\n",
              "    }\n",
              "\n",
              "    .dataframe tbody tr th {\n",
              "        vertical-align: top;\n",
              "    }\n",
              "\n",
              "    .dataframe thead th {\n",
              "        text-align: right;\n",
              "    }\n",
              "</style>\n",
              "<table border=\"1\" class=\"dataframe\">\n",
              "  <thead>\n",
              "    <tr style=\"text-align: right;\">\n",
              "      <th></th>\n",
              "      <th>messages_included</th>\n",
              "      <th>mb_per_month_included</th>\n",
              "      <th>minutes_included</th>\n",
              "      <th>rub_monthly_fee</th>\n",
              "      <th>rub_per_gb</th>\n",
              "      <th>rub_per_message</th>\n",
              "      <th>rub_per_minute</th>\n",
              "      <th>tariff_name</th>\n",
              "    </tr>\n",
              "  </thead>\n",
              "  <tbody>\n",
              "    <tr>\n",
              "      <th>0</th>\n",
              "      <td>50</td>\n",
              "      <td>15360</td>\n",
              "      <td>500</td>\n",
              "      <td>550</td>\n",
              "      <td>200</td>\n",
              "      <td>3</td>\n",
              "      <td>3</td>\n",
              "      <td>smart</td>\n",
              "    </tr>\n",
              "    <tr>\n",
              "      <th>1</th>\n",
              "      <td>1000</td>\n",
              "      <td>30720</td>\n",
              "      <td>3000</td>\n",
              "      <td>1950</td>\n",
              "      <td>150</td>\n",
              "      <td>1</td>\n",
              "      <td>1</td>\n",
              "      <td>ultra</td>\n",
              "    </tr>\n",
              "  </tbody>\n",
              "</table>\n",
              "</div>"
            ],
            "text/plain": [
              "   messages_included  mb_per_month_included  ...  rub_per_minute  tariff_name\n",
              "0                 50                  15360  ...               3        smart\n",
              "1               1000                  30720  ...               1        ultra\n",
              "\n",
              "[2 rows x 8 columns]"
            ]
          },
          "metadata": {}
        }
      ]
    },
    {
      "cell_type": "markdown",
      "metadata": {
        "id": "Uy1gdx5S0TYY"
      },
      "source": [
        "**Исследование таблицы \"Информация о пользователях\".**\n",
        "\n",
        "---\n",
        "\n"
      ]
    },
    {
      "cell_type": "markdown",
      "metadata": {
        "id": "BnLyuVI40g0H"
      },
      "source": [
        "Таблица \"Информация о пользователях\" содержит 500 уникальных записей."
      ]
    },
    {
      "cell_type": "code",
      "metadata": {
        "colab": {
          "base_uri": "https://localhost:8080/"
        },
        "id": "yKgTSCb3byJ3",
        "outputId": "0223fd57-9509-4628-c8b9-4547500b6fcf"
      },
      "source": [
        "users.duplicated().sum()"
      ],
      "execution_count": 57,
      "outputs": [
        {
          "output_type": "execute_result",
          "data": {
            "text/plain": [
              "0"
            ]
          },
          "metadata": {},
          "execution_count": 57
        }
      ]
    },
    {
      "cell_type": "markdown",
      "metadata": {
        "id": "Wk8spHU1fzS9"
      },
      "source": [
        "Проверим, нет ли среди абонентов, прекративших пользование тарифом, клиентов, переключившихся на другой тариф оператора. Для этого сравним полные имена  абонентов, разорвавших контракт, с полными именами оставшихся клиентов."
      ]
    },
    {
      "cell_type": "code",
      "metadata": {
        "colab": {
          "base_uri": "https://localhost:8080/"
        },
        "id": "Z9VIJ88TcYcj",
        "outputId": "c0f512c6-379a-4cad-9152-7183f8e75787"
      },
      "source": [
        "losted_users = users[users.churn_date.isna()==False]\n",
        "losted_users['full_name']=losted_users.first_name+\" \"+losted_users.last_name\n",
        "users_full_name=users[users.churn_date.isna()].first_name+\" \"+users[users.churn_date.isna()==False].last_name\n",
        "losted_users.full_name.isin(users_full_name).sum()"
      ],
      "execution_count": 58,
      "outputs": [
        {
          "output_type": "execute_result",
          "data": {
            "text/plain": [
              "0"
            ]
          },
          "metadata": {},
          "execution_count": 58
        }
      ]
    },
    {
      "cell_type": "markdown",
      "metadata": {
        "id": "WP1Kdz96vyod"
      },
      "source": [
        "Рассчитаем в результирующей таблице **ежемесячную выручку** с каждого пользователя:\n",
        "\n",
        "---\n",
        "\n"
      ]
    },
    {
      "cell_type": "code",
      "metadata": {
        "id": "hhwPFqudasd6"
      },
      "source": [
        "#Условия тарифов\n",
        "smart_terms={\n",
        "    'rub_monthly_fee':tariffs[tariffs['tariff_name']=='smart']['rub_monthly_fee'].values[0],\n",
        "    'minutes_included':tariffs[tariffs['tariff_name']=='smart']['minutes_included'].values[0],\n",
        "    'mb_per_month_included':tariffs[tariffs['tariff_name']=='smart']['mb_per_month_included'].values[0],\n",
        "    'messages_included':tariffs[tariffs['tariff_name']=='smart']['messages_included'].values[0],\n",
        "    'rub_per_minute':tariffs[tariffs['tariff_name']=='smart']['rub_per_minute'].values[0],\n",
        "    'rub_per_gb':tariffs[tariffs['tariff_name']=='smart']['rub_per_gb'].values[0],\n",
        "    'rub_per_message':tariffs[tariffs['tariff_name']=='smart']['rub_per_message'].values[0]\n",
        "}\n",
        "ultra_terms={\n",
        "    'rub_monthly_fee':tariffs[tariffs['tariff_name']=='ultra']['rub_monthly_fee'].values[0],\n",
        "    'minutes_included':tariffs[tariffs['tariff_name']=='ultra']['minutes_included'].values[0],\n",
        "    'mb_per_month_included':tariffs[tariffs['tariff_name']=='ultra']['mb_per_month_included'].values[0],\n",
        "    'messages_included':tariffs[tariffs['tariff_name']=='ultra']['messages_included'].values[0],\n",
        "    'rub_per_minute':tariffs[tariffs['tariff_name']=='ultra']['rub_per_minute'].values[0],\n",
        "    'rub_per_gb':tariffs[tariffs['tariff_name']=='ultra']['rub_per_gb'].values[0],\n",
        "    'rub_per_message':tariffs[tariffs['tariff_name']=='ultra']['rub_per_message'].values[0]\n",
        "}"
      ],
      "execution_count": 59,
      "outputs": []
    },
    {
      "cell_type": "code",
      "metadata": {
        "id": "nOQjzKkLasd6"
      },
      "source": [
        "#Рассчет выручки и превышения ресурсов по пакетам\n",
        "def set_rev(ind):\n",
        "    tar=users.loc[users['user_id']==ind[0],'tariff'].values[0]    \n",
        "    if tar=='smart':\n",
        "        terms=smart_terms\n",
        "    else:\n",
        "        terms=ultra_terms\n",
        "    result_table.loc[ind,'ext_rev_calls']=result_table.loc[ind,'calls_duration']-terms['minutes_included'] if result_table.loc[ind,'calls_duration']>terms['minutes_included'] else 0\n",
        "    result_table.loc[ind,'ext_rev_mb']=result_table.loc[ind,'mb_used']-terms['mb_per_month_included'] if result_table.loc[ind,'mb_used']>terms['mb_per_month_included'] else 0\n",
        "    result_table.loc[ind,'ext_rev_msgs']=result_table.loc[ind,'messages_count']-terms['messages_included'] if result_table.loc[ind,'messages_count']>terms['messages_included'] else 0\n",
        "    result_table.loc[ind,'revenue']=terms['rub_monthly_fee']+\\\n",
        "            result_table.loc[ind,'ext_rev_calls']*terms['rub_per_minute']+\\\n",
        "            np.ceil(result_table.loc[ind,'ext_rev_mb']/1024)*terms['rub_per_gb']+\\\n",
        "            result_table.loc[ind,'ext_rev_msgs']*terms['rub_per_message']  \n",
        "    \n",
        "result_table.apply(lambda x: set_rev(x.name),axis=1);"
      ],
      "execution_count": 60,
      "outputs": []
    },
    {
      "cell_type": "code",
      "metadata": {
        "colab": {
          "base_uri": "https://localhost:8080/",
          "height": 700
        },
        "id": "QGQy8BM8PdVG",
        "outputId": "3e37247c-f45b-4d77-bd2d-475a168179ef"
      },
      "source": [
        "result_table.head(20)"
      ],
      "execution_count": 61,
      "outputs": [
        {
          "output_type": "execute_result",
          "data": {
            "text/html": [
              "<div>\n",
              "<style scoped>\n",
              "    .dataframe tbody tr th:only-of-type {\n",
              "        vertical-align: middle;\n",
              "    }\n",
              "\n",
              "    .dataframe tbody tr th {\n",
              "        vertical-align: top;\n",
              "    }\n",
              "\n",
              "    .dataframe thead th {\n",
              "        text-align: right;\n",
              "    }\n",
              "</style>\n",
              "<table border=\"1\" class=\"dataframe\">\n",
              "  <thead>\n",
              "    <tr style=\"text-align: right;\">\n",
              "      <th></th>\n",
              "      <th></th>\n",
              "      <th>calls_count</th>\n",
              "      <th>calls_duration</th>\n",
              "      <th>mb_used</th>\n",
              "      <th>messages_count</th>\n",
              "      <th>ext_rev_calls</th>\n",
              "      <th>ext_rev_mb</th>\n",
              "      <th>ext_rev_msgs</th>\n",
              "      <th>revenue</th>\n",
              "    </tr>\n",
              "    <tr>\n",
              "      <th>user_id</th>\n",
              "      <th>month</th>\n",
              "      <th></th>\n",
              "      <th></th>\n",
              "      <th></th>\n",
              "      <th></th>\n",
              "      <th></th>\n",
              "      <th></th>\n",
              "      <th></th>\n",
              "      <th></th>\n",
              "    </tr>\n",
              "  </thead>\n",
              "  <tbody>\n",
              "    <tr>\n",
              "      <th rowspan=\"8\" valign=\"top\">1000</th>\n",
              "      <th>Aug</th>\n",
              "      <td>42.0</td>\n",
              "      <td>408.0</td>\n",
              "      <td>14070.0</td>\n",
              "      <td>81.0</td>\n",
              "      <td>0.0</td>\n",
              "      <td>0.0</td>\n",
              "      <td>0.0</td>\n",
              "      <td>1950.0</td>\n",
              "    </tr>\n",
              "    <tr>\n",
              "      <th>Dec</th>\n",
              "      <td>38.0</td>\n",
              "      <td>333.0</td>\n",
              "      <td>9827.0</td>\n",
              "      <td>70.0</td>\n",
              "      <td>0.0</td>\n",
              "      <td>0.0</td>\n",
              "      <td>0.0</td>\n",
              "      <td>1950.0</td>\n",
              "    </tr>\n",
              "    <tr>\n",
              "      <th>Jul</th>\n",
              "      <td>41.0</td>\n",
              "      <td>340.0</td>\n",
              "      <td>14016.0</td>\n",
              "      <td>75.0</td>\n",
              "      <td>0.0</td>\n",
              "      <td>0.0</td>\n",
              "      <td>0.0</td>\n",
              "      <td>1950.0</td>\n",
              "    </tr>\n",
              "    <tr>\n",
              "      <th>Jun</th>\n",
              "      <td>28.0</td>\n",
              "      <td>172.0</td>\n",
              "      <td>23257.0</td>\n",
              "      <td>60.0</td>\n",
              "      <td>0.0</td>\n",
              "      <td>0.0</td>\n",
              "      <td>0.0</td>\n",
              "      <td>1950.0</td>\n",
              "    </tr>\n",
              "    <tr>\n",
              "      <th>May</th>\n",
              "      <td>17.0</td>\n",
              "      <td>159.0</td>\n",
              "      <td>2256.0</td>\n",
              "      <td>22.0</td>\n",
              "      <td>0.0</td>\n",
              "      <td>0.0</td>\n",
              "      <td>0.0</td>\n",
              "      <td>1950.0</td>\n",
              "    </tr>\n",
              "    <tr>\n",
              "      <th>Nov</th>\n",
              "      <td>37.0</td>\n",
              "      <td>338.0</td>\n",
              "      <td>14768.0</td>\n",
              "      <td>58.0</td>\n",
              "      <td>0.0</td>\n",
              "      <td>0.0</td>\n",
              "      <td>0.0</td>\n",
              "      <td>1950.0</td>\n",
              "    </tr>\n",
              "    <tr>\n",
              "      <th>Oct</th>\n",
              "      <td>44.0</td>\n",
              "      <td>350.0</td>\n",
              "      <td>14717.0</td>\n",
              "      <td>73.0</td>\n",
              "      <td>0.0</td>\n",
              "      <td>0.0</td>\n",
              "      <td>0.0</td>\n",
              "      <td>1950.0</td>\n",
              "    </tr>\n",
              "    <tr>\n",
              "      <th>Sep</th>\n",
              "      <td>46.0</td>\n",
              "      <td>466.0</td>\n",
              "      <td>14581.0</td>\n",
              "      <td>57.0</td>\n",
              "      <td>0.0</td>\n",
              "      <td>0.0</td>\n",
              "      <td>0.0</td>\n",
              "      <td>1950.0</td>\n",
              "    </tr>\n",
              "    <tr>\n",
              "      <th rowspan=\"2\" valign=\"top\">1001</th>\n",
              "      <th>Dec</th>\n",
              "      <td>47.0</td>\n",
              "      <td>414.0</td>\n",
              "      <td>14053.0</td>\n",
              "      <td>NaN</td>\n",
              "      <td>0.0</td>\n",
              "      <td>0.0</td>\n",
              "      <td>0.0</td>\n",
              "      <td>550.0</td>\n",
              "    </tr>\n",
              "    <tr>\n",
              "      <th>Nov</th>\n",
              "      <td>45.0</td>\n",
              "      <td>430.0</td>\n",
              "      <td>18452.0</td>\n",
              "      <td>NaN</td>\n",
              "      <td>0.0</td>\n",
              "      <td>3092.0</td>\n",
              "      <td>0.0</td>\n",
              "      <td>1350.0</td>\n",
              "    </tr>\n",
              "    <tr>\n",
              "      <th rowspan=\"7\" valign=\"top\">1002</th>\n",
              "      <th>Aug</th>\n",
              "      <td>37.0</td>\n",
              "      <td>289.0</td>\n",
              "      <td>20347.0</td>\n",
              "      <td>13.0</td>\n",
              "      <td>0.0</td>\n",
              "      <td>4987.0</td>\n",
              "      <td>0.0</td>\n",
              "      <td>1550.0</td>\n",
              "    </tr>\n",
              "    <tr>\n",
              "      <th>Dec</th>\n",
              "      <td>27.0</td>\n",
              "      <td>236.0</td>\n",
              "      <td>18137.0</td>\n",
              "      <td>12.0</td>\n",
              "      <td>0.0</td>\n",
              "      <td>2777.0</td>\n",
              "      <td>0.0</td>\n",
              "      <td>1150.0</td>\n",
              "    </tr>\n",
              "    <tr>\n",
              "      <th>Jul</th>\n",
              "      <td>21.0</td>\n",
              "      <td>214.0</td>\n",
              "      <td>17601.0</td>\n",
              "      <td>11.0</td>\n",
              "      <td>0.0</td>\n",
              "      <td>2241.0</td>\n",
              "      <td>0.0</td>\n",
              "      <td>1150.0</td>\n",
              "    </tr>\n",
              "    <tr>\n",
              "      <th>Jun</th>\n",
              "      <td>14.0</td>\n",
              "      <td>117.0</td>\n",
              "      <td>10871.0</td>\n",
              "      <td>4.0</td>\n",
              "      <td>0.0</td>\n",
              "      <td>0.0</td>\n",
              "      <td>0.0</td>\n",
              "      <td>550.0</td>\n",
              "    </tr>\n",
              "    <tr>\n",
              "      <th>Nov</th>\n",
              "      <td>25.0</td>\n",
              "      <td>243.0</td>\n",
              "      <td>18610.0</td>\n",
              "      <td>16.0</td>\n",
              "      <td>0.0</td>\n",
              "      <td>3250.0</td>\n",
              "      <td>0.0</td>\n",
              "      <td>1350.0</td>\n",
              "    </tr>\n",
              "    <tr>\n",
              "      <th>Oct</th>\n",
              "      <td>24.0</td>\n",
              "      <td>212.0</td>\n",
              "      <td>13905.0</td>\n",
              "      <td>10.0</td>\n",
              "      <td>0.0</td>\n",
              "      <td>0.0</td>\n",
              "      <td>0.0</td>\n",
              "      <td>550.0</td>\n",
              "    </tr>\n",
              "    <tr>\n",
              "      <th>Sep</th>\n",
              "      <td>25.0</td>\n",
              "      <td>206.0</td>\n",
              "      <td>16712.0</td>\n",
              "      <td>4.0</td>\n",
              "      <td>0.0</td>\n",
              "      <td>1352.0</td>\n",
              "      <td>0.0</td>\n",
              "      <td>950.0</td>\n",
              "    </tr>\n",
              "    <tr>\n",
              "      <th rowspan=\"3\" valign=\"top\">1003</th>\n",
              "      <th>Aug</th>\n",
              "      <td>43.0</td>\n",
              "      <td>380.0</td>\n",
              "      <td>8571.0</td>\n",
              "      <td>37.0</td>\n",
              "      <td>0.0</td>\n",
              "      <td>0.0</td>\n",
              "      <td>0.0</td>\n",
              "      <td>1950.0</td>\n",
              "    </tr>\n",
              "    <tr>\n",
              "      <th>Dec</th>\n",
              "      <td>88.0</td>\n",
              "      <td>802.0</td>\n",
              "      <td>10132.0</td>\n",
              "      <td>75.0</td>\n",
              "      <td>0.0</td>\n",
              "      <td>0.0</td>\n",
              "      <td>0.0</td>\n",
              "      <td>1950.0</td>\n",
              "    </tr>\n",
              "    <tr>\n",
              "      <th>Nov</th>\n",
              "      <td>95.0</td>\n",
              "      <td>824.0</td>\n",
              "      <td>11368.0</td>\n",
              "      <td>94.0</td>\n",
              "      <td>0.0</td>\n",
              "      <td>0.0</td>\n",
              "      <td>0.0</td>\n",
              "      <td>1950.0</td>\n",
              "    </tr>\n",
              "  </tbody>\n",
              "</table>\n",
              "</div>"
            ],
            "text/plain": [
              "               calls_count  calls_duration  ...  ext_rev_msgs  revenue\n",
              "user_id month                               ...                       \n",
              "1000    Aug           42.0           408.0  ...           0.0   1950.0\n",
              "        Dec           38.0           333.0  ...           0.0   1950.0\n",
              "        Jul           41.0           340.0  ...           0.0   1950.0\n",
              "        Jun           28.0           172.0  ...           0.0   1950.0\n",
              "        May           17.0           159.0  ...           0.0   1950.0\n",
              "        Nov           37.0           338.0  ...           0.0   1950.0\n",
              "        Oct           44.0           350.0  ...           0.0   1950.0\n",
              "        Sep           46.0           466.0  ...           0.0   1950.0\n",
              "1001    Dec           47.0           414.0  ...           0.0    550.0\n",
              "        Nov           45.0           430.0  ...           0.0   1350.0\n",
              "1002    Aug           37.0           289.0  ...           0.0   1550.0\n",
              "        Dec           27.0           236.0  ...           0.0   1150.0\n",
              "        Jul           21.0           214.0  ...           0.0   1150.0\n",
              "        Jun           14.0           117.0  ...           0.0    550.0\n",
              "        Nov           25.0           243.0  ...           0.0   1350.0\n",
              "        Oct           24.0           212.0  ...           0.0    550.0\n",
              "        Sep           25.0           206.0  ...           0.0    950.0\n",
              "1003    Aug           43.0           380.0  ...           0.0   1950.0\n",
              "        Dec           88.0           802.0  ...           0.0   1950.0\n",
              "        Nov           95.0           824.0  ...           0.0   1950.0\n",
              "\n",
              "[20 rows x 8 columns]"
            ]
          },
          "metadata": {},
          "execution_count": 61
        }
      ]
    },
    {
      "cell_type": "markdown",
      "metadata": {
        "id": "YFhjltSG2fOF"
      },
      "source": [
        "\n",
        "\n",
        "---\n",
        "\n",
        "\n",
        "\n",
        "---\n",
        "\n"
      ]
    },
    {
      "cell_type": "markdown",
      "metadata": {
        "id": "lAaMx0M8sK67"
      },
      "source": [
        "---\n",
        "\n",
        "\n",
        "## **Исследовательский анализ данных (EDA)**<a  class=\"anchor\" id=\"EDA\"></a>\n",
        "\n"
      ]
    },
    {
      "cell_type": "markdown",
      "metadata": {
        "id": "ttJjenNI_1Wc"
      },
      "source": [
        "#### **Сводная информация о поведении пользователей** "
      ]
    },
    {
      "cell_type": "markdown",
      "metadata": {
        "id": "bfO7zh0uYMTR"
      },
      "source": [
        "Подвыборки абонентов с тарифом \"Смарт\" и с тарифом \"Ультра\"."
      ]
    },
    {
      "cell_type": "code",
      "metadata": {
        "id": "5hwJ8RcGYWae"
      },
      "source": [
        "smart_users=users.query('tariff==\"smart\"')['user_id']\n",
        "ultra_users=users.query('tariff==\"ultra\"')['user_id']"
      ],
      "execution_count": 62,
      "outputs": []
    },
    {
      "cell_type": "markdown",
      "metadata": {
        "id": "CHyQfZW8KQet"
      },
      "source": [
        "Определим соотношение в выборке абонентов с тарифом \"Смарт\" и с тарифом \"Ультра\". "
      ]
    },
    {
      "cell_type": "code",
      "metadata": {
        "colab": {
          "base_uri": "https://localhost:8080/"
        },
        "id": "k1uQkxeBFrLS",
        "outputId": "0fc7c02b-bc26-4fe2-dec6-576b86b6a38a"
      },
      "source": [
        "print('Количество абонентов с тарифом \"Смарт\" в выборке - {}, с тарифом \"Ультра\" - {}'.format(smart_users.shape[0],ultra_users.shape[0]))"
      ],
      "execution_count": 63,
      "outputs": [
        {
          "output_type": "stream",
          "name": "stdout",
          "text": [
            "Количество абонентов с тарифом \"Смарт\" в выборке - 351, с тарифом \"Ультра\" - 149\n"
          ]
        }
      ]
    },
    {
      "cell_type": "markdown",
      "metadata": {
        "id": "kLWGUdnbY1_Q"
      },
      "source": [
        "Определим суммартную выручку от абонентов с тарифами \"Смарт\" и \"Ультра\"."
      ]
    },
    {
      "cell_type": "code",
      "metadata": {
        "id": "cVcb4xSoZLJv"
      },
      "source": [
        "smart_revenue=sum(result_table.loc[(result_table.index.get_level_values('user_id').isin(smart_users),),]['revenue'])\n",
        "ultra_revenue=sum(result_table.loc[(result_table.index.get_level_values('user_id').isin(ultra_users),),]['revenue'])"
      ],
      "execution_count": 64,
      "outputs": []
    },
    {
      "cell_type": "code",
      "metadata": {
        "colab": {
          "base_uri": "https://localhost:8080/"
        },
        "id": "GIsNaD-SepYr",
        "outputId": "e04121bd-e573-46c1-c3fe-86a44e3d6e59"
      },
      "source": [
        "print('Суммарная выручка по выборке по тарифу \"Смарт\" - {:.2f}руб., по тарифу \"Ультра\" - {:.2f}руб.'.format(smart_revenue,ultra_revenue))"
      ],
      "execution_count": 65,
      "outputs": [
        {
          "output_type": "stream",
          "name": "stdout",
          "text": [
            "Суммарная выручка по выборке по тарифу \"Смарт\" - 2885751.00руб., по тарифу \"Ультра\" - 2040000.00руб.\n"
          ]
        }
      ]
    },
    {
      "cell_type": "markdown",
      "metadata": {
        "id": "INFPx_E1jG62"
      },
      "source": [
        "Выручка от пользователей тарифа \"Смарт\" лишь на 41,5% превышает выручку в 2,3 раза менее многочисленной группы абонентов с тарифом \"Ультра\".   "
      ]
    },
    {
      "cell_type": "markdown",
      "metadata": {
        "id": "XDAMz7SBvnBK"
      },
      "source": [
        "Рассмотрим выручку компании по месяцам в разрезе тарифов."
      ]
    },
    {
      "cell_type": "code",
      "metadata": {
        "id": "eC8f0N8yvnOa"
      },
      "source": [
        "revenue_from_smart=result_table.loc[(result_table.index.get_level_values('user_id').isin(smart_users),),].droplevel('user_id',axis=0)\n",
        "revenue_by_month=revenue_from_smart.pivot_table(index=revenue_from_smart.index,values='revenue',aggfunc='sum')\n",
        "revenue_from_ultra=result_table.loc[(result_table.index.get_level_values('user_id').isin(ultra_users),),].droplevel('user_id',axis=0)\n",
        "revenue_by_month=revenue_by_month.join(revenue_from_ultra.pivot_table(index=revenue_from_ultra.index,values='revenue',aggfunc='sum'),how='outer',rsuffix='_ultra')\n",
        "revenue_by_month.columns=['Smart_revenue','Ultra_revenue']"
      ],
      "execution_count": 66,
      "outputs": []
    },
    {
      "cell_type": "code",
      "metadata": {
        "id": "ijQbPSu8jilc"
      },
      "source": [
        "for i in revenue_by_month.index:\n",
        "    revenue_by_month.loc[i,'month_num']=list(calendar.month_abbr).index(i)\n",
        "revenue_by_month.sort_values(by='month_num',inplace=True)"
      ],
      "execution_count": 67,
      "outputs": []
    },
    {
      "cell_type": "markdown",
      "metadata": {
        "id": "Gq10QBLJmOBA"
      },
      "source": [
        "Визуально, выручка компании по месяцам возрастает линейно как совокупно, так и по тарифам отдельно."
      ]
    },
    {
      "cell_type": "code",
      "metadata": {
        "colab": {
          "base_uri": "https://localhost:8080/",
          "height": 339
        },
        "id": "1ugpLHc7wFSb",
        "outputId": "fbfbb4cf-c673-4313-f5d7-d18b301ce150"
      },
      "source": [
        "fig, ax = plt.subplots(figsize=(15, 5))\n",
        "\n",
        "p1=ax.bar(np.arange(1,13),revenue_by_month['Smart_revenue'], label='Revenue from Smart')\n",
        "p2=ax.bar(np.arange(1,13),revenue_by_month['Ultra_revenue'],bottom=revenue_by_month['Smart_revenue'].values, label='Revenue from Ultra')\n",
        "\n",
        "ax.set_ylabel('Revenue, rub')\n",
        "ax.set_title('Revenue from Smart and Ultra',fontsize=14)\n",
        "ax.set_xticks(np.arange(1,13))\n",
        "ax.set_xticklabels(revenue_by_month.index)\n",
        "\n",
        "ax.legend()\n",
        "\n",
        "plt.show()"
      ],
      "execution_count": 68,
      "outputs": [
        {
          "output_type": "display_data",
          "data": {
            "image/png": "[encoded data removed]",
            "text/plain": [
              "<Figure size 1080x360 with 1 Axes>"
            ]
          },
          "metadata": {
            "needs_background": "light"
          }
        }
      ]
    },
    {
      "cell_type": "markdown",
      "metadata": {
        "id": "nlDefTAtHL4M"
      },
      "source": [
        "Выберем пользователей двух тарифов, расходы которых превышают абонентскую плату."
      ]
    },
    {
      "cell_type": "code",
      "metadata": {
        "id": "KTiQgb9HHMOY"
      },
      "source": [
        "overpayers_smart=result_table.loc[(result_table.index.get_level_values('user_id').isin(smart_users),),].query('revenue > 550')\n",
        "overpayers_ultra=result_table.loc[(result_table.index.get_level_values('user_id').isin(ultra_users),),].query('revenue > 1950')"
      ],
      "execution_count": 69,
      "outputs": []
    },
    {
      "cell_type": "code",
      "metadata": {
        "colab": {
          "base_uri": "https://localhost:8080/"
        },
        "id": "FVH9uqDWGnVF",
        "outputId": "5ef77b71-5c4a-4a8b-ffc6-bf0ef52f97b5"
      },
      "source": [
        "print('Количество переплачивающих абонентов с тарифом \"Смарт\" в выборке - {} ({:.1%}), с тарифом \"Ультра\" - {} ({:.1%})'.\\\n",
        "      format(len(overpayers_smart.index.get_level_values('user_id').unique()),len(overpayers_smart.index.get_level_values('user_id').unique())/users.query('tariff==\"smart\"').shape[0],\\\n",
        "             len(overpayers_ultra.index.get_level_values('user_id').unique()),len(overpayers_ultra.index.get_level_values('user_id').unique())/users.query('tariff==\"ultra\"').shape[0]))"
      ],
      "execution_count": 70,
      "outputs": [
        {
          "output_type": "stream",
          "name": "stdout",
          "text": [
            "Количество переплачивающих абонентов с тарифом \"Смарт\" в выборке - 333 (94.9%), с тарифом \"Ультра\" - 43 (28.9%)\n"
          ]
        }
      ]
    },
    {
      "cell_type": "markdown",
      "metadata": {
        "id": "PfiuoBE1LMGK"
      },
      "source": [
        "Почти **95%** абонентов с тарифом \"Смарт\" перерасходуют включенные количества минут разговора, сообщений и объемы интернет-трафика. В то время как в тариф \"Ультра\" не \"укладываются\" около трети его пользователей."
      ]
    },
    {
      "cell_type": "markdown",
      "metadata": {
        "id": "O-kZNipb2cOD"
      },
      "source": [
        "\n",
        "---\n"
      ]
    },
    {
      "cell_type": "markdown",
      "metadata": {
        "id": "XbvXDsKcaJ_J"
      },
      "source": [
        "Сформируем таблицу, содержащую средние и медианные значения использования пользователями минут, мегабайтов и сообщений для каждого из двух тарифов."
      ]
    },
    {
      "cell_type": "code",
      "metadata": {
        "id": "w8FKg3kOOCW7"
      },
      "source": [
        "columns=['calls_duration','mb_used','messages_count','revenue']\n",
        "tariffs_means = pd.DataFrame(columns=columns)\n",
        "#tariffs_means['tariff']=pd.Series(['ultra_mean','ultra_median','smart_mean','smart_median'])\n",
        "tariffs_means[['calls_duration','mb_used','messages_count','revenue']]=tariffs_means[['calls_duration','mb_used','messages_count','revenue']].astype('float64')"
      ],
      "execution_count": 71,
      "outputs": []
    },
    {
      "cell_type": "code",
      "metadata": {
        "id": "yWo8uAGtOdKR"
      },
      "source": [
        "for i in tariffs.tariff_name:\n",
        "    tariff_users= smart_users if i=='smart' else ultra_users\n",
        "    #средние значения\n",
        "    tariffs_means.loc[i+'_median','calls_duration']=round(result_table.loc[(result_table.index.get_level_values('user_id').isin(tariff_users),),]['calls_duration'].median())\n",
        "    tariffs_means.loc[i+'_median','mb_used']=round(result_table.loc[(result_table.index.get_level_values('user_id').isin(tariff_users),),]['mb_used'].median())\n",
        "    tariffs_means.loc[i+'_median','messages_count']=round(result_table.loc[(result_table.index.get_level_values('user_id').isin(tariff_users),),]['messages_count'].median())\n",
        "    tariffs_means.loc[i+'_median','revenue']=round(result_table.loc[(result_table.index.get_level_values('user_id').isin(tariff_users),),]['revenue'].median(),2)\n",
        "    # медианные значения\n",
        "    tariffs_means.loc[i+'_mean','calls_duration']=round(result_table.loc[(result_table.index.get_level_values('user_id').isin(tariff_users),),]['calls_duration'].mean())\n",
        "    tariffs_means.loc[i+'_mean','mb_used']=round(result_table.loc[(result_table.index.get_level_values('user_id').isin(tariff_users),),]['mb_used'].mean())\n",
        "    tariffs_means.loc[i+'_mean','messages_count']=round(result_table.loc[(result_table.index.get_level_values('user_id').isin(tariff_users),),]['messages_count'].mean())\n",
        "    tariffs_means.loc[i+'_mean','revenue']=round(result_table.loc[(result_table.index.get_level_values('user_id').isin(tariff_users),),]['revenue'].mean(),2)\n",
        "    # значения по условиям тарифа\n",
        "    tariffs_means.loc[i+'_pure','calls_duration']=tariffs.query('tariff_name==@i')['minutes_included'].values[0]\n",
        "    tariffs_means.loc[i+'_pure','mb_used']=tariffs.query('tariff_name==@i')['mb_per_month_included'].values[0]\n",
        "    tariffs_means.loc[i+'_pure','messages_count']=tariffs.query('tariff_name==@i')['messages_included'].values[0]\n",
        "    tariffs_means.loc[i+'_pure','revenue']=tariffs.query('tariff_name==@i')['rub_monthly_fee'].values[0]"
      ],
      "execution_count": 72,
      "outputs": []
    },
    {
      "cell_type": "code",
      "metadata": {
        "colab": {
          "base_uri": "https://localhost:8080/",
          "height": 235
        },
        "id": "o2OVUXgCPJyA",
        "outputId": "a3aded6d-b7f3-4343-b3cc-cf983aae5e15"
      },
      "source": [
        "inx=['smart_pure','smart_mean','smart_median','ultra_pure','ultra_mean','ultra_median']\n",
        "tariffs_means.reindex(inx)"
      ],
      "execution_count": 73,
      "outputs": [
        {
          "output_type": "execute_result",
          "data": {
            "text/html": [
              "<div>\n",
              "<style scoped>\n",
              "    .dataframe tbody tr th:only-of-type {\n",
              "        vertical-align: middle;\n",
              "    }\n",
              "\n",
              "    .dataframe tbody tr th {\n",
              "        vertical-align: top;\n",
              "    }\n",
              "\n",
              "    .dataframe thead th {\n",
              "        text-align: right;\n",
              "    }\n",
              "</style>\n",
              "<table border=\"1\" class=\"dataframe\">\n",
              "  <thead>\n",
              "    <tr style=\"text-align: right;\">\n",
              "      <th></th>\n",
              "      <th>calls_duration</th>\n",
              "      <th>mb_used</th>\n",
              "      <th>messages_count</th>\n",
              "      <th>revenue</th>\n",
              "    </tr>\n",
              "  </thead>\n",
              "  <tbody>\n",
              "    <tr>\n",
              "      <th>smart_pure</th>\n",
              "      <td>500.0</td>\n",
              "      <td>15360.0</td>\n",
              "      <td>50.0</td>\n",
              "      <td>550.00</td>\n",
              "    </tr>\n",
              "    <tr>\n",
              "      <th>smart_mean</th>\n",
              "      <td>419.0</td>\n",
              "      <td>16244.0</td>\n",
              "      <td>39.0</td>\n",
              "      <td>1294.64</td>\n",
              "    </tr>\n",
              "    <tr>\n",
              "      <th>smart_median</th>\n",
              "      <td>423.0</td>\n",
              "      <td>16533.0</td>\n",
              "      <td>34.0</td>\n",
              "      <td>1038.00</td>\n",
              "    </tr>\n",
              "    <tr>\n",
              "      <th>ultra_pure</th>\n",
              "      <td>3000.0</td>\n",
              "      <td>30720.0</td>\n",
              "      <td>1000.0</td>\n",
              "      <td>1950.00</td>\n",
              "    </tr>\n",
              "    <tr>\n",
              "      <th>ultra_mean</th>\n",
              "      <td>548.0</td>\n",
              "      <td>19707.0</td>\n",
              "      <td>61.0</td>\n",
              "      <td>2071.07</td>\n",
              "    </tr>\n",
              "    <tr>\n",
              "      <th>ultra_median</th>\n",
              "      <td>529.0</td>\n",
              "      <td>19428.0</td>\n",
              "      <td>51.0</td>\n",
              "      <td>1950.00</td>\n",
              "    </tr>\n",
              "  </tbody>\n",
              "</table>\n",
              "</div>"
            ],
            "text/plain": [
              "              calls_duration  mb_used  messages_count  revenue\n",
              "smart_pure             500.0  15360.0            50.0   550.00\n",
              "smart_mean             419.0  16244.0            39.0  1294.64\n",
              "smart_median           423.0  16533.0            34.0  1038.00\n",
              "ultra_pure            3000.0  30720.0          1000.0  1950.00\n",
              "ultra_mean             548.0  19707.0            61.0  2071.07\n",
              "ultra_median           529.0  19428.0            51.0  1950.00"
            ]
          },
          "metadata": {},
          "execution_count": 73
        }
      ]
    },
    {
      "cell_type": "markdown",
      "metadata": {
        "id": "ty4Bj13JakzL"
      },
      "source": [
        "В среднем, пользователи тарифа \"Смарт\" используют пакет минут, входящих в тариф, на 83,8 %, с то время как на тарифе \"Ультра\" средний абонент тратит лишь 18.27% включенных минут. Соотношение *выделенных* минут тарифа \"Смарт\" к тарифу \"Ультра\" 16,7%, а *использованных* в среднем минут 76,5%. Что позволяет сделать вывод о, в принципе, не выраженной потребности пользователей тарифа \"Ультра\" в большем количестве минут, включенных в стартовый пакет, по сравнению с тарифом \"Смарт\""
      ]
    },
    {
      "cell_type": "markdown",
      "metadata": {
        "id": "-ThCzYvX4DAi"
      },
      "source": [
        "Пользователи \"Смарта\", в среднем, используют 78% СМС, входящих в пакет, а абоненты с тарифом \"Ультра\" всего 6.1%. Эти данные укладываются в общий тренд перехода к обмену сообщениями через мессенждеры и сведения роли сервиса коротких сообщенй к технической функции (передача информации, позволяющая с разумной долей уверенности определить отправителя, и которая случайным образом не станет общедоступна)."
      ]
    },
    {
      "cell_type": "markdown",
      "metadata": {
        "id": "bJfp1sy_4DVO"
      },
      "source": [
        "Средний абонент тарифа \"Смарт\" перерасходует объем входящего в абонплату трафика на 5,8%, на тарифе \"Ультра\" выделенный интернет-трафик в среднем используется на 64.1%. В то же время дополнительные пакеты трафика являются основным источником выручки сверх абонентской платы для обоих тарифов."
      ]
    },
    {
      "cell_type": "markdown",
      "metadata": {
        "id": "z0WqOXESTxS8"
      },
      "source": [
        "\n",
        "\n",
        "---\n",
        "\n"
      ]
    },
    {
      "cell_type": "markdown",
      "metadata": {
        "id": "Hbqf6-G3dL5-"
      },
      "source": [
        "Рассмотрим структуру расходов пользователей тарифа \"Смарт\", которые используют ресурсы сверх пакетов."
      ]
    },
    {
      "cell_type": "code",
      "metadata": {
        "id": "qesme4TGUmkg"
      },
      "source": [
        "overpayers_smart_expenses=pd.DataFrame(columns=['source','amount'])\n",
        "overpayers_smart_expenses.loc[0,'source']='extra_minutes'\n",
        "overpayers_smart_expenses.loc[0,'amount']=sum(overpayers_smart['ext_rev_calls'])*3\n",
        "overpayers_smart_expenses.loc[1,'source']='extra_mb'\n",
        "overpayers_smart_expenses.loc[1,'amount']=sum(np.ceil(overpayers_smart['ext_rev_mb']/1024))*200\n",
        "overpayers_smart_expenses.loc[2,'source']='extra_messages'\n",
        "overpayers_smart_expenses.loc[2,'amount']=sum(overpayers_smart['ext_rev_msgs'])*3\n",
        "overpayers_smart_expenses.loc[3,'source']='fee'\n",
        "overpayers_smart_expenses.loc[3,'amount']=sum(overpayers_smart['revenue'])-sum(overpayers_smart['ext_rev_calls'])*3-sum(np.ceil(overpayers_smart['ext_rev_calls']/1024))*200-sum(overpayers_smart['ext_rev_msgs'])*3"
      ],
      "execution_count": 74,
      "outputs": []
    },
    {
      "cell_type": "markdown",
      "metadata": {
        "id": "LmtSNo3letIQ"
      },
      "source": [
        "Состав выручки от абонентов с тарифом \"Смарт\", которые используют ресурсы сверх пакетов:"
      ]
    },
    {
      "cell_type": "code",
      "metadata": {
        "colab": {
          "base_uri": "https://localhost:8080/",
          "height": 124
        },
        "id": "rRPMRjW4etWk",
        "outputId": "51b9c570-79d1-4f6b-f11e-68c3b8db5688"
      },
      "source": [
        "overpayers_smart_expenses.style.format({'amount':'{:.0f} руб.'}).set_properties(subset=['source'], **{'width': '200px'})"
      ],
      "execution_count": 75,
      "outputs": [
        {
          "output_type": "execute_result",
          "data": {
            "text/html": [
              "<style  type=\"text/css\" >\n",
              "#T_9187fd84_17af_11ec_a27b_0242ac1c0002row0_col0,#T_9187fd84_17af_11ec_a27b_0242ac1c0002row1_col0,#T_9187fd84_17af_11ec_a27b_0242ac1c0002row2_col0,#T_9187fd84_17af_11ec_a27b_0242ac1c0002row3_col0{\n",
              "            width:  200px;\n",
              "        }</style><table id=\"T_9187fd84_17af_11ec_a27b_0242ac1c0002\" ><thead>    <tr>        <th class=\"blank level0\" ></th>        <th class=\"col_heading level0 col0\" >source</th>        <th class=\"col_heading level0 col1\" >amount</th>    </tr></thead><tbody>\n",
              "                <tr>\n",
              "                        <th id=\"T_9187fd84_17af_11ec_a27b_0242ac1c0002level0_row0\" class=\"row_heading level0 row0\" >0</th>\n",
              "                        <td id=\"T_9187fd84_17af_11ec_a27b_0242ac1c0002row0_col0\" class=\"data row0 col0\" >extra_minutes</td>\n",
              "                        <td id=\"T_9187fd84_17af_11ec_a27b_0242ac1c0002row0_col1\" class=\"data row0 col1\" >278217 руб.</td>\n",
              "            </tr>\n",
              "            <tr>\n",
              "                        <th id=\"T_9187fd84_17af_11ec_a27b_0242ac1c0002level0_row1\" class=\"row_heading level0 row1\" >1</th>\n",
              "                        <td id=\"T_9187fd84_17af_11ec_a27b_0242ac1c0002row1_col0\" class=\"data row1 col0\" >extra_mb</td>\n",
              "                        <td id=\"T_9187fd84_17af_11ec_a27b_0242ac1c0002row1_col1\" class=\"data row1 col1\" >1342800 руб.</td>\n",
              "            </tr>\n",
              "            <tr>\n",
              "                        <th id=\"T_9187fd84_17af_11ec_a27b_0242ac1c0002level0_row2\" class=\"row_heading level0 row2\" >2</th>\n",
              "                        <td id=\"T_9187fd84_17af_11ec_a27b_0242ac1c0002row2_col0\" class=\"data row2 col0\" >extra_messages</td>\n",
              "                        <td id=\"T_9187fd84_17af_11ec_a27b_0242ac1c0002row2_col1\" class=\"data row2 col1\" >38784 руб.</td>\n",
              "            </tr>\n",
              "            <tr>\n",
              "                        <th id=\"T_9187fd84_17af_11ec_a27b_0242ac1c0002level0_row3\" class=\"row_heading level0 row3\" >3</th>\n",
              "                        <td id=\"T_9187fd84_17af_11ec_a27b_0242ac1c0002row3_col0\" class=\"data row3 col0\" >fee</td>\n",
              "                        <td id=\"T_9187fd84_17af_11ec_a27b_0242ac1c0002row3_col1\" class=\"data row3 col1\" >2107750 руб.</td>\n",
              "            </tr>\n",
              "    </tbody></table>"
            ],
            "text/plain": [
              "<pandas.io.formats.style.Styler at 0x7f6b57aaa9d0>"
            ]
          },
          "metadata": {},
          "execution_count": 75
        }
      ]
    },
    {
      "cell_type": "code",
      "metadata": {
        "colab": {
          "base_uri": "https://localhost:8080/",
          "height": 374
        },
        "id": "u-OpR9tbToSF",
        "outputId": "2ded64fe-5a75-43cf-e7d1-a7afe710991e"
      },
      "source": [
        "pie, ax = plt.subplots(figsize=[10,6])\n",
        "labels = overpayers_smart_expenses['source']\n",
        "plt.pie(x=overpayers_smart_expenses['amount'], autopct=\"%.1f%%\", explode=[0.05]*4, labels=labels, pctdistance=0.5)\n",
        "plt.title('Expenses of overpayed Smart users', fontsize=14);\n"
      ],
      "execution_count": 76,
      "outputs": [
        {
          "output_type": "display_data",
          "data": {
            "image/png": "[encoded data removed]",
            "text/plain": [
              "<Figure size 720x432 with 1 Axes>"
            ]
          },
          "metadata": {}
        }
      ]
    },
    {
      "cell_type": "markdown",
      "metadata": {
        "id": "FkEqBNnbZP8X"
      },
      "source": [
        "Наглядно видно, что основную нехватку ресурсов, доступных в рамках абонплаты, пользователи тарифа \"Смарт\" испытывают в сегменте интернет-трафика."
      ]
    },
    {
      "cell_type": "code",
      "metadata": {
        "id": "IwjBJkYqeF2L"
      },
      "source": [
        "overpayers_ultra_expenses=pd.DataFrame(columns=['source','amount'])\n",
        "overpayers_ultra_expenses.loc[0,'source']='extra_minutes'\n",
        "overpayers_ultra_expenses.loc[0,'amount']=sum(overpayers_ultra['ext_rev_calls'])*3\n",
        "overpayers_ultra_expenses.loc[1,'source']='extra_mb'\n",
        "overpayers_ultra_expenses.loc[1,'amount']=sum(np.ceil(overpayers_ultra['ext_rev_mb']/1024))*200\n",
        "overpayers_ultra_expenses.loc[2,'source']='extra_messages'\n",
        "overpayers_ultra_expenses.loc[2,'amount']=sum(overpayers_ultra['ext_rev_msgs'])*3\n",
        "overpayers_ultra_expenses.loc[3,'source']='fee'\n",
        "overpayers_ultra_expenses.loc[3,'amount']=sum(overpayers_ultra['revenue'])-sum(overpayers_ultra['ext_rev_calls'])*3-sum(np.ceil(overpayers_ultra['ext_rev_calls']/1024))*200-sum(overpayers_ultra['ext_rev_msgs'])*3"
      ],
      "execution_count": 77,
      "outputs": []
    },
    {
      "cell_type": "markdown",
      "metadata": {
        "id": "UEeorRgYiUyk"
      },
      "source": [
        "Состав выручки от абонентов с тарифом \"Ультра\", которые используют ресурсы сверх пакетов:"
      ]
    },
    {
      "cell_type": "code",
      "metadata": {
        "colab": {
          "base_uri": "https://localhost:8080/",
          "height": 124
        },
        "id": "Mo4XZYj1iTNl",
        "outputId": "82ed044e-fd1e-486e-c3f5-d0114b03c3ed"
      },
      "source": [
        "overpayers_ultra_expenses.style.format({'amount':'{:.0f} руб.'}).set_properties(subset=['source'], **{'width': '200px'})"
      ],
      "execution_count": 78,
      "outputs": [
        {
          "output_type": "execute_result",
          "data": {
            "text/html": [
              "<style  type=\"text/css\" >\n",
              "#T_91a24126_17af_11ec_a27b_0242ac1c0002row0_col0,#T_91a24126_17af_11ec_a27b_0242ac1c0002row1_col0,#T_91a24126_17af_11ec_a27b_0242ac1c0002row2_col0,#T_91a24126_17af_11ec_a27b_0242ac1c0002row3_col0{\n",
              "            width:  200px;\n",
              "        }</style><table id=\"T_91a24126_17af_11ec_a27b_0242ac1c0002\" ><thead>    <tr>        <th class=\"blank level0\" ></th>        <th class=\"col_heading level0 col0\" >source</th>        <th class=\"col_heading level0 col1\" >amount</th>    </tr></thead><tbody>\n",
              "                <tr>\n",
              "                        <th id=\"T_91a24126_17af_11ec_a27b_0242ac1c0002level0_row0\" class=\"row_heading level0 row0\" >0</th>\n",
              "                        <td id=\"T_91a24126_17af_11ec_a27b_0242ac1c0002row0_col0\" class=\"data row0 col0\" >extra_minutes</td>\n",
              "                        <td id=\"T_91a24126_17af_11ec_a27b_0242ac1c0002row0_col1\" class=\"data row0 col1\" >0 руб.</td>\n",
              "            </tr>\n",
              "            <tr>\n",
              "                        <th id=\"T_91a24126_17af_11ec_a27b_0242ac1c0002level0_row1\" class=\"row_heading level0 row1\" >1</th>\n",
              "                        <td id=\"T_91a24126_17af_11ec_a27b_0242ac1c0002row1_col0\" class=\"data row1 col0\" >extra_mb</td>\n",
              "                        <td id=\"T_91a24126_17af_11ec_a27b_0242ac1c0002row1_col1\" class=\"data row1 col1\" >159000 руб.</td>\n",
              "            </tr>\n",
              "            <tr>\n",
              "                        <th id=\"T_91a24126_17af_11ec_a27b_0242ac1c0002level0_row2\" class=\"row_heading level0 row2\" >2</th>\n",
              "                        <td id=\"T_91a24126_17af_11ec_a27b_0242ac1c0002row2_col0\" class=\"data row2 col0\" >extra_messages</td>\n",
              "                        <td id=\"T_91a24126_17af_11ec_a27b_0242ac1c0002row2_col1\" class=\"data row2 col1\" >0 руб.</td>\n",
              "            </tr>\n",
              "            <tr>\n",
              "                        <th id=\"T_91a24126_17af_11ec_a27b_0242ac1c0002level0_row3\" class=\"row_heading level0 row3\" >3</th>\n",
              "                        <td id=\"T_91a24126_17af_11ec_a27b_0242ac1c0002row3_col0\" class=\"data row3 col0\" >fee</td>\n",
              "                        <td id=\"T_91a24126_17af_11ec_a27b_0242ac1c0002row3_col1\" class=\"data row3 col1\" >380550 руб.</td>\n",
              "            </tr>\n",
              "    </tbody></table>"
            ],
            "text/plain": [
              "<pandas.io.formats.style.Styler at 0x7f6b56eab950>"
            ]
          },
          "metadata": {},
          "execution_count": 78
        }
      ]
    },
    {
      "cell_type": "code",
      "metadata": {
        "colab": {
          "base_uri": "https://localhost:8080/",
          "height": 374
        },
        "id": "3ffo-x72eYeY",
        "outputId": "596d9cdc-1ae9-434b-f747-b6afcc9772ab"
      },
      "source": [
        "pie, ax = plt.subplots(figsize=[10,6])\n",
        "labels = overpayers_ultra_expenses['source']\n",
        "plt.pie(x=overpayers_ultra_expenses['amount'], autopct=\"%.1f%%\", explode=[0.05]*4, labels=labels, pctdistance=0.5)\n",
        "plt.title('Expenses of overpayed Ultra users', fontsize=14);\n"
      ],
      "execution_count": 79,
      "outputs": [
        {
          "output_type": "display_data",
          "data": {
            "image/png": "[encoded data removed]",
            "text/plain": [
              "<Figure size 720x432 with 1 Axes>"
            ]
          },
          "metadata": {}
        }
      ]
    },
    {
      "cell_type": "markdown",
      "metadata": {
        "id": "JKrPruSF5fFm"
      },
      "source": [
        "Для абонентов с тарифом \"Ультра\" единственным источником перерасхода средств, выделенных в рамках пакета, является интернет."
      ]
    },
    {
      "cell_type": "markdown",
      "metadata": {
        "id": "KfqKSkBE5fTq"
      },
      "source": [
        "\n",
        "\n",
        "---\n",
        "\n"
      ]
    },
    {
      "cell_type": "markdown",
      "metadata": {
        "id": "RyBPJjivak7E"
      },
      "source": [
        "#### **Показатели описательной статистики для двух тарифов**"
      ]
    },
    {
      "cell_type": "markdown",
      "metadata": {
        "id": "ggijujuK70Jy"
      },
      "source": [
        "Форма гистограммы среднемесячного использования минут разговоров абонентов с тарифом \"Смарт\" позоляет предположить нормальное распределение этого показателя. "
      ]
    },
    {
      "cell_type": "code",
      "metadata": {
        "colab": {
          "base_uri": "https://localhost:8080/"
        },
        "id": "ugLT-a7C08UP",
        "outputId": "971291c8-731c-4451-83bf-30db81c69dda"
      },
      "source": [
        "smart_calls_var=np.var(result_table.loc[(result_table.index.get_level_values('user_id').isin(smart_users),),]['calls_duration'])\n",
        "print('Среднее количество использованных минут на тарифе \"Смарт\" составляет: {:.0f} (дисперсия {:.2f} и стандартное отклонение {:.2f})'.\\\n",
        "      format(tariffs_means.loc['smart_mean','calls_duration'],smart_calls_var,np.sqrt(smart_calls_var)))"
      ],
      "execution_count": 80,
      "outputs": [
        {
          "output_type": "stream",
          "name": "stdout",
          "text": [
            "Среднее количество использованных минут на тарифе \"Смарт\" составляет: 419 (дисперсия 35702.05 и стандартное отклонение 188.95)\n"
          ]
        }
      ]
    },
    {
      "cell_type": "markdown",
      "metadata": {
        "id": "m9vYUA8k8VYU"
      },
      "source": [
        "Расчет стандартного отклонения подтверждает распределение Гаусса для средних количества минут разговоров из выборки пользователей тарифа \"Смарт\": гистограмма показывает, что 95% значений находятся в интервале +/- 1,96 сигм (от 48 до 789мин.) от среднего значения."
      ]
    },
    {
      "cell_type": "markdown",
      "metadata": {
        "id": "jhj_Okfpkahe"
      },
      "source": [
        "Частотная гистограмма количества минут разговоров пользователей тарифа \"Ультра\" демонстрирует отклоненеие от нормального распределения этого показателя: график имеет смещение влево (значения меньше среднего лежат в интервале менее 2х стандартных отклонений, правая граница значений больше среднего расположена на 3х сигмах)."
      ]
    },
    {
      "cell_type": "code",
      "metadata": {
        "colab": {
          "base_uri": "https://localhost:8080/"
        },
        "id": "YUAs_FKikah6",
        "outputId": "47c09b5e-f1fc-472c-98f5-e1d12ccf1cd2"
      },
      "source": [
        "ultra_calls_var=np.var(result_table.loc[(result_table.index.get_level_values('user_id').isin(ultra_users),),]['calls_duration'])\n",
        "print('Среднее количество использованных минут на тарифе \"Ультра\" составляет: {:.0f} (дисперсия {:.2f} и стандартное отклонение {:.2f})'.\\\n",
        "      format(tariffs_means.loc['ultra_mean','calls_duration'],ultra_calls_var,np.sqrt(ultra_calls_var)))"
      ],
      "execution_count": 81,
      "outputs": [
        {
          "output_type": "stream",
          "name": "stdout",
          "text": [
            "Среднее количество использованных минут на тарифе \"Ультра\" составляет: 548 (дисперсия 93239.87 и стандартное отклонение 305.35)\n"
          ]
        }
      ]
    },
    {
      "cell_type": "markdown",
      "metadata": {
        "id": "Hm0tt7guknnx"
      },
      "source": [
        "Это укладывается в предположение о меньшей заинтересованности абонентов \"Мегалайна\" с тарифом \"Ультра\" в 3000м пакете минут разговора."
      ]
    },
    {
      "cell_type": "code",
      "metadata": {
        "id": "FDwMaJmVaseW",
        "colab": {
          "base_uri": "https://localhost:8080/",
          "height": 358
        },
        "outputId": "731bd7d5-be2d-4b8f-9af0-787b8545df61"
      },
      "source": [
        "fig, axes = plt.subplots(1, 2, sharex=True, figsize=(20,5))\n",
        "axes[0].hist(result_table.loc[(result_table.index.get_level_values('user_id').isin(smart_users),),]['calls_duration'], bins=20)\n",
        "axes[1].hist(result_table.loc[(result_table.index.get_level_values('user_id').isin(ultra_users),),]['calls_duration'], bins=20)\n",
        "axes[0].set_title('Smart', fontsize=14)\n",
        "axes[1].set_title('Ultra', fontsize=14)\n",
        "fig.suptitle('Distribution of calls duration',fontsize=20);"
      ],
      "execution_count": 82,
      "outputs": [
        {
          "output_type": "display_data",
          "data": {
            "image/png": "[encoded data removed]",
            "text/plain": [
              "<Figure size 1440x360 with 2 Axes>"
            ]
          },
          "metadata": {
            "needs_background": "light"
          }
        }
      ]
    },
    {
      "cell_type": "markdown",
      "metadata": {
        "id": "hmN66djH9XMQ"
      },
      "source": [
        "\n",
        "\n",
        "---\n",
        "\n"
      ]
    },
    {
      "cell_type": "markdown",
      "metadata": {
        "id": "VmIUu3ux9l71"
      },
      "source": [
        "Средний объем использованного интернет-трафика абонентами \"Мегалайна\" с тарифом **\"Смарт\"** также распределен в соотвествии с фукцией Гаусса (нормальное распределение). Практически все значения укладываются в интервал \"3х сигм\", от 0 Мб до 33820 Мб."
      ]
    },
    {
      "cell_type": "code",
      "metadata": {
        "colab": {
          "base_uri": "https://localhost:8080/"
        },
        "id": "V5ZXFaj8UMKi",
        "outputId": "ad7cd309-5e21-4f95-b205-3a36047b824c"
      },
      "source": [
        "smart_mb_var=np.var(result_table.loc[(result_table.index.get_level_values('user_id').isin(smart_users),),]['mb_used'])\n",
        "smart_mb_mean=tariffs_means.loc['smart_mean','mb_used']\n",
        "smart_mb_std=np.sqrt(smart_mb_var)\n",
        "print('Среднее количество использованных мегабайтов на тарифе \"Смарт\" составляет: {:.0f} (дисперсия {:.2f} и стандартное отклонение {:.2f})'.\\\n",
        "      format(tariffs_means.loc['smart_mean','mb_used'],smart_mb_var,np.sqrt(smart_mb_var)))"
      ],
      "execution_count": 83,
      "outputs": [
        {
          "output_type": "stream",
          "name": "stdout",
          "text": [
            "Среднее количество использованных мегабайтов на тарифе \"Смарт\" составляет: 16244 (дисперсия 34324671.67 и стандартное отклонение 5858.73)\n"
          ]
        }
      ]
    },
    {
      "cell_type": "code",
      "metadata": {
        "colab": {
          "base_uri": "https://localhost:8080/"
        },
        "id": "-ZjL-IkXpX-U",
        "outputId": "379b186a-495f-4f8d-eab1-cf5566167d49"
      },
      "source": [
        "print('В интервале +/- 3std лежит {:.1%} значений.'.format(1-result_table.loc[(result_table.index.get_level_values('user_id').isin(smart_users),),].query('(mb_used<(@smart_mb_mean-3*@smart_mb_std))\\\n",
        " or (mb_used>(@smart_mb_mean+3*@smart_mb_std))').shape[0]/result_table.loc[(result_table.index.get_level_values('user_id').isin(smart_users),),].shape[0]))"
      ],
      "execution_count": 84,
      "outputs": [
        {
          "output_type": "stream",
          "name": "stdout",
          "text": [
            "В интервале +/- 3std лежит 99.6% значений.\n"
          ]
        }
      ]
    },
    {
      "cell_type": "markdown",
      "metadata": {
        "id": "nGJCZE14nd7K"
      },
      "source": [
        "Распределение объема интеренета, потребляемого пользователями тарифа **\"Ультра\"** отклоняется от нормального с относительно более высокой сигмой."
      ]
    },
    {
      "cell_type": "code",
      "metadata": {
        "colab": {
          "base_uri": "https://localhost:8080/"
        },
        "id": "OFzXgBKYnd7U",
        "outputId": "4e4656d5-cdfc-45a8-9726-f64b71742e16"
      },
      "source": [
        "ultra_mb_var=np.var(result_table.loc[(result_table.index.get_level_values('user_id').isin(ultra_users),),]['mb_used'])\n",
        "ultra_mb_mean=tariffs_means.loc['ultra_mean','mb_used']\n",
        "ultra_mb_std=np.sqrt(ultra_mb_var)\n",
        "print('Среднее количество использованных мегабайтов на тарифе \"Ультра\" составляет: {:.0f} (дисперсия {:.2f} и стандартное отклонение {:.2f})'.\\\n",
        "      format(ultra_mb_mean,ultra_mb_var,ultra_mb_std))"
      ],
      "execution_count": 85,
      "outputs": [
        {
          "output_type": "stream",
          "name": "stdout",
          "text": [
            "Среднее количество использованных мегабайтов на тарифе \"Ультра\" составляет: 19707 (дисперсия 98645116.49 и стандартное отклонение 9932.02)\n"
          ]
        }
      ]
    },
    {
      "cell_type": "code",
      "metadata": {
        "colab": {
          "base_uri": "https://localhost:8080/"
        },
        "id": "parr-Apyo53j",
        "outputId": "c4459d21-cdfd-4e20-b667-f6d06d4dd0a2"
      },
      "source": [
        "print('В интервале +/- 2std лежит {:.1%} значений.'.format(1-result_table.loc[(result_table.index.get_level_values('user_id').isin(ultra_users),),].query('(mb_used<(@ultra_mb_mean-2*@ultra_mb_std))\\\n",
        " or (mb_used>(@ultra_mb_mean+2*@ultra_mb_std))').shape[0]/result_table.loc[(result_table.index.get_level_values('user_id').isin(ultra_users),),].shape[0]))"
      ],
      "execution_count": 86,
      "outputs": [
        {
          "output_type": "stream",
          "name": "stdout",
          "text": [
            "В интервале +/- 2std лежит 97.1% значений.\n"
          ]
        }
      ]
    },
    {
      "cell_type": "markdown",
      "metadata": {
        "id": "64Hc-7wDo53l"
      },
      "source": [
        "97.1% значений находится в интервале +/- 2х стандартных отклонений от среднего (от 2680 Мб до 36313 Мб)."
      ]
    },
    {
      "cell_type": "code",
      "metadata": {
        "colab": {
          "base_uri": "https://localhost:8080/",
          "height": 358
        },
        "id": "ohX9IyZ5nzjy",
        "outputId": "30283490-1583-4d69-a5dd-bc8cd748309c"
      },
      "source": [
        "fig, axes = plt.subplots(1, 2, sharex=True, figsize=(20,5))\n",
        "axes[0].hist(result_table.loc[(result_table.index.get_level_values('user_id').isin(smart_users),),]['mb_used'], bins=20)\n",
        "axes[1].hist(result_table.loc[(result_table.index.get_level_values('user_id').isin(ultra_users),),]['mb_used'], bins=20)\n",
        "axes[0].set_title('Smart', fontsize=14)\n",
        "axes[1].set_title('Ultra', fontsize=14)\n",
        "fig.suptitle('Distribution of internet trafic',fontsize=20);"
      ],
      "execution_count": 87,
      "outputs": [
        {
          "output_type": "display_data",
          "data": {
            "image/png": "[encoded data removed]",
            "text/plain": [
              "<Figure size 1440x360 with 2 Axes>"
            ]
          },
          "metadata": {
            "needs_background": "light"
          }
        }
      ]
    },
    {
      "cell_type": "markdown",
      "metadata": {
        "id": "qHWIAJLxFQzi"
      },
      "source": [
        "Все вышеприведенное может указывать на разнородность потребностей пользователей тарифа \"Ультра\" в объеме интернет-трафика."
      ]
    },
    {
      "cell_type": "markdown",
      "metadata": {
        "id": "_iVKRR6Q-9fn"
      },
      "source": [
        "\n",
        "\n",
        "---\n",
        "\n"
      ]
    },
    {
      "cell_type": "markdown",
      "metadata": {
        "id": "8tcpfVeb--he"
      },
      "source": [
        "Частота встречаемости определенного числа сообщений, отправляемых в среднем в месяц пользователем тарифа \"Смарт\", падает с увеличением их количества. Визуально распределение совпадает с распределением Пуассона, для которого характерны большие относительные стандартные отклонения (в нашем случае стандартное отклонение составляет 68,7% от среднего значения)."
      ]
    },
    {
      "cell_type": "code",
      "metadata": {
        "colab": {
          "base_uri": "https://localhost:8080/"
        },
        "id": "_JPoi4kcWt2K",
        "outputId": "3fd8ca9d-68cf-4af8-8080-6986cfbf9215"
      },
      "source": [
        "smart_messages_var=np.var(result_table.loc[(result_table.index.get_level_values('user_id').isin(smart_users),),]['messages_count'])\n",
        "print('Среднее количество отправленных сообщений на тарифе \"Смарт\" составляет: {:.0f} (дисперсия {:.2f} и стандартное отклонение {:.2f})'.\\\n",
        "      format(tariffs_means.loc['smart_mean','messages_count'],smart_messages_var,np.sqrt(smart_messages_var)))"
      ],
      "execution_count": 88,
      "outputs": [
        {
          "output_type": "stream",
          "name": "stdout",
          "text": [
            "Среднее количество отправленных сообщений на тарифе \"Смарт\" составляет: 39 (дисперсия 717.22 и стандартное отклонение 26.78)\n"
          ]
        }
      ]
    },
    {
      "cell_type": "markdown",
      "metadata": {
        "id": "BF822K49Jwu_"
      },
      "source": [
        "Распределение среднемесячного количества СМС-сообщений абонентов с тарифом \"Ультра\" совпадает с таковым у пользователей тарифа \"Смарт\". Отклонения от среднего еще более выражены: сигма составляет 75.2% от среднего по выборке."
      ]
    },
    {
      "cell_type": "code",
      "metadata": {
        "colab": {
          "base_uri": "https://localhost:8080/"
        },
        "id": "3NT5UszbZPCr",
        "outputId": "a2e11f0c-b747-44a0-ae61-7e980a9c99f5"
      },
      "source": [
        "ultra_messages_var=np.var(result_table.loc[(result_table.index.get_level_values('user_id').isin(ultra_users),),]['messages_count'])\n",
        "print('Среднее количество отправленных сообщений на тарифе \"Ультра\" составляет: {:.0f} (дисперсия {:.2f} и стандартное отклонение {:.2f})'.\\\n",
        "      format(tariffs_means.loc['ultra_mean','messages_count'],ultra_messages_var,np.sqrt(ultra_messages_var)))"
      ],
      "execution_count": 89,
      "outputs": [
        {
          "output_type": "stream",
          "name": "stdout",
          "text": [
            "Среднее количество отправленных сообщений на тарифе \"Ультра\" составляет: 61 (дисперсия 2107.01 и стандартное отклонение 45.90)\n"
          ]
        }
      ]
    },
    {
      "cell_type": "code",
      "metadata": {
        "colab": {
          "base_uri": "https://localhost:8080/",
          "height": 358
        },
        "id": "260bUjBvrhgD",
        "outputId": "b57d5c68-72c2-43ad-ba05-60ab8d2462e0"
      },
      "source": [
        "fig, axes = plt.subplots(1, 2, sharex=True, figsize=(20,5))\n",
        "axes[0].hist(result_table.loc[(result_table.index.get_level_values('user_id').isin(smart_users),),]['messages_count'], bins=20)\n",
        "axes[1].hist(result_table.loc[(result_table.index.get_level_values('user_id').isin(ultra_users),),]['messages_count'], bins=20)\n",
        "axes[0].set_title('Smart', fontsize=14)\n",
        "axes[1].set_title('Ultra', fontsize=14)\n",
        "fig.suptitle('Distribution of messages sent',fontsize=20);"
      ],
      "execution_count": 90,
      "outputs": [
        {
          "output_type": "display_data",
          "data": {
            "image/png": "[encoded data removed]",
            "text/plain": [
              "<Figure size 1440x360 with 2 Axes>"
            ]
          },
          "metadata": {
            "needs_background": "light"
          }
        }
      ]
    },
    {
      "cell_type": "markdown",
      "metadata": {
        "id": "xCrHLNTtKdrf"
      },
      "source": [
        "\n",
        "\n",
        "---\n",
        "\n"
      ]
    },
    {
      "cell_type": "markdown",
      "metadata": {
        "id": "1nQNmrs0qDZm"
      },
      "source": [
        "---\n",
        "\n",
        "\n",
        "## **Формулировка и проверка статистических гипотез**<a  class=\"anchor\" id=\"hypotheses\"></a>"
      ]
    },
    {
      "cell_type": "markdown",
      "metadata": {
        "id": "BTR4RyQLKoHj"
      },
      "source": [
        "#### **Проверка гипотезы о различии выручки пользователей двух тарифов**"
      ]
    },
    {
      "cell_type": "markdown",
      "metadata": {
        "id": "ckAw29t-KoOz"
      },
      "source": [
        "Для проверки того, отличается ли выручка от пользователей тарифов \"Ультра\" и \"Смарт\", применим двусторонний тест для нулевой гипотезы о том, что две независимые выборки имеют идентичные средние значения (Т-тест).\n",
        "Его применимость обусловлена тем, что наши пользователи тарифов \"Ультра\" и \"Смарт\" в сущности, являются независимыми выборками двух генеральных совокупностей: \"Все абонетны \"Мегалайн\" с тарифом \"Смарт\" и \"Все абонетны \"Мегалайн\" с тарифом \"Ультра\"."
      ]
    },
    {
      "cell_type": "markdown",
      "metadata": {
        "id": "OR9PFy3KNYkP"
      },
      "source": [
        "Сформулируем **нулевую гипотезу**: *нет никаких отличий средней выручки от пользователей тарифов \"Смарт\" и \"Ультра\" (их средние выручки равны и дисперсии одинаковы)*.\n",
        "Пороговый уровень значимости примем в 5% (alpha=0.05)."
      ]
    },
    {
      "cell_type": "code",
      "metadata": {
        "id": "fE13767cOg8B"
      },
      "source": [
        "smarts_rev=result_table.loc[(result_table.index.get_level_values('user_id').isin(smart_users),),]['revenue']\n",
        "ultra_rev=result_table.loc[(result_table.index.get_level_values('user_id').isin(ultra_users),),]['revenue']\n",
        "results=st.ttest_ind(smarts_rev,ultra_rev,equal_var=True)"
      ],
      "execution_count": 91,
      "outputs": []
    },
    {
      "cell_type": "code",
      "metadata": {
        "colab": {
          "base_uri": "https://localhost:8080/"
        },
        "id": "HKesoqA7PbvL",
        "outputId": "65c5357a-cef5-4aa7-cadb-9cb79b974c69"
      },
      "source": [
        "print('p-значение: ',results.pvalue)"
      ],
      "execution_count": 92,
      "outputs": [
        {
          "output_type": "stream",
          "name": "stdout",
          "text": [
            "p-значение:  2.9776448000521676e-158\n"
          ]
        }
      ]
    },
    {
      "cell_type": "markdown",
      "metadata": {
        "id": "UKTOvpEUPsyb"
      },
      "source": [
        "Вероятность получить подобные или еще более выраженные отклонения средних из этих двух выборок при условии верности нулевой гипотезы очень мала."
      ]
    },
    {
      "cell_type": "markdown",
      "metadata": {
        "id": "RDUKLimLQK7f"
      },
      "source": [
        "**Вывод:** отвергаем нулевую гипотезу. Средняя выручка от абонентов \"Мегалайна\" с тарифом \"Смарт\" отличается от выручки пользователей тарифа \"Ультра\"."
      ]
    },
    {
      "cell_type": "markdown",
      "metadata": {
        "id": "zSqkPOv_Qqbh"
      },
      "source": [
        "\n",
        "\n",
        "---\n",
        "\n"
      ]
    },
    {
      "cell_type": "markdown",
      "metadata": {
        "id": "Aup8omeCQpbp"
      },
      "source": [
        "#### **Проверка гипотезы об отличии средней выручки москвичей**"
      ]
    },
    {
      "cell_type": "markdown",
      "metadata": {
        "id": "Ji_q65RmRIPz"
      },
      "source": [
        "Для проверки того, отличается ли от остальных выручка от пользователей из Москвы, применим двусторонний тест для нулевой гипотезы о том, что две независимые выборки имеют идентичные средние значения (Т-тест).\n",
        "Его применимость обусловлена тем, что наши пользователи из Москвы и пользователи из других регионов, являются независимыми (параллельными) выборками одной генеральной совокупности: \"Все абонетны \"Мегалайн\"."
      ]
    },
    {
      "cell_type": "markdown",
      "metadata": {
        "id": "s8rjQtaJSGaZ"
      },
      "source": [
        "Сформулируем **нулевую гипотезу**: *нет никаких отличий средней выручки генерируемой пользователями из Москвы от выручки от пользователей из других регионов (их средние выручки равны и дисперсии одинаковы)*.\n",
        "Пороговый уровень значимости примем в 5% (alpha=0.05)."
      ]
    },
    {
      "cell_type": "code",
      "metadata": {
        "id": "B3fp9joaSLg1"
      },
      "source": [
        "moscow_res=users.query('city==\"Москва\"')['user_id'].values\n",
        "rest_region_res=users.query('city!=\"Москва\"')['user_id'].values"
      ],
      "execution_count": 93,
      "outputs": []
    },
    {
      "cell_type": "code",
      "metadata": {
        "id": "9eTfSoYISesI"
      },
      "source": [
        "moscow_res_rev=result_table.loc[(result_table.index.get_level_values('user_id').isin(moscow_res),),]['revenue']\n",
        "rest_region_res_rev=result_table.loc[(result_table.index.get_level_values('user_id').isin(rest_region_res),),]['revenue']\n",
        "results=st.ttest_ind(moscow_res_rev,rest_region_res_rev,equal_var=True)"
      ],
      "execution_count": 94,
      "outputs": []
    },
    {
      "cell_type": "code",
      "metadata": {
        "colab": {
          "base_uri": "https://localhost:8080/"
        },
        "id": "VTl1uGnnXHcS",
        "outputId": "852d14a6-31a6-47cb-9d48-4c127f1b503a"
      },
      "source": [
        "print('p-значение: ',results.pvalue)"
      ],
      "execution_count": 95,
      "outputs": [
        {
          "output_type": "stream",
          "name": "stdout",
          "text": [
            "p-значение:  0.531666503831252\n"
          ]
        }
      ]
    },
    {
      "cell_type": "markdown",
      "metadata": {
        "id": "Pjgiw_hcXQW2"
      },
      "source": [
        "Вероятность получить подобные или еще более выраженные отклонения средних из этих двух выборок при условии верности нулевой гипотезы превышает пороговое значение уровня значимости."
      ]
    },
    {
      "cell_type": "markdown",
      "metadata": {
        "id": "dpc7Ui0rXQW3"
      },
      "source": [
        "**Вывод:** не отвергаем нулевую гипотезу. Нельзя утверждать, что средняя выручка от абонентов \"Мегалайна\" из Москвы отличается от выручки от клиентов из остальных регионов."
      ]
    },
    {
      "cell_type": "markdown",
      "metadata": {
        "id": "32GEaXQuX8Cw"
      },
      "source": [
        "\n",
        "\n",
        "---\n",
        "\n",
        "\n",
        "\n",
        "---\n",
        "\n"
      ]
    },
    {
      "cell_type": "markdown",
      "metadata": {
        "id": "JM8N1uL0j1HL"
      },
      "source": [
        "## **Выводы и рекомендации**<a  class=\"anchor\" id=\"summary\"></a>"
      ]
    },
    {
      "cell_type": "markdown",
      "metadata": {
        "id": "3chGSny_YCun"
      },
      "source": [
        "1) Тариф \"Ультра\" компании \"Мегалайн\" является более выгодным для вложения денег рекламного бюджета:\n",
        "- он менее нагружен (декларируемые объемы улуг в рамках абонентской платы востребованы пользователями в среднем не более чем на 64.1%);\n",
        "- вместе с тем тариф генерирует дополнительную выручку от отдельных пользователей в секторе дополнительных пакетов интернет-трафика.\n",
        "\n",
        "Сотношение коэффициента численности абонентов \"Смарт\"/\"Ультра\" к коэффиценту выручки - 2,3 к 1,6. Каждый пользователь тарифа \"Ультра\" приносит компании на 66.5% больше выручки, чем абонент с тарифом \"Смарт\"."
      ]
    },
    {
      "cell_type": "markdown",
      "metadata": {
        "id": "EOyV5dxDmk9P"
      },
      "source": [
        "2) Условия тарифа \"Смарт\" не соотвествуют запросам более половины пользователей в части интернет-трафика, включенного в абонентскую плату."
      ]
    },
    {
      "cell_type": "markdown",
      "metadata": {
        "id": "w1LFxUsgnL_x"
      },
      "source": [
        "3) Можно рекомендовать расширение тарифной линейки \"Мегалайна\" промежуточным тарифом, с расширением пакетов услуг исходя из их превышений по тарифу \"Смарт\". Например, с абонентской платой на уровне 1200 рублей, в которую будут включены:\n",
        "- 1000 минут разговоров (планируемое среднее использование 50%); \n",
        "- 20Гб интернета (планируемое среднее использование 65%);\n",
        "- 100 СМС (планируемое среднее использование 35%). "
      ]
    }
  ]
}