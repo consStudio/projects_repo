{
  "nbformat": 4,
  "nbformat_minor": 0,
  "metadata": {
    "ExecuteTimeLog": [
      {
        "duration": 1870,
        "start_time": "2021-09-13T10:48:53.068Z"
      },
      {
        "duration": 5,
        "start_time": "2021-09-13T10:48:54.941Z"
      },
      {
        "duration": 11122,
        "start_time": "2021-09-13T10:48:54.949Z"
      },
      {
        "duration": 10,
        "start_time": "2021-09-13T10:49:06.074Z"
      },
      {
        "duration": 42,
        "start_time": "2021-09-13T10:49:06.086Z"
      },
      {
        "duration": 6,
        "start_time": "2021-09-13T10:49:06.130Z"
      },
      {
        "duration": 95,
        "start_time": "2021-09-13T10:49:06.138Z"
      },
      {
        "duration": 17,
        "start_time": "2021-09-13T10:49:06.236Z"
      },
      {
        "duration": 1157,
        "start_time": "2021-09-13T10:49:06.283Z"
      },
      {
        "duration": 162,
        "start_time": "2021-09-13T10:49:07.444Z"
      },
      {
        "duration": 37,
        "start_time": "2021-09-13T10:49:07.608Z"
      },
      {
        "duration": 6,
        "start_time": "2021-09-13T10:49:07.647Z"
      },
      {
        "duration": 58,
        "start_time": "2021-09-13T10:49:07.655Z"
      },
      {
        "duration": 21,
        "start_time": "2021-09-13T10:49:07.716Z"
      },
      {
        "duration": 42,
        "start_time": "2021-09-13T10:49:07.740Z"
      },
      {
        "duration": 17,
        "start_time": "2021-09-13T10:49:07.785Z"
      },
      {
        "duration": 18,
        "start_time": "2021-09-13T10:49:07.804Z"
      },
      {
        "duration": 5,
        "start_time": "2021-09-13T10:49:07.825Z"
      },
      {
        "duration": 129,
        "start_time": "2021-09-13T10:49:07.832Z"
      },
      {
        "duration": 19,
        "start_time": "2021-09-13T10:49:07.963Z"
      },
      {
        "duration": 8,
        "start_time": "2021-09-13T10:49:07.985Z"
      },
      {
        "duration": 25,
        "start_time": "2021-09-13T10:49:07.995Z"
      },
      {
        "duration": 14,
        "start_time": "2021-09-13T10:49:08.022Z"
      },
      {
        "duration": 11,
        "start_time": "2021-09-13T10:49:08.038Z"
      },
      {
        "duration": 6,
        "start_time": "2021-09-13T10:49:08.051Z"
      },
      {
        "duration": 23,
        "start_time": "2021-09-13T10:49:08.059Z"
      },
      {
        "duration": 4,
        "start_time": "2021-09-13T10:49:08.087Z"
      },
      {
        "duration": 9,
        "start_time": "2021-09-13T10:49:08.094Z"
      },
      {
        "duration": 49,
        "start_time": "2021-09-13T10:49:08.105Z"
      },
      {
        "duration": 26,
        "start_time": "2021-09-13T10:49:08.156Z"
      },
      {
        "duration": 15,
        "start_time": "2021-09-13T10:49:08.184Z"
      },
      {
        "duration": 24,
        "start_time": "2021-09-13T10:49:08.201Z"
      },
      {
        "duration": 18,
        "start_time": "2021-09-13T10:49:08.228Z"
      },
      {
        "duration": 35,
        "start_time": "2021-09-13T10:49:08.249Z"
      },
      {
        "duration": 17,
        "start_time": "2021-09-13T10:49:08.287Z"
      },
      {
        "duration": 1353,
        "start_time": "2021-09-13T10:49:08.307Z"
      },
      {
        "duration": 6,
        "start_time": "2021-09-13T10:49:09.663Z"
      },
      {
        "duration": 815,
        "start_time": "2021-09-13T10:49:09.671Z"
      },
      {
        "duration": 14,
        "start_time": "2021-09-13T10:49:10.488Z"
      },
      {
        "duration": 79,
        "start_time": "2021-09-13T10:49:10.505Z"
      },
      {
        "duration": 8,
        "start_time": "2021-09-13T10:49:10.586Z"
      },
      {
        "duration": 11,
        "start_time": "2021-09-13T10:49:10.596Z"
      },
      {
        "duration": 1296,
        "start_time": "2021-09-13T10:49:10.609Z"
      },
      {
        "duration": 8,
        "start_time": "2021-09-13T10:49:11.907Z"
      },
      {
        "duration": 1234,
        "start_time": "2021-09-13T10:49:11.917Z"
      },
      {
        "duration": 37,
        "start_time": "2021-09-13T10:49:13.153Z"
      },
      {
        "duration": 9,
        "start_time": "2021-09-13T10:49:13.192Z"
      },
      {
        "duration": 7,
        "start_time": "2021-09-13T10:49:13.203Z"
      },
      {
        "duration": 13,
        "start_time": "2021-09-13T10:49:13.212Z"
      },
      {
        "duration": 706,
        "start_time": "2021-09-13T10:49:13.228Z"
      },
      {
        "duration": 14,
        "start_time": "2021-09-13T10:49:13.937Z"
      },
      {
        "duration": 1496,
        "start_time": "2021-09-13T10:49:13.954Z"
      },
      {
        "duration": 263160,
        "start_time": "2021-09-14T03:34:05.776Z"
      },
      {
        "duration": 4,
        "start_time": "2021-09-14T03:38:28.938Z"
      },
      {
        "duration": 15889,
        "start_time": "2021-09-14T03:38:28.945Z"
      },
      {
        "duration": 10,
        "start_time": "2021-09-14T03:39:52.932Z"
      },
      {
        "duration": 30,
        "start_time": "2021-09-14T03:39:54.970Z"
      },
      {
        "duration": 7,
        "start_time": "2021-09-14T03:40:09.239Z"
      },
      {
        "duration": 80,
        "start_time": "2021-09-14T03:40:10.228Z"
      },
      {
        "duration": 18,
        "start_time": "2021-09-14T03:40:11.105Z"
      },
      {
        "duration": 230301,
        "start_time": "2021-09-14T03:40:11.474Z"
      },
      {
        "duration": 144,
        "start_time": "2021-09-14T03:44:01.777Z"
      },
      {
        "duration": 47,
        "start_time": "2021-09-14T03:44:01.924Z"
      },
      {
        "duration": 6,
        "start_time": "2021-09-14T03:44:01.974Z"
      },
      {
        "duration": 63,
        "start_time": "2021-09-14T03:44:01.982Z"
      },
      {
        "duration": 21,
        "start_time": "2021-09-14T03:44:02.047Z"
      },
      {
        "duration": 21,
        "start_time": "2021-09-14T03:44:02.070Z"
      },
      {
        "duration": 24,
        "start_time": "2021-09-14T03:44:02.095Z"
      },
      {
        "duration": 27,
        "start_time": "2021-09-14T03:44:02.122Z"
      },
      {
        "duration": 17,
        "start_time": "2021-09-14T03:44:02.152Z"
      },
      {
        "duration": 122,
        "start_time": "2021-09-14T03:44:02.172Z"
      },
      {
        "duration": 13,
        "start_time": "2021-09-14T03:44:02.297Z"
      },
      {
        "duration": 44,
        "start_time": "2021-09-14T03:44:02.312Z"
      },
      {
        "duration": 28,
        "start_time": "2021-09-14T03:44:02.358Z"
      },
      {
        "duration": 33,
        "start_time": "2021-09-14T03:44:02.390Z"
      },
      {
        "duration": 46,
        "start_time": "2021-09-14T03:44:02.425Z"
      },
      {
        "duration": 20,
        "start_time": "2021-09-14T03:44:02.474Z"
      },
      {
        "duration": 22,
        "start_time": "2021-09-14T03:44:02.498Z"
      },
      {
        "duration": 22,
        "start_time": "2021-09-14T03:44:02.523Z"
      },
      {
        "duration": 19,
        "start_time": "2021-09-14T03:44:02.548Z"
      },
      {
        "duration": 57,
        "start_time": "2021-09-14T03:44:02.570Z"
      },
      {
        "duration": 6,
        "start_time": "2021-09-14T03:44:02.629Z"
      },
      {
        "duration": 28,
        "start_time": "2021-09-14T03:44:02.639Z"
      },
      {
        "duration": 12,
        "start_time": "2021-09-14T03:44:02.670Z"
      },
      {
        "duration": 15,
        "start_time": "2021-09-14T03:44:02.685Z"
      },
      {
        "duration": 21,
        "start_time": "2021-09-14T03:44:02.703Z"
      },
      {
        "duration": 26,
        "start_time": "2021-09-14T03:44:02.726Z"
      },
      {
        "duration": 1467,
        "start_time": "2021-09-14T03:44:02.768Z"
      },
      {
        "duration": 6,
        "start_time": "2021-09-14T03:44:04.237Z"
      },
      {
        "duration": 1003,
        "start_time": "2021-09-14T03:44:04.245Z"
      },
      {
        "duration": 1831,
        "start_time": "2021-09-14T07:10:33.432Z"
      },
      {
        "duration": 5,
        "start_time": "2021-09-14T07:10:35.266Z"
      },
      {
        "duration": 10613,
        "start_time": "2021-09-14T07:10:35.274Z"
      },
      {
        "duration": 9,
        "start_time": "2021-09-14T07:10:45.890Z"
      },
      {
        "duration": 39,
        "start_time": "2021-09-14T07:10:45.901Z"
      },
      {
        "duration": 6,
        "start_time": "2021-09-14T07:10:45.943Z"
      },
      {
        "duration": 103,
        "start_time": "2021-09-14T07:10:45.951Z"
      },
      {
        "duration": 32,
        "start_time": "2021-09-14T07:10:46.058Z"
      },
      {
        "duration": 1176,
        "start_time": "2021-09-14T07:10:46.093Z"
      },
      {
        "duration": 133,
        "start_time": "2021-09-14T07:10:47.272Z"
      },
      {
        "duration": 34,
        "start_time": "2021-09-14T07:10:47.408Z"
      },
      {
        "duration": 6,
        "start_time": "2021-09-14T07:10:47.444Z"
      },
      {
        "duration": 62,
        "start_time": "2021-09-14T07:10:47.452Z"
      },
      {
        "duration": 12,
        "start_time": "2021-09-14T07:10:47.517Z"
      },
      {
        "duration": 13,
        "start_time": "2021-09-14T07:10:47.532Z"
      },
      {
        "duration": 58,
        "start_time": "2021-09-14T07:10:47.583Z"
      },
      {
        "duration": 3,
        "start_time": "2021-09-14T07:10:47.644Z"
      },
      {
        "duration": 222,
        "start_time": "2021-09-14T07:10:47.649Z"
      },
      {
        "duration": 28,
        "start_time": "2021-09-14T07:10:47.873Z"
      },
      {
        "duration": 30,
        "start_time": "2021-09-14T07:10:47.903Z"
      },
      {
        "duration": 54,
        "start_time": "2021-09-14T07:10:47.936Z"
      },
      {
        "duration": 10,
        "start_time": "2021-09-14T07:10:47.993Z"
      },
      {
        "duration": 12,
        "start_time": "2021-09-14T07:10:48.009Z"
      },
      {
        "duration": 19,
        "start_time": "2021-09-14T07:10:48.025Z"
      },
      {
        "duration": 43,
        "start_time": "2021-09-14T07:10:48.046Z"
      },
      {
        "duration": 4,
        "start_time": "2021-09-14T07:10:48.091Z"
      },
      {
        "duration": 110,
        "start_time": "2021-09-14T07:10:48.098Z"
      },
      {
        "duration": 9,
        "start_time": "2021-09-14T07:10:48.211Z"
      },
      {
        "duration": 8,
        "start_time": "2021-09-14T07:10:48.222Z"
      },
      {
        "duration": 11,
        "start_time": "2021-09-14T07:10:48.232Z"
      },
      {
        "duration": 10,
        "start_time": "2021-09-14T07:10:48.245Z"
      },
      {
        "duration": 32,
        "start_time": "2021-09-14T07:10:48.257Z"
      },
      {
        "duration": 6,
        "start_time": "2021-09-14T07:10:48.292Z"
      },
      {
        "duration": 12,
        "start_time": "2021-09-14T07:10:48.301Z"
      },
      {
        "duration": 6,
        "start_time": "2021-09-14T07:10:48.315Z"
      },
      {
        "duration": 5,
        "start_time": "2021-09-14T07:10:48.324Z"
      },
      {
        "duration": 7,
        "start_time": "2021-09-14T07:10:48.331Z"
      },
      {
        "duration": 46,
        "start_time": "2021-09-14T07:10:48.340Z"
      },
      {
        "duration": 44,
        "start_time": "2021-09-14T07:10:48.389Z"
      },
      {
        "duration": 5,
        "start_time": "2021-09-14T07:10:48.435Z"
      },
      {
        "duration": 48,
        "start_time": "2021-09-14T07:10:48.443Z"
      },
      {
        "duration": 11,
        "start_time": "2021-09-14T07:10:48.493Z"
      },
      {
        "duration": 13,
        "start_time": "2021-09-14T07:10:48.506Z"
      },
      {
        "duration": 14,
        "start_time": "2021-09-14T07:10:48.522Z"
      },
      {
        "duration": 7,
        "start_time": "2021-09-14T07:10:48.539Z"
      },
      {
        "duration": 1353,
        "start_time": "2021-09-14T07:10:48.583Z"
      },
      {
        "duration": 5,
        "start_time": "2021-09-14T07:10:49.938Z"
      },
      {
        "duration": 815,
        "start_time": "2021-09-14T07:10:49.946Z"
      },
      {
        "duration": 13,
        "start_time": "2021-09-14T07:10:50.783Z"
      },
      {
        "duration": 85,
        "start_time": "2021-09-14T07:10:50.799Z"
      },
      {
        "duration": 7,
        "start_time": "2021-09-14T07:10:50.886Z"
      },
      {
        "duration": 14,
        "start_time": "2021-09-14T07:10:50.896Z"
      },
      {
        "duration": 1275,
        "start_time": "2021-09-14T07:10:50.913Z"
      },
      {
        "duration": 8,
        "start_time": "2021-09-14T07:10:52.190Z"
      },
      {
        "duration": 1223,
        "start_time": "2021-09-14T07:10:52.200Z"
      },
      {
        "duration": 26,
        "start_time": "2021-09-14T07:10:53.425Z"
      },
      {
        "duration": 28,
        "start_time": "2021-09-14T07:10:53.453Z"
      },
      {
        "duration": 3,
        "start_time": "2021-09-14T07:10:53.484Z"
      },
      {
        "duration": 15,
        "start_time": "2021-09-14T07:10:53.489Z"
      },
      {
        "duration": 780,
        "start_time": "2021-09-14T07:10:53.506Z"
      },
      {
        "duration": 15,
        "start_time": "2021-09-14T07:10:54.288Z"
      },
      {
        "duration": 1418,
        "start_time": "2021-09-14T07:10:54.306Z"
      },
      {
        "duration": 1758,
        "start_time": "2021-09-14T07:34:20.460Z"
      },
      {
        "duration": 3,
        "start_time": "2021-09-14T07:34:22.220Z"
      },
      {
        "duration": 10386,
        "start_time": "2021-09-14T07:34:22.224Z"
      },
      {
        "duration": 6,
        "start_time": "2021-09-14T07:34:32.613Z"
      },
      {
        "duration": 26,
        "start_time": "2021-09-14T07:34:32.621Z"
      },
      {
        "duration": 4,
        "start_time": "2021-09-14T07:34:32.649Z"
      },
      {
        "duration": 63,
        "start_time": "2021-09-14T07:34:32.655Z"
      },
      {
        "duration": 11,
        "start_time": "2021-09-14T07:35:07.312Z"
      },
      {
        "duration": 2727,
        "start_time": "2021-09-14T07:35:07.327Z"
      },
      {
        "duration": 108,
        "start_time": "2021-09-14T07:35:10.056Z"
      },
      {
        "duration": 34,
        "start_time": "2021-09-14T07:35:10.166Z"
      },
      {
        "duration": 19,
        "start_time": "2021-09-14T07:35:10.202Z"
      },
      {
        "duration": 36,
        "start_time": "2021-09-14T07:35:10.223Z"
      },
      {
        "duration": 10,
        "start_time": "2021-09-14T07:35:12.577Z"
      },
      {
        "duration": 11,
        "start_time": "2021-09-14T07:35:12.633Z"
      },
      {
        "duration": 44,
        "start_time": "2021-09-14T07:35:17.161Z"
      },
      {
        "duration": 2,
        "start_time": "2021-09-14T07:35:17.891Z"
      },
      {
        "duration": 161,
        "start_time": "2021-09-14T07:35:19.223Z"
      },
      {
        "duration": 19,
        "start_time": "2021-09-14T07:35:22.560Z"
      },
      {
        "duration": 20,
        "start_time": "2021-09-14T07:35:25.209Z"
      },
      {
        "duration": 19,
        "start_time": "2021-09-14T07:35:32.877Z"
      },
      {
        "duration": 6,
        "start_time": "2021-09-14T07:35:34.529Z"
      },
      {
        "duration": 10,
        "start_time": "2021-09-14T07:35:35.096Z"
      },
      {
        "duration": 12,
        "start_time": "2021-09-14T07:35:35.791Z"
      },
      {
        "duration": 10,
        "start_time": "2021-09-14T07:36:48.227Z"
      },
      {
        "duration": 4,
        "start_time": "2021-09-14T07:36:48.618Z"
      },
      {
        "duration": 65,
        "start_time": "2021-09-14T07:36:52.191Z"
      },
      {
        "duration": 8,
        "start_time": "2021-09-14T07:36:53.345Z"
      },
      {
        "duration": 7,
        "start_time": "2021-09-14T07:36:54.023Z"
      },
      {
        "duration": 7,
        "start_time": "2021-09-14T07:36:54.441Z"
      },
      {
        "duration": 4,
        "start_time": "2021-09-14T07:36:55.442Z"
      },
      {
        "duration": 6,
        "start_time": "2021-09-14T07:36:56.278Z"
      },
      {
        "duration": 3,
        "start_time": "2021-09-14T07:36:56.474Z"
      },
      {
        "duration": 4,
        "start_time": "2021-09-14T07:36:56.719Z"
      },
      {
        "duration": 3,
        "start_time": "2021-09-14T07:36:57.770Z"
      },
      {
        "duration": 3,
        "start_time": "2021-09-14T07:36:58.076Z"
      },
      {
        "duration": 3,
        "start_time": "2021-09-14T07:36:58.834Z"
      },
      {
        "duration": 4,
        "start_time": "2021-09-14T07:37:00.010Z"
      },
      {
        "duration": 28,
        "start_time": "2021-09-14T07:37:01.841Z"
      },
      {
        "duration": 4,
        "start_time": "2021-09-14T07:37:03.209Z"
      },
      {
        "duration": 61,
        "start_time": "2021-09-14T07:37:27.672Z"
      },
      {
        "duration": 12,
        "start_time": "2021-09-14T07:37:34.954Z"
      },
      {
        "duration": 9,
        "start_time": "2021-09-14T07:37:35.114Z"
      },
      {
        "duration": 8,
        "start_time": "2021-09-14T07:37:35.482Z"
      },
      {
        "duration": 10,
        "start_time": "2021-09-14T07:37:35.685Z"
      },
      {
        "duration": 5,
        "start_time": "2021-09-14T07:37:36.649Z"
      },
      {
        "duration": 931,
        "start_time": "2021-09-14T07:37:37.247Z"
      },
      {
        "duration": 5,
        "start_time": "2021-09-14T07:37:38.180Z"
      },
      {
        "duration": 588,
        "start_time": "2021-09-14T07:37:38.261Z"
      },
      {
        "duration": 9,
        "start_time": "2021-09-14T07:37:40.945Z"
      },
      {
        "duration": 16,
        "start_time": "2021-09-14T07:37:41.514Z"
      },
      {
        "duration": 5,
        "start_time": "2021-09-14T07:37:42.107Z"
      },
      {
        "duration": 6,
        "start_time": "2021-09-14T07:37:42.581Z"
      },
      {
        "duration": 896,
        "start_time": "2021-09-14T07:37:42.755Z"
      },
      {
        "duration": 6,
        "start_time": "2021-09-14T07:37:43.657Z"
      },
      {
        "duration": 832,
        "start_time": "2021-09-14T07:37:43.867Z"
      },
      {
        "duration": 18,
        "start_time": "2021-09-14T07:37:45.346Z"
      },
      {
        "duration": 7,
        "start_time": "2021-09-14T07:37:45.538Z"
      },
      {
        "duration": 3,
        "start_time": "2021-09-14T07:37:45.921Z"
      },
      {
        "duration": 9,
        "start_time": "2021-09-14T07:37:46.329Z"
      },
      {
        "duration": 428,
        "start_time": "2021-09-14T07:37:46.541Z"
      },
      {
        "duration": 11,
        "start_time": "2021-09-14T07:37:47.603Z"
      },
      {
        "duration": 979,
        "start_time": "2021-09-14T07:37:48.420Z"
      }
    ],
    "colab": {
      "name": "13_ab_test_fail_e-commerce.ipynb",
      "provenance": [],
      "collapsed_sections": []
    },
    "kernelspec": {
      "display_name": "Python 3",
      "language": "python",
      "name": "python3"
    },
    "language_info": {
      "codemirror_mode": {
        "name": "ipython",
        "version": 3
      },
      "file_extension": ".py",
      "mimetype": "text/x-python",
      "name": "python",
      "nbconvert_exporter": "python",
      "pygments_lexer": "ipython3",
      "version": "3.7.8"
    },
    "toc": {
      "base_numbering": 1,
      "nav_menu": {},
      "number_sections": true,
      "sideBar": true,
      "skip_h1_title": true,
      "title_cell": "Table of Contents",
      "title_sidebar": "Contents",
      "toc_cell": false,
      "toc_position": {},
      "toc_section_display": true,
      "toc_window_display": false
    }
  },
  "cells": [
    {
      "cell_type": "markdown",
      "metadata": {
        "id": "X_IrRXBzkA0K"
      },
      "source": [
        "**Выпускной проект Яндекс.Практикума. A/B-тестирование**\n",
        "\n",
        "**Курс: Аналитик данных**\n",
        "\n",
        "---\n",
        "\n",
        "\n",
        "\n",
        "**СОДЕРЖАНИЕ**\n",
        "\n",
        "---\n",
        "[**Описание проекта**](#description)\n",
        "\n",
        "[**Импорт библиотек и загрузка данных**](#loading)\n",
        "\n",
        "[**Предобработка данных**](#preparing)\n",
        "\n",
        "[**Исследовательский анализ данных (EDA)**](#EDA)\n",
        "\n",
        "[**Определение эффекта теста**](#effect)\n",
        "\n",
        "[**Оценка результатов теста**](#statistics)\n",
        "\n",
        "[**Выводы и рекомендации**](#summary)\n",
        "\n",
        "---\n",
        "\n",
        "\n"
      ]
    },
    {
      "cell_type": "markdown",
      "metadata": {
        "id": "TQfUXKC-Q5JL"
      },
      "source": [
        "## **Описание проекта**<a  class=\"anchor\" id=\"description\"></a>"
      ]
    },
    {
      "cell_type": "markdown",
      "metadata": {
        "id": "iCznvF16czjt"
      },
      "source": [
        "##  **Импорт библиотек и загрузка данных**<a  class=\"anchor\" id=\"loading\"></a>"
      ]
    },
    {
      "cell_type": "code",
      "metadata": {
        "colab": {
          "base_uri": "https://localhost:8080/"
        },
        "id": "ce5wf0TCKYFV",
        "outputId": "0a4b48e4-4c9d-45b4-86ca-acc1aab77789"
      },
      "source": [
        "import pandas as pd\n",
        "import datetime as dt\n",
        "\n",
        "import matplotlib\n",
        "from matplotlib import pyplot as plt\n",
        "import seaborn as sns; sns.set(style='white')\n",
        "\n",
        "import numpy as np\n",
        "from scipy import stats as st\n",
        "from statsmodels.stats.proportion import proportions_ztest\n",
        "\n",
        "from plotly import graph_objects as go\n",
        "\n",
        "import warnings\n",
        "warnings.filterwarnings(\"ignore\")"
      ],
      "execution_count": 1,
      "outputs": [
        {
          "output_type": "stream",
          "name": "stderr",
          "text": [
            "/usr/local/lib/python3.7/dist-packages/statsmodels/tools/_testing.py:19: FutureWarning: pandas.util.testing is deprecated. Use the functions in the public API at pandas.testing instead.\n",
            "  import pandas.util.testing as tm\n"
          ]
        }
      ]
    },
    {
      "cell_type": "code",
      "metadata": {
        "id": "TIIl0JhCF1Jy"
      },
      "source": [
        "# Функция для загрузки файлов с гугл-диска\n",
        "def gdisk_gownload(link):\n",
        "    url='https://drive.google.com/uc?id=' + link.split('/')[-2]\n",
        "    return pd.read_csv(url)"
      ],
      "execution_count": 2,
      "outputs": []
    },
    {
      "cell_type": "code",
      "metadata": {
        "id": "6H6IsXQ9KQbl"
      },
      "source": [
        "# Загрузка данных\n",
        "try:\n",
        "    marketing_events=pd.DataFrame(pd.read_csv(' '))\n",
        "    new_users=pd.DataFrame(pd.read_csv(' '))\n",
        "    events=pd.DataFrame(pd.read_csv(' '))\n",
        "    participants=pd.DataFrame(pd.read_csv(' '))\n",
        "except:\n",
        "    marketing_events=gdisk_gownload(' ')\n",
        "    new_users=gdisk_gownload(' ')\n",
        "    events=gdisk_gownload(' ')\n",
        "    participants=gdisk_gownload(' ')"
      ],
      "execution_count": 3,
      "outputs": []
    },
    {
      "cell_type": "markdown",
      "metadata": {
        "id": "0PZAwc4Yc58t"
      },
      "source": [
        "## **Предобработка данных**<a  class=\"anchor\" id=\"preparing\"></a>"
      ]
    },
    {
      "cell_type": "markdown",
      "metadata": {
        "id": "gcJkaDMAo_yx"
      },
      "source": [
        "### **Проверка типов данных, пропусков и дубликатов.**"
      ]
    },
    {
      "cell_type": "markdown",
      "metadata": {
        "id": "uv-gQel7wrTz"
      },
      "source": [
        "Проверим датасеты на соотвествие типов данных описанию, отсутствие пропусков и дубликатов в категориях."
      ]
    },
    {
      "cell_type": "code",
      "metadata": {
        "id": "elV55oz1t9vN"
      },
      "source": [
        "def check_dataset(dataset):\n",
        "    \"\"\"\n",
        "    Функция для вывода информации о структуре и типах данных датафрейма, проверки на пропуски в столбцах и дубликаты записей\n",
        "    Принимает на вход датафрейм\n",
        "    Выводит информацию о:\n",
        "    типах данных, наименовании столбцов и количестве записей в датафрейме;\n",
        "    наличии пропусков в данных и их долей по столбцам;\n",
        "    наличии и количестве дубликатов записей;\n",
        "    десять случайных записей из датафрейма\n",
        "    \"\"\"\n",
        "    \n",
        "    try:\n",
        "        name =[x for x in globals() if globals()[x] is dataset][0]\n",
        "        width = 10*len(dataset.columns)\n",
        "        print('\\033[1m','Проверка таблицы: {}'.format(name),'\\033[0m')\n",
        "        print('.'*width)\n",
        "        print('\\033[1m','\\nИнформация о типах данных:', '\\033[0m')\n",
        "        display(dataset.info())\n",
        "        print('.'*width)\n",
        "        if dataset.isna().mean().sum()==0:\n",
        "            print('\\033[1m', '\\nПропусков в столбцах \\033[32;1m НЕТ', '\\033[0m')\n",
        "        else:\n",
        "            print('\\033[1m', '\\nДоля пропусков в столбцах:', '\\033[0m')\n",
        "            display(pd.DataFrame(round((dataset.isna().mean()*100),2)).style.background_gradient())\n",
        "        print('.'*width)\n",
        "        if dataset.duplicated().sum()==0:\n",
        "            print('\\033[1m', '\\nДубликатов строк \\033[32;1m НЕТ', '\\033[0m')\n",
        "        else:\n",
        "            print('\\033[1m', '\\nКоличество дубликатов: \\033[31;1m{}\\033[0m'.format(dataset.duplicated().sum()))\n",
        "        print('.'*width)\n",
        "        print('\\033[1m', '\\n10 случайных строк датафрейма', '\\033[0m')\n",
        "        display(dataset.sample(10))\n",
        "           \n",
        "    except:\n",
        "        print('Ошибка')"
      ],
      "execution_count": 4,
      "outputs": []
    },
    {
      "cell_type": "markdown",
      "metadata": {
        "id": "hykimeLkjMiW"
      },
      "source": [
        "\n",
        "\n",
        "---\n",
        "\n",
        "Проверим датасет, содержащий календарь маркетинговых событий на 2020 год."
      ]
    },
    {
      "cell_type": "code",
      "metadata": {
        "colab": {
          "base_uri": "https://localhost:8080/",
          "height": 784
        },
        "id": "am2qNKOHhFeT",
        "outputId": "514bff82-0137-44ce-9f28-489a5ed0a549"
      },
      "source": [
        "check_dataset(marketing_events)"
      ],
      "execution_count": 5,
      "outputs": [
        {
          "output_type": "stream",
          "name": "stdout",
          "text": [
            "\u001b[1m Проверка таблицы: marketing_events \u001b[0m\n",
            "........................................\n",
            "\u001b[1m \n",
            "Информация о типах данных: \u001b[0m\n",
            "<class 'pandas.core.frame.DataFrame'>\n",
            "RangeIndex: 14 entries, 0 to 13\n",
            "Data columns (total 4 columns):\n",
            " #   Column     Non-Null Count  Dtype \n",
            "---  ------     --------------  ----- \n",
            " 0   name       14 non-null     object\n",
            " 1   regions    14 non-null     object\n",
            " 2   start_dt   14 non-null     object\n",
            " 3   finish_dt  14 non-null     object\n",
            "dtypes: object(4)\n",
            "memory usage: 576.0+ bytes\n"
          ]
        },
        {
          "output_type": "display_data",
          "data": {
            "text/plain": [
              "None"
            ]
          },
          "metadata": {}
        },
        {
          "output_type": "stream",
          "name": "stdout",
          "text": [
            "........................................\n",
            "\u001b[1m \n",
            "Пропусков в столбцах \u001b[32;1m НЕТ \u001b[0m\n",
            "........................................\n",
            "\u001b[1m \n",
            "Дубликатов строк \u001b[32;1m НЕТ \u001b[0m\n",
            "........................................\n",
            "\u001b[1m \n",
            "10 случайных строк датафрейма \u001b[0m\n"
          ]
        },
        {
          "output_type": "display_data",
          "data": {
            "text/html": [
              "<div>\n",
              "<style scoped>\n",
              "    .dataframe tbody tr th:only-of-type {\n",
              "        vertical-align: middle;\n",
              "    }\n",
              "\n",
              "    .dataframe tbody tr th {\n",
              "        vertical-align: top;\n",
              "    }\n",
              "\n",
              "    .dataframe thead th {\n",
              "        text-align: right;\n",
              "    }\n",
              "</style>\n",
              "<table border=\"1\" class=\"dataframe\">\n",
              "  <thead>\n",
              "    <tr style=\"text-align: right;\">\n",
              "      <th></th>\n",
              "      <th>name</th>\n",
              "      <th>regions</th>\n",
              "      <th>start_dt</th>\n",
              "      <th>finish_dt</th>\n",
              "    </tr>\n",
              "  </thead>\n",
              "  <tbody>\n",
              "    <tr>\n",
              "      <th>11</th>\n",
              "      <td>Dragon Boat Festival Giveaway</td>\n",
              "      <td>APAC</td>\n",
              "      <td>2020-06-25</td>\n",
              "      <td>2020-07-01</td>\n",
              "    </tr>\n",
              "    <tr>\n",
              "      <th>1</th>\n",
              "      <td>St. Valentine's Day Giveaway</td>\n",
              "      <td>EU, CIS, APAC, N.America</td>\n",
              "      <td>2020-02-14</td>\n",
              "      <td>2020-02-16</td>\n",
              "    </tr>\n",
              "    <tr>\n",
              "      <th>0</th>\n",
              "      <td>Christmas&amp;New Year Promo</td>\n",
              "      <td>EU, N.America</td>\n",
              "      <td>2020-12-25</td>\n",
              "      <td>2021-01-03</td>\n",
              "    </tr>\n",
              "    <tr>\n",
              "      <th>2</th>\n",
              "      <td>St. Patric's Day Promo</td>\n",
              "      <td>EU, N.America</td>\n",
              "      <td>2020-03-17</td>\n",
              "      <td>2020-03-19</td>\n",
              "    </tr>\n",
              "    <tr>\n",
              "      <th>6</th>\n",
              "      <td>Chinese New Year Promo</td>\n",
              "      <td>APAC</td>\n",
              "      <td>2020-01-25</td>\n",
              "      <td>2020-02-07</td>\n",
              "    </tr>\n",
              "    <tr>\n",
              "      <th>10</th>\n",
              "      <td>CIS New Year Gift Lottery</td>\n",
              "      <td>CIS</td>\n",
              "      <td>2020-12-30</td>\n",
              "      <td>2021-01-07</td>\n",
              "    </tr>\n",
              "    <tr>\n",
              "      <th>7</th>\n",
              "      <td>Labor day (May 1st) Ads Campaign</td>\n",
              "      <td>EU, CIS, APAC</td>\n",
              "      <td>2020-05-01</td>\n",
              "      <td>2020-05-03</td>\n",
              "    </tr>\n",
              "    <tr>\n",
              "      <th>3</th>\n",
              "      <td>Easter Promo</td>\n",
              "      <td>EU, CIS, APAC, N.America</td>\n",
              "      <td>2020-04-12</td>\n",
              "      <td>2020-04-19</td>\n",
              "    </tr>\n",
              "    <tr>\n",
              "      <th>5</th>\n",
              "      <td>Black Friday Ads Campaign</td>\n",
              "      <td>EU, CIS, APAC, N.America</td>\n",
              "      <td>2020-11-26</td>\n",
              "      <td>2020-12-01</td>\n",
              "    </tr>\n",
              "    <tr>\n",
              "      <th>13</th>\n",
              "      <td>Chinese Moon Festival</td>\n",
              "      <td>APAC</td>\n",
              "      <td>2020-10-01</td>\n",
              "      <td>2020-10-07</td>\n",
              "    </tr>\n",
              "  </tbody>\n",
              "</table>\n",
              "</div>"
            ],
            "text/plain": [
              "                                name  ...   finish_dt\n",
              "11     Dragon Boat Festival Giveaway  ...  2020-07-01\n",
              "1       St. Valentine's Day Giveaway  ...  2020-02-16\n",
              "0           Christmas&New Year Promo  ...  2021-01-03\n",
              "2             St. Patric's Day Promo  ...  2020-03-19\n",
              "6             Chinese New Year Promo  ...  2020-02-07\n",
              "10         CIS New Year Gift Lottery  ...  2021-01-07\n",
              "7   Labor day (May 1st) Ads Campaign  ...  2020-05-03\n",
              "3                       Easter Promo  ...  2020-04-19\n",
              "5          Black Friday Ads Campaign  ...  2020-12-01\n",
              "13             Chinese Moon Festival  ...  2020-10-07\n",
              "\n",
              "[10 rows x 4 columns]"
            ]
          },
          "metadata": {}
        }
      ]
    },
    {
      "cell_type": "markdown",
      "metadata": {
        "id": "c3HZTv_5jKQo"
      },
      "source": [
        "Датасет содержит 14 полных уникальных записи. Типы данных столбцов, содержащих даты не оптимальны."
      ]
    },
    {
      "cell_type": "markdown",
      "metadata": {
        "id": "ANX-OKlljrLO"
      },
      "source": [
        "Произведем преобразовния типов данных столбцов \"start_dt\" и \"finish_dt\" к типу datetime."
      ]
    },
    {
      "cell_type": "code",
      "metadata": {
        "id": "pJyhA1UZj7CY"
      },
      "source": [
        "marketing_events['start_dt']=pd.to_datetime(marketing_events['start_dt'])\n",
        "marketing_events['finish_dt']=pd.to_datetime(marketing_events['finish_dt'])"
      ],
      "execution_count": 6,
      "outputs": []
    },
    {
      "cell_type": "markdown",
      "metadata": {
        "id": "8ZslLNv1kQ0V"
      },
      "source": [
        "\n",
        "\n",
        "---\n",
        "\n",
        "Проверим датасет, содержащий информацию о пользователях, зарегистрировавшихся с 7 по 21 декабря 2020 года."
      ]
    },
    {
      "cell_type": "code",
      "metadata": {
        "colab": {
          "base_uri": "https://localhost:8080/",
          "height": 784
        },
        "id": "WpjEzFyqhFQO",
        "outputId": "0c1b844f-7448-4523-843b-59df2299455d"
      },
      "source": [
        "check_dataset(new_users)"
      ],
      "execution_count": 7,
      "outputs": [
        {
          "output_type": "stream",
          "name": "stdout",
          "text": [
            "\u001b[1m Проверка таблицы: new_users \u001b[0m\n",
            "........................................\n",
            "\u001b[1m \n",
            "Информация о типах данных: \u001b[0m\n",
            "<class 'pandas.core.frame.DataFrame'>\n",
            "RangeIndex: 61733 entries, 0 to 61732\n",
            "Data columns (total 4 columns):\n",
            " #   Column      Non-Null Count  Dtype \n",
            "---  ------      --------------  ----- \n",
            " 0   user_id     61733 non-null  object\n",
            " 1   first_date  61733 non-null  object\n",
            " 2   region      61733 non-null  object\n",
            " 3   device      61733 non-null  object\n",
            "dtypes: object(4)\n",
            "memory usage: 1.9+ MB\n"
          ]
        },
        {
          "output_type": "display_data",
          "data": {
            "text/plain": [
              "None"
            ]
          },
          "metadata": {}
        },
        {
          "output_type": "stream",
          "name": "stdout",
          "text": [
            "........................................\n",
            "\u001b[1m \n",
            "Пропусков в столбцах \u001b[32;1m НЕТ \u001b[0m\n",
            "........................................\n",
            "\u001b[1m \n",
            "Дубликатов строк \u001b[32;1m НЕТ \u001b[0m\n",
            "........................................\n",
            "\u001b[1m \n",
            "10 случайных строк датафрейма \u001b[0m\n"
          ]
        },
        {
          "output_type": "display_data",
          "data": {
            "text/html": [
              "<div>\n",
              "<style scoped>\n",
              "    .dataframe tbody tr th:only-of-type {\n",
              "        vertical-align: middle;\n",
              "    }\n",
              "\n",
              "    .dataframe tbody tr th {\n",
              "        vertical-align: top;\n",
              "    }\n",
              "\n",
              "    .dataframe thead th {\n",
              "        text-align: right;\n",
              "    }\n",
              "</style>\n",
              "<table border=\"1\" class=\"dataframe\">\n",
              "  <thead>\n",
              "    <tr style=\"text-align: right;\">\n",
              "      <th></th>\n",
              "      <th>user_id</th>\n",
              "      <th>first_date</th>\n",
              "      <th>region</th>\n",
              "      <th>device</th>\n",
              "    </tr>\n",
              "  </thead>\n",
              "  <tbody>\n",
              "    <tr>\n",
              "      <th>12367</th>\n",
              "      <td>D6E7860CA644FCE4</td>\n",
              "      <td>2020-12-21</td>\n",
              "      <td>EU</td>\n",
              "      <td>Android</td>\n",
              "    </tr>\n",
              "    <tr>\n",
              "      <th>10222</th>\n",
              "      <td>7E7C5DED2420D2ED</td>\n",
              "      <td>2020-12-14</td>\n",
              "      <td>EU</td>\n",
              "      <td>Android</td>\n",
              "    </tr>\n",
              "    <tr>\n",
              "      <th>10989</th>\n",
              "      <td>6FCDE79ECCD897C2</td>\n",
              "      <td>2020-12-14</td>\n",
              "      <td>EU</td>\n",
              "      <td>PC</td>\n",
              "    </tr>\n",
              "    <tr>\n",
              "      <th>30460</th>\n",
              "      <td>36F2A33CA87C3D15</td>\n",
              "      <td>2020-12-16</td>\n",
              "      <td>EU</td>\n",
              "      <td>PC</td>\n",
              "    </tr>\n",
              "    <tr>\n",
              "      <th>57529</th>\n",
              "      <td>331C5FAD767FAA74</td>\n",
              "      <td>2020-12-20</td>\n",
              "      <td>EU</td>\n",
              "      <td>Android</td>\n",
              "    </tr>\n",
              "    <tr>\n",
              "      <th>50657</th>\n",
              "      <td>FE82F68B57E5BD1A</td>\n",
              "      <td>2020-12-19</td>\n",
              "      <td>N.America</td>\n",
              "      <td>Android</td>\n",
              "    </tr>\n",
              "    <tr>\n",
              "      <th>31747</th>\n",
              "      <td>DF60E6D6D77FDE1A</td>\n",
              "      <td>2020-12-23</td>\n",
              "      <td>N.America</td>\n",
              "      <td>iPhone</td>\n",
              "    </tr>\n",
              "    <tr>\n",
              "      <th>14975</th>\n",
              "      <td>2D9D64CC232179B8</td>\n",
              "      <td>2020-12-21</td>\n",
              "      <td>N.America</td>\n",
              "      <td>Android</td>\n",
              "    </tr>\n",
              "    <tr>\n",
              "      <th>28692</th>\n",
              "      <td>43C2CB237D7E60A9</td>\n",
              "      <td>2020-12-09</td>\n",
              "      <td>EU</td>\n",
              "      <td>Android</td>\n",
              "    </tr>\n",
              "    <tr>\n",
              "      <th>10693</th>\n",
              "      <td>E2242001C7022C33</td>\n",
              "      <td>2020-12-14</td>\n",
              "      <td>EU</td>\n",
              "      <td>Mac</td>\n",
              "    </tr>\n",
              "  </tbody>\n",
              "</table>\n",
              "</div>"
            ],
            "text/plain": [
              "                user_id  first_date     region   device\n",
              "12367  D6E7860CA644FCE4  2020-12-21         EU  Android\n",
              "10222  7E7C5DED2420D2ED  2020-12-14         EU  Android\n",
              "10989  6FCDE79ECCD897C2  2020-12-14         EU       PC\n",
              "30460  36F2A33CA87C3D15  2020-12-16         EU       PC\n",
              "57529  331C5FAD767FAA74  2020-12-20         EU  Android\n",
              "50657  FE82F68B57E5BD1A  2020-12-19  N.America  Android\n",
              "31747  DF60E6D6D77FDE1A  2020-12-23  N.America   iPhone\n",
              "14975  2D9D64CC232179B8  2020-12-21  N.America  Android\n",
              "28692  43C2CB237D7E60A9  2020-12-09         EU  Android\n",
              "10693  E2242001C7022C33  2020-12-14         EU      Mac"
            ]
          },
          "metadata": {}
        }
      ]
    },
    {
      "cell_type": "markdown",
      "metadata": {
        "id": "pVUWcc9SkyC2"
      },
      "source": [
        "Датасет содержит 61733  полных уникальных записи. Тип данных столбца, содержащего дату регистрации не оптимален."
      ]
    },
    {
      "cell_type": "markdown",
      "metadata": {
        "id": "dy8ft-IqkyDA"
      },
      "source": [
        "Произведем преобразовния типа данных столбца \"first_date\" к типу datetime."
      ]
    },
    {
      "cell_type": "code",
      "metadata": {
        "id": "w24pVY5MkyDB"
      },
      "source": [
        "new_users['first_date']=pd.to_datetime(new_users['first_date'])"
      ],
      "execution_count": 8,
      "outputs": []
    },
    {
      "cell_type": "markdown",
      "metadata": {
        "id": "DGuVKIeblVpx"
      },
      "source": [
        "\n",
        "\n",
        "---\n",
        "\n",
        "Проверим датасет, содержащий информацию о действиях новых пользователей в период с 7 по 4 января 2021 года."
      ]
    },
    {
      "cell_type": "code",
      "metadata": {
        "colab": {
          "base_uri": "https://localhost:8080/",
          "height": 891
        },
        "id": "P38lXw_QhFD-",
        "outputId": "b9d9a290-9649-42eb-fa38-2f15dd11429f"
      },
      "source": [
        "check_dataset(events)"
      ],
      "execution_count": 9,
      "outputs": [
        {
          "output_type": "stream",
          "name": "stdout",
          "text": [
            "\u001b[1m Проверка таблицы: events \u001b[0m\n",
            "........................................\n",
            "\u001b[1m \n",
            "Информация о типах данных: \u001b[0m\n",
            "<class 'pandas.core.frame.DataFrame'>\n",
            "RangeIndex: 440317 entries, 0 to 440316\n",
            "Data columns (total 4 columns):\n",
            " #   Column      Non-Null Count   Dtype  \n",
            "---  ------      --------------   -----  \n",
            " 0   user_id     440317 non-null  object \n",
            " 1   event_dt    440317 non-null  object \n",
            " 2   event_name  440317 non-null  object \n",
            " 3   details     62740 non-null   float64\n",
            "dtypes: float64(1), object(3)\n",
            "memory usage: 13.4+ MB\n"
          ]
        },
        {
          "output_type": "display_data",
          "data": {
            "text/plain": [
              "None"
            ]
          },
          "metadata": {}
        },
        {
          "output_type": "stream",
          "name": "stdout",
          "text": [
            "........................................\n",
            "\u001b[1m \n",
            "Доля пропусков в столбцах: \u001b[0m\n"
          ]
        },
        {
          "output_type": "display_data",
          "data": {
            "text/html": [
              "<style  type=\"text/css\" >\n",
              "#T_52c1d216_19e7_11ec_8e8f_0242ac1c0002row0_col0,#T_52c1d216_19e7_11ec_8e8f_0242ac1c0002row1_col0,#T_52c1d216_19e7_11ec_8e8f_0242ac1c0002row2_col0{\n",
              "            background-color:  #fff7fb;\n",
              "            color:  #000000;\n",
              "        }#T_52c1d216_19e7_11ec_8e8f_0242ac1c0002row3_col0{\n",
              "            background-color:  #023858;\n",
              "            color:  #f1f1f1;\n",
              "        }</style><table id=\"T_52c1d216_19e7_11ec_8e8f_0242ac1c0002\" ><thead>    <tr>        <th class=\"blank level0\" ></th>        <th class=\"col_heading level0 col0\" >0</th>    </tr></thead><tbody>\n",
              "                <tr>\n",
              "                        <th id=\"T_52c1d216_19e7_11ec_8e8f_0242ac1c0002level0_row0\" class=\"row_heading level0 row0\" >user_id</th>\n",
              "                        <td id=\"T_52c1d216_19e7_11ec_8e8f_0242ac1c0002row0_col0\" class=\"data row0 col0\" >0.000000</td>\n",
              "            </tr>\n",
              "            <tr>\n",
              "                        <th id=\"T_52c1d216_19e7_11ec_8e8f_0242ac1c0002level0_row1\" class=\"row_heading level0 row1\" >event_dt</th>\n",
              "                        <td id=\"T_52c1d216_19e7_11ec_8e8f_0242ac1c0002row1_col0\" class=\"data row1 col0\" >0.000000</td>\n",
              "            </tr>\n",
              "            <tr>\n",
              "                        <th id=\"T_52c1d216_19e7_11ec_8e8f_0242ac1c0002level0_row2\" class=\"row_heading level0 row2\" >event_name</th>\n",
              "                        <td id=\"T_52c1d216_19e7_11ec_8e8f_0242ac1c0002row2_col0\" class=\"data row2 col0\" >0.000000</td>\n",
              "            </tr>\n",
              "            <tr>\n",
              "                        <th id=\"T_52c1d216_19e7_11ec_8e8f_0242ac1c0002level0_row3\" class=\"row_heading level0 row3\" >details</th>\n",
              "                        <td id=\"T_52c1d216_19e7_11ec_8e8f_0242ac1c0002row3_col0\" class=\"data row3 col0\" >85.750000</td>\n",
              "            </tr>\n",
              "    </tbody></table>"
            ],
            "text/plain": [
              "<pandas.io.formats.style.Styler at 0x7fd7df6f63d0>"
            ]
          },
          "metadata": {}
        },
        {
          "output_type": "stream",
          "name": "stdout",
          "text": [
            "........................................\n",
            "\u001b[1m \n",
            "Дубликатов строк \u001b[32;1m НЕТ \u001b[0m\n",
            "........................................\n",
            "\u001b[1m \n",
            "10 случайных строк датафрейма \u001b[0m\n"
          ]
        },
        {
          "output_type": "display_data",
          "data": {
            "text/html": [
              "<div>\n",
              "<style scoped>\n",
              "    .dataframe tbody tr th:only-of-type {\n",
              "        vertical-align: middle;\n",
              "    }\n",
              "\n",
              "    .dataframe tbody tr th {\n",
              "        vertical-align: top;\n",
              "    }\n",
              "\n",
              "    .dataframe thead th {\n",
              "        text-align: right;\n",
              "    }\n",
              "</style>\n",
              "<table border=\"1\" class=\"dataframe\">\n",
              "  <thead>\n",
              "    <tr style=\"text-align: right;\">\n",
              "      <th></th>\n",
              "      <th>user_id</th>\n",
              "      <th>event_dt</th>\n",
              "      <th>event_name</th>\n",
              "      <th>details</th>\n",
              "    </tr>\n",
              "  </thead>\n",
              "  <tbody>\n",
              "    <tr>\n",
              "      <th>282858</th>\n",
              "      <td>CCC6860A75C712F7</td>\n",
              "      <td>2020-12-12 12:45:32</td>\n",
              "      <td>login</td>\n",
              "      <td>NaN</td>\n",
              "    </tr>\n",
              "    <tr>\n",
              "      <th>95987</th>\n",
              "      <td>A50614A74A8993E1</td>\n",
              "      <td>2020-12-19 21:27:57</td>\n",
              "      <td>product_cart</td>\n",
              "      <td>NaN</td>\n",
              "    </tr>\n",
              "    <tr>\n",
              "      <th>207489</th>\n",
              "      <td>ABCFD2B2C9D667C0</td>\n",
              "      <td>2020-12-21 09:20:36</td>\n",
              "      <td>product_page</td>\n",
              "      <td>NaN</td>\n",
              "    </tr>\n",
              "    <tr>\n",
              "      <th>227633</th>\n",
              "      <td>C890B90703F73F15</td>\n",
              "      <td>2020-12-24 23:29:32</td>\n",
              "      <td>product_page</td>\n",
              "      <td>NaN</td>\n",
              "    </tr>\n",
              "    <tr>\n",
              "      <th>257775</th>\n",
              "      <td>F6D43F19A544F9C8</td>\n",
              "      <td>2020-12-08 20:10:52</td>\n",
              "      <td>login</td>\n",
              "      <td>NaN</td>\n",
              "    </tr>\n",
              "    <tr>\n",
              "      <th>401637</th>\n",
              "      <td>FAB608E544C82865</td>\n",
              "      <td>2020-12-23 22:18:39</td>\n",
              "      <td>login</td>\n",
              "      <td>NaN</td>\n",
              "    </tr>\n",
              "    <tr>\n",
              "      <th>253575</th>\n",
              "      <td>E2F6438B7AC758C5</td>\n",
              "      <td>2020-12-07 13:19:26</td>\n",
              "      <td>login</td>\n",
              "      <td>NaN</td>\n",
              "    </tr>\n",
              "    <tr>\n",
              "      <th>343036</th>\n",
              "      <td>86ECC21BC4259A63</td>\n",
              "      <td>2020-12-18 00:15:57</td>\n",
              "      <td>login</td>\n",
              "      <td>NaN</td>\n",
              "    </tr>\n",
              "    <tr>\n",
              "      <th>209424</th>\n",
              "      <td>F47AD83C17D8A4C3</td>\n",
              "      <td>2020-12-21 07:40:36</td>\n",
              "      <td>product_page</td>\n",
              "      <td>NaN</td>\n",
              "    </tr>\n",
              "    <tr>\n",
              "      <th>1841</th>\n",
              "      <td>9FF282CF749FC6BF</td>\n",
              "      <td>2020-12-08 19:39:35</td>\n",
              "      <td>purchase</td>\n",
              "      <td>4.99</td>\n",
              "    </tr>\n",
              "  </tbody>\n",
              "</table>\n",
              "</div>"
            ],
            "text/plain": [
              "                 user_id             event_dt    event_name  details\n",
              "282858  CCC6860A75C712F7  2020-12-12 12:45:32         login      NaN\n",
              "95987   A50614A74A8993E1  2020-12-19 21:27:57  product_cart      NaN\n",
              "207489  ABCFD2B2C9D667C0  2020-12-21 09:20:36  product_page      NaN\n",
              "227633  C890B90703F73F15  2020-12-24 23:29:32  product_page      NaN\n",
              "257775  F6D43F19A544F9C8  2020-12-08 20:10:52         login      NaN\n",
              "401637  FAB608E544C82865  2020-12-23 22:18:39         login      NaN\n",
              "253575  E2F6438B7AC758C5  2020-12-07 13:19:26         login      NaN\n",
              "343036  86ECC21BC4259A63  2020-12-18 00:15:57         login      NaN\n",
              "209424  F47AD83C17D8A4C3  2020-12-21 07:40:36  product_page      NaN\n",
              "1841    9FF282CF749FC6BF  2020-12-08 19:39:35      purchase     4.99"
            ]
          },
          "metadata": {}
        }
      ]
    },
    {
      "cell_type": "markdown",
      "metadata": {
        "id": "U31xP2rbmnaQ"
      },
      "source": [
        "Датасет содержит 440317 уникальных записей. Тип данных столбца, содержащего дату события не оптимален. У 87,75% записей есть пропущенные значения в столбце \"Дополнительные данные о событии\". "
      ]
    },
    {
      "cell_type": "markdown",
      "metadata": {
        "id": "h9zYtPGEnNTu"
      },
      "source": [
        "Произведем преобразовния типа данных столбца \"event_dt\" к типу datetime."
      ]
    },
    {
      "cell_type": "code",
      "metadata": {
        "id": "_tg4BLhqnNT4"
      },
      "source": [
        "events['event_dt']=pd.to_datetime(events['event_dt'])"
      ],
      "execution_count": 10,
      "outputs": []
    },
    {
      "cell_type": "markdown",
      "metadata": {
        "id": "-mKAA8mRnZF6"
      },
      "source": [
        "Сгруппируем записи по типу события и проверим для каких событий пропущена детализирующая информация."
      ]
    },
    {
      "cell_type": "code",
      "metadata": {
        "colab": {
          "base_uri": "https://localhost:8080/"
        },
        "id": "NRRbiazclvFQ",
        "outputId": "c819c9da-3361-4172-b209-8d8499b38ed5"
      },
      "source": [
        "events.groupby('event_name')['details'].agg('count')"
      ],
      "execution_count": 11,
      "outputs": [
        {
          "output_type": "execute_result",
          "data": {
            "text/plain": [
              "event_name\n",
              "login               0\n",
              "product_cart        0\n",
              "product_page        0\n",
              "purchase        62740\n",
              "Name: details, dtype: int64"
            ]
          },
          "metadata": {},
          "execution_count": 11
        }
      ]
    },
    {
      "cell_type": "markdown",
      "metadata": {
        "id": "ES2nJsPBnurv"
      },
      "source": [
        "Детальная информация заполнена только для события \"purchase\" (данные о стоимости попупки). Произведем заполнение пропусков по полю \"details\" маркером отсутствующего значения."
      ]
    },
    {
      "cell_type": "code",
      "metadata": {
        "id": "ypqf9fH1oPOb"
      },
      "source": [
        "events['details'].fillna(int(-1), inplace=True)"
      ],
      "execution_count": 12,
      "outputs": []
    },
    {
      "cell_type": "markdown",
      "metadata": {
        "id": "Cb6GVAqHoiGu"
      },
      "source": [
        "\n",
        "\n",
        "---\n",
        "\n",
        "Проверим датасет, содержащий таблицу участников теста."
      ]
    },
    {
      "cell_type": "code",
      "metadata": {
        "colab": {
          "base_uri": "https://localhost:8080/",
          "height": 767
        },
        "id": "8nuvV5fkhE4g",
        "outputId": "bebc7000-0c89-4024-f617-6072fd4e82c8"
      },
      "source": [
        "check_dataset(participants)"
      ],
      "execution_count": 13,
      "outputs": [
        {
          "output_type": "stream",
          "name": "stdout",
          "text": [
            "\u001b[1m Проверка таблицы: participants \u001b[0m\n",
            "..............................\n",
            "\u001b[1m \n",
            "Информация о типах данных: \u001b[0m\n",
            "<class 'pandas.core.frame.DataFrame'>\n",
            "RangeIndex: 18268 entries, 0 to 18267\n",
            "Data columns (total 3 columns):\n",
            " #   Column   Non-Null Count  Dtype \n",
            "---  ------   --------------  ----- \n",
            " 0   user_id  18268 non-null  object\n",
            " 1   group    18268 non-null  object\n",
            " 2   ab_test  18268 non-null  object\n",
            "dtypes: object(3)\n",
            "memory usage: 428.3+ KB\n"
          ]
        },
        {
          "output_type": "display_data",
          "data": {
            "text/plain": [
              "None"
            ]
          },
          "metadata": {}
        },
        {
          "output_type": "stream",
          "name": "stdout",
          "text": [
            "..............................\n",
            "\u001b[1m \n",
            "Пропусков в столбцах \u001b[32;1m НЕТ \u001b[0m\n",
            "..............................\n",
            "\u001b[1m \n",
            "Дубликатов строк \u001b[32;1m НЕТ \u001b[0m\n",
            "..............................\n",
            "\u001b[1m \n",
            "10 случайных строк датафрейма \u001b[0m\n"
          ]
        },
        {
          "output_type": "display_data",
          "data": {
            "text/html": [
              "<div>\n",
              "<style scoped>\n",
              "    .dataframe tbody tr th:only-of-type {\n",
              "        vertical-align: middle;\n",
              "    }\n",
              "\n",
              "    .dataframe tbody tr th {\n",
              "        vertical-align: top;\n",
              "    }\n",
              "\n",
              "    .dataframe thead th {\n",
              "        text-align: right;\n",
              "    }\n",
              "</style>\n",
              "<table border=\"1\" class=\"dataframe\">\n",
              "  <thead>\n",
              "    <tr style=\"text-align: right;\">\n",
              "      <th></th>\n",
              "      <th>user_id</th>\n",
              "      <th>group</th>\n",
              "      <th>ab_test</th>\n",
              "    </tr>\n",
              "  </thead>\n",
              "  <tbody>\n",
              "    <tr>\n",
              "      <th>10654</th>\n",
              "      <td>6A4A15D3C4754FF9</td>\n",
              "      <td>A</td>\n",
              "      <td>interface_eu_test</td>\n",
              "    </tr>\n",
              "    <tr>\n",
              "      <th>17213</th>\n",
              "      <td>F97D8746923ABA37</td>\n",
              "      <td>B</td>\n",
              "      <td>interface_eu_test</td>\n",
              "    </tr>\n",
              "    <tr>\n",
              "      <th>3726</th>\n",
              "      <td>F54F7DE3DCCD3BE6</td>\n",
              "      <td>B</td>\n",
              "      <td>recommender_system_test</td>\n",
              "    </tr>\n",
              "    <tr>\n",
              "      <th>8910</th>\n",
              "      <td>9B802A12D586586F</td>\n",
              "      <td>A</td>\n",
              "      <td>interface_eu_test</td>\n",
              "    </tr>\n",
              "    <tr>\n",
              "      <th>4219</th>\n",
              "      <td>EB1AC80421152AF3</td>\n",
              "      <td>B</td>\n",
              "      <td>recommender_system_test</td>\n",
              "    </tr>\n",
              "    <tr>\n",
              "      <th>10134</th>\n",
              "      <td>75A8B506065565B4</td>\n",
              "      <td>A</td>\n",
              "      <td>interface_eu_test</td>\n",
              "    </tr>\n",
              "    <tr>\n",
              "      <th>1981</th>\n",
              "      <td>AF098E00AB18A70B</td>\n",
              "      <td>B</td>\n",
              "      <td>recommender_system_test</td>\n",
              "    </tr>\n",
              "    <tr>\n",
              "      <th>853</th>\n",
              "      <td>1E32BD9626026E05</td>\n",
              "      <td>A</td>\n",
              "      <td>recommender_system_test</td>\n",
              "    </tr>\n",
              "    <tr>\n",
              "      <th>11564</th>\n",
              "      <td>2CEA7B33FA38B86B</td>\n",
              "      <td>B</td>\n",
              "      <td>interface_eu_test</td>\n",
              "    </tr>\n",
              "    <tr>\n",
              "      <th>6935</th>\n",
              "      <td>F905242F7F12A971</td>\n",
              "      <td>B</td>\n",
              "      <td>interface_eu_test</td>\n",
              "    </tr>\n",
              "  </tbody>\n",
              "</table>\n",
              "</div>"
            ],
            "text/plain": [
              "                user_id group                  ab_test\n",
              "10654  6A4A15D3C4754FF9     A        interface_eu_test\n",
              "17213  F97D8746923ABA37     B        interface_eu_test\n",
              "3726   F54F7DE3DCCD3BE6     B  recommender_system_test\n",
              "8910   9B802A12D586586F     A        interface_eu_test\n",
              "4219   EB1AC80421152AF3     B  recommender_system_test\n",
              "10134  75A8B506065565B4     A        interface_eu_test\n",
              "1981   AF098E00AB18A70B     B  recommender_system_test\n",
              "853    1E32BD9626026E05     A  recommender_system_test\n",
              "11564  2CEA7B33FA38B86B     B        interface_eu_test\n",
              "6935   F905242F7F12A971     B        interface_eu_test"
            ]
          },
          "metadata": {}
        }
      ]
    },
    {
      "cell_type": "markdown",
      "metadata": {
        "id": "su504CWaoud1"
      },
      "source": [
        "Датасет содержит 18268 полных уникальных записи. Тип данных столбцов соотвествуют описанию."
      ]
    },
    {
      "cell_type": "markdown",
      "metadata": {
        "id": "zkz5KcyFpNkf"
      },
      "source": [
        "### **Актуализация датафреймов техническому заданию.**"
      ]
    },
    {
      "cell_type": "markdown",
      "metadata": {
        "id": "0RJNycc2sX2X"
      },
      "source": [
        "\n",
        "\n",
        "---\n",
        "\n",
        "#### **Проверка исходных данных на соотвествие условиям технического задания.**"
      ]
    },
    {
      "cell_type": "markdown",
      "metadata": {
        "id": "F1PsUtk6stHW"
      },
      "source": [
        "Проверим качество исходных данных на соотвествие условиям технического задания:\n",
        "- даты регистрации новых пользователей;\n",
        "- даты фиксации действий новых пользователей;\n",
        "- размер аудитории теста."
      ]
    },
    {
      "cell_type": "markdown",
      "metadata": {
        "id": "qaM0FFistLuF"
      },
      "source": [
        "Проверим **даты начала и окончания регстрации** пользователей в датафрейме new_users"
      ]
    },
    {
      "cell_type": "code",
      "metadata": {
        "colab": {
          "base_uri": "https://localhost:8080/"
        },
        "id": "AEbQSHdesYPA",
        "outputId": "4965559f-e38f-4f44-c5d1-5b45d2f3033f"
      },
      "source": [
        "new_users['first_date'].describe()"
      ],
      "execution_count": 14,
      "outputs": [
        {
          "output_type": "execute_result",
          "data": {
            "text/plain": [
              "count                   61733\n",
              "unique                     17\n",
              "top       2020-12-21 00:00:00\n",
              "freq                     6290\n",
              "first     2020-12-07 00:00:00\n",
              "last      2020-12-23 00:00:00\n",
              "Name: first_date, dtype: object"
            ]
          },
          "metadata": {},
          "execution_count": 14
        }
      ]
    },
    {
      "cell_type": "code",
      "metadata": {
        "colab": {
          "base_uri": "https://localhost:8080/",
          "height": 35
        },
        "id": "SEV6MG_JuS8Z",
        "outputId": "5dee8529-b737-483b-b6e5-e19962cd1f4f"
      },
      "source": [
        "format(round(new_users[(new_users['first_date']>'2020-12-21')&(new_users['region']>'EU')].shape[0]/new_users.shape[0],3),'.1%')"
      ],
      "execution_count": 15,
      "outputs": [
        {
          "output_type": "execute_result",
          "data": {
            "application/vnd.google.colaboratory.intrinsic+json": {
              "type": "string"
            },
            "text/plain": [
              "'1.3%'"
            ]
          },
          "metadata": {},
          "execution_count": 15
        }
      ]
    },
    {
      "cell_type": "markdown",
      "metadata": {
        "id": "mjyyg7P8uDyf"
      },
      "source": [
        "В датафрейме, содержащем информацию о пользователях, зарегистрировавшихся с 7 по 21 декабря, присутствуют некорректные данные: 1.3% записей соотвествуют пользователям из целевого региона с датой регистрации после даты остановки набора новых пользователей."
      ]
    },
    {
      "cell_type": "markdown",
      "metadata": {
        "id": "ry6JqUg-vYFO"
      },
      "source": [
        "На данном этапе ситуация не является критичной, так как объем зашумления незначителен и будет отфильтрован в дальнейшем."
      ]
    },
    {
      "cell_type": "markdown",
      "metadata": {
        "id": "ufYpjs8LxQ1j"
      },
      "source": [
        "Проверим **даты начала и окончания фиксации действий новых пользователей** пользователей в датафрейме events"
      ]
    },
    {
      "cell_type": "code",
      "metadata": {
        "colab": {
          "base_uri": "https://localhost:8080/"
        },
        "id": "2EE5TZjAxQ1l",
        "outputId": "4235528c-7e3e-4cfc-d1cb-6b9859773cf2"
      },
      "source": [
        "events['event_dt'].describe()"
      ],
      "execution_count": 16,
      "outputs": [
        {
          "output_type": "execute_result",
          "data": {
            "text/plain": [
              "count                  440317\n",
              "unique                 267268\n",
              "top       2020-12-23 02:37:24\n",
              "freq                       10\n",
              "first     2020-12-07 00:00:33\n",
              "last      2020-12-30 23:36:33\n",
              "Name: event_dt, dtype: object"
            ]
          },
          "metadata": {},
          "execution_count": 16
        }
      ]
    },
    {
      "cell_type": "code",
      "metadata": {
        "id": "6d_3uuOQzTLx"
      },
      "source": [
        "launch_date='2020-12-07'\n",
        "stop_reg_date='2020-12-21'\n",
        "end_date='2021-01-04'"
      ],
      "execution_count": 17,
      "outputs": []
    },
    {
      "cell_type": "code",
      "metadata": {
        "colab": {
          "base_uri": "https://localhost:8080/",
          "height": 35
        },
        "id": "BRuE5LIkxQ1o",
        "outputId": "b347af52-15f9-4f2b-915f-d0714b08d95a"
      },
      "source": [
        "EU_users=new_users[(new_users['first_date']<='2020-12-21')&(new_users['region']=='EU')]['user_id']\n",
        "EU_events_days=(events[events['user_id'].isin(EU_users)]['event_dt'].max() - events[events['user_id'].isin(EU_users)]['event_dt'].min())\n",
        "test_days_plan=(pd.to_datetime(end_date) - pd.to_datetime(launch_date))\n",
        "format(round(EU_events_days/test_days_plan,3)-1,'.1%')"
      ],
      "execution_count": 18,
      "outputs": [
        {
          "output_type": "execute_result",
          "data": {
            "application/vnd.google.colaboratory.intrinsic+json": {
              "type": "string"
            },
            "text/plain": [
              "'-14.4%'"
            ]
          },
          "metadata": {},
          "execution_count": 18
        }
      ]
    },
    {
      "cell_type": "markdown",
      "metadata": {
        "id": "bdzQ3o6-0GTZ"
      },
      "source": [
        "В датафрейме, содержащем информацию о действиях новых пользователей в период с 7 декабря 2020 по 4 января 2021 года, отсутствует часть данных: для пользователей целевого региона не зарегистрированы их действия в конце тестового периода (отстутствуют данные за 14.4% временного интервала)."
      ]
    },
    {
      "cell_type": "markdown",
      "metadata": {
        "id": "y_BTMXhE1F0I"
      },
      "source": [
        "Это критический момент, так как существует риск для результатов теста из-за того, что часть пользователей целевой аудитории может быть исключена, как не имеющая данных за релевантный период, 14 дней со дня регистрации."
      ]
    },
    {
      "cell_type": "markdown",
      "metadata": {
        "id": "5Rel-6NJ2KdO"
      },
      "source": [
        "Проверим **размер аудитории теста** на соотвествие 15%-й квоте от новых пользователей из региона EU."
      ]
    },
    {
      "cell_type": "code",
      "metadata": {
        "colab": {
          "base_uri": "https://localhost:8080/",
          "height": 35
        },
        "id": "PvX4RoIP2gWP",
        "outputId": "1c3128ee-d262-43ef-cb52-531a102fcfb5"
      },
      "source": [
        "EU_participants=participants[participants['user_id'].isin(EU_users)]\n",
        "EU_rs_test=EU_participants[EU_participants['ab_test']=='recommender_system_test']['user_id']\n",
        "EU_ieu_test=EU_participants[EU_participants['ab_test']=='interface_eu_test']['user_id']\n",
        "EU_rs_test=EU_rs_test[~EU_rs_test.isin(EU_ieu_test)]\n",
        "format(round(EU_rs_test.shape[0]/EU_users.shape[0],3),'.1%')\n"
      ],
      "execution_count": 19,
      "outputs": [
        {
          "output_type": "execute_result",
          "data": {
            "application/vnd.google.colaboratory.intrinsic+json": {
              "type": "string"
            },
            "text/plain": [
              "'11.2%'"
            ]
          },
          "metadata": {},
          "execution_count": 19
        }
      ]
    },
    {
      "cell_type": "markdown",
      "metadata": {
        "id": "t5b3bNur53UC"
      },
      "source": [
        "Номинальная аудитория теста менее определенной в техническом задании (15% новых пользователей региона EU).\n",
        "\n",
        "Для определелия возможного влияния уменьшения количества пользователей в аудитории теста на статистическую достоверность его результатов потребуется расчет целевых метрик."
      ]
    },
    {
      "cell_type": "markdown",
      "metadata": {
        "id": "gvQ5SZLHAMkv"
      },
      "source": [
        "Приведем в датафрейме расчетный размер аудитории при соотношеннии контрольной и тестовой групп 50/50 для конверсии 10, 20 и 30%, при отностительном ее изменении в 10% (мощность теста 80%, пороговый уровень значимости 5%).\n",
        "\n",
        "Источник:  https://www.evanmiller.org/ab-testing/sample-size.html"
      ]
    },
    {
      "cell_type": "code",
      "metadata": {
        "colab": {
          "base_uri": "https://localhost:8080/",
          "height": 142
        },
        "id": "oLK_S-BH-pDN",
        "outputId": "848b27f2-a65b-4596-fc4f-e510aa4d688a"
      },
      "source": [
        "sample_sizes_rel=pd.DataFrame(columns=['conversion_rate','relative_effect','sample_size','audience'])\n",
        "sample_sizes_rel.loc[0]=['10%','10%',14313,14313*2]\n",
        "sample_sizes_rel.loc[1]=['20%','10%',6347,6347*2]\n",
        "sample_sizes_rel.loc[2]=['30%','10%',3692,3692*2]\n",
        "sample_sizes_rel"
      ],
      "execution_count": 20,
      "outputs": [
        {
          "output_type": "execute_result",
          "data": {
            "text/html": [
              "<div>\n",
              "<style scoped>\n",
              "    .dataframe tbody tr th:only-of-type {\n",
              "        vertical-align: middle;\n",
              "    }\n",
              "\n",
              "    .dataframe tbody tr th {\n",
              "        vertical-align: top;\n",
              "    }\n",
              "\n",
              "    .dataframe thead th {\n",
              "        text-align: right;\n",
              "    }\n",
              "</style>\n",
              "<table border=\"1\" class=\"dataframe\">\n",
              "  <thead>\n",
              "    <tr style=\"text-align: right;\">\n",
              "      <th></th>\n",
              "      <th>conversion_rate</th>\n",
              "      <th>relative_effect</th>\n",
              "      <th>sample_size</th>\n",
              "      <th>audience</th>\n",
              "    </tr>\n",
              "  </thead>\n",
              "  <tbody>\n",
              "    <tr>\n",
              "      <th>0</th>\n",
              "      <td>10%</td>\n",
              "      <td>10%</td>\n",
              "      <td>14313</td>\n",
              "      <td>28626</td>\n",
              "    </tr>\n",
              "    <tr>\n",
              "      <th>1</th>\n",
              "      <td>20%</td>\n",
              "      <td>10%</td>\n",
              "      <td>6347</td>\n",
              "      <td>12694</td>\n",
              "    </tr>\n",
              "    <tr>\n",
              "      <th>2</th>\n",
              "      <td>30%</td>\n",
              "      <td>10%</td>\n",
              "      <td>3692</td>\n",
              "      <td>7384</td>\n",
              "    </tr>\n",
              "  </tbody>\n",
              "</table>\n",
              "</div>"
            ],
            "text/plain": [
              "  conversion_rate relative_effect sample_size audience\n",
              "0             10%             10%       14313    28626\n",
              "1             20%             10%        6347    12694\n",
              "2             30%             10%        3692     7384"
            ]
          },
          "metadata": {},
          "execution_count": 20
        }
      ]
    },
    {
      "cell_type": "markdown",
      "metadata": {
        "id": "spZIZzyKCMWE"
      },
      "source": [
        "Приведем в датафрейме расчетный размер аудитории при соотношеннии контрольной и тестовой групп 50/50 для конверсии 10, 20 и 30%, при абсолютном ее изменении в 10% (мощность теста 80%, пороговый уровень значимости 5%). "
      ]
    },
    {
      "cell_type": "code",
      "metadata": {
        "colab": {
          "base_uri": "https://localhost:8080/",
          "height": 142
        },
        "id": "ZNQ9mrVtCMWG",
        "outputId": "3dc56272-c5df-4286-d789-3bb068cd2afb"
      },
      "source": [
        "sample_sizes_rel=pd.DataFrame(columns=['conversion_rate','absolute_effect','sample_size','audience'])\n",
        "sample_sizes_rel.loc[0]=['10%','10%',157,157*2]\n",
        "sample_sizes_rel.loc[1]=['20%','10%',263,263*2]\n",
        "sample_sizes_rel.loc[2]=['30%','10%',337,337*2]\n",
        "sample_sizes_rel"
      ],
      "execution_count": 21,
      "outputs": [
        {
          "output_type": "execute_result",
          "data": {
            "text/html": [
              "<div>\n",
              "<style scoped>\n",
              "    .dataframe tbody tr th:only-of-type {\n",
              "        vertical-align: middle;\n",
              "    }\n",
              "\n",
              "    .dataframe tbody tr th {\n",
              "        vertical-align: top;\n",
              "    }\n",
              "\n",
              "    .dataframe thead th {\n",
              "        text-align: right;\n",
              "    }\n",
              "</style>\n",
              "<table border=\"1\" class=\"dataframe\">\n",
              "  <thead>\n",
              "    <tr style=\"text-align: right;\">\n",
              "      <th></th>\n",
              "      <th>conversion_rate</th>\n",
              "      <th>absolute_effect</th>\n",
              "      <th>sample_size</th>\n",
              "      <th>audience</th>\n",
              "    </tr>\n",
              "  </thead>\n",
              "  <tbody>\n",
              "    <tr>\n",
              "      <th>0</th>\n",
              "      <td>10%</td>\n",
              "      <td>10%</td>\n",
              "      <td>157</td>\n",
              "      <td>314</td>\n",
              "    </tr>\n",
              "    <tr>\n",
              "      <th>1</th>\n",
              "      <td>20%</td>\n",
              "      <td>10%</td>\n",
              "      <td>263</td>\n",
              "      <td>526</td>\n",
              "    </tr>\n",
              "    <tr>\n",
              "      <th>2</th>\n",
              "      <td>30%</td>\n",
              "      <td>10%</td>\n",
              "      <td>337</td>\n",
              "      <td>674</td>\n",
              "    </tr>\n",
              "  </tbody>\n",
              "</table>\n",
              "</div>"
            ],
            "text/plain": [
              "  conversion_rate absolute_effect sample_size audience\n",
              "0             10%             10%         157      314\n",
              "1             20%             10%         263      526\n",
              "2             30%             10%         337      674"
            ]
          },
          "metadata": {},
          "execution_count": 21
        }
      ]
    },
    {
      "cell_type": "markdown",
      "metadata": {
        "id": "dL-3ZmT9smzj"
      },
      "source": [
        "\n",
        "\n",
        "---\n",
        "\n",
        "#### **Фильтрация исходных данных для соотвествия условиям технического задания.**"
      ]
    },
    {
      "cell_type": "markdown",
      "metadata": {
        "id": "51b_9FZKperI"
      },
      "source": [
        "На основе календаря маркетинговых событий на 2020 год создадим датафрейм, в котором оставим события, влияющие на пользователей из целевого региона - EU."
      ]
    },
    {
      "cell_type": "code",
      "metadata": {
        "id": "AUbWuV-UpgPD"
      },
      "source": [
        "marketing_events_EU = marketing_events[marketing_events['regions'].str.contains('EU')].copy()"
      ],
      "execution_count": 22,
      "outputs": []
    },
    {
      "cell_type": "markdown",
      "metadata": {
        "id": "8v5E-wGCrolh"
      },
      "source": [
        "Проверим есть ли события пересекающиеся по времени с датами проведения теста."
      ]
    },
    {
      "cell_type": "code",
      "metadata": {
        "colab": {
          "base_uri": "https://localhost:8080/",
          "height": 266
        },
        "id": "GjJK2PmMqCgX",
        "outputId": "19dc01e2-c8d4-4bf1-fbff-932f85b610da"
      },
      "source": [
        "marketing_events_EU.sort_values('start_dt')"
      ],
      "execution_count": 23,
      "outputs": [
        {
          "output_type": "execute_result",
          "data": {
            "text/html": [
              "<div>\n",
              "<style scoped>\n",
              "    .dataframe tbody tr th:only-of-type {\n",
              "        vertical-align: middle;\n",
              "    }\n",
              "\n",
              "    .dataframe tbody tr th {\n",
              "        vertical-align: top;\n",
              "    }\n",
              "\n",
              "    .dataframe thead th {\n",
              "        text-align: right;\n",
              "    }\n",
              "</style>\n",
              "<table border=\"1\" class=\"dataframe\">\n",
              "  <thead>\n",
              "    <tr style=\"text-align: right;\">\n",
              "      <th></th>\n",
              "      <th>name</th>\n",
              "      <th>regions</th>\n",
              "      <th>start_dt</th>\n",
              "      <th>finish_dt</th>\n",
              "    </tr>\n",
              "  </thead>\n",
              "  <tbody>\n",
              "    <tr>\n",
              "      <th>1</th>\n",
              "      <td>St. Valentine's Day Giveaway</td>\n",
              "      <td>EU, CIS, APAC, N.America</td>\n",
              "      <td>2020-02-14</td>\n",
              "      <td>2020-02-16</td>\n",
              "    </tr>\n",
              "    <tr>\n",
              "      <th>8</th>\n",
              "      <td>International Women's Day Promo</td>\n",
              "      <td>EU, CIS, APAC</td>\n",
              "      <td>2020-03-08</td>\n",
              "      <td>2020-03-10</td>\n",
              "    </tr>\n",
              "    <tr>\n",
              "      <th>2</th>\n",
              "      <td>St. Patric's Day Promo</td>\n",
              "      <td>EU, N.America</td>\n",
              "      <td>2020-03-17</td>\n",
              "      <td>2020-03-19</td>\n",
              "    </tr>\n",
              "    <tr>\n",
              "      <th>3</th>\n",
              "      <td>Easter Promo</td>\n",
              "      <td>EU, CIS, APAC, N.America</td>\n",
              "      <td>2020-04-12</td>\n",
              "      <td>2020-04-19</td>\n",
              "    </tr>\n",
              "    <tr>\n",
              "      <th>7</th>\n",
              "      <td>Labor day (May 1st) Ads Campaign</td>\n",
              "      <td>EU, CIS, APAC</td>\n",
              "      <td>2020-05-01</td>\n",
              "      <td>2020-05-03</td>\n",
              "    </tr>\n",
              "    <tr>\n",
              "      <th>5</th>\n",
              "      <td>Black Friday Ads Campaign</td>\n",
              "      <td>EU, CIS, APAC, N.America</td>\n",
              "      <td>2020-11-26</td>\n",
              "      <td>2020-12-01</td>\n",
              "    </tr>\n",
              "    <tr>\n",
              "      <th>0</th>\n",
              "      <td>Christmas&amp;New Year Promo</td>\n",
              "      <td>EU, N.America</td>\n",
              "      <td>2020-12-25</td>\n",
              "      <td>2021-01-03</td>\n",
              "    </tr>\n",
              "  </tbody>\n",
              "</table>\n",
              "</div>"
            ],
            "text/plain": [
              "                               name  ...  finish_dt\n",
              "1      St. Valentine's Day Giveaway  ... 2020-02-16\n",
              "8   International Women's Day Promo  ... 2020-03-10\n",
              "2            St. Patric's Day Promo  ... 2020-03-19\n",
              "3                      Easter Promo  ... 2020-04-19\n",
              "7  Labor day (May 1st) Ads Campaign  ... 2020-05-03\n",
              "5         Black Friday Ads Campaign  ... 2020-12-01\n",
              "0          Christmas&New Year Promo  ... 2021-01-03\n",
              "\n",
              "[7 rows x 4 columns]"
            ]
          },
          "metadata": {},
          "execution_count": 23
        }
      ]
    },
    {
      "cell_type": "code",
      "metadata": {
        "colab": {
          "base_uri": "https://localhost:8080/",
          "height": 80
        },
        "id": "w-QFj2M1r73a",
        "outputId": "3811dcb4-2f68-4679-a5eb-dadb74719df5"
      },
      "source": [
        "marketing_events_EU.query('(finish_dt>=@launch_date)|((start_dt>=@launch_date)&(start_dt<=@end_date))')"
      ],
      "execution_count": 24,
      "outputs": [
        {
          "output_type": "execute_result",
          "data": {
            "text/html": [
              "<div>\n",
              "<style scoped>\n",
              "    .dataframe tbody tr th:only-of-type {\n",
              "        vertical-align: middle;\n",
              "    }\n",
              "\n",
              "    .dataframe tbody tr th {\n",
              "        vertical-align: top;\n",
              "    }\n",
              "\n",
              "    .dataframe thead th {\n",
              "        text-align: right;\n",
              "    }\n",
              "</style>\n",
              "<table border=\"1\" class=\"dataframe\">\n",
              "  <thead>\n",
              "    <tr style=\"text-align: right;\">\n",
              "      <th></th>\n",
              "      <th>name</th>\n",
              "      <th>regions</th>\n",
              "      <th>start_dt</th>\n",
              "      <th>finish_dt</th>\n",
              "    </tr>\n",
              "  </thead>\n",
              "  <tbody>\n",
              "    <tr>\n",
              "      <th>0</th>\n",
              "      <td>Christmas&amp;New Year Promo</td>\n",
              "      <td>EU, N.America</td>\n",
              "      <td>2020-12-25</td>\n",
              "      <td>2021-01-03</td>\n",
              "    </tr>\n",
              "  </tbody>\n",
              "</table>\n",
              "</div>"
            ],
            "text/plain": [
              "                       name        regions   start_dt  finish_dt\n",
              "0  Christmas&New Year Promo  EU, N.America 2020-12-25 2021-01-03"
            ]
          },
          "metadata": {},
          "execution_count": 24
        }
      ]
    },
    {
      "cell_type": "markdown",
      "metadata": {
        "id": "SITuTdHKxRSu"
      },
      "source": [
        "Результаты теста подпадают под влияние новогодней промокампании. Необходимо скорректировать даты отбора данных для исключения некорректной интерпретации результатов:\n",
        "\n",
        "- сместить дату окончания регистрации действий новых пользователей на 24 декабря 2020 года;\n",
        "- сместить дату окончания регистрации новых пользователей на 11 декабря 2020 года.\n",
        "\n",
        "\n",
        "---\n",
        "\n"
      ]
    },
    {
      "cell_type": "markdown",
      "metadata": {
        "id": "BZHoY4Lhx40S"
      },
      "source": [
        "На основе датафрейма new_users создадим таблицу, в которой оставим записи, соотвествующие пользователям из региона EU, зарегистрировавшимся с 7 по 11 декабря 2020 года."
      ]
    },
    {
      "cell_type": "code",
      "metadata": {
        "id": "vIVDUywUyrU2"
      },
      "source": [
        "stop_reg_date_upd='2020-12-11'\n",
        "end_date_upd='2020-12-24'\n",
        "# количество новых пользоваетелей региона EU за скорректированный период теста\n",
        "new_users_val=new_users.query('(region==\"EU\")&((first_date>=@launch_date)&(first_date<=@stop_reg_date_upd))').copy()"
      ],
      "execution_count": 25,
      "outputs": []
    },
    {
      "cell_type": "code",
      "metadata": {
        "colab": {
          "base_uri": "https://localhost:8080/"
        },
        "id": "BJlHTwMYzG5k",
        "outputId": "50af6d1d-6e98-480e-c7a2-3468681c2a4c"
      },
      "source": [
        "print('В новом датафрейме \\033[1m{:.1%}\\033[0m от количества исходных пользователей региона EU за плановый временной интервал теста ({} записей)'.format(new_users_val.shape[0]/EU_users.shape[0],new_users_val.shape[0]))"
      ],
      "execution_count": 26,
      "outputs": [
        {
          "output_type": "stream",
          "name": "stdout",
          "text": [
            "В новом датафрейме \u001b[1m29.2%\u001b[0m от количества исходных пользователей региона EU за плановый временной интервал теста (12384 записей)\n"
          ]
        }
      ]
    },
    {
      "cell_type": "markdown",
      "metadata": {
        "id": "TAkyFROZED_v"
      },
      "source": [
        "Из-за сокращения периода отбора данных аудитория теста может уменьшиться более чем на 2/3."
      ]
    },
    {
      "cell_type": "markdown",
      "metadata": {
        "id": "28zrQg6mz4vg"
      },
      "source": [
        "\n",
        "\n",
        "---\n",
        "\n",
        "\n",
        "На основе датафрейма events создадим таблицу, в которой оставим записи, соотвествующие действиям пользователей из new_users_val в скорректированное время проведения теста, с 7 декабря 2020 года по 24 декабря 2020 года."
      ]
    },
    {
      "cell_type": "code",
      "metadata": {
        "colab": {
          "base_uri": "https://localhost:8080/"
        },
        "id": "Q5mdEZ_r0d6B",
        "outputId": "4577da6a-f167-49f4-cc15-329fd9eed293"
      },
      "source": [
        "events_val=events[events['user_id'].isin(new_users_val['user_id'])]\n",
        "events_val=events_val.query('(event_dt>=@launch_date)&(event_dt<=@end_date_upd)')\n",
        "print('В новом датафрейме {:.1%} исходных записей ({} строк)'.format(events_val.shape[0]/events.shape[0],events_val.shape[0]))"
      ],
      "execution_count": 27,
      "outputs": [
        {
          "output_type": "stream",
          "name": "stdout",
          "text": [
            "В новом датафрейме 19.5% исходных записей (85976 строк)\n"
          ]
        }
      ]
    },
    {
      "cell_type": "markdown",
      "metadata": {
        "id": "uW4mH84mlhqi"
      },
      "source": [
        "\n",
        "\n",
        "---\n",
        "\n",
        "На основе датафрейма participants создадим таблицу, в которой оставим записи, соотвествующие действиям пользователей из new_users_val"
      ]
    },
    {
      "cell_type": "code",
      "metadata": {
        "id": "IhTXjAPvlytm"
      },
      "source": [
        "participants_val=participants[participants['user_id'].isin(new_users_val['user_id'])]"
      ],
      "execution_count": 28,
      "outputs": []
    },
    {
      "cell_type": "markdown",
      "metadata": {
        "id": "Yf9qsl2o01su"
      },
      "source": [
        "Разделим данные таблицы участников теста на выборки анализируемого теста и конкурирующего. Оценим пересечение user_id в выборках."
      ]
    },
    {
      "cell_type": "code",
      "metadata": {
        "id": "Zp2H67AlNg4M"
      },
      "source": [
        "rs_test=participants_val[participants_val['ab_test']=='recommender_system_test'].copy()\n",
        "ieu_test=participants_val[participants_val['ab_test']=='interface_eu_test'].copy()"
      ],
      "execution_count": 29,
      "outputs": []
    },
    {
      "cell_type": "code",
      "metadata": {
        "colab": {
          "base_uri": "https://localhost:8080/"
        },
        "id": "s0hJddNlOFxZ",
        "outputId": "01a9edcd-54e5-4d56-ce3e-aea1c3572436"
      },
      "source": [
        "print('В датафрейме групп целевого теста пересекается с конкурирующим {:.1%} исходных записей ({} строк)'.format(rs_test[rs_test['user_id'].isin(ieu_test['user_id'])].shape[0]/rs_test.shape[0],rs_test[rs_test['user_id'].isin(ieu_test['user_id'])].shape[0]))"
      ],
      "execution_count": 30,
      "outputs": [
        {
          "output_type": "stream",
          "name": "stdout",
          "text": [
            "В датафрейме групп целевого теста пересекается с конкурирующим 26.5% исходных записей (484 строк)\n"
          ]
        }
      ]
    },
    {
      "cell_type": "markdown",
      "metadata": {
        "id": "DQAwgPSJPvEl"
      },
      "source": [
        "Исключим из выборки анализируемого теста участников, принимавших одновременное участие в двух тестах."
      ]
    },
    {
      "cell_type": "code",
      "metadata": {
        "id": "EEtzFGcGPJim"
      },
      "source": [
        "rs_test=rs_test[~rs_test['user_id'].isin(ieu_test['user_id'])]"
      ],
      "execution_count": 31,
      "outputs": []
    },
    {
      "cell_type": "markdown",
      "metadata": {
        "id": "eDfm8CowEeZ1"
      },
      "source": [
        "В случае ошибок при подготовке к тестированию, некоторые покупатели могли попасть в обе группы сразу. Выполним проверку на наличие user_id, попавших как в группу А, так и в группу В."
      ]
    },
    {
      "cell_type": "code",
      "metadata": {
        "id": "tMTBeiNrEeZ1"
      },
      "source": [
        "usersA=rs_test[rs_test['group']=='A']['user_id']\n",
        "usersB=rs_test[rs_test['group']=='B']['user_id']"
      ],
      "execution_count": 32,
      "outputs": []
    },
    {
      "cell_type": "code",
      "metadata": {
        "id": "iEiE_ghXEeZ1"
      },
      "source": [
        "users_intersect=pd.Series(list(set(usersA) & set(usersB)))"
      ],
      "execution_count": 33,
      "outputs": []
    },
    {
      "cell_type": "code",
      "metadata": {
        "colab": {
          "base_uri": "https://localhost:8080/"
        },
        "id": "LYOLBn20EeZ2",
        "outputId": "bd4f2fcb-a90e-4e26-dbef-f7270abd8898"
      },
      "source": [
        "print('Количество user_id, попавших в обе группы теста: {}, что составляет {:.1%} от общего числа покупателей.'\n",
        "      .format(users_intersect.shape[0],users_intersect.shape[0]/rs_test['user_id'].nunique()))"
      ],
      "execution_count": 34,
      "outputs": [
        {
          "output_type": "stream",
          "name": "stdout",
          "text": [
            "Количество user_id, попавших в обе группы теста: 0, что составляет 0.0% от общего числа покупателей.\n"
          ]
        }
      ]
    },
    {
      "cell_type": "markdown",
      "metadata": {
        "id": "sTLh1JWuSAUu"
      },
      "source": [
        "Количество участников теста оказалось меньше ожидаемого количества:"
      ]
    },
    {
      "cell_type": "code",
      "metadata": {
        "colab": {
          "base_uri": "https://localhost:8080/"
        },
        "id": "IVW30hokTXw7",
        "outputId": "7a8f0d33-6079-4eae-b35d-d39cf1d67543"
      },
      "source": [
        "print('Количество участников целевого А/В теста \\033[1m{}\\033[0m'.format(rs_test.shape[0]))"
      ],
      "execution_count": 35,
      "outputs": [
        {
          "output_type": "stream",
          "name": "stdout",
          "text": [
            "Количество участников целевого А/В теста \u001b[1m1340\u001b[0m\n"
          ]
        }
      ]
    },
    {
      "cell_type": "code",
      "metadata": {
        "colab": {
          "base_uri": "https://localhost:8080/"
        },
        "id": "2Jao4yf9pxt9",
        "outputId": "d0940476-389f-4c11-be54-2805014fa443"
      },
      "source": [
        "print('Доля участников целевого А/В теста в аудитории новых пользователей региона EU за скорректированный временной интервал \\033[1m{:.1%}\\033[0m'.format(rs_test.shape[0]/new_users_val.shape[0]))"
      ],
      "execution_count": 36,
      "outputs": [
        {
          "output_type": "stream",
          "name": "stdout",
          "text": [
            "Доля участников целевого А/В теста в аудитории новых пользователей региона EU за скорректированный временной интервал \u001b[1m10.8%\u001b[0m\n"
          ]
        }
      ]
    },
    {
      "cell_type": "code",
      "metadata": {
        "colab": {
          "base_uri": "https://localhost:8080/"
        },
        "id": "WdD41YfgE_YZ",
        "outputId": "c23d8758-667b-43b4-ff30-eaea32eeab71"
      },
      "source": [
        "print('Сокращение целевой аудитории А/В теста из-за коррекции временного интервала \\033[1m{:.1%}\\033[0m'.format(rs_test.shape[0]/EU_rs_test.shape[0]-1))"
      ],
      "execution_count": 37,
      "outputs": [
        {
          "output_type": "stream",
          "name": "stdout",
          "text": [
            "Сокращение целевой аудитории А/В теста из-за коррекции временного интервала \u001b[1m-71.8%\u001b[0m\n"
          ]
        }
      ]
    },
    {
      "cell_type": "code",
      "metadata": {
        "colab": {
          "base_uri": "https://localhost:8080/"
        },
        "id": "Kc3Zq1jKcsgQ",
        "outputId": "6838b9e9-55a3-4f0c-8cf0-0137b27e77af"
      },
      "source": [
        "print('Соотношение user_id в группах теста:\\n  A - \\033[1m{:.1%} ({})\\033[0m\\n  B - \\033[1m{:.1%} ({})\\033[0m'\n",
        "      .format(usersA.shape[0]/(usersA.shape[0]+usersB.shape[0]),usersA.shape[0],usersB.shape[0]/(usersA.shape[0]+usersB.shape[0]),usersB.shape[0]))"
      ],
      "execution_count": 38,
      "outputs": [
        {
          "output_type": "stream",
          "name": "stdout",
          "text": [
            "Соотношение user_id в группах теста:\n",
            "  A - \u001b[1m55.9% (749)\u001b[0m\n",
            "  B - \u001b[1m44.1% (591)\u001b[0m\n"
          ]
        }
      ]
    },
    {
      "cell_type": "markdown",
      "metadata": {
        "id": "nWLmiB760UF9"
      },
      "source": [
        "**Вывод:** Из-за дефекта в исходных данных (недобор квоты в 15% новых пользователей) и коррекции временных интервалов проведения теста из-за риска синергии с маркетинговой кампанией, произошло значительное уменьшение численности участников теста. Это может негативно сказаться на мощности статистического теста для проверки значимости различий конверсии тестовой и контрольной групп (при условии наличия этих различий). Кроме того, группы оказались не сбалансированы по размеру (допуская, что планируемое соотношение тестовой и контрольной групп 50/50%).\n",
        "\n",
        "---\n",
        "\n"
      ]
    },
    {
      "cell_type": "markdown",
      "metadata": {
        "id": "O8mxTfMTHAcQ"
      },
      "source": [
        "Добавим в датафрейм с информацией о событиях данные о группе эксперимента, дате регистрации пользователей. Добавим в датафрейм рассчетный столбец с датой окончания 14-ти дневного периода, за который анализируются действия пользователя.\n",
        "Создадим датафрейм, содержащий только информацию о событиях за 14 дней, релевантных для пользователя."
      ]
    },
    {
      "cell_type": "code",
      "metadata": {
        "id": "W0ext29bZXMP"
      },
      "source": [
        "events_val=events_val[events_val['user_id'].isin(rs_test['user_id'])]\n",
        "events_val=events_val.merge(rs_test[['user_id','group']],how='left',on='user_id').merge(new_users_val[['user_id','first_date']],how='left',on='user_id')\n",
        "events_val['deadline']=pd.to_datetime(events_val['first_date'])+pd.to_timedelta(13,unit=\"D\")\n",
        "events_test=events_val.query('event_dt<=deadline')"
      ],
      "execution_count": 39,
      "outputs": []
    },
    {
      "cell_type": "markdown",
      "metadata": {
        "id": "wXsKdXEe1thF"
      },
      "source": [
        "Объем данных о событиях сократился на 4,4%."
      ]
    },
    {
      "cell_type": "code",
      "metadata": {
        "colab": {
          "base_uri": "https://localhost:8080/"
        },
        "id": "QA-1FHQyj0WS",
        "outputId": "741035e1-dbd3-4370-bc74-efd2d8f56046"
      },
      "source": [
        "events_test.shape[0]/events_val.shape[0]"
      ],
      "execution_count": 40,
      "outputs": [
        {
          "output_type": "execute_result",
          "data": {
            "text/plain": [
              "0.9564137931034483"
            ]
          },
          "metadata": {},
          "execution_count": 40
        }
      ]
    },
    {
      "cell_type": "markdown",
      "metadata": {
        "id": "lAaMx0M8sK67"
      },
      "source": [
        "\n",
        "\n",
        "\n",
        "---\n",
        "\n",
        "\n",
        "## **Исследовательский анализ данных (EDA)**<a  class=\"anchor\" id=\"EDA\"></a>\n",
        "\n"
      ]
    },
    {
      "cell_type": "markdown",
      "metadata": {
        "id": "0fgi10XFbh5y"
      },
      "source": [
        "###  **Изучение воронки событий**<a  class=\"anchor\" id=\"funnel\"></a>"
      ]
    },
    {
      "cell_type": "markdown",
      "metadata": {
        "id": "-1jlYkrsPG5j"
      },
      "source": [
        "Для анализа воронки событий создадам датафрейм, сгруппировав события по наименованию и рассчитав их количество и число сгенерировавших их пользователей. Также рассчитаем долю пользователей, хотя бы раз генерировавших конкретное событие."
      ]
    },
    {
      "cell_type": "code",
      "metadata": {
        "id": "gs_XFfUqRSLO"
      },
      "source": [
        "groupped_events = events_test.groupby('event_name')['user_id'].agg(['count', 'nunique']).reset_index()\n",
        "groupped_events.columns =['event', 'events_cnt', 'users_cnt']\n",
        "groupped_events['users_share']=groupped_events['users_cnt']/events_test['user_id'].nunique()"
      ],
      "execution_count": 41,
      "outputs": []
    },
    {
      "cell_type": "code",
      "metadata": {
        "colab": {
          "base_uri": "https://localhost:8080/",
          "height": 173
        },
        "id": "Mz2pJCFBzxxm",
        "outputId": "0729f49b-6df2-45f2-b73f-56f0eca00cd0"
      },
      "source": [
        "groupped_events.sort_values('events_cnt', ascending=False)"
      ],
      "execution_count": 42,
      "outputs": [
        {
          "output_type": "execute_result",
          "data": {
            "text/html": [
              "<div>\n",
              "<style scoped>\n",
              "    .dataframe tbody tr th:only-of-type {\n",
              "        vertical-align: middle;\n",
              "    }\n",
              "\n",
              "    .dataframe tbody tr th {\n",
              "        vertical-align: top;\n",
              "    }\n",
              "\n",
              "    .dataframe thead th {\n",
              "        text-align: right;\n",
              "    }\n",
              "</style>\n",
              "<table border=\"1\" class=\"dataframe\">\n",
              "  <thead>\n",
              "    <tr style=\"text-align: right;\">\n",
              "      <th></th>\n",
              "      <th>event</th>\n",
              "      <th>events_cnt</th>\n",
              "      <th>users_cnt</th>\n",
              "      <th>users_share</th>\n",
              "    </tr>\n",
              "  </thead>\n",
              "  <tbody>\n",
              "    <tr>\n",
              "      <th>0</th>\n",
              "      <td>login</td>\n",
              "      <td>1629</td>\n",
              "      <td>594</td>\n",
              "      <td>0.998319</td>\n",
              "    </tr>\n",
              "    <tr>\n",
              "      <th>2</th>\n",
              "      <td>product_page</td>\n",
              "      <td>948</td>\n",
              "      <td>350</td>\n",
              "      <td>0.588235</td>\n",
              "    </tr>\n",
              "    <tr>\n",
              "      <th>1</th>\n",
              "      <td>product_cart</td>\n",
              "      <td>463</td>\n",
              "      <td>162</td>\n",
              "      <td>0.272269</td>\n",
              "    </tr>\n",
              "    <tr>\n",
              "      <th>3</th>\n",
              "      <td>purchase</td>\n",
              "      <td>427</td>\n",
              "      <td>163</td>\n",
              "      <td>0.273950</td>\n",
              "    </tr>\n",
              "  </tbody>\n",
              "</table>\n",
              "</div>"
            ],
            "text/plain": [
              "          event  events_cnt  users_cnt  users_share\n",
              "0         login        1629        594     0.998319\n",
              "2  product_page         948        350     0.588235\n",
              "1  product_cart         463        162     0.272269\n",
              "3      purchase         427        163     0.273950"
            ]
          },
          "metadata": {},
          "execution_count": 42
        }
      ]
    },
    {
      "cell_type": "markdown",
      "metadata": {
        "id": "mTpucpw5EUxC"
      },
      "source": [
        "Доля пользователей вошедших в систему (событие \"login\") менее 100%. Проверим информацию о пользователях, совершивших события не проходя валидацию."
      ]
    },
    {
      "cell_type": "code",
      "metadata": {
        "id": "xbWMGSUR2udN"
      },
      "source": [
        "not_logged_users=pd.Series(events_test['user_id'].unique())[~pd.Series(events_test['user_id'].unique()).isin(events_test[events_test['event_name']=='login']['user_id'])]"
      ],
      "execution_count": 43,
      "outputs": []
    },
    {
      "cell_type": "code",
      "metadata": {
        "colab": {
          "base_uri": "https://localhost:8080/",
          "height": 80
        },
        "id": "CBhrOmUU4P7e",
        "outputId": "fec96435-fc36-4d56-817a-a731f5ad1ab0"
      },
      "source": [
        "events_test[events_test['user_id']==not_logged_users.values[0]]"
      ],
      "execution_count": 44,
      "outputs": [
        {
          "output_type": "execute_result",
          "data": {
            "text/html": [
              "<div>\n",
              "<style scoped>\n",
              "    .dataframe tbody tr th:only-of-type {\n",
              "        vertical-align: middle;\n",
              "    }\n",
              "\n",
              "    .dataframe tbody tr th {\n",
              "        vertical-align: top;\n",
              "    }\n",
              "\n",
              "    .dataframe thead th {\n",
              "        text-align: right;\n",
              "    }\n",
              "</style>\n",
              "<table border=\"1\" class=\"dataframe\">\n",
              "  <thead>\n",
              "    <tr style=\"text-align: right;\">\n",
              "      <th></th>\n",
              "      <th>user_id</th>\n",
              "      <th>event_dt</th>\n",
              "      <th>event_name</th>\n",
              "      <th>details</th>\n",
              "      <th>group</th>\n",
              "      <th>first_date</th>\n",
              "      <th>deadline</th>\n",
              "    </tr>\n",
              "  </thead>\n",
              "  <tbody>\n",
              "    <tr>\n",
              "      <th>62</th>\n",
              "      <td>5FF8B6AB257B404F</td>\n",
              "      <td>2020-12-07 04:17:47</td>\n",
              "      <td>purchase</td>\n",
              "      <td>4.99</td>\n",
              "      <td>B</td>\n",
              "      <td>2020-12-07</td>\n",
              "      <td>2020-12-20</td>\n",
              "    </tr>\n",
              "  </tbody>\n",
              "</table>\n",
              "</div>"
            ],
            "text/plain": [
              "             user_id            event_dt event_name  ...  group first_date   deadline\n",
              "62  5FF8B6AB257B404F 2020-12-07 04:17:47   purchase  ...      B 2020-12-07 2020-12-20\n",
              "\n",
              "[1 rows x 7 columns]"
            ]
          },
          "metadata": {},
          "execution_count": 44
        }
      ]
    },
    {
      "cell_type": "markdown",
      "metadata": {
        "id": "gAhfYNPPE9u7"
      },
      "source": [
        "Один пользователь, зарегистрировавшийся в тестовую группу В 7 декабря 2020, в тот же день совершил покупку. Причиной отсутстия в логе данных о событии, предшествующем любой покупке, может быть то, что вход пользователя в систему произошел ранее начала фиксации событий в логе, сбой логирования или, например, подмена события (замена события \"login\" событием первичной регистрации покапателя)."
      ]
    },
    {
      "cell_type": "code",
      "metadata": {
        "colab": {
          "base_uri": "https://localhost:8080/"
        },
        "id": "yw5kMpiPDxQg",
        "outputId": "2ccc89a5-d682-489d-da98-4f71710403a8"
      },
      "source": [
        "events['event_dt'].min()"
      ],
      "execution_count": 45,
      "outputs": [
        {
          "output_type": "execute_result",
          "data": {
            "text/plain": [
              "Timestamp('2020-12-07 00:00:33')"
            ]
          },
          "metadata": {},
          "execution_count": 45
        }
      ]
    },
    {
      "cell_type": "markdown",
      "metadata": {
        "id": "hp9bksN8G3mT"
      },
      "source": [
        "Количество пользователей, совершивших событие \"просмотр корзины\" меньше, чем количество покупателей. Это свидетельствует о необязательности последовательного прохождения всех ступеней для совершения покупки (\"купить в один клик\"?)."
      ]
    },
    {
      "cell_type": "markdown",
      "metadata": {
        "id": "qjhHkWEAbMil"
      },
      "source": [
        "Отобразим частоту событий, количество и долю пользователей, сгенерировавших события от общего числа пользователей в логе,  на графиках, упорядочив данные по убыванию значений."
      ]
    },
    {
      "cell_type": "code",
      "metadata": {
        "colab": {
          "base_uri": "https://localhost:8080/",
          "height": 572
        },
        "id": "PEg7bKfVLolf",
        "outputId": "937f016a-ffcd-4458-ad79-fb98db4494b6"
      },
      "source": [
        "def remove_border(ax):\n",
        "    ax.spines['top'].set_visible(False)\n",
        "    ax.spines['right'].set_visible(False)\n",
        "    ax.spines['bottom'].set_visible(False)\n",
        "    ax.spines['left'].set_visible(False)\n",
        "\n",
        "def plot_attr(ax,title,xlabel,ylabel):\n",
        "    ax.title.set_text(title)\n",
        "    ax.title.set_fontsize(20)\n",
        "    ax.set_xlabel(xlabel,fontsize=14)\n",
        "    ax.set_ylabel(ylabel,fontsize=14)\n",
        "\n",
        "fig, axes = plt.subplots(nrows=1, ncols=2,figsize=(25, 8))\n",
        "order = groupped_events.sort_values('events_cnt').reset_index(drop=True)['event']\n",
        "sns.barplot(ax=axes[0], y='event', x='events_cnt', order = order,  data=groupped_events)\n",
        "axes[0].set_yticklabels(order, fontsize=14,color='black')\n",
        "axes[0].invert_yaxis()\n",
        "xlabel='events count'\n",
        "ylabel='events name'\n",
        "title='Distribution of events by frequency'\n",
        "plot_attr(axes[0],title,xlabel,ylabel)\n",
        "for i in axes[0].patches:\n",
        "    if i.get_width() > 20000:\n",
        "        axes[0].text(i.get_width()-15000, i.get_y()+0.5, \n",
        "                str(int(i.get_width())), fontsize=18, color='white')\n",
        "    else:\n",
        "        axes[0].text(i.get_width()+30, i.get_y()+0.5, \n",
        "                str(int(i.get_width())), fontsize=18, color='grey')\n",
        "remove_border(axes[0])\n",
        "\n",
        "sns.barplot(ax=axes[1],y='event', x='users_cnt', order = order,  data=groupped_events)\n",
        "axes[1].set_yticklabels(order, fontsize=14,color='black')\n",
        "axes[1].set_ylabel(None)\n",
        "axes[1].invert_yaxis()\n",
        "xlabel='users count'\n",
        "title='Distribution of events by users'\n",
        "plot_attr(axes[1],title,xlabel,ylabel)\n",
        "for i in axes[1].patches:\n",
        "    if i.get_width() > 5000:\n",
        "        axes[1].text(i.get_width()-2000, i.get_y()+0.5, \n",
        "                str(int(i.get_width()))+' ({:.1%})'.format(i.get_width() / events_val['user_id'].nunique()), fontsize=18, color='white')\n",
        "    else:\n",
        "        axes[1].text(i.get_width()+30, i.get_y()+0.5, \n",
        "                str(int(i.get_width()))+' ({:.1%})'.format(i.get_width() / events_val['user_id'].nunique()), fontsize=18, color='grey')\n",
        "remove_border(axes[1])\n",
        "fig.tight_layout()\n",
        "fig.subplots_adjust(wspace=0.3)\n",
        "plt.show()"
      ],
      "execution_count": 46,
      "outputs": [
        {
          "output_type": "display_data",
          "data": {
            "image/png": "[encoded data removed]",
            "text/plain": [
              "<Figure size 1800x576 with 2 Axes>"
            ]
          },
          "metadata": {
            "needs_background": "light"
          }
        }
      ]
    },
    {
      "cell_type": "markdown",
      "metadata": {
        "id": "6kYAgIXkbn3x"
      },
      "source": [
        "Логичным порядком событий, регистрирующих отдельные этапы законченного алгоритма поведения пользователя, является:\n",
        "1. Вход зарегистрированного пользователя (Login);\n",
        "2. Просмотр карточки товара (Product_page);\n",
        "3. Просмотр корзины (Product_cart);\n",
        "4. Покупка (Purchase)."
      ]
    },
    {
      "cell_type": "markdown",
      "metadata": {
        "id": "NBcaDT-2lQXE"
      },
      "source": [
        "\n",
        "\n",
        "---\n",
        "\n",
        "Построим воронку событий рассчитав, какая доля пользователей проходит на следующий шаг воронки (от числа пользователей на предыдущем)."
      ]
    },
    {
      "cell_type": "code",
      "metadata": {
        "id": "QYL0fGc9ZIJ0"
      },
      "source": [
        "def funnel(steps,steps_val,ylabel,title_text):\n",
        "    '''\n",
        "    Функция построения воронки событий\n",
        "    Принимает на вход информацию о событиях (наименование и численность пользователей),\n",
        "    название графика и подписи осей\n",
        "    Возвращает и отрисовывает графический объект библиотеки plotly\n",
        "    '''\n",
        "    fig = go.Figure(\n",
        "        go.Funnel(\n",
        "            y = steps,\n",
        "            x = steps_val,\n",
        "            textinfo = \"value+percent previous\")\n",
        "    )\n",
        "    fig.update_layout(\n",
        "        yaxis_title=ylabel,\n",
        "        title={\n",
        "        'text': title_text,\n",
        "        'y':0.9,\n",
        "        'x':0.5,\n",
        "        'xanchor': 'center',\n",
        "        'yanchor': 'top'},\n",
        "        font={\n",
        "            'size':18\n",
        "        }    \n",
        "    )\n",
        "    fig.show()"
      ],
      "execution_count": 47,
      "outputs": []
    },
    {
      "cell_type": "code",
      "metadata": {
        "colab": {
          "base_uri": "https://localhost:8080/",
          "height": 542
        },
        "id": "NRK7K4F7l7xr",
        "outputId": "b938c9b8-80f1-42c1-aded-4ab4bc686e9d"
      },
      "source": [
        "steps = groupped_events.sort_values('events_cnt',ascending=False).reset_index(drop=True)['event']\n",
        "steps_val = groupped_events.sort_values('users_cnt',ascending=False).reset_index(drop=True)['users_cnt']\n",
        "ylabel=\"event\"\n",
        "title_text=\"Funnel of events by users\"\n",
        "funnel(steps,steps_val,ylabel,title_text)"
      ],
      "execution_count": 48,
      "outputs": [
        {
          "output_type": "display_data",
          "data": {
            "text/html": [
              "<html>\n",
              "<head><meta charset=\"utf-8\" /></head>\n",
              "<body>\n",
              "    <div>\n",
              "            <script src=\"https://cdnjs.cloudflare.com/ajax/libs/mathjax/2.7.5/MathJax.js?config=TeX-AMS-MML_SVG\"></script><script type=\"text/javascript\">if (window.MathJax) {MathJax.Hub.Config({SVG: {font: \"STIX-Web\"}});}</script>\n",
              "                <script type=\"text/javascript\">window.PlotlyConfig = {MathJaxConfig: 'local'};</script>\n",
              "        <script src=\"https://cdn.plot.ly/plotly-latest.min.js\"></script>    \n",
              "            <div id=\"d6ddbc3d-ecd4-47f3-8f68-1ae9faa44c79\" class=\"plotly-graph-div\" style=\"height:525px; width:100%;\"></div>\n",
              "            <script type=\"text/javascript\">\n",
              "                \n",
              "                    window.PLOTLYENV=window.PLOTLYENV || {};\n",
              "                    \n",
              "                if (document.getElementById(\"d6ddbc3d-ecd4-47f3-8f68-1ae9faa44c79\")) {\n",
              "                    Plotly.newPlot(\n",
              "                        'd6ddbc3d-ecd4-47f3-8f68-1ae9faa44c79',\n",
              "                        [{\"textinfo\": \"value+percent previous\", \"type\": \"funnel\", \"x\": [594, 350, 163, 162], \"y\": [\"login\", \"product_page\", \"product_cart\", \"purchase\"]}],\n",
              "                        {\"font\": {\"size\": 18}, \"template\": {\"data\": {\"bar\": [{\"error_x\": {\"color\": \"#2a3f5f\"}, \"error_y\": {\"color\": \"#2a3f5f\"}, \"marker\": {\"line\": {\"color\": \"#E5ECF6\", \"width\": 0.5}}, \"type\": \"bar\"}], \"barpolar\": [{\"marker\": {\"line\": {\"color\": \"#E5ECF6\", \"width\": 0.5}}, \"type\": \"barpolar\"}], \"carpet\": [{\"aaxis\": {\"endlinecolor\": \"#2a3f5f\", \"gridcolor\": \"white\", \"linecolor\": \"white\", \"minorgridcolor\": \"white\", \"startlinecolor\": \"#2a3f5f\"}, \"baxis\": {\"endlinecolor\": \"#2a3f5f\", \"gridcolor\": \"white\", \"linecolor\": \"white\", \"minorgridcolor\": \"white\", \"startlinecolor\": \"#2a3f5f\"}, \"type\": \"carpet\"}], \"choropleth\": [{\"colorbar\": {\"outlinewidth\": 0, \"ticks\": \"\"}, \"type\": \"choropleth\"}], \"contour\": [{\"colorbar\": {\"outlinewidth\": 0, \"ticks\": \"\"}, \"colorscale\": [[0.0, \"#0d0887\"], [0.1111111111111111, \"#46039f\"], [0.2222222222222222, \"#7201a8\"], [0.3333333333333333, \"#9c179e\"], [0.4444444444444444, \"#bd3786\"], [0.5555555555555556, \"#d8576b\"], [0.6666666666666666, \"#ed7953\"], [0.7777777777777778, \"#fb9f3a\"], [0.8888888888888888, \"#fdca26\"], [1.0, \"#f0f921\"]], \"type\": \"contour\"}], \"contourcarpet\": [{\"colorbar\": {\"outlinewidth\": 0, \"ticks\": \"\"}, \"type\": \"contourcarpet\"}], \"heatmap\": [{\"colorbar\": {\"outlinewidth\": 0, \"ticks\": \"\"}, \"colorscale\": [[0.0, \"#0d0887\"], [0.1111111111111111, \"#46039f\"], [0.2222222222222222, \"#7201a8\"], [0.3333333333333333, \"#9c179e\"], [0.4444444444444444, \"#bd3786\"], [0.5555555555555556, \"#d8576b\"], [0.6666666666666666, \"#ed7953\"], [0.7777777777777778, \"#fb9f3a\"], [0.8888888888888888, \"#fdca26\"], [1.0, \"#f0f921\"]], \"type\": \"heatmap\"}], \"heatmapgl\": [{\"colorbar\": {\"outlinewidth\": 0, \"ticks\": \"\"}, \"colorscale\": [[0.0, \"#0d0887\"], [0.1111111111111111, \"#46039f\"], [0.2222222222222222, \"#7201a8\"], [0.3333333333333333, \"#9c179e\"], [0.4444444444444444, \"#bd3786\"], [0.5555555555555556, \"#d8576b\"], [0.6666666666666666, \"#ed7953\"], [0.7777777777777778, \"#fb9f3a\"], [0.8888888888888888, \"#fdca26\"], [1.0, \"#f0f921\"]], \"type\": \"heatmapgl\"}], \"histogram\": [{\"marker\": {\"colorbar\": {\"outlinewidth\": 0, \"ticks\": \"\"}}, \"type\": \"histogram\"}], \"histogram2d\": [{\"colorbar\": {\"outlinewidth\": 0, \"ticks\": \"\"}, \"colorscale\": [[0.0, \"#0d0887\"], [0.1111111111111111, \"#46039f\"], [0.2222222222222222, \"#7201a8\"], [0.3333333333333333, \"#9c179e\"], [0.4444444444444444, \"#bd3786\"], [0.5555555555555556, \"#d8576b\"], [0.6666666666666666, \"#ed7953\"], [0.7777777777777778, \"#fb9f3a\"], [0.8888888888888888, \"#fdca26\"], [1.0, \"#f0f921\"]], \"type\": \"histogram2d\"}], \"histogram2dcontour\": [{\"colorbar\": {\"outlinewidth\": 0, \"ticks\": \"\"}, \"colorscale\": [[0.0, \"#0d0887\"], [0.1111111111111111, \"#46039f\"], [0.2222222222222222, \"#7201a8\"], [0.3333333333333333, \"#9c179e\"], [0.4444444444444444, \"#bd3786\"], [0.5555555555555556, \"#d8576b\"], [0.6666666666666666, \"#ed7953\"], [0.7777777777777778, \"#fb9f3a\"], [0.8888888888888888, \"#fdca26\"], [1.0, \"#f0f921\"]], \"type\": \"histogram2dcontour\"}], \"mesh3d\": [{\"colorbar\": {\"outlinewidth\": 0, \"ticks\": \"\"}, \"type\": \"mesh3d\"}], \"parcoords\": [{\"line\": {\"colorbar\": {\"outlinewidth\": 0, \"ticks\": \"\"}}, \"type\": \"parcoords\"}], \"pie\": [{\"automargin\": true, \"type\": \"pie\"}], \"scatter\": [{\"marker\": {\"colorbar\": {\"outlinewidth\": 0, \"ticks\": \"\"}}, \"type\": \"scatter\"}], \"scatter3d\": [{\"line\": {\"colorbar\": {\"outlinewidth\": 0, \"ticks\": \"\"}}, \"marker\": {\"colorbar\": {\"outlinewidth\": 0, \"ticks\": \"\"}}, \"type\": \"scatter3d\"}], \"scattercarpet\": [{\"marker\": {\"colorbar\": {\"outlinewidth\": 0, \"ticks\": \"\"}}, \"type\": \"scattercarpet\"}], \"scattergeo\": [{\"marker\": {\"colorbar\": {\"outlinewidth\": 0, \"ticks\": \"\"}}, \"type\": \"scattergeo\"}], \"scattergl\": [{\"marker\": {\"colorbar\": {\"outlinewidth\": 0, \"ticks\": \"\"}}, \"type\": \"scattergl\"}], \"scattermapbox\": [{\"marker\": {\"colorbar\": {\"outlinewidth\": 0, \"ticks\": \"\"}}, \"type\": \"scattermapbox\"}], \"scatterpolar\": [{\"marker\": {\"colorbar\": {\"outlinewidth\": 0, \"ticks\": \"\"}}, \"type\": \"scatterpolar\"}], \"scatterpolargl\": [{\"marker\": {\"colorbar\": {\"outlinewidth\": 0, \"ticks\": \"\"}}, \"type\": \"scatterpolargl\"}], \"scatterternary\": [{\"marker\": {\"colorbar\": {\"outlinewidth\": 0, \"ticks\": \"\"}}, \"type\": \"scatterternary\"}], \"surface\": [{\"colorbar\": {\"outlinewidth\": 0, \"ticks\": \"\"}, \"colorscale\": [[0.0, \"#0d0887\"], [0.1111111111111111, \"#46039f\"], [0.2222222222222222, \"#7201a8\"], [0.3333333333333333, \"#9c179e\"], [0.4444444444444444, \"#bd3786\"], [0.5555555555555556, \"#d8576b\"], [0.6666666666666666, \"#ed7953\"], [0.7777777777777778, \"#fb9f3a\"], [0.8888888888888888, \"#fdca26\"], [1.0, \"#f0f921\"]], \"type\": \"surface\"}], \"table\": [{\"cells\": {\"fill\": {\"color\": \"#EBF0F8\"}, \"line\": {\"color\": \"white\"}}, \"header\": {\"fill\": {\"color\": \"#C8D4E3\"}, \"line\": {\"color\": \"white\"}}, \"type\": \"table\"}]}, \"layout\": {\"annotationdefaults\": {\"arrowcolor\": \"#2a3f5f\", \"arrowhead\": 0, \"arrowwidth\": 1}, \"coloraxis\": {\"colorbar\": {\"outlinewidth\": 0, \"ticks\": \"\"}}, \"colorscale\": {\"diverging\": [[0, \"#8e0152\"], [0.1, \"#c51b7d\"], [0.2, \"#de77ae\"], [0.3, \"#f1b6da\"], [0.4, \"#fde0ef\"], [0.5, \"#f7f7f7\"], [0.6, \"#e6f5d0\"], [0.7, \"#b8e186\"], [0.8, \"#7fbc41\"], [0.9, \"#4d9221\"], [1, \"#276419\"]], \"sequential\": [[0.0, \"#0d0887\"], [0.1111111111111111, \"#46039f\"], [0.2222222222222222, \"#7201a8\"], [0.3333333333333333, \"#9c179e\"], [0.4444444444444444, \"#bd3786\"], [0.5555555555555556, \"#d8576b\"], [0.6666666666666666, \"#ed7953\"], [0.7777777777777778, \"#fb9f3a\"], [0.8888888888888888, \"#fdca26\"], [1.0, \"#f0f921\"]], \"sequentialminus\": [[0.0, \"#0d0887\"], [0.1111111111111111, \"#46039f\"], [0.2222222222222222, \"#7201a8\"], [0.3333333333333333, \"#9c179e\"], [0.4444444444444444, \"#bd3786\"], [0.5555555555555556, \"#d8576b\"], [0.6666666666666666, \"#ed7953\"], [0.7777777777777778, \"#fb9f3a\"], [0.8888888888888888, \"#fdca26\"], [1.0, \"#f0f921\"]]}, \"colorway\": [\"#636efa\", \"#EF553B\", \"#00cc96\", \"#ab63fa\", \"#FFA15A\", \"#19d3f3\", \"#FF6692\", \"#B6E880\", \"#FF97FF\", \"#FECB52\"], \"font\": {\"color\": \"#2a3f5f\"}, \"geo\": {\"bgcolor\": \"white\", \"lakecolor\": \"white\", \"landcolor\": \"#E5ECF6\", \"showlakes\": true, \"showland\": true, \"subunitcolor\": \"white\"}, \"hoverlabel\": {\"align\": \"left\"}, \"hovermode\": \"closest\", \"mapbox\": {\"style\": \"light\"}, \"paper_bgcolor\": \"white\", \"plot_bgcolor\": \"#E5ECF6\", \"polar\": {\"angularaxis\": {\"gridcolor\": \"white\", \"linecolor\": \"white\", \"ticks\": \"\"}, \"bgcolor\": \"#E5ECF6\", \"radialaxis\": {\"gridcolor\": \"white\", \"linecolor\": \"white\", \"ticks\": \"\"}}, \"scene\": {\"xaxis\": {\"backgroundcolor\": \"#E5ECF6\", \"gridcolor\": \"white\", \"gridwidth\": 2, \"linecolor\": \"white\", \"showbackground\": true, \"ticks\": \"\", \"zerolinecolor\": \"white\"}, \"yaxis\": {\"backgroundcolor\": \"#E5ECF6\", \"gridcolor\": \"white\", \"gridwidth\": 2, \"linecolor\": \"white\", \"showbackground\": true, \"ticks\": \"\", \"zerolinecolor\": \"white\"}, \"zaxis\": {\"backgroundcolor\": \"#E5ECF6\", \"gridcolor\": \"white\", \"gridwidth\": 2, \"linecolor\": \"white\", \"showbackground\": true, \"ticks\": \"\", \"zerolinecolor\": \"white\"}}, \"shapedefaults\": {\"line\": {\"color\": \"#2a3f5f\"}}, \"ternary\": {\"aaxis\": {\"gridcolor\": \"white\", \"linecolor\": \"white\", \"ticks\": \"\"}, \"baxis\": {\"gridcolor\": \"white\", \"linecolor\": \"white\", \"ticks\": \"\"}, \"bgcolor\": \"#E5ECF6\", \"caxis\": {\"gridcolor\": \"white\", \"linecolor\": \"white\", \"ticks\": \"\"}}, \"title\": {\"x\": 0.05}, \"xaxis\": {\"automargin\": true, \"gridcolor\": \"white\", \"linecolor\": \"white\", \"ticks\": \"\", \"title\": {\"standoff\": 15}, \"zerolinecolor\": \"white\", \"zerolinewidth\": 2}, \"yaxis\": {\"automargin\": true, \"gridcolor\": \"white\", \"linecolor\": \"white\", \"ticks\": \"\", \"title\": {\"standoff\": 15}, \"zerolinecolor\": \"white\", \"zerolinewidth\": 2}}}, \"title\": {\"text\": \"Funnel of events by users\", \"x\": 0.5, \"xanchor\": \"center\", \"y\": 0.9, \"yanchor\": \"top\"}, \"yaxis\": {\"title\": {\"text\": \"event\"}}},\n",
              "                        {\"responsive\": true}\n",
              "                    ).then(function(){\n",
              "                            \n",
              "var gd = document.getElementById('d6ddbc3d-ecd4-47f3-8f68-1ae9faa44c79');\n",
              "var x = new MutationObserver(function (mutations, observer) {{\n",
              "        var display = window.getComputedStyle(gd).display;\n",
              "        if (!display || display === 'none') {{\n",
              "            console.log([gd, 'removed!']);\n",
              "            Plotly.purge(gd);\n",
              "            observer.disconnect();\n",
              "        }}\n",
              "}});\n",
              "\n",
              "// Listen for the removal of the full notebook cells\n",
              "var notebookContainer = gd.closest('#notebook-container');\n",
              "if (notebookContainer) {{\n",
              "    x.observe(notebookContainer, {childList: true});\n",
              "}}\n",
              "\n",
              "// Listen for the clearing of the current output cell\n",
              "var outputEl = gd.closest('.output');\n",
              "if (outputEl) {{\n",
              "    x.observe(outputEl, {childList: true});\n",
              "}}\n",
              "\n",
              "                        })\n",
              "                };\n",
              "                \n",
              "            </script>\n",
              "        </div>\n",
              "</body>\n",
              "</html>"
            ]
          },
          "metadata": {}
        }
      ]
    },
    {
      "cell_type": "markdown",
      "metadata": {
        "id": "81dOyWBfN_KK"
      },
      "source": [
        "Платежная воронка на первых двух этапах примерно сбалансирована: потери пользователей 41-53%. Практически полное совпадение числа пользователей перешедших в корзину и совершивших покупку, скорее всего, свидетельствует о наличии альтернативной ветки совершения покупки: от карточки товара сразу к завершению процедуры покупки."
      ]
    },
    {
      "cell_type": "markdown",
      "metadata": {
        "id": "HebcZZ6rpQpl"
      },
      "source": [
        "### **Исследование информации по событиям и пользователям**"
      ]
    },
    {
      "cell_type": "markdown",
      "metadata": {
        "id": "zsU4UR7rOaJ2"
      },
      "source": [
        "В среднем на одного пользователя из лога приходится 5.8 события, половина пользователей генерирует не более 6 событий."
      ]
    },
    {
      "cell_type": "code",
      "metadata": {
        "colab": {
          "base_uri": "https://localhost:8080/"
        },
        "id": "LQwRpmaPB_Dq",
        "outputId": "363ca040-e10d-4d46-a97a-867e952ec5e1"
      },
      "source": [
        "events_test.groupby('user_id')['event_name'].count().describe().apply(lambda x: format(x, '.1f'))"
      ],
      "execution_count": 49,
      "outputs": [
        {
          "output_type": "execute_result",
          "data": {
            "text/plain": [
              "count    595.0\n",
              "mean       5.8\n",
              "std        3.6\n",
              "min        1.0\n",
              "25%        3.0\n",
              "50%        6.0\n",
              "75%        8.0\n",
              "max       24.0\n",
              "Name: event_name, dtype: object"
            ]
          },
          "metadata": {},
          "execution_count": 49
        }
      ]
    },
    {
      "cell_type": "markdown",
      "metadata": {
        "id": "FVYW6yFLPqeH"
      },
      "source": [
        "Проверим как распределены события в группах теста."
      ]
    },
    {
      "cell_type": "code",
      "metadata": {
        "colab": {
          "base_uri": "https://localhost:8080/",
          "height": 111
        },
        "id": "AMJROPUobqtD",
        "outputId": "4a888060-ec3c-419a-dace-c1a42eba125d"
      },
      "source": [
        "events_by_group=events_test.pivot_table(index='group',aggfunc={'event_name':'nunique','event_name':'count','user_id':'nunique'}).reset_index()\n",
        "events_by_group=events_by_group.rename({'event_name':'event_count',\t'user_id':'user_count'},axis=1)\n",
        "events_by_group['events_per_user']=round(events_by_group['event_count']/events_by_group['user_count'],2)\n",
        "events_by_group"
      ],
      "execution_count": 50,
      "outputs": [
        {
          "output_type": "execute_result",
          "data": {
            "text/html": [
              "<div>\n",
              "<style scoped>\n",
              "    .dataframe tbody tr th:only-of-type {\n",
              "        vertical-align: middle;\n",
              "    }\n",
              "\n",
              "    .dataframe tbody tr th {\n",
              "        vertical-align: top;\n",
              "    }\n",
              "\n",
              "    .dataframe thead th {\n",
              "        text-align: right;\n",
              "    }\n",
              "</style>\n",
              "<table border=\"1\" class=\"dataframe\">\n",
              "  <thead>\n",
              "    <tr style=\"text-align: right;\">\n",
              "      <th></th>\n",
              "      <th>group</th>\n",
              "      <th>event_count</th>\n",
              "      <th>user_count</th>\n",
              "      <th>events_per_user</th>\n",
              "    </tr>\n",
              "  </thead>\n",
              "  <tbody>\n",
              "    <tr>\n",
              "      <th>0</th>\n",
              "      <td>A</td>\n",
              "      <td>2046</td>\n",
              "      <td>344</td>\n",
              "      <td>5.95</td>\n",
              "    </tr>\n",
              "    <tr>\n",
              "      <th>1</th>\n",
              "      <td>B</td>\n",
              "      <td>1421</td>\n",
              "      <td>251</td>\n",
              "      <td>5.66</td>\n",
              "    </tr>\n",
              "  </tbody>\n",
              "</table>\n",
              "</div>"
            ],
            "text/plain": [
              "  group  event_count  user_count  events_per_user\n",
              "0     A         2046         344             5.95\n",
              "1     B         1421         251             5.66"
            ]
          },
          "metadata": {},
          "execution_count": 50
        }
      ]
    },
    {
      "cell_type": "markdown",
      "metadata": {
        "id": "rAji3fxMZTu5"
      },
      "source": [
        "В среднем пользователи из тестовой группы генерировали меньше событий.\n",
        "\n",
        "\n",
        "---\n",
        "\n"
      ]
    },
    {
      "cell_type": "markdown",
      "metadata": {
        "id": "TkUQgRJWrFW0"
      },
      "source": [
        "Создадим датафреймы, содержащие логи событий для каждой группы теста."
      ]
    },
    {
      "cell_type": "code",
      "metadata": {
        "id": "9tfSH1uxfXrv"
      },
      "source": [
        "events_A=events_test[events_test['group']=='A']\n",
        "events_B=events_test[events_test['group']=='B']"
      ],
      "execution_count": 51,
      "outputs": []
    },
    {
      "cell_type": "markdown",
      "metadata": {
        "id": "fli9F9QUZpLG"
      },
      "source": [
        "Построим графически распределение количества событий, приходящихся на одного пользователя для тестовой и контрольной групп."
      ]
    },
    {
      "cell_type": "code",
      "metadata": {
        "id": "03eMkuNSv6Jf"
      },
      "source": [
        "def plot_sev_hists(ncols, column, dfs, titles, xlabel, ylabel, **kwargs):\n",
        "    '''\n",
        "    Функция построения гистограмм одноименных признаков для нескольких (2-4) датафреймов\n",
        "    Принимает на вход количество датафреймов, наименование признака, массив датафреймов,\n",
        "    массив наименований графиков и подписи осей\n",
        "    Возвращает и отрисовывает объект matplotlib.axes.Axes\n",
        "    '''\n",
        "    fig, ax = plt.subplots(nrows=1, ncols=ncols)\n",
        "    fig.set_size_inches(ncols*7, 10)\n",
        "    plt.subplots_adjust(wspace=0.2)\n",
        "    ylim_min=[]\n",
        "    ylim_max=[]\n",
        "    for i in range(ncols):\n",
        "        if dfs[i][column].nunique()<20:\n",
        "            bins=dfs[i][column].nunique()\n",
        "            xticks=dfs[i][column].unique()\n",
        "            setxticks=True\n",
        "        else:\n",
        "            bins='auto'\n",
        "            setxticks=False\n",
        "            ax[i].axvline(dfs[i][column].mean(), color='red')\n",
        "        ax[i].hist(dfs[i][column],bins=bins)\n",
        "        if setxticks:\n",
        "            ax[i].set_xticks(xticks)\n",
        "        ax[i].title.set_text(titles[i])\n",
        "        ax[i].title.set_fontsize(18)\n",
        "        ax[i].set_xlabel(xlabel)\n",
        "        ax[i].set_ylabel(ylabel)\n",
        "        ylim_min.append(ax[i].get_ylim()[0])\n",
        "        ylim_max.append(ax[i].get_ylim()[1])\n",
        "    miny = min(ylim_min)\n",
        "    maxy = max(ylim_max)\n",
        "    for i in range(ncols):\n",
        "        ax[i].set_ylim([miny, maxy])\n",
        "    plt.tight_layout()\n",
        "    plt.show()"
      ],
      "execution_count": 52,
      "outputs": []
    },
    {
      "cell_type": "code",
      "metadata": {
        "colab": {
          "base_uri": "https://localhost:8080/",
          "height": 729
        },
        "id": "v2EVgNEofuIB",
        "outputId": "8604fee9-98f5-459f-8f0e-2e8b01102887"
      },
      "source": [
        "ncols=2\n",
        "column='event_name'\n",
        "dfs=[pd.DataFrame(events_A.groupby('user_id')['event_name'].agg('count')),pd.DataFrame(events_B.groupby('user_id')['event_name'].agg('count'))]\n",
        "titles=['Distribution of events per user: group A','Distribution of events per user: group B']\n",
        "xlabel='events per user'\n",
        "ylabel='count'\n",
        "plot_sev_hists(ncols, column, dfs, titles, xlabel, ylabel)"
      ],
      "execution_count": 53,
      "outputs": [
        {
          "output_type": "display_data",
          "data": {
            "image/png": "[encoded data removed]",
            "text/plain": [
              "<Figure size 1008x720 with 2 Axes>"
            ]
          },
          "metadata": {
            "needs_background": "light"
          }
        }
      ]
    },
    {
      "cell_type": "markdown",
      "metadata": {
        "id": "UC33EhpXacQm"
      },
      "source": [
        "Распределения совпадают по форме, хотя и имеют несимметричные пропуски и соотношения частот по значениям. Можно заключить, что поведение пользователей двух групп не совпадает."
      ]
    },
    {
      "cell_type": "markdown",
      "metadata": {
        "id": "nyb1Sjp3a_dd"
      },
      "source": [
        "\n",
        "\n",
        "---\n",
        "\n",
        "\n",
        "Проанализируем распределение количества сгенерированных событий по дням фиксации."
      ]
    },
    {
      "cell_type": "code",
      "metadata": {
        "id": "fXM8TaYRoFxr"
      },
      "source": [
        "df1=events_A.copy()\n",
        "df1['day']=df1['event_dt'].dt.day\n",
        "df2=events_B.copy()\n",
        "df2['day']=df2['event_dt'].dt.day"
      ],
      "execution_count": 54,
      "outputs": []
    },
    {
      "cell_type": "code",
      "metadata": {
        "colab": {
          "base_uri": "https://localhost:8080/",
          "height": 729
        },
        "id": "vSkiB7X7h4az",
        "outputId": "93c7022e-90c2-4c4b-abf9-9731e0daad34"
      },
      "source": [
        "ncols=2\n",
        "column='day'\n",
        "dfs=[df1,df2]\n",
        "titles=['Distribution of events per day: group A','Distribution of events per day: group B']\n",
        "xlabel='events per day in December 2020'\n",
        "ylabel='count'\n",
        "plot_sev_hists(ncols, column, dfs, titles, xlabel, ylabel)"
      ],
      "execution_count": 55,
      "outputs": [
        {
          "output_type": "display_data",
          "data": {
            "image/png": "[encoded data removed]",
            "text/plain": [
              "<Figure size 1008x720 with 2 Axes>"
            ]
          },
          "metadata": {
            "needs_background": "light"
          }
        }
      ]
    },
    {
      "cell_type": "markdown",
      "metadata": {
        "id": "OJGbzU7tfusX"
      },
      "source": [
        "Наблюдается аналогичная картина: распределения походжи по форме, но не тождественны по отдельным значениям."
      ]
    },
    {
      "cell_type": "markdown",
      "metadata": {
        "id": "vepcfPPib9Ou"
      },
      "source": [
        "**Выводы:** в выборках логов событий для тестовой и контрольной групп количество событий на пользователя распределено не одинаково, также отличатся частота генерации событий во времени. Все это свидетельствует о неоднородности  выборок и рисках при использовании усредненных значений при сравнении групп теста."
      ]
    },
    {
      "cell_type": "markdown",
      "metadata": {
        "id": "w_P47V_yKnXD"
      },
      "source": [
        "\n",
        "\n",
        "---\n",
        "\n",
        "## **Определение эффекта теста**<a  class=\"anchor\" id=\"effect\"></a>"
      ]
    },
    {
      "cell_type": "markdown",
      "metadata": {
        "id": "eEjiX4_QZhri"
      },
      "source": [
        "Сгруппируем данные по событиям и группам с расчетом количества пользователей."
      ]
    },
    {
      "cell_type": "code",
      "metadata": {
        "id": "vflOkm-soF7J"
      },
      "source": [
        "events_gr=events_val.pivot_table(index='event_name', columns='group', values='user_id', aggfunc='nunique')\n",
        "events_gr.rename_axis(\" \", axis='index', inplace=True)"
      ],
      "execution_count": 56,
      "outputs": []
    },
    {
      "cell_type": "code",
      "metadata": {
        "colab": {
          "base_uri": "https://localhost:8080/",
          "height": 187
        },
        "id": "DV3SaRqzo7tz",
        "outputId": "394789dd-61a6-46a3-f560-7906e0362df9"
      },
      "source": [
        "events_gr.sort_values('A',ascending=False)"
      ],
      "execution_count": 57,
      "outputs": [
        {
          "output_type": "execute_result",
          "data": {
            "text/html": [
              "<div>\n",
              "<style scoped>\n",
              "    .dataframe tbody tr th:only-of-type {\n",
              "        vertical-align: middle;\n",
              "    }\n",
              "\n",
              "    .dataframe tbody tr th {\n",
              "        vertical-align: top;\n",
              "    }\n",
              "\n",
              "    .dataframe thead th {\n",
              "        text-align: right;\n",
              "    }\n",
              "</style>\n",
              "<table border=\"1\" class=\"dataframe\">\n",
              "  <thead>\n",
              "    <tr style=\"text-align: right;\">\n",
              "      <th>group</th>\n",
              "      <th>A</th>\n",
              "      <th>B</th>\n",
              "    </tr>\n",
              "    <tr>\n",
              "      <th></th>\n",
              "      <th></th>\n",
              "      <th></th>\n",
              "    </tr>\n",
              "  </thead>\n",
              "  <tbody>\n",
              "    <tr>\n",
              "      <th>login</th>\n",
              "      <td>344</td>\n",
              "      <td>250</td>\n",
              "    </tr>\n",
              "    <tr>\n",
              "      <th>product_page</th>\n",
              "      <td>208</td>\n",
              "      <td>142</td>\n",
              "    </tr>\n",
              "    <tr>\n",
              "      <th>product_cart</th>\n",
              "      <td>95</td>\n",
              "      <td>67</td>\n",
              "    </tr>\n",
              "    <tr>\n",
              "      <th>purchase</th>\n",
              "      <td>90</td>\n",
              "      <td>73</td>\n",
              "    </tr>\n",
              "  </tbody>\n",
              "</table>\n",
              "</div>"
            ],
            "text/plain": [
              "group           A    B\n",
              "                      \n",
              "login         344  250\n",
              "product_page  208  142\n",
              "product_cart   95   67\n",
              "purchase       90   73"
            ]
          },
          "metadata": {},
          "execution_count": 57
        }
      ]
    },
    {
      "cell_type": "markdown",
      "metadata": {
        "id": "UkllzDRBZhrj"
      },
      "source": [
        "Определим явно порядок событий в воронке и сохраним в переменной."
      ]
    },
    {
      "cell_type": "code",
      "metadata": {
        "id": "zXoIHicMuHIL"
      },
      "source": [
        "ordered_steps=['login','product_page','product_cart','purchase']"
      ],
      "execution_count": 58,
      "outputs": []
    },
    {
      "cell_type": "markdown",
      "metadata": {
        "id": "kAK2_WzPZhrk"
      },
      "source": [
        "Отобразим на графике число и долю пользователей от общей численности группы (конверсию) на каждом шаге воронки."
      ]
    },
    {
      "cell_type": "code",
      "metadata": {
        "id": "pnhFLakFuyDU"
      },
      "source": [
        "events_gr_2 = events_test.groupby(['event_name','group'])['user_id'].agg('nunique').reset_index()"
      ],
      "execution_count": 59,
      "outputs": []
    },
    {
      "cell_type": "code",
      "metadata": {
        "colab": {
          "base_uri": "https://localhost:8080/",
          "height": 524
        },
        "id": "c3TESHGmZhrk",
        "outputId": "e60fb6f8-7cb3-43ca-f0db-3e9be8a57136"
      },
      "source": [
        "plt.figure(figsize=(20, 8))\n",
        "ax = sns.barplot(y='event_name', x='user_id', order = ordered_steps, hue='group', data=events_gr_2)\n",
        "for i,v in enumerate(ax.patches):\n",
        "    if i < 5:\n",
        "        if v.get_width() > 1000:\n",
        "            ax.text(v.get_width()-310, v.get_y()+0.2, \n",
        "                str(int(v.get_width()))+' ({:.1%})'.format(v.get_width() / usersA.shape[0]),\n",
        "                    fontsize=15, color='white')\n",
        "        else:\n",
        "            ax.text(v.get_width()+10, v.get_y()+0.2, \n",
        "                str(int(v.get_width()))+' ({:.1%})'.format(v.get_width() / usersA.shape[0]),\n",
        "                    fontsize=15, color='grey')\n",
        "    if 5 <= i < 10:\n",
        "        if v.get_width() > 1000:\n",
        "            ax.text(v.get_width()-310, v.get_y()+0.2, \n",
        "                str(int(v.get_width()))+' ({:.1%})'.format(v.get_width() / usersB.shape[0]),\n",
        "                    fontsize=15, color='white')\n",
        "        else:\n",
        "            ax.text(v.get_width()+10, v.get_y()+0.2, \n",
        "                str(int(v.get_width()))+' ({:.1%})'.format(v.get_width() / usersB.shape[0]),\n",
        "                    fontsize=15, color='grey')\n",
        "\n",
        "title='Share of users in groups that have passed the event at least once'\n",
        "xlabel='users count'\n",
        "ylabel='event'\n",
        "plot_attr(ax,title,xlabel,ylabel)\n",
        "remove_border(ax)\n",
        "ax.legend(title=\"Groups\",loc='lower right')\n",
        "plt.show()"
      ],
      "execution_count": 60,
      "outputs": [
        {
          "output_type": "display_data",
          "data": {
            "image/png": "[encoded data removed]",
            "text/plain": [
              "<Figure size 1440x576 with 1 Axes>"
            ]
          },
          "metadata": {
            "needs_background": "light"
          }
        }
      ]
    },
    {
      "cell_type": "markdown",
      "metadata": {
        "id": "n8_grtdof4xT"
      },
      "source": [
        "**Выводы:** ожидаемый эффект, который предполагался как улучшение не менее, чем на 10% каждой метрики за 14 дней с момента регистрации пользователей, не достигнут: \n",
        "\n",
        "- конверсия в просмотр карточек и просмотры корзины в тестовой группе снизились;\n",
        "- конверсия в покупки в тестовой группе возрасла менее прогнозируемого значения."
      ]
    },
    {
      "cell_type": "markdown",
      "metadata": {
        "id": "XYJFefWrd_qL"
      },
      "source": [
        "\n",
        "\n",
        "---\n",
        "\n",
        "## **Оценка результатов теста**<a  class=\"anchor\" id=\"statistics\"></a>"
      ]
    },
    {
      "cell_type": "markdown",
      "metadata": {
        "id": "HQ_CmjzT_Xe_"
      },
      "source": [
        "Проверим с помощью пропорционального z-теста, будет ли отличие между группами статистически достоверным."
      ]
    },
    {
      "cell_type": "code",
      "metadata": {
        "id": "hg_5fa1uqfX7"
      },
      "source": [
        "def perform_ztest(group_A,group_B,group_A_users,group_B_users,steps,alpha=0.05):\n",
        "    plt.figure(figsize=(25,8))\n",
        "    plt.suptitle('Share of users having events in group A and group B', y=1.05, fontsize=22,color='red')\n",
        "    \n",
        "    def set_titles(ax,title):\n",
        "        ax.set_title(title)\n",
        "        ax.title.set_color('black')\n",
        "        ax.title.set_size(20)\n",
        "        ax.set_ylabel('share of users')\n",
        "        ax.set_xlabel('groups')\n",
        "        ax.set_ylim(0,1)\n",
        "    \n",
        "    def plt_text(ax,text,passed):\n",
        "        if passed=='yes':\n",
        "            color='green'\n",
        "        else:\n",
        "            color='tab:red'\n",
        "        ax.text(0.5,0.5,text,fontsize='x-large',horizontalalignment='center',verticalalignment='center',linespacing=2,c=color) \n",
        "        ax.set_xticks([])\n",
        "        ax.set_yticks([])\n",
        "        ax.axis('off')\n",
        "\n",
        "    total_A=group_A_users.nunique()\n",
        "    total_B=group_B_users.nunique()\n",
        "    p_vals=[]\n",
        "    metricks_changing=[]\n",
        "\n",
        "    for i in range(len(steps)):\n",
        "        pozitive_A=group_A[group_A['event_name']==steps[i]]['user_id'].nunique()\n",
        "        pozitive_B=group_B[group_B['event_name']==steps[i]]['user_id'].nunique()\n",
        "        share_A=pozitive_A/total_A\n",
        "        share_B=pozitive_B/total_B\n",
        "        metricks_changing.append(format((share_B-share_A)/share_A,'.1%'))\n",
        "\n",
        "        ax=plt.subplot2grid((4, 4), (0, i),rowspan=3)\n",
        "        sns.barplot(ax=ax, x=['group A','group  B'], y=[share_A,share_B])\n",
        "        set_titles(ax,'event: '+steps[i])\n",
        "        for ind, v in enumerate([share_A,share_B]):\n",
        "            if isinstance(v, float): v=round(v,3)\n",
        "            ax.text(ind-0.1,v*0.5, str(v), fontsize=20,color='white')\n",
        "        \n",
        "        p_vals.append(proportions_ztest([pozitive_A,pozitive_B],[total_A,total_B])[1])\n",
        "    \n",
        "    for i in range(len(steps)):\n",
        "        if p_vals[i]<=alpha:\n",
        "            verdict='H0 rejected'\n",
        "            passed='no'\n",
        "        else:\n",
        "            verdict='H0 not rejected'\n",
        "            passed='yes'\n",
        "        \n",
        "        text=\"relative metrick's changing: \"+metricks_changing[i]+'\\n'+'proportions ztest \\n p-value = '+str(round(p_vals[i],5))+'\\n'+verdict\n",
        "        plt_text(plt.subplot2grid((4, 4), (3, i)),text,passed)\n",
        "   \n",
        "    plt.tight_layout()\n",
        "    plt.show() "
      ],
      "execution_count": 61,
      "outputs": []
    },
    {
      "cell_type": "markdown",
      "metadata": {
        "id": "OOOLaZ1uiHns"
      },
      "source": [
        "Сформулируем нулевую гипотезу: конверсии регистрации новых пользователей в события для тестовой и контрольной групп не отличаются.\n",
        "\n",
        "Альтернативная гипотеза: в результате внедрения улучшенной рекомендательной системы конверсии регистрации новых пользователей в события для тестовой и контрольной групп различны.\n",
        "\n",
        "Уровень значимости alpha примем равным 0,05."
      ]
    },
    {
      "cell_type": "code",
      "metadata": {
        "colab": {
          "base_uri": "https://localhost:8080/",
          "height": 611
        },
        "id": "JsLZ5qtmikl1",
        "outputId": "3b84f54e-f79c-4f35-9f17-52c51c5ecb92"
      },
      "source": [
        "perform_ztest(events_A,events_B,usersA,usersB,ordered_steps)"
      ],
      "execution_count": 62,
      "outputs": [
        {
          "output_type": "display_data",
          "data": {
            "image/png": "[encoded data removed]",
            "text/plain": [
              "<Figure size 1800x576 with 8 Axes>"
            ]
          },
          "metadata": {
            "needs_background": "light"
          }
        }
      ]
    },
    {
      "cell_type": "markdown",
      "metadata": {
        "id": "IxdI-jOTlEeg"
      },
      "source": [
        "**Выводы:** в результате проверки статистической разницы долей пользователей, совершивших то или иное событие, от общего количества зарегистрировавшихся z-критерием ни одна нулевая гипотеза не отвергнута.\n",
        "На представленных данных нельзя утверждать, что в результате внедрения улучшенной рекомендательной системы целевые конверсии для вновь зарегистрировавшихся пользователей изменились."
      ]
    },
    {
      "cell_type": "markdown",
      "metadata": {
        "id": "_1wPppqrbvet"
      },
      "source": [
        "##  **Выводы и рекомендации**<a  class=\"anchor\" id=\"summary\"></a>"
      ]
    },
    {
      "cell_type": "markdown",
      "metadata": {
        "id": "WuHYiRMxolyI"
      },
      "source": [
        "На проведение А/В теста по выявлению влияния внедрения улучшенной рекомендательной системы на метрики конверсии повлияли наложение сроков запуска маркетинговой кампании (новогодняя промокампания, пересечение сроков 34,5%) и параллельно проводимый тест изменений в интерфейсе.\n",
        "\n",
        "Это привело к сокращению аудитории теста до 22% от запланированной численности."
      ]
    },
    {
      "cell_type": "markdown",
      "metadata": {
        "id": "xkBnPs8vED4z"
      },
      "source": [
        "Для проведения А/В теста использованы данные о поведении двух групп пользователей (контрольная и экспериментальная) в виде логов событий за период с 07.12.2020 по 24.12.2020. \n",
        "\n",
        "Общее количество пользователей в двух группах - 1340 человек.\n",
        "\n",
        "Соотношение численности групп составило 55%:45%.\n",
        "\n",
        "Группы эксперимента не однороды по поведению пользователей, медианное количество на одного пользователя составило 6 событий для контрольной группы и 4 для тестовой."
      ]
    },
    {
      "cell_type": "markdown",
      "metadata": {
        "id": "JFsCpIw3KLLG"
      },
      "source": [
        "Целевые метрики по контрольной группе составили от 12 до 27,8%. \n",
        "\n",
        "Для получения статистически значимых заключений об относительном изменении (улучшении) каждой из целевых метрик на 10% (при мощности теста в 80% и пороговом уровне значимсти в 5%) численность групп теста не достаточна.\n",
        "\n",
        "https://www.evanmiller.org/ab-testing/sample-size.html#!12;80;5;10;1\n",
        "\n",
        "*Если в техническом задании указан ожидаемый абсолютный эффект на метрики в 10%, численность групп теста стоит признать адекватной*"
      ]
    },
    {
      "cell_type": "markdown",
      "metadata": {
        "id": "QxOeoRqqs4Gv"
      },
      "source": [
        "Расчетный достигнутый эффект в результате внедрения улучшенной рекомендательной системы на метрики оказался по ниже запланированного по конверсии в покупки и противоположным по конверсии в просморт карточек товаров и корзины."
      ]
    },
    {
      "cell_type": "markdown",
      "metadata": {
        "id": "OYXYfgfItkUM"
      },
      "source": [
        "Проведенный пропорциональный z-тест не подтвердил статистическую достоверность отличий в метриках для контрольной и тестовой групп."
      ]
    },
    {
      "cell_type": "markdown",
      "metadata": {
        "id": "AqqDN7QouACA"
      },
      "source": [
        "Тест стоит признать неудачным.\n",
        "\n",
        "Рекомендовано подготовить проведение нового теста внедрения улучшенной рекомендательной системы с учетом следующих условий:\n",
        "- отсутствие одновременно проводимых маркетинговых мероприятий и тестов;\n",
        "- определения размеров групп теста с учетом достигнутых уровней целевых метрик и ожидаемого эффекта от тестируемых изменений. "
      ]
    },
    {
      "cell_type": "code",
      "metadata": {
        "id": "Z2D1e86rK0rh"
      },
      "source": [
        ""
      ],
      "execution_count": 62,
      "outputs": []
    }
  ]
}