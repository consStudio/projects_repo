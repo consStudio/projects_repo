{
 "cells": [
  {
   "cell_type": "markdown",
   "metadata": {
    "id": "CmfNTmi5OxWt"
   },
   "source": [
    "##  **Импорт библиотек и загрузка данных**<a  class=\"anchor\" id=\"loading\"></a>"
   ]
  },
  {
   "cell_type": "code",
   "execution_count": 1,
   "metadata": {
    "colab": {
     "base_uri": "https://localhost:8080/"
    },
    "id": "iJUV6ebGOxWu",
    "outputId": "08a3d667-e6c1-46c6-d347-2f45348611dc"
   },
   "outputs": [],
   "source": [
    "# импортируем библиотеки\n",
    "import pandas as pd\n",
    "import numpy as np\n",
    "from pymystem3 import Mystem\n",
    "m=Mystem()\n",
    "from collections import Counter"
   ]
  },
  {
   "cell_type": "code",
   "execution_count": 2,
   "metadata": {
    "id": "6H6IsXQ9KQbl"
   },
   "outputs": [],
   "source": [
    "# загружаем данные\n",
    "try:\n",
    "    data=pd.read_csv(' ')\n",
    "    \n",
    "except:\n",
    "    url='https://drive.google.com/file/d/ /view?usp=sharing'\n",
    "    url2='https://drive.google.com/uc?id=' + url.split('/')[-2]\n",
    "    data = pd.read_csv(url2)"
   ]
  },
  {
   "cell_type": "markdown",
   "metadata": {
    "id": "uv-gQel7wrTz"
   },
   "source": [
    "Проверим датасет на соотвествие типов данных описанию, отсутствие пропусков и дубликатов в категориях."
   ]
  },
  {
   "cell_type": "code",
   "execution_count": 3,
   "metadata": {
    "id": "elV55oz1t9vN"
   },
   "outputs": [],
   "source": [
    "# Функция для вывода информации о структуре и типах данных датафрейма, проверки на пропуски в столбцах и дубликаты записей\n",
    "\n",
    "def check_dataset(dataset):\n",
    "    \n",
    "    try:\n",
    "        name =[x for x in globals() if globals()[x] is dataset][0]\n",
    "        width = 10*len(dataset.columns)\n",
    "        print('\\033[1m','Проверка таблицы: {}'.format(name),'\\033[0m')\n",
    "        print('.'*width)\n",
    "        print('\\033[1m','\\nИнформация о типах данных:', '\\033[0m')\n",
    "        display(dataset.info())\n",
    "        print('.'*width)\n",
    "        if dataset.isna().mean().sum()==0:\n",
    "            print('\\033[1m', '\\nПропусков в столбцах \\033[32;1m НЕТ', '\\033[0m')\n",
    "        else:\n",
    "            print('\\033[1m', '\\nДоля пропусков в столбцах:', '\\033[0m')\n",
    "            display(pd.DataFrame(round((dataset.isna().mean()*100),2)).style.background_gradient())\n",
    "        print('.'*width)\n",
    "        if dataset.duplicated().sum()==0:\n",
    "            print('\\033[1m', '\\nДубликатов строк \\033[32;1m НЕТ', '\\033[0m')\n",
    "        else:\n",
    "            print('\\033[1m', '\\nКоличество дубликатов: \\033[31;1m{}\\033[0m'.format(dataset.duplicated().sum()))\n",
    "        print('.'*width)\n",
    "        print('\\033[1m', '\\n10 случайных строк датафрейма', '\\033[0m')\n",
    "        display(dataset.sample(10))\n",
    "           \n",
    "    except:\n",
    "        print('Ошибка')"
   ]
  },
  {
   "cell_type": "code",
   "execution_count": 4,
   "metadata": {
    "colab": {
     "base_uri": "https://localhost:8080/",
     "height": 1000
    },
    "id": "fO-VNodhXHYq",
    "outputId": "84434169-af39-4847-eea1-35bec8d9648b"
   },
   "outputs": [
    {
     "name": "stdout",
     "output_type": "stream",
     "text": [
      "\u001b[1m Проверка таблицы: data \u001b[0m\n",
      "........................................................................................................................\n",
      "\u001b[1m \n",
      "Информация о типах данных: \u001b[0m\n",
      "<class 'pandas.core.frame.DataFrame'>\n",
      "RangeIndex: 21525 entries, 0 to 21524\n",
      "Data columns (total 12 columns):\n",
      "children            21525 non-null int64\n",
      "days_employed       19351 non-null float64\n",
      "dob_years           21525 non-null int64\n",
      "education           21525 non-null object\n",
      "education_id        21525 non-null int64\n",
      "family_status       21525 non-null object\n",
      "family_status_id    21525 non-null int64\n",
      "gender              21525 non-null object\n",
      "income_type         21525 non-null object\n",
      "debt                21525 non-null int64\n",
      "total_income        19351 non-null float64\n",
      "purpose             21525 non-null object\n",
      "dtypes: float64(2), int64(5), object(5)\n",
      "memory usage: 2.0+ MB\n"
     ]
    },
    {
     "data": {
      "text/plain": [
       "None"
      ]
     },
     "metadata": {},
     "output_type": "display_data"
    },
    {
     "name": "stdout",
     "output_type": "stream",
     "text": [
      "........................................................................................................................\n",
      "\u001b[1m \n",
      "Доля пропусков в столбцах: \u001b[0m\n"
     ]
    },
    {
     "data": {
      "text/html": [
       "<style  type=\"text/css\" >\n",
       "    #T_e60c02c0_17ae_11ec_821c_02420a398f85row0_col0 {\n",
       "            background-color:  #fff7fb;\n",
       "            color:  #000000;\n",
       "        }    #T_e60c02c0_17ae_11ec_821c_02420a398f85row1_col0 {\n",
       "            background-color:  #023858;\n",
       "            color:  #f1f1f1;\n",
       "        }    #T_e60c02c0_17ae_11ec_821c_02420a398f85row2_col0 {\n",
       "            background-color:  #fff7fb;\n",
       "            color:  #000000;\n",
       "        }    #T_e60c02c0_17ae_11ec_821c_02420a398f85row3_col0 {\n",
       "            background-color:  #fff7fb;\n",
       "            color:  #000000;\n",
       "        }    #T_e60c02c0_17ae_11ec_821c_02420a398f85row4_col0 {\n",
       "            background-color:  #fff7fb;\n",
       "            color:  #000000;\n",
       "        }    #T_e60c02c0_17ae_11ec_821c_02420a398f85row5_col0 {\n",
       "            background-color:  #fff7fb;\n",
       "            color:  #000000;\n",
       "        }    #T_e60c02c0_17ae_11ec_821c_02420a398f85row6_col0 {\n",
       "            background-color:  #fff7fb;\n",
       "            color:  #000000;\n",
       "        }    #T_e60c02c0_17ae_11ec_821c_02420a398f85row7_col0 {\n",
       "            background-color:  #fff7fb;\n",
       "            color:  #000000;\n",
       "        }    #T_e60c02c0_17ae_11ec_821c_02420a398f85row8_col0 {\n",
       "            background-color:  #fff7fb;\n",
       "            color:  #000000;\n",
       "        }    #T_e60c02c0_17ae_11ec_821c_02420a398f85row9_col0 {\n",
       "            background-color:  #fff7fb;\n",
       "            color:  #000000;\n",
       "        }    #T_e60c02c0_17ae_11ec_821c_02420a398f85row10_col0 {\n",
       "            background-color:  #023858;\n",
       "            color:  #f1f1f1;\n",
       "        }    #T_e60c02c0_17ae_11ec_821c_02420a398f85row11_col0 {\n",
       "            background-color:  #fff7fb;\n",
       "            color:  #000000;\n",
       "        }</style><table id=\"T_e60c02c0_17ae_11ec_821c_02420a398f85\" ><thead>    <tr>        <th class=\"blank level0\" ></th>        <th class=\"col_heading level0 col0\" >0</th>    </tr></thead><tbody>\n",
       "                <tr>\n",
       "                        <th id=\"T_e60c02c0_17ae_11ec_821c_02420a398f85level0_row0\" class=\"row_heading level0 row0\" >children</th>\n",
       "                        <td id=\"T_e60c02c0_17ae_11ec_821c_02420a398f85row0_col0\" class=\"data row0 col0\" >0</td>\n",
       "            </tr>\n",
       "            <tr>\n",
       "                        <th id=\"T_e60c02c0_17ae_11ec_821c_02420a398f85level0_row1\" class=\"row_heading level0 row1\" >days_employed</th>\n",
       "                        <td id=\"T_e60c02c0_17ae_11ec_821c_02420a398f85row1_col0\" class=\"data row1 col0\" >10.1</td>\n",
       "            </tr>\n",
       "            <tr>\n",
       "                        <th id=\"T_e60c02c0_17ae_11ec_821c_02420a398f85level0_row2\" class=\"row_heading level0 row2\" >dob_years</th>\n",
       "                        <td id=\"T_e60c02c0_17ae_11ec_821c_02420a398f85row2_col0\" class=\"data row2 col0\" >0</td>\n",
       "            </tr>\n",
       "            <tr>\n",
       "                        <th id=\"T_e60c02c0_17ae_11ec_821c_02420a398f85level0_row3\" class=\"row_heading level0 row3\" >education</th>\n",
       "                        <td id=\"T_e60c02c0_17ae_11ec_821c_02420a398f85row3_col0\" class=\"data row3 col0\" >0</td>\n",
       "            </tr>\n",
       "            <tr>\n",
       "                        <th id=\"T_e60c02c0_17ae_11ec_821c_02420a398f85level0_row4\" class=\"row_heading level0 row4\" >education_id</th>\n",
       "                        <td id=\"T_e60c02c0_17ae_11ec_821c_02420a398f85row4_col0\" class=\"data row4 col0\" >0</td>\n",
       "            </tr>\n",
       "            <tr>\n",
       "                        <th id=\"T_e60c02c0_17ae_11ec_821c_02420a398f85level0_row5\" class=\"row_heading level0 row5\" >family_status</th>\n",
       "                        <td id=\"T_e60c02c0_17ae_11ec_821c_02420a398f85row5_col0\" class=\"data row5 col0\" >0</td>\n",
       "            </tr>\n",
       "            <tr>\n",
       "                        <th id=\"T_e60c02c0_17ae_11ec_821c_02420a398f85level0_row6\" class=\"row_heading level0 row6\" >family_status_id</th>\n",
       "                        <td id=\"T_e60c02c0_17ae_11ec_821c_02420a398f85row6_col0\" class=\"data row6 col0\" >0</td>\n",
       "            </tr>\n",
       "            <tr>\n",
       "                        <th id=\"T_e60c02c0_17ae_11ec_821c_02420a398f85level0_row7\" class=\"row_heading level0 row7\" >gender</th>\n",
       "                        <td id=\"T_e60c02c0_17ae_11ec_821c_02420a398f85row7_col0\" class=\"data row7 col0\" >0</td>\n",
       "            </tr>\n",
       "            <tr>\n",
       "                        <th id=\"T_e60c02c0_17ae_11ec_821c_02420a398f85level0_row8\" class=\"row_heading level0 row8\" >income_type</th>\n",
       "                        <td id=\"T_e60c02c0_17ae_11ec_821c_02420a398f85row8_col0\" class=\"data row8 col0\" >0</td>\n",
       "            </tr>\n",
       "            <tr>\n",
       "                        <th id=\"T_e60c02c0_17ae_11ec_821c_02420a398f85level0_row9\" class=\"row_heading level0 row9\" >debt</th>\n",
       "                        <td id=\"T_e60c02c0_17ae_11ec_821c_02420a398f85row9_col0\" class=\"data row9 col0\" >0</td>\n",
       "            </tr>\n",
       "            <tr>\n",
       "                        <th id=\"T_e60c02c0_17ae_11ec_821c_02420a398f85level0_row10\" class=\"row_heading level0 row10\" >total_income</th>\n",
       "                        <td id=\"T_e60c02c0_17ae_11ec_821c_02420a398f85row10_col0\" class=\"data row10 col0\" >10.1</td>\n",
       "            </tr>\n",
       "            <tr>\n",
       "                        <th id=\"T_e60c02c0_17ae_11ec_821c_02420a398f85level0_row11\" class=\"row_heading level0 row11\" >purpose</th>\n",
       "                        <td id=\"T_e60c02c0_17ae_11ec_821c_02420a398f85row11_col0\" class=\"data row11 col0\" >0</td>\n",
       "            </tr>\n",
       "    </tbody></table>"
      ],
      "text/plain": [
       "<pandas.io.formats.style.Styler at 0x7f1bed823090>"
      ]
     },
     "metadata": {},
     "output_type": "display_data"
    },
    {
     "name": "stdout",
     "output_type": "stream",
     "text": [
      "........................................................................................................................\n",
      "\u001b[1m \n",
      "Количество дубликатов: \u001b[31;1m54\u001b[0m\n",
      "........................................................................................................................\n",
      "\u001b[1m \n",
      "10 случайных строк датафрейма \u001b[0m\n"
     ]
    },
    {
     "data": {
      "text/html": [
       "<div>\n",
       "<style scoped>\n",
       "    .dataframe tbody tr th:only-of-type {\n",
       "        vertical-align: middle;\n",
       "    }\n",
       "\n",
       "    .dataframe tbody tr th {\n",
       "        vertical-align: top;\n",
       "    }\n",
       "\n",
       "    .dataframe thead th {\n",
       "        text-align: right;\n",
       "    }\n",
       "</style>\n",
       "<table border=\"1\" class=\"dataframe\">\n",
       "  <thead>\n",
       "    <tr style=\"text-align: right;\">\n",
       "      <th></th>\n",
       "      <th>children</th>\n",
       "      <th>days_employed</th>\n",
       "      <th>dob_years</th>\n",
       "      <th>education</th>\n",
       "      <th>education_id</th>\n",
       "      <th>family_status</th>\n",
       "      <th>family_status_id</th>\n",
       "      <th>gender</th>\n",
       "      <th>income_type</th>\n",
       "      <th>debt</th>\n",
       "      <th>total_income</th>\n",
       "      <th>purpose</th>\n",
       "    </tr>\n",
       "  </thead>\n",
       "  <tbody>\n",
       "    <tr>\n",
       "      <td>12417</td>\n",
       "      <td>0</td>\n",
       "      <td>388408.975161</td>\n",
       "      <td>64</td>\n",
       "      <td>высшее</td>\n",
       "      <td>0</td>\n",
       "      <td>вдовец / вдова</td>\n",
       "      <td>2</td>\n",
       "      <td>F</td>\n",
       "      <td>пенсионер</td>\n",
       "      <td>0</td>\n",
       "      <td>42319.912931</td>\n",
       "      <td>покупка жилой недвижимости</td>\n",
       "    </tr>\n",
       "    <tr>\n",
       "      <td>8120</td>\n",
       "      <td>0</td>\n",
       "      <td>NaN</td>\n",
       "      <td>36</td>\n",
       "      <td>высшее</td>\n",
       "      <td>0</td>\n",
       "      <td>женат / замужем</td>\n",
       "      <td>0</td>\n",
       "      <td>F</td>\n",
       "      <td>компаньон</td>\n",
       "      <td>0</td>\n",
       "      <td>NaN</td>\n",
       "      <td>ремонт жилью</td>\n",
       "    </tr>\n",
       "    <tr>\n",
       "      <td>8185</td>\n",
       "      <td>0</td>\n",
       "      <td>401021.500882</td>\n",
       "      <td>58</td>\n",
       "      <td>среднее</td>\n",
       "      <td>1</td>\n",
       "      <td>женат / замужем</td>\n",
       "      <td>0</td>\n",
       "      <td>F</td>\n",
       "      <td>пенсионер</td>\n",
       "      <td>0</td>\n",
       "      <td>84347.460897</td>\n",
       "      <td>получение образования</td>\n",
       "    </tr>\n",
       "    <tr>\n",
       "      <td>17418</td>\n",
       "      <td>0</td>\n",
       "      <td>398600.069018</td>\n",
       "      <td>60</td>\n",
       "      <td>Неоконченное высшее</td>\n",
       "      <td>2</td>\n",
       "      <td>женат / замужем</td>\n",
       "      <td>0</td>\n",
       "      <td>F</td>\n",
       "      <td>пенсионер</td>\n",
       "      <td>0</td>\n",
       "      <td>83625.583859</td>\n",
       "      <td>заняться высшим образованием</td>\n",
       "    </tr>\n",
       "    <tr>\n",
       "      <td>20789</td>\n",
       "      <td>0</td>\n",
       "      <td>-3022.880100</td>\n",
       "      <td>45</td>\n",
       "      <td>среднее</td>\n",
       "      <td>1</td>\n",
       "      <td>женат / замужем</td>\n",
       "      <td>0</td>\n",
       "      <td>M</td>\n",
       "      <td>сотрудник</td>\n",
       "      <td>0</td>\n",
       "      <td>162935.073787</td>\n",
       "      <td>на покупку своего автомобиля</td>\n",
       "    </tr>\n",
       "    <tr>\n",
       "      <td>15782</td>\n",
       "      <td>0</td>\n",
       "      <td>398749.827786</td>\n",
       "      <td>54</td>\n",
       "      <td>высшее</td>\n",
       "      <td>0</td>\n",
       "      <td>женат / замужем</td>\n",
       "      <td>0</td>\n",
       "      <td>M</td>\n",
       "      <td>пенсионер</td>\n",
       "      <td>0</td>\n",
       "      <td>165409.424754</td>\n",
       "      <td>свой автомобиль</td>\n",
       "    </tr>\n",
       "    <tr>\n",
       "      <td>20677</td>\n",
       "      <td>2</td>\n",
       "      <td>-6387.195972</td>\n",
       "      <td>34</td>\n",
       "      <td>высшее</td>\n",
       "      <td>0</td>\n",
       "      <td>женат / замужем</td>\n",
       "      <td>0</td>\n",
       "      <td>F</td>\n",
       "      <td>сотрудник</td>\n",
       "      <td>0</td>\n",
       "      <td>118203.598349</td>\n",
       "      <td>покупка своего жилья</td>\n",
       "    </tr>\n",
       "    <tr>\n",
       "      <td>11277</td>\n",
       "      <td>1</td>\n",
       "      <td>-415.138055</td>\n",
       "      <td>27</td>\n",
       "      <td>среднее</td>\n",
       "      <td>1</td>\n",
       "      <td>женат / замужем</td>\n",
       "      <td>0</td>\n",
       "      <td>M</td>\n",
       "      <td>сотрудник</td>\n",
       "      <td>0</td>\n",
       "      <td>77624.797300</td>\n",
       "      <td>покупка жилья для сдачи</td>\n",
       "    </tr>\n",
       "    <tr>\n",
       "      <td>8665</td>\n",
       "      <td>0</td>\n",
       "      <td>NaN</td>\n",
       "      <td>46</td>\n",
       "      <td>среднее</td>\n",
       "      <td>1</td>\n",
       "      <td>в разводе</td>\n",
       "      <td>3</td>\n",
       "      <td>F</td>\n",
       "      <td>госслужащий</td>\n",
       "      <td>0</td>\n",
       "      <td>NaN</td>\n",
       "      <td>получение высшего образования</td>\n",
       "    </tr>\n",
       "    <tr>\n",
       "      <td>8895</td>\n",
       "      <td>0</td>\n",
       "      <td>-3218.434996</td>\n",
       "      <td>31</td>\n",
       "      <td>начальное</td>\n",
       "      <td>3</td>\n",
       "      <td>гражданский брак</td>\n",
       "      <td>1</td>\n",
       "      <td>M</td>\n",
       "      <td>сотрудник</td>\n",
       "      <td>0</td>\n",
       "      <td>223933.790596</td>\n",
       "      <td>свадьба</td>\n",
       "    </tr>\n",
       "  </tbody>\n",
       "</table>\n",
       "</div>"
      ],
      "text/plain": [
       "       children  days_employed  dob_years            education  education_id  \\\n",
       "12417         0  388408.975161         64               высшее             0   \n",
       "8120          0            NaN         36               высшее             0   \n",
       "8185          0  401021.500882         58              среднее             1   \n",
       "17418         0  398600.069018         60  Неоконченное высшее             2   \n",
       "20789         0   -3022.880100         45              среднее             1   \n",
       "15782         0  398749.827786         54               высшее             0   \n",
       "20677         2   -6387.195972         34               высшее             0   \n",
       "11277         1    -415.138055         27              среднее             1   \n",
       "8665          0            NaN         46              среднее             1   \n",
       "8895          0   -3218.434996         31            начальное             3   \n",
       "\n",
       "          family_status  family_status_id gender  income_type  debt  \\\n",
       "12417    вдовец / вдова                 2      F    пенсионер     0   \n",
       "8120    женат / замужем                 0      F    компаньон     0   \n",
       "8185    женат / замужем                 0      F    пенсионер     0   \n",
       "17418   женат / замужем                 0      F    пенсионер     0   \n",
       "20789   женат / замужем                 0      M    сотрудник     0   \n",
       "15782   женат / замужем                 0      M    пенсионер     0   \n",
       "20677   женат / замужем                 0      F    сотрудник     0   \n",
       "11277   женат / замужем                 0      M    сотрудник     0   \n",
       "8665          в разводе                 3      F  госслужащий     0   \n",
       "8895   гражданский брак                 1      M    сотрудник     0   \n",
       "\n",
       "        total_income                        purpose  \n",
       "12417   42319.912931     покупка жилой недвижимости  \n",
       "8120             NaN                   ремонт жилью  \n",
       "8185    84347.460897          получение образования  \n",
       "17418   83625.583859   заняться высшим образованием  \n",
       "20789  162935.073787   на покупку своего автомобиля  \n",
       "15782  165409.424754                свой автомобиль  \n",
       "20677  118203.598349           покупка своего жилья  \n",
       "11277   77624.797300        покупка жилья для сдачи  \n",
       "8665             NaN  получение высшего образования  \n",
       "8895   223933.790596                        свадьба  "
      ]
     },
     "metadata": {},
     "output_type": "display_data"
    }
   ],
   "source": [
    "check_dataset(data)"
   ]
  },
  {
   "cell_type": "markdown",
   "metadata": {
    "id": "mUFiNknmOxWx"
   },
   "source": [
    "**Вывод**"
   ]
  },
  {
   "cell_type": "markdown",
   "metadata": {
    "id": "n6TLnz2_OxWx"
   },
   "source": [
    "Структура данных имеет 21525 записей, содержит симметричные пропуски значений и дубликаты записей."
   ]
  },
  {
   "cell_type": "markdown",
   "metadata": {
    "id": "jz3OG9xWOxWy"
   },
   "source": [
    "## **Предобработка данных**<a  class=\"anchor\" id=\"preparing\"></a>"
   ]
  },
  {
   "cell_type": "markdown",
   "metadata": {
    "id": "s86jP9wIOxWy"
   },
   "source": [
    "\n",
    "\n",
    "---\n",
    "\n",
    "\n",
    "### Обработка пропусков"
   ]
  },
  {
   "cell_type": "markdown",
   "metadata": {
    "id": "0t7OBBZoOxWy"
   },
   "source": [
    "Приводим значения поля об уровне образования клиентов к нижнему регистру."
   ]
  },
  {
   "cell_type": "code",
   "execution_count": 5,
   "metadata": {
    "id": "kbjEhQLsOxWy"
   },
   "outputs": [],
   "source": [
    "data[\"education\"]=data[\"education\"].str.lower()"
   ]
  },
  {
   "cell_type": "markdown",
   "metadata": {
    "id": "yctTN2O4OxWz"
   },
   "source": [
    "Исправляем артефакты в данных о количестве детей в семье (отрицательные значения и ошибки фиксации)."
   ]
  },
  {
   "cell_type": "code",
   "execution_count": 6,
   "metadata": {
    "id": "XBDqZmnnOxWz",
    "outputId": "0836a8f4-4556-4ca3-aa5a-b8498112adff"
   },
   "outputs": [
    {
     "name": "stdout",
     "output_type": "stream",
     "text": [
      "Данные о количестве детей в семье: \n",
      "  0     14149\n",
      " 1      4818\n",
      " 2      2055\n",
      " 3       330\n",
      " 20       76\n",
      "-1        47\n",
      " 4        41\n",
      " 5         9\n",
      "Name: children, dtype: int64\n",
      "\n"
     ]
    }
   ],
   "source": [
    "print('Данные о количестве детей в семье:','\\n',data['children'].value_counts(),end='\\n\\n')\n",
    "data['children']=data['children'].abs()\n",
    "data['children']=data['children'].replace(20,2)"
   ]
  },
  {
   "cell_type": "markdown",
   "metadata": {
    "id": "ZER1SZKHOxXD"
   },
   "source": [
    "В 47 записях, не содержащих пропущенные значения, в поле \"Количество детей в семье\" содержатся артефакты: отрицательные значения. Предполагаем, что отрицательные значения - являются технической ошибкой. Производим замену на значения с противоположным знаком. "
   ]
  },
  {
   "cell_type": "markdown",
   "metadata": {
    "id": "ZlOVTDdtOxXE"
   },
   "source": [
    "В 76 записях, не содержащих пропущенные значения, в поле \"Количество детей в семье\" содержатся значения 20 детей в семье. Статистически количество семей в Российской Федерации растящих более 11 детей - 0,004%. Учитывая то факт, что в наших данных отсутствуют клиенты, имеющие более 5, но менее 20 детей, мы можем предположить, что значения в поле \"Количество детей в семье\" равные 20 являются ошибками фиксации и, соотвественно, подлежат замене на 2."
   ]
  },
  {
   "cell_type": "markdown",
   "metadata": {
    "id": "3PDC_gU6OxWz"
   },
   "source": [
    "Избавляемся от артефактов в значениях поля \"общий трудовой стаж клиента в днях\" (отрицательные значения)."
   ]
  },
  {
   "cell_type": "code",
   "execution_count": 7,
   "metadata": {
    "id": "cdJNvMX9OxW3",
    "outputId": "0d220110-6a0a-4cc0-d640-dbb2c14f0580"
   },
   "outputs": [
    {
     "name": "stdout",
     "output_type": "stream",
     "text": [
      "Количество записей, содержащих артефакты в данных о стаже клиентов: \n",
      "отрицательные значения - 15906, \n",
      "значения, превышающие возраст заемщика - 3445\n",
      "\n"
     ]
    }
   ],
   "source": [
    "print('Количество записей, содержащих артефакты в данных о стаже клиентов: \\nотрицательные значения - {:.0f}, \\nзначения, превышающие возраст заемщика - {:.0f}'.format(\n",
    "     data[(data['days_employed']<0)].shape[0],data[data['days_employed']>data['dob_years']*365].shape[0]),end='\\n\\n')\n",
    "data['days_employed']=data['days_employed'].abs()"
   ]
  },
  {
   "cell_type": "markdown",
   "metadata": {
    "id": "Z4U_7SSCOxW4"
   },
   "source": [
    "Проверяем гипотезу о том, что значения, превышающие возраст заемщика (минус минимальный возраст трудоустройства, 14 лет) - это значения стажа в рабочих часах."
   ]
  },
  {
   "cell_type": "code",
   "execution_count": 8,
   "metadata": {
    "id": "6WV7j8sROxW4",
    "outputId": "ba56c503-b2b3-4217-be6f-ea34cd5534ed"
   },
   "outputs": [
    {
     "data": {
      "text/plain": [
       "16"
      ]
     },
     "execution_count": 8,
     "metadata": {},
     "output_type": "execute_result"
    }
   ],
   "source": [
    "selection_to_check=data[data['days_employed']>(data['dob_years']-14)*365]\n",
    "(((selection_to_check['dob_years']-round(selection_to_check['days_employed']/(8*365),0))>=14)).sum()"
   ]
  },
  {
   "cell_type": "markdown",
   "metadata": {
    "id": "-QqOaxIVOxW4"
   },
   "source": [
    "Гипотеза подтверждается для  0.45% исследуемых записей, гипотезу - отклоняем."
   ]
  },
  {
   "cell_type": "markdown",
   "metadata": {
    "id": "8wz_3dexOxW4"
   },
   "source": [
    "Устраняем артефакты в значениях поля \"общий трудовой стаж клиента в днях\" (обнуляем слишком большие значения)."
   ]
  },
  {
   "cell_type": "code",
   "execution_count": 9,
   "metadata": {
    "id": "L0cg2ASzOxW5"
   },
   "outputs": [],
   "source": [
    "def days_employed_real(row):\n",
    "    days_employed=row['days_employed']\n",
    "    if row['dob_years']<=14:\n",
    "        max_exp=row['dob_years']*365\n",
    "    else:\n",
    "        max_exp=(row['dob_years']-14)*365\n",
    "    if (days_employed>max_exp):    \n",
    "        row['days_employed']=0\n",
    "        return row\n",
    "    return row\n",
    "data=data.apply(days_employed_real,axis=1)"
   ]
  },
  {
   "cell_type": "markdown",
   "metadata": {
    "id": "Apc3C_zDOxW5"
   },
   "source": [
    "Проверяем данные о стаже после очистки"
   ]
  },
  {
   "cell_type": "code",
   "execution_count": 10,
   "metadata": {
    "id": "T3K0y1ZKOxW5",
    "outputId": "363d7015-0f05-460c-ba8b-2bf3c238a972"
   },
   "outputs": [
    {
     "name": "stdout",
     "output_type": "stream",
     "text": [
      "Данные о среднем стаже, в зависимости от типа занятости \n",
      " income_type\n",
      "безработный        0.0\n",
      "в декрете          9.0\n",
      "госслужащий        9.2\n",
      "компаньон          5.7\n",
      "пенсионер          0.0\n",
      "предприниматель    1.4\n",
      "сотрудник          6.3\n",
      "студент            1.6\n",
      "Name: days_employed, dtype: float64\n",
      "\n"
     ]
    }
   ],
   "source": [
    "print('Данные о среднем стаже, в зависимости от типа занятости','\\n',round(data.groupby('income_type')['days_employed'].mean()/365,1), end='\\n\\n')"
   ]
  },
  {
   "cell_type": "markdown",
   "metadata": {
    "id": "0zJfzBmIOxXE"
   },
   "source": [
    "У всех записей, не содержащих пропущенные значения, в поле \"Трудовой стаж в днях\" содержатся артефакты: отрицательные значения и значения, превосходящие возраст клиента (минус минимальный возраст трудоустройства, 14 лет). Предполагаем, что отрицательные значения - являются технической ошибкой, а значения, превосходящие возраст клиента - ошибкой фиксации. Производим замену первых значений на значения с противоположным знаком, а последних - на 0. Проверкой будет расчет среднего стажа в зависимости от типа занятости."
   ]
  },
  {
   "cell_type": "markdown",
   "metadata": {
    "id": "NWGzZDgMOxW6"
   },
   "source": [
    "Анализ пропущенных значений и выбор метода их заполнения"
   ]
  },
  {
   "cell_type": "code",
   "execution_count": 11,
   "metadata": {
    "id": "Dnas8lQeOxW6",
    "outputId": "697368c7-7b75-43ee-fc9d-3d2bd3ad20e2"
   },
   "outputs": [
    {
     "name": "stdout",
     "output_type": "stream",
     "text": [
      "Количество пропущеных значений в общем количестве записей 2174, а их доля - 10.1%\n",
      "\n",
      "children            2174\n",
      "days_employed          0\n",
      "dob_years           2174\n",
      "education           2174\n",
      "education_id        2174\n",
      "family_status       2174\n",
      "family_status_id    2174\n",
      "gender              2174\n",
      "income_type         2174\n",
      "debt                2174\n",
      "total_income           0\n",
      "purpose             2174\n",
      "dtype: int64\n",
      "\n"
     ]
    }
   ],
   "source": [
    "print('Количество пропущеных значений в общем количестве записей {:.0f}, а их доля - {:.1%}'\n",
    "      .format(data[data['days_employed'].isna()==True].shape[0],data[data['days_employed'].isna()==True].shape[0]/data.shape[0]),end='\\n\\n')\n",
    "print(data[(data['days_employed'].isna()==True)&(data['total_income'].isna()==True)].count(),end='\\n\\n')"
   ]
  },
  {
   "cell_type": "markdown",
   "metadata": {
    "id": "NMEklM3XOxW7"
   },
   "source": [
    "Разобьем возраст заемщиков на 6 категорий"
   ]
  },
  {
   "cell_type": "code",
   "execution_count": 12,
   "metadata": {
    "id": "0yN9eAo9OxW7"
   },
   "outputs": [],
   "source": [
    "dob_level_data=[[0,'до 20 лет'],[1,'21-30 лет'],[2,'31-40 лет'],[3,'41-50 лет'],[4,'51-60 лет'],[5,'старше 60 лет']]\n",
    "dob_level_columns=['dob_level_id','dob_level_name']\n",
    "dob_level=pd.DataFrame(data=dob_level_data,columns=dob_level_columns)"
   ]
  },
  {
   "cell_type": "markdown",
   "metadata": {
    "id": "R_-nO9mpOxW7"
   },
   "source": [
    "Присвоим записям возрастные группы"
   ]
  },
  {
   "cell_type": "code",
   "execution_count": 13,
   "metadata": {
    "id": "0YxFEwroOxW7",
    "outputId": "f9b76117-b8dc-4222-ce90-2bc80362ec4a"
   },
   "outputs": [
    {
     "data": {
      "text/plain": [
       "31-40 лет        5743\n",
       "41-50 лет        5276\n",
       "51-60 лет        4542\n",
       "21-30 лет        3709\n",
       "старше 60 лет    2140\n",
       "до 20 лет         115\n",
       "Name: dob_level_name, dtype: int64"
      ]
     },
     "execution_count": 13,
     "metadata": {},
     "output_type": "execute_result"
    }
   ],
   "source": [
    "def dob_level_set(row):\n",
    "    dob_years=row['dob_years']\n",
    "    dob_level_id=0\n",
    "    if dob_years<20:\n",
    "        dob_level_id=0\n",
    "    elif dob_years<=30:\n",
    "        dob_level_id=1\n",
    "    elif dob_years<=40:\n",
    "        dob_level_id=2\n",
    "    elif dob_years<=50:\n",
    "        dob_level_id=3\n",
    "    elif dob_years<=60:\n",
    "        dob_level_id=4\n",
    "    else:\n",
    "        dob_level_id=5\n",
    "    row['dob_level_id']=dob_level_id\n",
    "    row['dob_level_name']=dob_level.loc[dob_level_id,'dob_level_name']\n",
    "    return row\n",
    "data=data.apply(dob_level_set,axis=1)\n",
    "data['dob_level_name'].value_counts()"
   ]
  },
  {
   "cell_type": "markdown",
   "metadata": {
    "id": "f7oCNhWfOxW8"
   },
   "source": [
    "Создадим таблицу средих значений стажа в зависимости от возраста, пола и образования заемщиков"
   ]
  },
  {
   "cell_type": "code",
   "execution_count": 14,
   "metadata": {
    "id": "g5gF-_2cOxW9",
    "outputId": "0c961461-60f4-4c0e-a1db-252a672e1073",
    "scrolled": true
   },
   "outputs": [
    {
     "name": "stdout",
     "output_type": "stream",
     "text": [
      "<class 'pandas.core.frame.DataFrame'>\n",
      "MultiIndex: 13 entries, (0, F) to (5, M)\n",
      "Data columns (total 5 columns):\n",
      "высшее                 13 non-null float64\n",
      "начальное              13 non-null float64\n",
      "неоконченное высшее    13 non-null float64\n",
      "среднее                13 non-null float64\n",
      "ученая степень         13 non-null float64\n",
      "dtypes: float64(5)\n",
      "memory usage: 734.0+ bytes\n"
     ]
    }
   ],
   "source": [
    "days_empl_pivot=round(data.pivot_table(index=['dob_level_id','gender'],columns='education',values='days_employed',\n",
    "                            aggfunc=np.median),0).fillna(0)\n",
    "days_empl_pivot.info()"
   ]
  },
  {
   "cell_type": "markdown",
   "metadata": {
    "id": "uTvHiuIOOxW9"
   },
   "source": [
    "Произведем замену пропущеных значений по полю \"...Стаж...\" средними значениями\n"
   ]
  },
  {
   "cell_type": "code",
   "execution_count": 15,
   "metadata": {
    "id": "3Th6fcPsOxW-"
   },
   "outputs": [],
   "source": [
    "def days_empl_replase(row):\n",
    "    dob_level_id=row['dob_level_id']\n",
    "    gender=row['gender']\n",
    "    education=row['education']\n",
    "    try:\n",
    "        row['days_employed']=days_empl_pivot.loc[(dob_level_id,gender),education]\n",
    "        return row\n",
    "    except:\n",
    "        return row\n",
    "data[data['days_employed'].isna()==True]=data[data['days_employed'].isna()==True].apply(days_empl_replase,axis=1)\n"
   ]
  },
  {
   "cell_type": "markdown",
   "metadata": {
    "id": "4EuCbnMSOxW-"
   },
   "source": [
    "Проверим гипотезу о равенстве доходов вне зависимости от пола"
   ]
  },
  {
   "cell_type": "code",
   "execution_count": 16,
   "metadata": {
    "id": "PIlMypnhOxW-",
    "outputId": "21fe9598-d3d1-4e13-a8b9-c83a2601c179"
   },
   "outputs": [
    {
     "name": "stdout",
     "output_type": "stream",
     "text": [
      "Соотношение доходов мужчин и женщин на основе медиан рядов: 125.0%\n"
     ]
    }
   ],
   "source": [
    "print('Соотношение доходов мужчин и женщин на основе медиан рядов: {:.1%}'\n",
    ".format(data[data['gender']=='M']['total_income'].median()/data[data['gender']=='F']['total_income'].median()))"
   ]
  },
  {
   "cell_type": "markdown",
   "metadata": {
    "id": "PjMHcn0tOxW_"
   },
   "source": [
    "Проверим гипотезу о равенстве доходов вне зависимости от типа занятости"
   ]
  },
  {
   "cell_type": "code",
   "execution_count": 17,
   "metadata": {
    "id": "cxs6Aj3OOxW_",
    "outputId": "89eb9e5c-1874-48be-9300-f0899ad091e4"
   },
   "outputs": [
    {
     "name": "stdout",
     "output_type": "stream",
     "text": [
      "Медианные значения доходов по типам занятости: \n",
      " income_type\n",
      "безработный        131340.0\n",
      "в декрете           53829.0\n",
      "госслужащий        150448.0\n",
      "компаньон          172358.0\n",
      "пенсионер          118514.0\n",
      "предприниматель    499163.0\n",
      "сотрудник          142594.0\n",
      "студент             98202.0\n",
      "Name: total_income, dtype: float64\n"
     ]
    }
   ],
   "source": [
    "print(\"Медианные значения доходов по типам занятости:\",'\\n',round(data.groupby('income_type')['total_income'].median(),0))"
   ]
  },
  {
   "cell_type": "markdown",
   "metadata": {
    "id": "CaJTDRafOxW_"
   },
   "source": [
    "Создадим таблицу средних значений дохода в зависимости от возраста, пола, образования и типа занятости заемщиков"
   ]
  },
  {
   "cell_type": "code",
   "execution_count": 18,
   "metadata": {
    "id": "TWD43XReOxW_",
    "outputId": "7ea10ec3-4433-4055-9175-c1b34fdd119b"
   },
   "outputs": [
    {
     "name": "stdout",
     "output_type": "stream",
     "text": [
      "<class 'pandas.core.frame.DataFrame'>\n",
      "MultiIndex: 53 entries, (0, F, высшее) to (5, M, ученая степень)\n",
      "Data columns (total 8 columns):\n",
      "безработный        53 non-null float64\n",
      "в декрете          53 non-null float64\n",
      "госслужащий        53 non-null float64\n",
      "компаньон          53 non-null float64\n",
      "пенсионер          53 non-null float64\n",
      "предприниматель    53 non-null float64\n",
      "сотрудник          53 non-null float64\n",
      "студент            53 non-null float64\n",
      "dtypes: float64(8)\n",
      "memory usage: 3.7+ KB\n"
     ]
    }
   ],
   "source": [
    "income_mean_pivot=round(data.pivot_table(index=['dob_level_id','gender','education'],\n",
    "                    columns='income_type',values='total_income',aggfunc=np.median),0).fillna(0)\n",
    "income_mean_pivot.info()"
   ]
  },
  {
   "cell_type": "markdown",
   "metadata": {
    "id": "eKuFHw3SOxXA"
   },
   "source": [
    "Произведем замену пропущеных значений по полю \"...доход\" средними значениями"
   ]
  },
  {
   "cell_type": "code",
   "execution_count": 19,
   "metadata": {
    "id": "ouSviahsOxXA"
   },
   "outputs": [],
   "source": [
    "def total_income_replase(row):\n",
    "    dob_level_id=row['dob_level_id']\n",
    "    gender=row['gender']\n",
    "    education=row['education']\n",
    "    income_type=row['income_type']\n",
    "    try:\n",
    "        row['total_income']=income_mean_pivot.loc[(dob_level_id,gender,education),income_type]\n",
    "        return row\n",
    "    except:\n",
    "        return row\n",
    "data[data['total_income'].isna()==True]=data[data['total_income'].isna()==True].apply(total_income_replase,axis=1)"
   ]
  },
  {
   "cell_type": "markdown",
   "metadata": {
    "id": "dE5DFgWfOxXE"
   },
   "source": [
    "Доля записей, содержащих пропущенные значения, является высокой. Пропуски в полях \"Общий трудовой стаж в днях\" и \"Ежемесячный доход\" совпадают, а значит не являются случайными. В качестве вероятной причины появления таких пропусков может выступать: непредоставление клиентом информации или подтверждающих докуменов.\n",
    "Поля являются количественными и могут быть заполнены усредненными значениями, вычисленными на основе влияющих признаков.\n",
    "Влияющими на доход факторами являются: возраст, образование, должность (ключевые), тип занятости, сфера деятельности и пол (второстепенные).\n",
    "В представленных данных имеются четыре из вышеуказанных признака, все являются значимыми, что позволяет достаточным основанием произвести замену пропущенных значений медианными. "
   ]
  },
  {
   "cell_type": "markdown",
   "metadata": {
    "id": "W9764vXjOxXA"
   },
   "source": [
    "Проверим записи на аномально низкие значения возраста заемщиков"
   ]
  },
  {
   "cell_type": "code",
   "execution_count": 20,
   "metadata": {
    "id": "1zx1jv5ZOxXB",
    "outputId": "cc90c2d7-6994-4d5d-96c7-5c0704766143"
   },
   "outputs": [
    {
     "name": "stdout",
     "output_type": "stream",
     "text": [
      "Клиенты младше 18 лет (возраст и количество) \n",
      " 0    101\n",
      "Name: dob_years, dtype: int64\n"
     ]
    }
   ],
   "source": [
    "print(\"Клиенты младше 18 лет (возраст и количество)\",'\\n',data[(data['dob_years']<18)]['dob_years'].value_counts())"
   ]
  },
  {
   "cell_type": "markdown",
   "metadata": {
    "id": "EBgKruwzOxXB"
   },
   "source": [
    "Создадим таблицу средих значений возраста в зависимости от типа занятости и пола заемщиков "
   ]
  },
  {
   "cell_type": "code",
   "execution_count": 21,
   "metadata": {
    "id": "MyLanf7eOxXC",
    "outputId": "314fa9c0-5a20-4808-c379-321b290f6155"
   },
   "outputs": [
    {
     "name": "stdout",
     "output_type": "stream",
     "text": [
      "gender              F     M\n",
      "income_type                \n",
      "безработный      45.0  31.0\n",
      "в декрете        39.0   0.0\n",
      "госслужащий      41.0  39.0\n",
      "компаньон        40.0  39.0\n",
      "пенсионер        59.0  59.0\n",
      "предприниматель  27.0  58.0\n",
      "сотрудник        40.0  39.0\n",
      "студент           0.0  22.0\n"
     ]
    }
   ],
   "source": [
    "dob_mean_pivot=data.pivot_table(index=['income_type'],columns='gender',values='dob_years',aggfunc=np.mean)\n",
    "dob_mean_pivot.loc[:,['F','M']]=round(dob_mean_pivot.loc[:,['F','M']],0).fillna(0)\n",
    "del dob_mean_pivot[\"XNA\"]\n",
    "print(dob_mean_pivot)"
   ]
  },
  {
   "cell_type": "markdown",
   "metadata": {
    "id": "0rM_I7aVOxXC"
   },
   "source": [
    "Произведем замену нулевых значений по полю \"Возраст...\" средними значениями"
   ]
  },
  {
   "cell_type": "code",
   "execution_count": 22,
   "metadata": {
    "id": "jcj6XBVvOxXC"
   },
   "outputs": [],
   "source": [
    "def dob_replase(row):\n",
    "    income_type=row['income_type']\n",
    "    gender=row['gender']\n",
    "    try:\n",
    "        row['dob_years']=dob_mean_pivot.loc[income_type,gender]\n",
    "        return row\n",
    "    except:\n",
    "        return row\n",
    "data[(data['dob_years']<18)]=data[(data['dob_years']<18)].apply(dob_replase,axis=1)"
   ]
  },
  {
   "cell_type": "markdown",
   "metadata": {
    "id": "j968b00xOxXE"
   },
   "source": [
    "При проверке данных о возрасте клиента на значения меньшие 18, в поле \"Возраст клиента в годах\" выявлено 101 нулевое значение. Учитывая характер базы данных, а именно информацию о заемщиках (которые не могут быть младше 18 лет), указанные значения вероятно являются артефактами (ошибками фиксации). Однако, так как остальные поля этих записей не являются пустыми и поле \"Возраст клиента в годах\" не будет использовано в анализе, то значения могут быть заменены на средние в зависимости от типа занятости и пола заемщика."
   ]
  },
  {
   "cell_type": "markdown",
   "metadata": {
    "id": "hEOisPq3OxXF"
   },
   "source": [
    "\n",
    "\n",
    "---\n",
    "\n",
    "\n",
    "### Замена типа данных"
   ]
  },
  {
   "cell_type": "code",
   "execution_count": 23,
   "metadata": {
    "id": "2ZLsV1bKOxXF",
    "outputId": "b6051cbf-002b-462d-f929-e1c80988e956"
   },
   "outputs": [
    {
     "name": "stdout",
     "output_type": "stream",
     "text": [
      "Уникальные значения для поля 'Идентификатор уровня образования': [0 1 2 3 4] \n",
      " Уникальные значения для поля 'Идентификатор семейного положения': [0 1 2 3 4] \n",
      " Уникальные значения для поля 'Имел ли задолженность по кредиту': [0 1]\n",
      "\n"
     ]
    }
   ],
   "source": [
    "print(\n",
    "    \"Уникальные значения для поля 'Идентификатор уровня образования':\",data['education_id'].unique(),'\\n', \n",
    "    \"Уникальные значения для поля 'Идентификатор семейного положения':\",data['family_status_id'].unique(),'\\n',\n",
    "    \"Уникальные значения для поля 'Имел ли задолженность по кредиту':\",data['debt'].unique(),end='\\n\\n')\n",
    "data['days_employed']=data['days_employed'].astype('int')\n",
    "data['total_income']=data['total_income'].astype('int')\n",
    "data.loc[:,['children','education_id','family_status_id','debt']]=data.loc[:,['children','education_id','family_status_id','debt']].apply(pd.to_numeric,errors='coerce',downcast='integer',axis=1)\n"
   ]
  },
  {
   "cell_type": "markdown",
   "metadata": {
    "id": "8qsehBeMOxXF"
   },
   "source": [
    "   При анализе структуры исходных данных обращает на себя внимание факт использования неправильного типа данных для поля \"Трудовой стаж в днях\": вещественное с плавающей точкой вместо целого. Также подлежит переводу в целочисленные значения столбец \"Ежемесячный доход\", так как дробная часть суммы дохода - не существенна для анализа.\n",
    "   Значения поля \"Количество детей в семье\" лежат в диапазоне целых чисел от 0 до 5, полей \"Идентификатор уровня образования\" и \"Идентификатор семейного положения\" - в диапазоне целых чисел от 0 до 4, а поля \"Имел ли задолженность по кредиту\" - 0 или 1. Для данных полей более подходящим является тип Int8 (Малое целое от -127 до 127). Выполним указанные преобразования: \n",
    "   1. для полей \"Трудовой стаж в днях\" и \"Ежемесячный доход\" применим метод .astype с аргументом 'int' для конверсии значений в длинное целое;\n",
    "   2. Для полей \"Идентификатор уровня образования\", \"Идентификатор семейного положения\" и \"Имел ли задолженность по кредиту\" применеи метод pd.to_numeric с аргументом downcast='integer' для конверсии значений в тип Int8.   ."
   ]
  },
  {
   "cell_type": "markdown",
   "metadata": {
    "id": "akaZqvnLOxXG"
   },
   "source": [
    "\n",
    "\n",
    "---\n",
    "\n",
    "\n",
    "### Обработка дубликатов"
   ]
  },
  {
   "cell_type": "code",
   "execution_count": 24,
   "metadata": {
    "id": "QFJcaD-eOxXG",
    "outputId": "8df7f433-244d-404c-bc2f-6d34c9ec7eb8"
   },
   "outputs": [
    {
     "name": "stdout",
     "output_type": "stream",
     "text": [
      "Количество дублированных записей: 72, их доля от общего числа: 0.3%\n",
      "Количество уникальных значений по полю 'Ежемесячный доход': 22, и сумма: 126197\n",
      "Количество уникальных значений по полю 'Идентификатор семейного положения': 4\n",
      "Количество уникальных значений по полю 'Количество детей в семье': 3\n"
     ]
    }
   ],
   "source": [
    "print(\"Количество дублированных записей: {:.0f}, их доля от общего числа: {:.1%}\".format(data.duplicated().sum(),data.duplicated().sum()/data.shape[0]))\n",
    "print(\"Количество уникальных значений по полю 'Ежемесячный доход': {:.0f}, и сумма: {:.0f}\".\n",
    "      format(len(data[data.duplicated()==True]['total_income'].unique()),\n",
    "             data[data.duplicated()==True]['total_income'].unique()[0]))\n",
    "print(\"Количество уникальных значений по полю 'Идентификатор семейного положения': {:.0f}\".\n",
    "      format(len(data[data.duplicated()==True]['family_status_id'].unique())))\n",
    "print(\"Количество уникальных значений по полю 'Количество детей в семье': {:.0f}\".\n",
    "      format(len(data[data.duplicated()==True]['children'].unique())))\n",
    "\n",
    "data=data.drop_duplicates().reset_index(drop=True)#удаляем дублированные записи\n"
   ]
  },
  {
   "cell_type": "markdown",
   "metadata": {
    "id": "rNrF-5wHOxXH"
   },
   "source": [
    "   В данных обнаружены 71 дублированная запись. Однако, так как в структуре данных отсутствует идентификационный код клиента, а значения остальных полей могут совпасть, требуется проверка: как повлияет исключение найденных возможных дублей на качество анализа.\n",
    "Некоторые из дублированных записей имеют ненулевые значения в полях 'Идентификатор семейного положения' и 'Количество детей в семье' (а нулевые значения в этих полях тоже значимы) и ненулевое значение в поле 'Ежемесячный доход'. Однако, тот факт, что доля дублей составляет всего 0.3% от общего количества записей и , вероятно, существенноне повлияет на качество анализа, позволяют произвести их исключение из базы данных методом .drop_duplicates().\n",
    "\n"
   ]
  },
  {
   "cell_type": "markdown",
   "metadata": {
    "id": "pZDYu-1DOxXH"
   },
   "source": [
    "\n",
    "\n",
    "---\n",
    "\n",
    "\n",
    "### Лемматизация"
   ]
  },
  {
   "cell_type": "markdown",
   "metadata": {
    "id": "lC4I-pjaOxXH"
   },
   "source": [
    "Лемматизация по полю \"Цель получения кредита\" и добавление поля с лемматизированными данными"
   ]
  },
  {
   "cell_type": "code",
   "execution_count": 25,
   "metadata": {
    "id": "1v7_GGn3OxXH"
   },
   "outputs": [],
   "source": [
    "def purpose_lemmatize(row):\n",
    "    row['purpose_lemmatized']=m.lemmatize(row['purpose'])\n",
    "    return row\n",
    "data=data.apply(purpose_lemmatize,axis=1)#"
   ]
  },
  {
   "cell_type": "markdown",
   "metadata": {
    "id": "AeF9tReGOxXI"
   },
   "source": [
    "Создание списка уникальных лемм и очистка списка от лемм длиной менее 3х символов"
   ]
  },
  {
   "cell_type": "code",
   "execution_count": 26,
   "metadata": {
    "id": "TxGSCYLfOxXI",
    "outputId": "62565889-cbe1-45f0-add8-6237739529d6"
   },
   "outputs": [
    {
     "name": "stdout",
     "output_type": "stream",
     "text": [
      "Леммы в поле 'Цель получения кредита': \n",
      " ['покупка', 'жилье', 'приобретение', 'автомобиль', 'дополнительный', 'образование', 'сыграть', 'свадьба', 'операция', 'проведение', 'для', 'семья', 'недвижимость', 'коммерческий', 'жилой', 'строительство', 'собственный', 'подержать', 'свой', 'заниматься', 'сделка', 'подержанный', 'получение', 'высокий', 'профильный', 'сдача', 'ремонт']\n",
      "\n"
     ]
    }
   ],
   "source": [
    "purpose_list=[]\n",
    "for lst in data['purpose_lemmatized']:\n",
    "    purpose_list=purpose_list + lst\n",
    "    \n",
    "lemmas_counter=Counter(purpose_list)\n",
    "counter_list=list(lemmas_counter)#\n",
    "\n",
    "purpose_list_cleared=[]\n",
    "for elem in counter_list:\n",
    "    if len(elem)>2:\n",
    "        purpose_list_cleared.append(elem)\n",
    "print(\"Леммы в поле 'Цель получения кредита':\",'\\n',purpose_list_cleared,end='\\n\\n')"
   ]
  },
  {
   "cell_type": "markdown",
   "metadata": {
    "id": "zUdeJpFgOxXI"
   },
   "source": [
    "Определение количества записей, содержащих ключевые леммы"
   ]
  },
  {
   "cell_type": "code",
   "execution_count": 27,
   "metadata": {
    "id": "L8MsFoPqOxXI",
    "outputId": "c4772295-7881-4eaf-86af-2f2d9770c77b"
   },
   "outputs": [
    {
     "name": "stdout",
     "output_type": "stream",
     "text": [
      "Количество записей с ключевыми леммами: 21453, что составляет 100.0%\n"
     ]
    }
   ],
   "source": [
    "main_lemmas_list=['жилье', 'автомобиль','образование','свадьба','недвижимость']\n",
    "main_lemmas_total=0\n",
    "\n",
    "for lemma in main_lemmas_list:\n",
    "    main_lemmas_total=main_lemmas_total+lemmas_counter[lemma]\n",
    "print(\"Количество записей с ключевыми леммами: {:.0f}, что составляет {:.1%}\"\n",
    "      .format(main_lemmas_total,main_lemmas_total/data.shape[0]))"
   ]
  },
  {
   "cell_type": "markdown",
   "metadata": {
    "id": "updDP9oZOxXJ"
   },
   "source": [
    "Создание таблицы категорий кредита и таблицы ключевых лемм в \"целях получения кредита\""
   ]
  },
  {
   "cell_type": "code",
   "execution_count": 28,
   "metadata": {
    "id": "GaCIB9kFOxXJ"
   },
   "outputs": [],
   "source": [
    "loan_category_data=[[0,'на недвижимость'],[1,'автомобильный'],[2,'образовательный'],[3,'потребительский']]\n",
    "loan_category_columns=['loan_category_id','loan_category_name']\n",
    "loan_category=pd.DataFrame(data=loan_category_data,columns=loan_category_columns)\n",
    "\n",
    "main_lemmas_data=[['жилье',0],['автомобиль',1],['образование',2],['свадьба',3],['недвижимость',0]]\n",
    "main_lemmas_columns=['lemma','loan_category_id']\n",
    "main_lemmas=pd.DataFrame(data=main_lemmas_data,columns=main_lemmas_columns)\n"
   ]
  },
  {
   "cell_type": "markdown",
   "metadata": {
    "id": "zzj6hJ-BOxXJ"
   },
   "source": [
    "Назначение записям категории кредита в зависимости от наличия лемм в \"целях получения кредита\""
   ]
  },
  {
   "cell_type": "code",
   "execution_count": 29,
   "metadata": {
    "id": "fI3MlQhDOxXJ"
   },
   "outputs": [],
   "source": [
    "def loan_category_insertion(row):\n",
    "    row_lemmas_list=row['purpose_lemmatized']\n",
    "    for lemma in main_lemmas['lemma']:\n",
    "        category_id=main_lemmas[main_lemmas['lemma']==lemma]['loan_category_id'].sum()\n",
    "        if lemma in row_lemmas_list:\n",
    "            row['loan_category_id']=category_id\n",
    "            return row\n",
    "data=data.apply(loan_category_insertion,axis=1)\n",
    "data=data.merge(loan_category,on='loan_category_id',how='left')\n"
   ]
  },
  {
   "cell_type": "markdown",
   "metadata": {
    "id": "2-6-_c4TOxXJ"
   },
   "source": [
    "Для категоризации данных по целям проведена лемматизация по полю \"Цель получения кредита\", сформирован список уникальных лемм количеством символов более 2 (для исключения предлогов, союзов, частиц и знаков переноса).\n",
    "Ключевыми леммами являются следующие существительные: 'жилье', 'автомобиль','образование','свадьба','недвижимость'. Соотвественно, всем целям можно присвоить 4 категории кредитов: на недвижимость, автомобильный, образовательный, потребительский."
   ]
  },
  {
   "cell_type": "markdown",
   "metadata": {
    "id": "qrDvGRkaOxXK"
   },
   "source": [
    "\n",
    "\n",
    "---\n",
    "\n",
    "\n",
    "### Категоризация данных"
   ]
  },
  {
   "cell_type": "markdown",
   "metadata": {
    "id": "1aEgk2azOxXK"
   },
   "source": [
    "Назначение уровней доходов в зависимости от величины ежемесячного дохода"
   ]
  },
  {
   "cell_type": "code",
   "execution_count": 30,
   "metadata": {
    "id": "67OfcjWROxXK"
   },
   "outputs": [],
   "source": [
    "def income_level_def(row):\n",
    "    if row[\"total_income\"]==0:\n",
    "        row['income_level']='не указан'\n",
    "        return row\n",
    "    if row[\"total_income\"]<19000:\n",
    "        row['income_level']='низкий'\n",
    "        return row\n",
    "    if row[\"total_income\"]<27000:\n",
    "        row['income_level']='ниже среднего'\n",
    "        return row\n",
    "    if row[\"total_income\"]<45000:\n",
    "        row['income_level']='средний'\n",
    "        return row\n",
    "    if row[\"total_income\"]<60000:\n",
    "        row['income_level']='выше среднего'\n",
    "        return row\n",
    "    else:\n",
    "        row['income_level']='высокий'\n",
    "        return row\n",
    "\n",
    "data=data.apply(income_level_def,axis=1)"
   ]
  },
  {
   "cell_type": "markdown",
   "metadata": {
    "id": "Yyy_N24uOxXL"
   },
   "source": [
    "Назначение категории \"с детьми/бездетный\" в зависимости от количества детей у заемщика"
   ]
  },
  {
   "cell_type": "code",
   "execution_count": 31,
   "metadata": {
    "id": "n79rXKjdOxXL"
   },
   "outputs": [],
   "source": [
    "def children_status_def(row):\n",
    "    if row[\"children\"]>0:\n",
    "        row['children_status']='есть дети'\n",
    "        return row\n",
    "    else:\n",
    "        row['children_status']='без детей'\n",
    "        return row\n",
    "\n",
    "data=data.apply(children_status_def,axis=1)"
   ]
  },
  {
   "cell_type": "markdown",
   "metadata": {
    "id": "Pj1crzMDOxXL"
   },
   "source": [
    "Определение функции, рассчитывающей долю и процент кредита без просрочки по категории данных"
   ]
  },
  {
   "cell_type": "code",
   "execution_count": 32,
   "metadata": {
    "id": "LoFIsk3mOxXL"
   },
   "outputs": [],
   "source": [
    "def quality_categories_analysis(column_name):\n",
    "    category_data=[]\n",
    "    category_names=data[column_name].unique()\n",
    "    for cat_name in category_names:\n",
    "        category_part=round((data[data[column_name]==cat_name]['debt'].count()/data[column_name].count())*100,2)\n",
    "        category_ratio=round((1-data[data[column_name]==cat_name]['debt'].sum()/data[data[column_name]==cat_name]['debt'].count())*100,2)\n",
    "        category_data.append([cat_name,category_part,category_ratio])\n",
    "    return category_data"
   ]
  },
  {
   "cell_type": "markdown",
   "metadata": {
    "id": "Bk5J-jc7OxXL"
   },
   "source": [
    "Определение среднего уровня возврата кредита без просрочки по всей совокупности записей"
   ]
  },
  {
   "cell_type": "code",
   "execution_count": 33,
   "metadata": {
    "id": "ey-Il_HiOxXM"
   },
   "outputs": [],
   "source": [
    "weighted_avg=round(100-data['debt'].sum()/data['debt'].count()*100,2)"
   ]
  },
  {
   "cell_type": "markdown",
   "metadata": {
    "id": "lnd3zZkxOxXM"
   },
   "source": [
    "Рассчет зависимости возврата в срок от уровня образования заемщика"
   ]
  },
  {
   "cell_type": "code",
   "execution_count": 34,
   "metadata": {
    "id": "WZ53QZD8OxXM",
    "outputId": "53884a9e-8a31-4945-e176-8ab5d24a6ed6"
   },
   "outputs": [
    {
     "name": "stdout",
     "output_type": "stream",
     "text": [
      "Зависимость возврата в срок от уровня образования заемщика (среднее значение  91.88 %) \n",
      "              education  category_part  intime_payments_ratio\n",
      "0               высшее          24.47                  94.70\n",
      "1              среднее          70.72                  91.01\n",
      "2  неоконченное высшее           3.47                  90.86\n",
      "3            начальное           1.31                  89.01\n",
      "4       ученая степень           0.03                 100.00\n",
      "\n"
     ]
    }
   ],
   "source": [
    "column_name='education'\n",
    "category_analysis=quality_categories_analysis(column_name)\n",
    "columns=[column_name,'category_part','intime_payments_ratio']\n",
    "category_analysis_table=pd.DataFrame(data=category_analysis,columns=columns)\n",
    "\n",
    "print(\"Зависимость возврата в срок от уровня образования заемщика (среднее значение \",weighted_avg,\"%)\",'\\n',category_analysis_table, end='\\n\\n')"
   ]
  },
  {
   "cell_type": "markdown",
   "metadata": {
    "id": "W4oGzs0kOxXN"
   },
   "source": [
    "Рассчет зависимости возврата в срок от типа занятости заемщика"
   ]
  },
  {
   "cell_type": "code",
   "execution_count": 35,
   "metadata": {
    "id": "WwTEsuQnOxXN",
    "outputId": "8b95f298-a56e-4b1e-d875-8b61df932f54"
   },
   "outputs": [
    {
     "name": "stdout",
     "output_type": "stream",
     "text": [
      "Зависимость возврата в срок от типа занятости заемщика (среднее значение  91.88 %) \n",
      "        income_type  category_part  intime_payments_ratio\n",
      "0        сотрудник          51.67                  90.43\n",
      "1        пенсионер          17.84                  94.36\n",
      "2        компаньон          23.67                  92.60\n",
      "3      госслужащий           6.79                  94.10\n",
      "4      безработный           0.01                  50.00\n",
      "5  предприниматель           0.01                 100.00\n",
      "6          студент           0.00                 100.00\n",
      "7        в декрете           0.00                   0.00\n",
      "\n"
     ]
    }
   ],
   "source": [
    "column_name='income_type'\n",
    "category_analysis=quality_categories_analysis(column_name)\n",
    "columns=[column_name,'category_part','intime_payments_ratio']\n",
    "category_analysis_table=pd.DataFrame(data=category_analysis,columns=columns)\n",
    "\n",
    "print(\"Зависимость возврата в срок от типа занятости заемщика (среднее значение \",weighted_avg,\"%)\",'\\n',category_analysis_table,end='\\n\\n')"
   ]
  },
  {
   "cell_type": "markdown",
   "metadata": {
    "id": "NPaj0VGKOxXN"
   },
   "source": [
    "Для проведенеия анализа зависимости между уровнем дохода и возвратом кредита в срок, необходимо ввести в данные категориальную переменную, характеризующую относительный уровень дохода. За основу возьмем данные Росстата за 2020 год о распределении населения России по величине среднедушевых денежных доходов. Исходя из статистических данных выделим 5 относительных уровней среднемесячных доходов (средняя ЗП без НДФЛ - 43025руб.):\n",
    "До 19 000 рублей (низкий) — 32,8 %\n",
    "19 000-27 000 рублей (ниже среднего) — 18,0 %\n",
    "27 000-45 000 рублей (средний) — 24,9 %\n",
    "45 000-60 000 рублей (выше среднего) — 10,2 %\n",
    "свыше 60 000 рублей (высокий) — 14,1 %\n",
    "Назначаем записям категорию \"Уровень доходов\" со значениями, в зависимости от попадания в ту или иную \"вилку зарплат\".\n",
    "Для проведения анализа зависимости между наличием детей и возвратом кредита в срок, необходимо ввести в данные категориальную переменную, характеризующую этот статус. Назначаем записям категорию \"Статус наличия детей\" со значениями, в зависимости от наличия или отсутстия детей у заемщика.\n",
    "\n"
   ]
  },
  {
   "cell_type": "markdown",
   "metadata": {
    "id": "2Yd2Ad_1OxXN"
   },
   "source": [
    "## **Ответы на вопросы**<a  class=\"anchor\" id=\"questions\"></a>"
   ]
  },
  {
   "cell_type": "markdown",
   "metadata": {
    "id": "t0hS3Dk4OxXO"
   },
   "source": [
    "\n",
    "\n",
    "---\n",
    "\n",
    "\n",
    "- Есть ли зависимость между наличием детей и возвратом кредита в срок?"
   ]
  },
  {
   "cell_type": "code",
   "execution_count": 36,
   "metadata": {
    "id": "Ipa-jjcmOxXO",
    "outputId": "e94c855f-cf6b-4127-c324-01e454fd4eea"
   },
   "outputs": [
    {
     "name": "stdout",
     "output_type": "stream",
     "text": [
      "Зависимость возврата в срок от наличия детей в семье заемщика (среднее значение  91.88 %) \n",
      "   children_status  category_part  intime_payments_ratio\n",
      "0       есть дети          34.32                  90.79\n",
      "1       без детей          65.68                  92.46\n",
      "\n",
      "Зависимость возврата в срок от количества детей в семье заемщика (среднее значение  91.88 %) \n",
      "    children  category_part  intime_payments_ratio\n",
      "0         1          22.63                  90.83\n",
      "1         0          65.68                  92.46\n",
      "2         3           1.54                  91.82\n",
      "3         2           9.92                  90.51\n",
      "4         4           0.19                  90.24\n",
      "5         5           0.04                 100.00\n",
      "\n"
     ]
    }
   ],
   "source": [
    "#Зависимость возврата в срок от наличия детей в семье заемщика\n",
    "column_name='children_status'\n",
    "category_analysis=quality_categories_analysis(column_name)\n",
    "columns=[column_name,'category_part','intime_payments_ratio']\n",
    "category_analysis_table=pd.DataFrame(data=category_analysis,columns=columns)\n",
    "\n",
    "print(\"Зависимость возврата в срок от наличия детей в семье заемщика (среднее значение \",weighted_avg,\"%)\",'\\n',category_analysis_table,end='\\n\\n')\n",
    "\n",
    "column_name='children'\n",
    "category_analysis=quality_categories_analysis(column_name)\n",
    "columns=[column_name,'category_part','intime_payments_ratio']\n",
    "category_analysis_table=pd.DataFrame(data=category_analysis,columns=columns)\n",
    "\n",
    "print(\"Зависимость возврата в срок от количества детей в семье заемщика (среднее значение \",weighted_avg,\"%)\",'\\n',category_analysis_table,end='\\n\\n')"
   ]
  },
  {
   "cell_type": "markdown",
   "metadata": {
    "id": "HA84hcoJOxXO"
   },
   "source": [
    "**Вывод**"
   ]
  },
  {
   "cell_type": "markdown",
   "metadata": {
    "id": "dahK1v1mOxXO"
   },
   "source": [
    "Просматривается обратная зависимость между наличием детей в семье и соблюдением платежной дисциплины заемщиками: процент возвратов кредита в срок бездетными заемщиками выше среднего и превыщает аналогичный показатель группы-антагонита на 1,67%. Причем, с увеличением количества детей, доля заемщиков, соблюдавших платежную дисциплину, снижается (аномалия по группе \"3 детей\")."
   ]
  },
  {
   "cell_type": "markdown",
   "metadata": {
    "id": "Zob50p5WOxXP"
   },
   "source": [
    "\n",
    "\n",
    "---\n",
    "\n",
    "\n",
    "- Есть ли зависимость между семейным положением и возвратом кредита в срок?"
   ]
  },
  {
   "cell_type": "code",
   "execution_count": 37,
   "metadata": {
    "id": "yO7D0lSMOxXP",
    "outputId": "5ee0f98f-e404-44b9-e143-dcd339d5b03e"
   },
   "outputs": [
    {
     "name": "stdout",
     "output_type": "stream",
     "text": [
      "Зависимость возврата в срок от семейного положения заемщика (среднее значение  91.88 %) \n",
      "            family_status  category_part  intime_payments_ratio\n",
      "0        женат / замужем          57.51                  92.45\n",
      "1       гражданский брак          19.35                  90.65\n",
      "2         вдовец / вдова           4.47                  93.43\n",
      "3              в разводе           5.57                  92.89\n",
      "4  Не женат / не замужем          13.10                  90.25\n",
      "\n"
     ]
    }
   ],
   "source": [
    "#Зависимость возврата в срок от семейного положения заемщика\n",
    "column_name='family_status'\n",
    "category_analysis=quality_categories_analysis(column_name)\n",
    "columns=[column_name,'category_part','intime_payments_ratio']\n",
    "category_analysis_table=pd.DataFrame(data=category_analysis,columns=columns)\n",
    "\n",
    "print(\"Зависимость возврата в срок от семейного положения заемщика (среднее значение \",weighted_avg,\"%)\",'\\n',category_analysis_table, end='\\n\\n')\n"
   ]
  },
  {
   "cell_type": "markdown",
   "metadata": {
    "id": "ZdRBJj19OxXP"
   },
   "source": [
    "**Вывод**"
   ]
  },
  {
   "cell_type": "markdown",
   "metadata": {
    "id": "CtANR34iOxXP"
   },
   "source": [
    "Существует связь между семейным положением положением заемщиков и возвратом кредита в срок. Прямопропорциональная зависимость соблюдения платежной дисциплины для клиентов из групп, в настоящем или прошлом официально регистрировавших свой брак. Доля заемщиков, возвративших кредиты в срок, из групп \"не женат / не замужем\" и \"гражданский брак\" находится ниже среднего на 1,63-1,23% соотвественно."
   ]
  },
  {
   "cell_type": "markdown",
   "metadata": {
    "id": "_pEhDi_bOxXP"
   },
   "source": [
    "\n",
    "\n",
    "---\n",
    "\n",
    "\n",
    "- Есть ли зависимость между уровнем дохода и возвратом кредита в срок?"
   ]
  },
  {
   "cell_type": "code",
   "execution_count": 38,
   "metadata": {
    "id": "Z5d995bHOxXQ",
    "outputId": "5e0b1445-9bed-4f4e-fbbc-99240680aa78"
   },
   "outputs": [
    {
     "name": "stdout",
     "output_type": "stream",
     "text": [
      "Зависимость возврата в срок от уровня дохода (среднее значение  91.88 %) \n",
      "     income_level  category_part  intime_payments_ratio\n",
      "0        высокий          96.22                  91.80\n",
      "1  выше среднего           2.75                  94.07\n",
      "2        средний           0.96                  93.66\n",
      "3  ниже среднего           0.06                  91.67\n",
      "4      не указан           0.02                 100.00\n",
      "\n"
     ]
    }
   ],
   "source": [
    "#Зависимость возврата в срок от уровня дохода\n",
    "column_name='income_level'\n",
    "category_analysis=quality_categories_analysis(column_name)\n",
    "columns=[column_name,'category_part','intime_payments_ratio']\n",
    "category_analysis_table=pd.DataFrame(data=category_analysis,columns=columns)\n",
    "\n",
    "print(\"Зависимость возврата в срок от уровня дохода (среднее значение \",weighted_avg,\"%)\",'\\n',category_analysis_table,end='\\n\\n')"
   ]
  },
  {
   "cell_type": "markdown",
   "metadata": {
    "id": "P5vw6Q0POxXQ"
   },
   "source": [
    "**Вывод**"
   ]
  },
  {
   "cell_type": "markdown",
   "metadata": {
    "id": "NaY3zLQoOxXQ"
   },
   "source": [
    "Зависимость между уровнем дохода и возвратом кредита в срок не является очевидной, предположительно из-за принятой градации уровня дохода. В представленных данных заемщики, имеющие подтвержденный доход на уровне высокого для РФ, составляют 86,44%. Хотя и представленная стратификация уровня доходов позволяет сделать несколько выводов:\n",
    "1. Заемщики, задекларировавшие доход на уровне среднего и выше, составляющие 3,71% от общего числа, отличаются значительно более высокой платежной дисциплиной по сравнению с более обеспеченными клиентами. Чей процент возврата кредитов в срок находится ниже среднего и лишь на 0,12% превышает данный показатель у наименее обеспеченной группы.\n",
    "2. Отсутсвие подтвержденных доходов заемщиков не свидетельствует об их проблемах с платежной дисциплиной. Процент возвратов кредита в срок для данной группы превышает среднее значение, рассчитанное по всем заемщикам."
   ]
  },
  {
   "cell_type": "markdown",
   "metadata": {
    "id": "YT4ELKwHOxXQ"
   },
   "source": [
    "\n",
    "\n",
    "---\n",
    "\n",
    "\n",
    "- Как разные цели кредита влияют на его возврат в срок?"
   ]
  },
  {
   "cell_type": "code",
   "execution_count": 39,
   "metadata": {
    "id": "MqBQIgssOxXR",
    "outputId": "aef84b99-f7b5-4e0b-c2bd-c59fa7524959"
   },
   "outputs": [
    {
     "name": "stdout",
     "output_type": "stream",
     "text": [
      "Зависимость возврата в срок от цели кредита (среднее значение  91.88 %) \n",
      "   loan_category_name  category_part  intime_payments_ratio\n",
      "0    на недвижимость          50.39                  92.77\n",
      "1      автомобильный          20.07                  90.64\n",
      "2    образовательный          18.70                  90.78\n",
      "3    потребительский          10.83                  92.00\n",
      "\n"
     ]
    }
   ],
   "source": [
    "#Зависимость возврата в срок от цели кредита\n",
    "column_name='loan_category_name'\n",
    "category_analysis=quality_categories_analysis(column_name)\n",
    "columns=[column_name,'category_part','intime_payments_ratio']\n",
    "category_analysis_table=pd.DataFrame(data=category_analysis,columns=columns)\n",
    "\n",
    "print(\"Зависимость возврата в срок от цели кредита (среднее значение \",weighted_avg,\"%)\",'\\n',category_analysis_table,end='\\n\\n')\n",
    "\n"
   ]
  },
  {
   "cell_type": "markdown",
   "metadata": {
    "id": "ycmMKOnhOxXR"
   },
   "source": [
    "**Вывод**"
   ]
  },
  {
   "cell_type": "markdown",
   "metadata": {
    "id": "QqCm1PUtOxXR"
   },
   "source": [
    "Представленные данные позволяют сделать вывод о наличии связи цели кредитования и платежной дисциплины заемщика. Более взвешенная цель привлечения заемных средств (приобретение и ремонт недвижимости) находится в прямой корреляции с процентом заемщиков, возвративших кредиты в срок. В то время как цели привлечения кредита, основанные временнЫх предпочтениях потребления (авто- и потребительский кредит), и цели, основанные на ожиданиях улучшения положения заемщика (образовательный), соотносятся с процентом заемщиков, возвративших кредиты в срок, в значенн ниже среднего.  "
   ]
  },
  {
   "cell_type": "markdown",
   "metadata": {
    "id": "zHxUR8F0OxXS"
   },
   "source": [
    "## **Общий вывод**<a  class=\"anchor\" id=\"summary\"></a>\n",
    "\n"
   ]
  },
  {
   "cell_type": "markdown",
   "metadata": {
    "id": "sGBmzf4KOxXS"
   },
   "source": [
    "1. Существует зависимость между наличием детей в семье и соблюдением платежной дисциплины заемщиками. Наличие детей в семье заемщика снижает вероятность возврата кредита в срок. Вероятно из-за непрогнозируемых расходов, связанных с воспитанием детей.\n",
    "2. Семейные люди (в формальном смысле) и люди, ранее состоявшие в зарегистрированном браке, серьезнее относятся к обязательствам по кредитам.\n",
    "3. Зависимость между декларируемым заемщиком уровнем дохода, исходя из предстваленных данных, противоречит интуитивным ожиданиям: люди с высоким доходом соблюдают платежную дисциплину ниже среднего. Однако, в случае если в данных содержится не подтверженный, а декларируемый на словах уровень дохода, возможно значения ежемесячного дохода, находящиеся в группе \"высоких\", не связаны с реальностью.\n",
    "В то же время можно считать доказанным предположение, что заемщики со средним и выше доходом отличаются более высокой платежной дисциплиной по сравнению с наименее обеспеченной группой. \n",
    "4. Кредиты не цели, имеющие быстро снижающуюся полезность для заемщика или основанные на ожиданиях изменения дохода, более рискованные в плане возврата, по сравнению с займами на недвижимость.\n",
    "Исходя из вышеизложенного, можно составить портрет заемщика с потенциальной платежной дисциплиной выше среднего:\n",
    "женатый, бездетный госслужащий или пенсионер со средним или выше среднего достатком, имеющий высшее образование или ученую степень, берущий кредит на ремонт или приобретение недвижимости."
   ]
  }
 ],
 "metadata": {
  "ExecuteTimeLog": [
   {
    "duration": 796,
    "start_time": "2021-09-17T12:00:47.576Z"
   },
   {
    "duration": 65,
    "start_time": "2021-09-17T12:00:48.375Z"
   },
   {
    "duration": 9,
    "start_time": "2021-09-17T12:00:48.443Z"
   },
   {
    "duration": 902,
    "start_time": "2021-09-17T12:00:48.455Z"
   },
   {
    "duration": 31,
    "start_time": "2021-09-17T12:00:49.360Z"
   },
   {
    "duration": 19,
    "start_time": "2021-09-17T12:00:49.393Z"
   },
   {
    "duration": 13,
    "start_time": "2021-09-17T12:00:49.415Z"
   },
   {
    "duration": 11,
    "start_time": "2021-09-17T12:00:49.432Z"
   },
   {
    "duration": 5165,
    "start_time": "2021-09-17T12:00:49.446Z"
   },
   {
    "duration": 11,
    "start_time": "2021-09-17T12:00:54.614Z"
   },
   {
    "duration": 18,
    "start_time": "2021-09-17T12:00:54.627Z"
   },
   {
    "duration": 6,
    "start_time": "2021-09-17T12:00:54.647Z"
   },
   {
    "duration": 48882,
    "start_time": "2021-09-17T12:00:54.684Z"
   },
   {
    "duration": 45,
    "start_time": "2021-09-17T12:01:43.569Z"
   },
   {
    "duration": 1526,
    "start_time": "2021-09-17T12:01:43.618Z"
   },
   {
    "duration": 17,
    "start_time": "2021-09-17T12:01:45.147Z"
   },
   {
    "duration": 26,
    "start_time": "2021-09-17T12:01:45.166Z"
   },
   {
    "duration": 34,
    "start_time": "2021-09-17T12:01:45.195Z"
   },
   {
    "duration": 1526,
    "start_time": "2021-09-17T12:01:45.232Z"
   },
   {
    "duration": 10,
    "start_time": "2021-09-17T12:01:46.761Z"
   },
   {
    "duration": 36,
    "start_time": "2021-09-17T12:01:46.783Z"
   },
   {
    "duration": 76,
    "start_time": "2021-09-17T12:01:46.822Z"
   },
   {
    "duration": 13203,
    "start_time": "2021-09-17T12:01:46.903Z"
   },
   {
    "duration": 200,
    "start_time": "2021-09-17T12:02:00.109Z"
   },
   {
    "duration": 37098,
    "start_time": "2021-09-17T12:02:00.312Z"
   },
   {
    "duration": 10880,
    "start_time": "2021-09-17T12:02:37.412Z"
   },
   {
    "duration": 5,
    "start_time": "2021-09-17T12:02:48.295Z"
   },
   {
    "duration": 12,
    "start_time": "2021-09-17T12:02:48.302Z"
   },
   {
    "duration": 106359,
    "start_time": "2021-09-17T12:02:48.316Z"
   },
   {
    "duration": 28319,
    "start_time": "2021-09-17T12:04:34.678Z"
   },
   {
    "duration": 26322,
    "start_time": "2021-09-17T12:05:02.999Z"
   },
   {
    "duration": 6,
    "start_time": "2021-09-17T12:05:29.323Z"
   },
   {
    "duration": 14,
    "start_time": "2021-09-17T12:05:29.332Z"
   },
   {
    "duration": 92,
    "start_time": "2021-09-17T12:05:29.348Z"
   },
   {
    "duration": 103,
    "start_time": "2021-09-17T12:05:29.443Z"
   },
   {
    "duration": 113,
    "start_time": "2021-09-17T12:05:29.549Z"
   },
   {
    "duration": 90,
    "start_time": "2021-09-17T12:05:29.665Z"
   },
   {
    "duration": 87,
    "start_time": "2021-09-17T12:05:29.758Z"
   },
   {
    "duration": 84,
    "start_time": "2021-09-17T12:05:29.848Z"
   }
  ],
  "celltoolbar": "Raw Cell Format",
  "colab": {
   "collapsed_sections": [],
   "name": "Копия блокнота \"bank_fe.ipynb\"",
   "provenance": []
  },
  "kernelspec": {
   "display_name": "Python 3",
   "language": "python",
   "name": "python3"
  },
  "language_info": {
   "codemirror_mode": {
    "name": "ipython",
    "version": 3
   },
   "file_extension": ".py",
   "mimetype": "text/x-python",
   "name": "python",
   "nbconvert_exporter": "python",
   "pygments_lexer": "ipython3",
   "version": "3.7.8"
  },
  "toc": {
   "base_numbering": 1,
   "nav_menu": {},
   "number_sections": true,
   "sideBar": true,
   "skip_h1_title": true,
   "title_cell": "Table of Contents",
   "title_sidebar": "Contents",
   "toc_cell": false,
   "toc_position": {
    "height": "calc(100% - 180px)",
    "left": "10px",
    "top": "150px",
    "width": "275px"
   },
   "toc_section_display": true,
   "toc_window_display": true
  }
 },
 "nbformat": 4,
 "nbformat_minor": 1
}
