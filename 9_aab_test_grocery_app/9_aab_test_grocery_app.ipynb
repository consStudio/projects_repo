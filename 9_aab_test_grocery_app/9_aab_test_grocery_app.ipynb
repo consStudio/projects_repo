{
  "nbformat": 4,
  "nbformat_minor": 0,
  "metadata": {
    "ExecuteTimeLog": [
      {
        "duration": 1853,
        "start_time": "2021-07-21T11:52:49.613Z"
      },
      {
        "duration": 6,
        "start_time": "2021-07-21T11:52:51.469Z"
      },
      {
        "duration": 574,
        "start_time": "2021-07-21T11:52:51.478Z"
      },
      {
        "duration": 7,
        "start_time": "2021-07-21T11:52:52.055Z"
      },
      {
        "duration": 173,
        "start_time": "2021-07-21T11:52:52.064Z"
      },
      {
        "duration": 28,
        "start_time": "2021-07-21T11:52:52.240Z"
      },
      {
        "duration": 4,
        "start_time": "2021-07-21T11:52:52.270Z"
      },
      {
        "duration": 13,
        "start_time": "2021-07-21T11:52:52.278Z"
      },
      {
        "duration": 144,
        "start_time": "2021-07-21T11:52:52.294Z"
      },
      {
        "duration": 115,
        "start_time": "2021-07-21T11:52:52.441Z"
      },
      {
        "duration": 19,
        "start_time": "2021-07-21T11:52:52.558Z"
      },
      {
        "duration": 32,
        "start_time": "2021-07-21T11:52:52.579Z"
      },
      {
        "duration": 7,
        "start_time": "2021-07-21T11:52:52.614Z"
      },
      {
        "duration": 58,
        "start_time": "2021-07-21T11:52:52.623Z"
      },
      {
        "duration": 7,
        "start_time": "2021-07-21T11:52:52.684Z"
      },
      {
        "duration": 15,
        "start_time": "2021-07-21T11:52:52.693Z"
      },
      {
        "duration": 4,
        "start_time": "2021-07-21T11:52:52.710Z"
      },
      {
        "duration": 1443,
        "start_time": "2021-07-21T11:52:52.717Z"
      },
      {
        "duration": 63,
        "start_time": "2021-07-21T11:52:54.162Z"
      },
      {
        "duration": 2568,
        "start_time": "2021-07-21T11:52:54.227Z"
      },
      {
        "duration": 38,
        "start_time": "2021-07-21T11:52:56.797Z"
      },
      {
        "duration": 28,
        "start_time": "2021-07-21T11:52:56.856Z"
      },
      {
        "duration": 74,
        "start_time": "2021-07-21T11:52:56.889Z"
      },
      {
        "duration": 14,
        "start_time": "2021-07-21T11:52:56.966Z"
      },
      {
        "duration": 43,
        "start_time": "2021-07-21T11:52:56.983Z"
      },
      {
        "duration": 754,
        "start_time": "2021-07-21T11:52:57.029Z"
      },
      {
        "duration": 95,
        "start_time": "2021-07-21T11:52:57.786Z"
      },
      {
        "duration": 1486,
        "start_time": "2021-07-21T11:52:57.884Z"
      },
      {
        "duration": 5,
        "start_time": "2021-07-21T11:52:59.373Z"
      },
      {
        "duration": 745,
        "start_time": "2021-07-21T11:52:59.381Z"
      },
      {
        "duration": 235,
        "start_time": "2021-07-21T11:53:00.128Z"
      },
      {
        "duration": 321,
        "start_time": "2021-07-21T11:53:00.366Z"
      },
      {
        "duration": 6,
        "start_time": "2021-07-21T11:53:00.690Z"
      },
      {
        "duration": 1298,
        "start_time": "2021-07-21T11:53:00.698Z"
      },
      {
        "duration": -4048,
        "start_time": "2021-07-21T11:53:06.046Z"
      },
      {
        "duration": -4052,
        "start_time": "2021-07-21T11:53:06.051Z"
      },
      {
        "duration": -4056,
        "start_time": "2021-07-21T11:53:06.057Z"
      },
      {
        "duration": -4061,
        "start_time": "2021-07-21T11:53:06.063Z"
      },
      {
        "duration": -4064,
        "start_time": "2021-07-21T11:53:06.068Z"
      },
      {
        "duration": -4069,
        "start_time": "2021-07-21T11:53:06.074Z"
      },
      {
        "duration": -4072,
        "start_time": "2021-07-21T11:53:06.079Z"
      },
      {
        "duration": -4076,
        "start_time": "2021-07-21T11:53:06.084Z"
      },
      {
        "duration": -4080,
        "start_time": "2021-07-21T11:53:06.089Z"
      },
      {
        "duration": -4112,
        "start_time": "2021-07-21T11:53:06.123Z"
      },
      {
        "duration": -4114,
        "start_time": "2021-07-21T11:53:06.127Z"
      },
      {
        "duration": -4118,
        "start_time": "2021-07-21T11:53:06.132Z"
      },
      {
        "duration": 74,
        "start_time": "2021-07-21T12:08:51.062Z"
      },
      {
        "duration": 304,
        "start_time": "2021-07-21T12:09:38.004Z"
      },
      {
        "duration": 306,
        "start_time": "2021-07-21T12:10:07.853Z"
      },
      {
        "duration": 1844,
        "start_time": "2021-07-21T12:10:25.029Z"
      },
      {
        "duration": 5,
        "start_time": "2021-07-21T12:10:26.876Z"
      },
      {
        "duration": 538,
        "start_time": "2021-07-21T12:10:26.884Z"
      },
      {
        "duration": 8,
        "start_time": "2021-07-21T12:10:27.425Z"
      },
      {
        "duration": 169,
        "start_time": "2021-07-21T12:10:27.436Z"
      },
      {
        "duration": 22,
        "start_time": "2021-07-21T12:10:27.608Z"
      },
      {
        "duration": 24,
        "start_time": "2021-07-21T12:10:27.632Z"
      },
      {
        "duration": 11,
        "start_time": "2021-07-21T12:10:27.660Z"
      },
      {
        "duration": 129,
        "start_time": "2021-07-21T12:10:27.674Z"
      },
      {
        "duration": 117,
        "start_time": "2021-07-21T12:10:27.806Z"
      },
      {
        "duration": 32,
        "start_time": "2021-07-21T12:10:27.925Z"
      },
      {
        "duration": 29,
        "start_time": "2021-07-21T12:10:27.959Z"
      },
      {
        "duration": 7,
        "start_time": "2021-07-21T12:10:27.991Z"
      },
      {
        "duration": 63,
        "start_time": "2021-07-21T12:10:28.001Z"
      },
      {
        "duration": 8,
        "start_time": "2021-07-21T12:10:28.067Z"
      },
      {
        "duration": 11,
        "start_time": "2021-07-21T12:10:28.077Z"
      },
      {
        "duration": 6,
        "start_time": "2021-07-21T12:10:28.091Z"
      },
      {
        "duration": 1436,
        "start_time": "2021-07-21T12:10:28.100Z"
      },
      {
        "duration": 69,
        "start_time": "2021-07-21T12:10:29.555Z"
      },
      {
        "duration": 2346,
        "start_time": "2021-07-21T12:10:29.627Z"
      },
      {
        "duration": 36,
        "start_time": "2021-07-21T12:10:31.976Z"
      },
      {
        "duration": 53,
        "start_time": "2021-07-21T12:10:32.014Z"
      },
      {
        "duration": 61,
        "start_time": "2021-07-21T12:10:32.072Z"
      },
      {
        "duration": 29,
        "start_time": "2021-07-21T12:10:32.136Z"
      },
      {
        "duration": 47,
        "start_time": "2021-07-21T12:10:32.168Z"
      },
      {
        "duration": 728,
        "start_time": "2021-07-21T12:10:32.217Z"
      },
      {
        "duration": 83,
        "start_time": "2021-07-21T12:10:32.955Z"
      },
      {
        "duration": 1385,
        "start_time": "2021-07-21T12:10:33.040Z"
      },
      {
        "duration": 5,
        "start_time": "2021-07-21T12:10:34.427Z"
      },
      {
        "duration": 741,
        "start_time": "2021-07-21T12:10:34.434Z"
      },
      {
        "duration": 209,
        "start_time": "2021-07-21T12:10:35.177Z"
      },
      {
        "duration": 342,
        "start_time": "2021-07-21T12:10:35.388Z"
      },
      {
        "duration": 7,
        "start_time": "2021-07-21T12:10:35.732Z"
      },
      {
        "duration": 555,
        "start_time": "2021-07-21T12:10:35.756Z"
      },
      {
        "duration": -6538,
        "start_time": "2021-07-21T12:10:42.852Z"
      },
      {
        "duration": -6542,
        "start_time": "2021-07-21T12:10:42.857Z"
      },
      {
        "duration": -6545,
        "start_time": "2021-07-21T12:10:42.862Z"
      },
      {
        "duration": -6548,
        "start_time": "2021-07-21T12:10:42.866Z"
      },
      {
        "duration": -6551,
        "start_time": "2021-07-21T12:10:42.871Z"
      },
      {
        "duration": -6554,
        "start_time": "2021-07-21T12:10:42.875Z"
      },
      {
        "duration": -6557,
        "start_time": "2021-07-21T12:10:42.880Z"
      },
      {
        "duration": -6562,
        "start_time": "2021-07-21T12:10:42.886Z"
      },
      {
        "duration": -6566,
        "start_time": "2021-07-21T12:10:42.892Z"
      },
      {
        "duration": -6573,
        "start_time": "2021-07-21T12:10:42.900Z"
      },
      {
        "duration": -6576,
        "start_time": "2021-07-21T12:10:42.905Z"
      },
      {
        "duration": -6579,
        "start_time": "2021-07-21T12:10:42.909Z"
      },
      {
        "duration": 23,
        "start_time": "2021-07-21T12:12:09.945Z"
      },
      {
        "duration": 398,
        "start_time": "2021-07-21T12:12:33.666Z"
      },
      {
        "duration": 64,
        "start_time": "2021-07-21T12:12:53.777Z"
      },
      {
        "duration": 59,
        "start_time": "2021-07-21T12:13:17.026Z"
      },
      {
        "duration": 1790,
        "start_time": "2021-07-21T12:13:30.079Z"
      },
      {
        "duration": 5,
        "start_time": "2021-07-21T12:13:31.872Z"
      },
      {
        "duration": 581,
        "start_time": "2021-07-21T12:13:31.880Z"
      },
      {
        "duration": 8,
        "start_time": "2021-07-21T12:13:32.464Z"
      },
      {
        "duration": 173,
        "start_time": "2021-07-21T12:13:32.474Z"
      },
      {
        "duration": 27,
        "start_time": "2021-07-21T12:13:32.649Z"
      },
      {
        "duration": 10,
        "start_time": "2021-07-21T12:13:32.678Z"
      },
      {
        "duration": 39,
        "start_time": "2021-07-21T12:13:32.692Z"
      },
      {
        "duration": 132,
        "start_time": "2021-07-21T12:13:32.734Z"
      },
      {
        "duration": 120,
        "start_time": "2021-07-21T12:13:32.869Z"
      },
      {
        "duration": 21,
        "start_time": "2021-07-21T12:13:32.991Z"
      },
      {
        "duration": 60,
        "start_time": "2021-07-21T12:13:33.015Z"
      },
      {
        "duration": 8,
        "start_time": "2021-07-21T12:13:33.078Z"
      },
      {
        "duration": 35,
        "start_time": "2021-07-21T12:13:33.089Z"
      },
      {
        "duration": 31,
        "start_time": "2021-07-21T12:13:33.126Z"
      },
      {
        "duration": 10,
        "start_time": "2021-07-21T12:13:33.159Z"
      },
      {
        "duration": 14,
        "start_time": "2021-07-21T12:13:33.171Z"
      },
      {
        "duration": 1476,
        "start_time": "2021-07-21T12:13:33.188Z"
      },
      {
        "duration": 63,
        "start_time": "2021-07-21T12:13:34.667Z"
      },
      {
        "duration": 2409,
        "start_time": "2021-07-21T12:13:34.732Z"
      },
      {
        "duration": 47,
        "start_time": "2021-07-21T12:13:37.145Z"
      },
      {
        "duration": 31,
        "start_time": "2021-07-21T12:13:37.195Z"
      },
      {
        "duration": 107,
        "start_time": "2021-07-21T12:13:37.262Z"
      },
      {
        "duration": 22,
        "start_time": "2021-07-21T12:13:37.373Z"
      },
      {
        "duration": 91,
        "start_time": "2021-07-21T12:13:37.398Z"
      },
      {
        "duration": 887,
        "start_time": "2021-07-21T12:13:37.493Z"
      },
      {
        "duration": 98,
        "start_time": "2021-07-21T12:13:38.383Z"
      },
      {
        "duration": 1417,
        "start_time": "2021-07-21T12:13:38.483Z"
      },
      {
        "duration": 5,
        "start_time": "2021-07-21T12:13:39.903Z"
      },
      {
        "duration": 751,
        "start_time": "2021-07-21T12:13:39.911Z"
      },
      {
        "duration": 214,
        "start_time": "2021-07-21T12:13:40.664Z"
      },
      {
        "duration": 341,
        "start_time": "2021-07-21T12:13:40.881Z"
      },
      {
        "duration": 7,
        "start_time": "2021-07-21T12:13:41.225Z"
      },
      {
        "duration": 74,
        "start_time": "2021-07-21T12:13:41.234Z"
      },
      {
        "duration": 363,
        "start_time": "2021-07-21T12:13:41.311Z"
      },
      {
        "duration": 40,
        "start_time": "2021-07-21T12:13:41.676Z"
      },
      {
        "duration": 39,
        "start_time": "2021-07-21T12:13:41.718Z"
      },
      {
        "duration": 17,
        "start_time": "2021-07-21T12:13:41.759Z"
      },
      {
        "duration": 10180,
        "start_time": "2021-07-21T12:13:41.778Z"
      },
      {
        "duration": 8,
        "start_time": "2021-07-21T12:13:51.960Z"
      },
      {
        "duration": 14,
        "start_time": "2021-07-21T12:13:51.970Z"
      },
      {
        "duration": 14,
        "start_time": "2021-07-21T12:13:51.986Z"
      },
      {
        "duration": 1594,
        "start_time": "2021-07-21T12:13:52.002Z"
      },
      {
        "duration": 2105,
        "start_time": "2021-07-21T12:13:53.598Z"
      },
      {
        "duration": 1913,
        "start_time": "2021-07-21T12:13:55.706Z"
      },
      {
        "duration": 1713,
        "start_time": "2021-07-21T12:13:57.621Z"
      },
      {
        "duration": 1938,
        "start_time": "2021-07-21T12:15:02.235Z"
      },
      {
        "duration": 5,
        "start_time": "2021-07-21T12:15:04.176Z"
      },
      {
        "duration": 411,
        "start_time": "2021-07-21T12:15:04.185Z"
      },
      {
        "duration": 8,
        "start_time": "2021-07-21T12:15:04.599Z"
      },
      {
        "duration": 167,
        "start_time": "2021-07-21T12:15:04.610Z"
      },
      {
        "duration": 22,
        "start_time": "2021-07-21T12:15:04.780Z"
      },
      {
        "duration": 3,
        "start_time": "2021-07-21T12:15:04.805Z"
      },
      {
        "duration": 13,
        "start_time": "2021-07-21T12:15:04.812Z"
      },
      {
        "duration": 126,
        "start_time": "2021-07-21T12:15:04.857Z"
      },
      {
        "duration": 123,
        "start_time": "2021-07-21T12:15:04.985Z"
      },
      {
        "duration": 20,
        "start_time": "2021-07-21T12:15:05.111Z"
      },
      {
        "duration": 45,
        "start_time": "2021-07-21T12:15:05.133Z"
      },
      {
        "duration": 7,
        "start_time": "2021-07-21T12:15:05.181Z"
      },
      {
        "duration": 33,
        "start_time": "2021-07-21T12:15:05.191Z"
      },
      {
        "duration": 32,
        "start_time": "2021-07-21T12:15:05.227Z"
      },
      {
        "duration": 11,
        "start_time": "2021-07-21T12:15:05.261Z"
      },
      {
        "duration": 14,
        "start_time": "2021-07-21T12:15:05.274Z"
      },
      {
        "duration": 1461,
        "start_time": "2021-07-21T12:15:05.291Z"
      },
      {
        "duration": 68,
        "start_time": "2021-07-21T12:15:06.754Z"
      },
      {
        "duration": 2474,
        "start_time": "2021-07-21T12:15:06.825Z"
      },
      {
        "duration": 57,
        "start_time": "2021-07-21T12:15:09.302Z"
      },
      {
        "duration": 31,
        "start_time": "2021-07-21T12:15:09.362Z"
      },
      {
        "duration": 82,
        "start_time": "2021-07-21T12:15:09.401Z"
      },
      {
        "duration": 16,
        "start_time": "2021-07-21T12:15:09.487Z"
      },
      {
        "duration": 66,
        "start_time": "2021-07-21T12:15:09.506Z"
      },
      {
        "duration": 838,
        "start_time": "2021-07-21T12:15:09.575Z"
      },
      {
        "duration": 92,
        "start_time": "2021-07-21T12:15:10.416Z"
      },
      {
        "duration": 1357,
        "start_time": "2021-07-21T12:15:10.511Z"
      },
      {
        "duration": 5,
        "start_time": "2021-07-21T12:15:11.870Z"
      },
      {
        "duration": 742,
        "start_time": "2021-07-21T12:15:11.877Z"
      },
      {
        "duration": 275,
        "start_time": "2021-07-21T12:15:12.621Z"
      },
      {
        "duration": 393,
        "start_time": "2021-07-21T12:15:12.899Z"
      },
      {
        "duration": 6,
        "start_time": "2021-07-21T12:15:13.295Z"
      },
      {
        "duration": 86,
        "start_time": "2021-07-21T12:15:13.303Z"
      },
      {
        "duration": 380,
        "start_time": "2021-07-21T12:15:13.392Z"
      },
      {
        "duration": 45,
        "start_time": "2021-07-21T12:15:13.775Z"
      },
      {
        "duration": 35,
        "start_time": "2021-07-21T12:15:13.823Z"
      },
      {
        "duration": 18,
        "start_time": "2021-07-21T12:15:13.861Z"
      },
      {
        "duration": 9839,
        "start_time": "2021-07-21T12:15:13.881Z"
      },
      {
        "duration": 6,
        "start_time": "2021-07-21T12:15:23.723Z"
      },
      {
        "duration": 30,
        "start_time": "2021-07-21T12:15:23.732Z"
      },
      {
        "duration": 13,
        "start_time": "2021-07-21T12:15:23.765Z"
      },
      {
        "duration": 1534,
        "start_time": "2021-07-21T12:15:23.780Z"
      },
      {
        "duration": 1462,
        "start_time": "2021-07-21T12:15:25.317Z"
      },
      {
        "duration": 1621,
        "start_time": "2021-07-21T12:15:26.782Z"
      },
      {
        "duration": 1627,
        "start_time": "2021-07-21T12:15:28.405Z"
      },
      {
        "duration": 1990,
        "start_time": "2021-07-21T13:27:05.518Z"
      },
      {
        "duration": 4,
        "start_time": "2021-07-21T13:27:07.510Z"
      },
      {
        "duration": 943,
        "start_time": "2021-07-21T13:27:07.515Z"
      },
      {
        "duration": 5,
        "start_time": "2021-07-21T13:27:08.460Z"
      },
      {
        "duration": 117,
        "start_time": "2021-07-21T13:27:08.467Z"
      },
      {
        "duration": 16,
        "start_time": "2021-07-21T13:27:08.586Z"
      },
      {
        "duration": 2,
        "start_time": "2021-07-21T13:27:08.604Z"
      },
      {
        "duration": 10,
        "start_time": "2021-07-21T13:27:08.609Z"
      },
      {
        "duration": 103,
        "start_time": "2021-07-21T13:27:08.621Z"
      },
      {
        "duration": 86,
        "start_time": "2021-07-21T13:27:08.726Z"
      },
      {
        "duration": 13,
        "start_time": "2021-07-21T13:27:08.813Z"
      },
      {
        "duration": 24,
        "start_time": "2021-07-21T13:27:08.828Z"
      },
      {
        "duration": 6,
        "start_time": "2021-07-21T13:27:08.853Z"
      },
      {
        "duration": 41,
        "start_time": "2021-07-21T13:27:08.860Z"
      },
      {
        "duration": 6,
        "start_time": "2021-07-21T13:27:08.902Z"
      },
      {
        "duration": 11,
        "start_time": "2021-07-21T13:27:08.910Z"
      },
      {
        "duration": 11,
        "start_time": "2021-07-21T13:27:08.923Z"
      },
      {
        "duration": 921,
        "start_time": "2021-07-21T13:27:08.935Z"
      },
      {
        "duration": 51,
        "start_time": "2021-07-21T13:27:09.858Z"
      },
      {
        "duration": 1554,
        "start_time": "2021-07-21T13:27:09.911Z"
      },
      {
        "duration": 35,
        "start_time": "2021-07-21T13:27:11.467Z"
      },
      {
        "duration": 20,
        "start_time": "2021-07-21T13:27:11.503Z"
      },
      {
        "duration": 60,
        "start_time": "2021-07-21T13:27:11.526Z"
      },
      {
        "duration": 10,
        "start_time": "2021-07-21T13:27:11.588Z"
      },
      {
        "duration": 32,
        "start_time": "2021-07-21T13:27:11.600Z"
      },
      {
        "duration": 471,
        "start_time": "2021-07-21T13:27:11.633Z"
      },
      {
        "duration": 56,
        "start_time": "2021-07-21T13:27:12.106Z"
      },
      {
        "duration": 938,
        "start_time": "2021-07-21T13:27:12.163Z"
      },
      {
        "duration": 3,
        "start_time": "2021-07-21T13:27:13.103Z"
      },
      {
        "duration": 519,
        "start_time": "2021-07-21T13:27:13.108Z"
      },
      {
        "duration": 164,
        "start_time": "2021-07-21T13:27:13.628Z"
      },
      {
        "duration": 258,
        "start_time": "2021-07-21T13:27:13.794Z"
      },
      {
        "duration": 5,
        "start_time": "2021-07-21T13:27:14.053Z"
      },
      {
        "duration": 55,
        "start_time": "2021-07-21T13:27:14.059Z"
      },
      {
        "duration": 239,
        "start_time": "2021-07-21T13:27:14.115Z"
      },
      {
        "duration": 33,
        "start_time": "2021-07-21T13:27:14.356Z"
      },
      {
        "duration": 15,
        "start_time": "2021-07-21T13:27:14.391Z"
      },
      {
        "duration": 10,
        "start_time": "2021-07-21T13:27:14.408Z"
      },
      {
        "duration": 5885,
        "start_time": "2021-07-21T13:27:14.420Z"
      },
      {
        "duration": 5,
        "start_time": "2021-07-21T13:27:20.306Z"
      },
      {
        "duration": 9,
        "start_time": "2021-07-21T13:27:20.312Z"
      },
      {
        "duration": 8,
        "start_time": "2021-07-21T13:27:20.322Z"
      },
      {
        "duration": 996,
        "start_time": "2021-07-21T13:27:20.331Z"
      },
      {
        "duration": 984,
        "start_time": "2021-07-21T13:27:21.328Z"
      },
      {
        "duration": 1189,
        "start_time": "2021-07-21T13:27:22.314Z"
      },
      {
        "duration": 1062,
        "start_time": "2021-07-21T13:27:23.505Z"
      },
      {
        "duration": 10,
        "start_time": "2021-07-21T13:37:58.953Z"
      },
      {
        "duration": 10,
        "start_time": "2021-07-21T13:38:16.253Z"
      },
      {
        "duration": 1877,
        "start_time": "2021-07-22T04:49:44.122Z"
      },
      {
        "duration": 5,
        "start_time": "2021-07-22T04:49:46.002Z"
      },
      {
        "duration": 504,
        "start_time": "2021-07-22T04:49:46.010Z"
      },
      {
        "duration": 8,
        "start_time": "2021-07-22T04:49:46.517Z"
      },
      {
        "duration": 181,
        "start_time": "2021-07-22T04:49:46.528Z"
      },
      {
        "duration": 25,
        "start_time": "2021-07-22T04:49:46.712Z"
      },
      {
        "duration": 9,
        "start_time": "2021-07-22T04:49:46.740Z"
      },
      {
        "duration": 12,
        "start_time": "2021-07-22T04:49:46.782Z"
      },
      {
        "duration": 137,
        "start_time": "2021-07-22T04:49:46.797Z"
      },
      {
        "duration": 133,
        "start_time": "2021-07-22T04:49:46.936Z"
      },
      {
        "duration": 30,
        "start_time": "2021-07-22T04:49:47.071Z"
      },
      {
        "duration": 34,
        "start_time": "2021-07-22T04:49:47.103Z"
      },
      {
        "duration": 10,
        "start_time": "2021-07-22T04:49:47.139Z"
      },
      {
        "duration": 32,
        "start_time": "2021-07-22T04:49:47.183Z"
      },
      {
        "duration": 7,
        "start_time": "2021-07-22T04:49:47.218Z"
      },
      {
        "duration": 12,
        "start_time": "2021-07-22T04:49:47.227Z"
      },
      {
        "duration": 40,
        "start_time": "2021-07-22T04:49:47.242Z"
      },
      {
        "duration": 1503,
        "start_time": "2021-07-22T04:49:47.285Z"
      },
      {
        "duration": 69,
        "start_time": "2021-07-22T04:49:48.791Z"
      },
      {
        "duration": 2479,
        "start_time": "2021-07-22T04:49:48.863Z"
      },
      {
        "duration": 53,
        "start_time": "2021-07-22T04:49:51.344Z"
      },
      {
        "duration": 29,
        "start_time": "2021-07-22T04:49:51.399Z"
      },
      {
        "duration": 81,
        "start_time": "2021-07-22T04:49:51.433Z"
      },
      {
        "duration": 13,
        "start_time": "2021-07-22T04:49:51.517Z"
      },
      {
        "duration": 68,
        "start_time": "2021-07-22T04:49:51.532Z"
      },
      {
        "duration": 760,
        "start_time": "2021-07-22T04:49:51.602Z"
      },
      {
        "duration": 93,
        "start_time": "2021-07-22T04:49:52.365Z"
      },
      {
        "duration": 1464,
        "start_time": "2021-07-22T04:49:52.461Z"
      },
      {
        "duration": 5,
        "start_time": "2021-07-22T04:49:53.928Z"
      },
      {
        "duration": 778,
        "start_time": "2021-07-22T04:49:53.935Z"
      },
      {
        "duration": 214,
        "start_time": "2021-07-22T04:49:54.715Z"
      },
      {
        "duration": 360,
        "start_time": "2021-07-22T04:49:54.932Z"
      },
      {
        "duration": 7,
        "start_time": "2021-07-22T04:49:55.294Z"
      },
      {
        "duration": 83,
        "start_time": "2021-07-22T04:49:55.304Z"
      },
      {
        "duration": 361,
        "start_time": "2021-07-22T04:49:55.389Z"
      },
      {
        "duration": 58,
        "start_time": "2021-07-22T04:49:55.752Z"
      },
      {
        "duration": 20,
        "start_time": "2021-07-22T04:49:55.812Z"
      },
      {
        "duration": 16,
        "start_time": "2021-07-22T04:49:55.834Z"
      },
      {
        "duration": 10436,
        "start_time": "2021-07-22T04:49:55.853Z"
      },
      {
        "duration": 6,
        "start_time": "2021-07-22T04:50:06.291Z"
      },
      {
        "duration": 18,
        "start_time": "2021-07-22T04:50:06.300Z"
      },
      {
        "duration": 15,
        "start_time": "2021-07-22T04:50:06.320Z"
      },
      {
        "duration": 1502,
        "start_time": "2021-07-22T04:50:06.337Z"
      },
      {
        "duration": 1484,
        "start_time": "2021-07-22T04:50:07.842Z"
      },
      {
        "duration": 1660,
        "start_time": "2021-07-22T04:50:09.329Z"
      },
      {
        "duration": 1536,
        "start_time": "2021-07-22T04:50:10.992Z"
      },
      {
        "duration": 446,
        "start_time": "2021-07-22T11:08:25.031Z"
      },
      {
        "duration": 1968,
        "start_time": "2021-07-22T11:08:33.532Z"
      },
      {
        "duration": 6,
        "start_time": "2021-07-22T11:08:35.503Z"
      },
      {
        "duration": 483,
        "start_time": "2021-07-22T11:08:35.512Z"
      },
      {
        "duration": 9,
        "start_time": "2021-07-22T11:08:35.997Z"
      },
      {
        "duration": 180,
        "start_time": "2021-07-22T11:08:36.008Z"
      },
      {
        "duration": 24,
        "start_time": "2021-07-22T11:08:36.191Z"
      },
      {
        "duration": 9,
        "start_time": "2021-07-22T11:08:36.217Z"
      },
      {
        "duration": 40,
        "start_time": "2021-07-22T11:08:36.230Z"
      },
      {
        "duration": 141,
        "start_time": "2021-07-22T11:08:36.273Z"
      },
      {
        "duration": 132,
        "start_time": "2021-07-22T11:08:36.416Z"
      },
      {
        "duration": 25,
        "start_time": "2021-07-22T11:08:36.550Z"
      },
      {
        "duration": 31,
        "start_time": "2021-07-22T11:08:36.578Z"
      },
      {
        "duration": 10,
        "start_time": "2021-07-22T11:08:36.612Z"
      },
      {
        "duration": 77,
        "start_time": "2021-07-22T11:08:36.625Z"
      },
      {
        "duration": 10,
        "start_time": "2021-07-22T11:08:36.705Z"
      },
      {
        "duration": 10,
        "start_time": "2021-07-22T11:08:36.718Z"
      },
      {
        "duration": 34,
        "start_time": "2021-07-22T11:08:36.731Z"
      },
      {
        "duration": 1529,
        "start_time": "2021-07-22T11:08:36.768Z"
      },
      {
        "duration": 87,
        "start_time": "2021-07-22T11:08:38.300Z"
      },
      {
        "duration": 2480,
        "start_time": "2021-07-22T11:08:38.389Z"
      },
      {
        "duration": 36,
        "start_time": "2021-07-22T11:08:40.871Z"
      },
      {
        "duration": 59,
        "start_time": "2021-07-22T11:08:40.909Z"
      },
      {
        "duration": 60,
        "start_time": "2021-07-22T11:08:40.973Z"
      },
      {
        "duration": 30,
        "start_time": "2021-07-22T11:08:41.036Z"
      },
      {
        "duration": 45,
        "start_time": "2021-07-22T11:08:41.069Z"
      },
      {
        "duration": 787,
        "start_time": "2021-07-22T11:08:41.116Z"
      },
      {
        "duration": 101,
        "start_time": "2021-07-22T11:08:41.905Z"
      },
      {
        "duration": 1612,
        "start_time": "2021-07-22T11:08:42.008Z"
      },
      {
        "duration": 62,
        "start_time": "2021-07-22T11:08:43.622Z"
      },
      {
        "duration": 94,
        "start_time": "2021-07-22T11:08:43.687Z"
      },
      {
        "duration": 5,
        "start_time": "2021-07-22T11:08:43.784Z"
      },
      {
        "duration": 801,
        "start_time": "2021-07-22T11:08:43.792Z"
      },
      {
        "duration": 268,
        "start_time": "2021-07-22T11:08:44.595Z"
      },
      {
        "duration": 320,
        "start_time": "2021-07-22T11:08:44.866Z"
      },
      {
        "duration": 5,
        "start_time": "2021-07-22T11:08:45.189Z"
      },
      {
        "duration": 85,
        "start_time": "2021-07-22T11:08:45.196Z"
      },
      {
        "duration": 373,
        "start_time": "2021-07-22T11:08:45.284Z"
      },
      {
        "duration": 19,
        "start_time": "2021-07-22T11:08:45.659Z"
      },
      {
        "duration": 16,
        "start_time": "2021-07-22T11:08:45.681Z"
      },
      {
        "duration": 11962,
        "start_time": "2021-07-22T11:08:45.700Z"
      },
      {
        "duration": 7,
        "start_time": "2021-07-22T11:08:57.665Z"
      },
      {
        "duration": 22,
        "start_time": "2021-07-22T11:08:57.675Z"
      },
      {
        "duration": 9,
        "start_time": "2021-07-22T11:08:57.700Z"
      },
      {
        "duration": 2254,
        "start_time": "2021-07-22T11:08:57.712Z"
      },
      {
        "duration": 1611,
        "start_time": "2021-07-22T11:08:59.970Z"
      },
      {
        "duration": 2499,
        "start_time": "2021-07-22T11:09:01.584Z"
      },
      {
        "duration": 1686,
        "start_time": "2021-07-22T11:09:04.086Z"
      },
      {
        "duration": 13,
        "start_time": "2021-07-22T11:09:31.461Z"
      },
      {
        "duration": 91,
        "start_time": "2021-07-22T11:10:43.547Z"
      },
      {
        "duration": 11,
        "start_time": "2021-07-22T11:10:45.908Z"
      },
      {
        "duration": 10,
        "start_time": "2021-07-22T11:11:04.316Z"
      },
      {
        "duration": 34,
        "start_time": "2021-07-22T11:12:37.603Z"
      },
      {
        "duration": 7,
        "start_time": "2021-07-22T11:12:40.043Z"
      },
      {
        "duration": 8,
        "start_time": "2021-07-22T11:12:49.066Z"
      },
      {
        "duration": 96,
        "start_time": "2021-07-22T11:13:20.900Z"
      },
      {
        "duration": 110,
        "start_time": "2021-07-22T11:31:48.253Z"
      },
      {
        "duration": 371,
        "start_time": "2021-07-22T11:32:03.645Z"
      },
      {
        "duration": 1915,
        "start_time": "2021-07-22T11:32:15.199Z"
      },
      {
        "duration": 5,
        "start_time": "2021-07-22T11:32:17.117Z"
      },
      {
        "duration": 486,
        "start_time": "2021-07-22T11:32:17.124Z"
      },
      {
        "duration": 8,
        "start_time": "2021-07-22T11:32:17.613Z"
      },
      {
        "duration": 183,
        "start_time": "2021-07-22T11:32:17.623Z"
      },
      {
        "duration": 23,
        "start_time": "2021-07-22T11:32:17.808Z"
      },
      {
        "duration": 29,
        "start_time": "2021-07-22T11:32:17.833Z"
      },
      {
        "duration": 11,
        "start_time": "2021-07-22T11:32:17.866Z"
      },
      {
        "duration": 150,
        "start_time": "2021-07-22T11:32:17.880Z"
      },
      {
        "duration": 128,
        "start_time": "2021-07-22T11:32:18.033Z"
      },
      {
        "duration": 19,
        "start_time": "2021-07-22T11:32:18.164Z"
      },
      {
        "duration": 32,
        "start_time": "2021-07-22T11:32:18.186Z"
      },
      {
        "duration": 6,
        "start_time": "2021-07-22T11:32:18.221Z"
      },
      {
        "duration": 60,
        "start_time": "2021-07-22T11:32:18.230Z"
      },
      {
        "duration": 8,
        "start_time": "2021-07-22T11:32:18.292Z"
      },
      {
        "duration": 12,
        "start_time": "2021-07-22T11:32:18.302Z"
      },
      {
        "duration": 46,
        "start_time": "2021-07-22T11:32:18.317Z"
      },
      {
        "duration": 1544,
        "start_time": "2021-07-22T11:32:18.365Z"
      },
      {
        "duration": 87,
        "start_time": "2021-07-22T11:32:19.911Z"
      },
      {
        "duration": 2488,
        "start_time": "2021-07-22T11:32:20.001Z"
      },
      {
        "duration": 35,
        "start_time": "2021-07-22T11:32:22.491Z"
      },
      {
        "duration": 55,
        "start_time": "2021-07-22T11:32:22.528Z"
      },
      {
        "duration": 81,
        "start_time": "2021-07-22T11:32:22.588Z"
      },
      {
        "duration": 14,
        "start_time": "2021-07-22T11:32:22.672Z"
      },
      {
        "duration": 73,
        "start_time": "2021-07-22T11:32:22.689Z"
      },
      {
        "duration": 797,
        "start_time": "2021-07-22T11:32:22.765Z"
      },
      {
        "duration": 98,
        "start_time": "2021-07-22T11:32:23.565Z"
      },
      {
        "duration": 1461,
        "start_time": "2021-07-22T11:32:23.666Z"
      },
      {
        "duration": 69,
        "start_time": "2021-07-22T11:32:25.130Z"
      },
      {
        "duration": 108,
        "start_time": "2021-07-22T11:32:25.201Z"
      },
      {
        "duration": 1304,
        "start_time": "2021-07-22T11:32:25.312Z"
      },
      {
        "duration": -405,
        "start_time": "2021-07-22T11:32:27.024Z"
      },
      {
        "duration": -409,
        "start_time": "2021-07-22T11:32:27.030Z"
      },
      {
        "duration": -413,
        "start_time": "2021-07-22T11:32:27.035Z"
      },
      {
        "duration": -417,
        "start_time": "2021-07-22T11:32:27.041Z"
      },
      {
        "duration": -422,
        "start_time": "2021-07-22T11:32:27.047Z"
      },
      {
        "duration": -425,
        "start_time": "2021-07-22T11:32:27.052Z"
      },
      {
        "duration": -439,
        "start_time": "2021-07-22T11:32:27.067Z"
      },
      {
        "duration": -446,
        "start_time": "2021-07-22T11:32:27.075Z"
      },
      {
        "duration": -451,
        "start_time": "2021-07-22T11:32:27.081Z"
      },
      {
        "duration": -456,
        "start_time": "2021-07-22T11:32:27.088Z"
      },
      {
        "duration": -461,
        "start_time": "2021-07-22T11:32:27.094Z"
      },
      {
        "duration": -464,
        "start_time": "2021-07-22T11:32:27.099Z"
      },
      {
        "duration": -469,
        "start_time": "2021-07-22T11:32:27.105Z"
      },
      {
        "duration": -472,
        "start_time": "2021-07-22T11:32:27.110Z"
      },
      {
        "duration": -477,
        "start_time": "2021-07-22T11:32:27.116Z"
      },
      {
        "duration": -481,
        "start_time": "2021-07-22T11:32:27.121Z"
      },
      {
        "duration": -484,
        "start_time": "2021-07-22T11:32:27.126Z"
      },
      {
        "duration": 524,
        "start_time": "2021-07-22T11:33:02.881Z"
      },
      {
        "duration": 371,
        "start_time": "2021-07-22T11:33:25.024Z"
      },
      {
        "duration": 199,
        "start_time": "2021-07-22T11:34:18.005Z"
      },
      {
        "duration": 13721,
        "start_time": "2021-07-22T11:43:38.577Z"
      },
      {
        "duration": 95,
        "start_time": "2021-07-22T11:43:59.669Z"
      },
      {
        "duration": 520,
        "start_time": "2021-07-22T11:44:05.142Z"
      },
      {
        "duration": 653,
        "start_time": "2021-07-22T11:46:44.517Z"
      },
      {
        "duration": 304,
        "start_time": "2021-07-22T11:47:09.604Z"
      },
      {
        "duration": 296,
        "start_time": "2021-07-22T11:47:45.278Z"
      },
      {
        "duration": 298,
        "start_time": "2021-07-22T11:48:08.517Z"
      },
      {
        "duration": 12,
        "start_time": "2021-07-22T11:48:39.457Z"
      },
      {
        "duration": 141,
        "start_time": "2021-07-22T11:49:33.185Z"
      },
      {
        "duration": 13,
        "start_time": "2021-07-22T11:49:35.770Z"
      },
      {
        "duration": 506,
        "start_time": "2021-07-22T11:49:47.644Z"
      },
      {
        "duration": 602,
        "start_time": "2021-07-22T11:50:36.524Z"
      },
      {
        "duration": 330,
        "start_time": "2021-07-22T12:02:03.773Z"
      },
      {
        "duration": 3,
        "start_time": "2021-07-22T12:02:09.071Z"
      },
      {
        "duration": 333,
        "start_time": "2021-07-22T12:02:11.842Z"
      },
      {
        "duration": 346,
        "start_time": "2021-07-22T12:02:33.491Z"
      },
      {
        "duration": 330,
        "start_time": "2021-07-22T12:03:33.906Z"
      },
      {
        "duration": 10,
        "start_time": "2021-07-22T12:03:47.180Z"
      },
      {
        "duration": 614,
        "start_time": "2021-07-22T12:05:19.780Z"
      },
      {
        "duration": 702,
        "start_time": "2021-07-22T12:05:37.961Z"
      },
      {
        "duration": 72,
        "start_time": "2021-07-22T12:07:23.174Z"
      },
      {
        "duration": 11,
        "start_time": "2021-07-22T12:07:30.662Z"
      },
      {
        "duration": 108,
        "start_time": "2021-07-22T12:08:21.854Z"
      },
      {
        "duration": 10,
        "start_time": "2021-07-22T12:08:24.870Z"
      },
      {
        "duration": 358,
        "start_time": "2021-07-22T12:09:29.260Z"
      },
      {
        "duration": 1186,
        "start_time": "2021-07-22T12:09:37.226Z"
      },
      {
        "duration": 1152,
        "start_time": "2021-07-22T12:10:44.403Z"
      },
      {
        "duration": 395,
        "start_time": "2021-07-22T12:11:45.578Z"
      },
      {
        "duration": 1088,
        "start_time": "2021-07-22T12:11:55.501Z"
      },
      {
        "duration": 38,
        "start_time": "2021-07-22T12:18:02.707Z"
      },
      {
        "duration": 794,
        "start_time": "2021-07-22T12:18:45.487Z"
      },
      {
        "duration": 811,
        "start_time": "2021-07-22T12:21:04.759Z"
      },
      {
        "duration": 2041,
        "start_time": "2021-07-22T12:26:22.941Z"
      },
      {
        "duration": 5,
        "start_time": "2021-07-22T12:26:24.985Z"
      },
      {
        "duration": 677,
        "start_time": "2021-07-22T12:26:24.992Z"
      },
      {
        "duration": 8,
        "start_time": "2021-07-22T12:26:25.672Z"
      },
      {
        "duration": 181,
        "start_time": "2021-07-22T12:26:25.682Z"
      },
      {
        "duration": 24,
        "start_time": "2021-07-22T12:26:25.866Z"
      },
      {
        "duration": 10,
        "start_time": "2021-07-22T12:26:25.893Z"
      },
      {
        "duration": 10,
        "start_time": "2021-07-22T12:26:25.909Z"
      },
      {
        "duration": 170,
        "start_time": "2021-07-22T12:26:25.922Z"
      },
      {
        "duration": 125,
        "start_time": "2021-07-22T12:26:26.094Z"
      },
      {
        "duration": 20,
        "start_time": "2021-07-22T12:26:26.221Z"
      },
      {
        "duration": 46,
        "start_time": "2021-07-22T12:26:26.243Z"
      },
      {
        "duration": 7,
        "start_time": "2021-07-22T12:26:26.291Z"
      },
      {
        "duration": 29,
        "start_time": "2021-07-22T12:26:26.301Z"
      },
      {
        "duration": 7,
        "start_time": "2021-07-22T12:26:26.363Z"
      },
      {
        "duration": 10,
        "start_time": "2021-07-22T12:26:26.372Z"
      },
      {
        "duration": 5,
        "start_time": "2021-07-22T12:26:26.384Z"
      },
      {
        "duration": 1817,
        "start_time": "2021-07-22T12:26:26.391Z"
      },
      {
        "duration": 85,
        "start_time": "2021-07-22T12:26:28.210Z"
      },
      {
        "duration": 2824,
        "start_time": "2021-07-22T12:26:28.297Z"
      },
      {
        "duration": 46,
        "start_time": "2021-07-22T12:26:31.124Z"
      },
      {
        "duration": 27,
        "start_time": "2021-07-22T12:26:31.172Z"
      },
      {
        "duration": 81,
        "start_time": "2021-07-22T12:26:31.204Z"
      },
      {
        "duration": 15,
        "start_time": "2021-07-22T12:26:31.288Z"
      },
      {
        "duration": 65,
        "start_time": "2021-07-22T12:26:31.305Z"
      },
      {
        "duration": 752,
        "start_time": "2021-07-22T12:26:31.372Z"
      },
      {
        "duration": 96,
        "start_time": "2021-07-22T12:26:32.127Z"
      },
      {
        "duration": 1420,
        "start_time": "2021-07-22T12:26:32.226Z"
      },
      {
        "duration": 120,
        "start_time": "2021-07-22T12:26:33.648Z"
      },
      {
        "duration": 3,
        "start_time": "2021-07-22T12:26:33.770Z"
      },
      {
        "duration": 42,
        "start_time": "2021-07-22T12:26:33.775Z"
      },
      {
        "duration": 804,
        "start_time": "2021-07-22T12:26:33.819Z"
      },
      {
        "duration": 5,
        "start_time": "2021-07-22T12:26:34.625Z"
      },
      {
        "duration": 862,
        "start_time": "2021-07-22T12:26:34.633Z"
      },
      {
        "duration": 201,
        "start_time": "2021-07-22T12:26:35.497Z"
      },
      {
        "duration": 473,
        "start_time": "2021-07-22T12:26:35.702Z"
      },
      {
        "duration": 8,
        "start_time": "2021-07-22T12:26:36.178Z"
      },
      {
        "duration": 109,
        "start_time": "2021-07-22T12:26:36.189Z"
      },
      {
        "duration": 515,
        "start_time": "2021-07-22T12:26:36.301Z"
      },
      {
        "duration": 72,
        "start_time": "2021-07-22T12:26:36.819Z"
      },
      {
        "duration": 29,
        "start_time": "2021-07-22T12:26:36.894Z"
      },
      {
        "duration": 40,
        "start_time": "2021-07-22T12:26:36.926Z"
      },
      {
        "duration": 15427,
        "start_time": "2021-07-22T12:26:36.969Z"
      },
      {
        "duration": 7,
        "start_time": "2021-07-22T12:26:52.399Z"
      },
      {
        "duration": 19,
        "start_time": "2021-07-22T12:26:52.409Z"
      },
      {
        "duration": 1607,
        "start_time": "2021-07-22T12:26:52.431Z"
      },
      {
        "duration": 1684,
        "start_time": "2021-07-22T12:26:54.041Z"
      },
      {
        "duration": 1752,
        "start_time": "2021-07-22T12:26:55.727Z"
      },
      {
        "duration": 1785,
        "start_time": "2021-07-22T12:26:57.482Z"
      },
      {
        "duration": 10,
        "start_time": "2021-07-22T12:32:50.461Z"
      },
      {
        "duration": 144,
        "start_time": "2021-07-22T12:34:28.133Z"
      },
      {
        "duration": 109,
        "start_time": "2021-07-22T12:35:48.735Z"
      },
      {
        "duration": 107,
        "start_time": "2021-07-22T12:35:58.183Z"
      },
      {
        "duration": 16,
        "start_time": "2021-07-22T12:41:34.542Z"
      },
      {
        "duration": 2358,
        "start_time": "2021-07-22T12:41:44.425Z"
      },
      {
        "duration": 2365,
        "start_time": "2021-07-22T12:42:02.641Z"
      },
      {
        "duration": 1742,
        "start_time": "2021-07-22T12:42:17.527Z"
      },
      {
        "duration": 16,
        "start_time": "2021-07-22T12:42:35.986Z"
      },
      {
        "duration": 1666,
        "start_time": "2021-07-22T12:42:39.385Z"
      },
      {
        "duration": 1781,
        "start_time": "2021-07-22T12:42:47.127Z"
      },
      {
        "duration": 1665,
        "start_time": "2021-07-22T12:42:55.192Z"
      },
      {
        "duration": 1718,
        "start_time": "2021-07-22T12:43:03.040Z"
      }
    ],
    "colab": {
      "name": "9_aab_test_grocery_app.ipynb",
      "provenance": [],
      "collapsed_sections": []
    },
    "kernelspec": {
      "display_name": "Python 3",
      "language": "python",
      "name": "python3"
    },
    "language_info": {
      "codemirror_mode": {
        "name": "ipython",
        "version": 3
      },
      "file_extension": ".py",
      "mimetype": "text/x-python",
      "name": "python",
      "nbconvert_exporter": "python",
      "pygments_lexer": "ipython3",
      "version": "3.7.8"
    },
    "toc": {
      "base_numbering": 1,
      "nav_menu": {},
      "number_sections": true,
      "sideBar": true,
      "skip_h1_title": true,
      "title_cell": "Table of Contents",
      "title_sidebar": "Contents",
      "toc_cell": false,
      "toc_position": {},
      "toc_section_display": true,
      "toc_window_display": false
    }
  },
  "cells": [
    {
      "cell_type": "markdown",
      "metadata": {
        "id": "X_IrRXBzkA0K"
      },
      "source": [
        "**Проект Яндекс.Практикума. Сборный проект (воронки, А/А/В тест)**\n",
        "\n",
        "**Курс: Аналитик данных**\n",
        "\n",
        "---\n",
        "\n",
        "\n",
        "\n",
        "**СОДЕРЖАНИЕ**\n",
        "\n",
        "---\n",
        "[**Описание проекта**](#description)\n",
        "\n",
        "[**Импорт библиотек и загрузка данных**](#loading)\n",
        "\n",
        "[**Предобработка данных**](#preparing)\n",
        "\n",
        "[**Исследовательский анализ данных (EDA)**](#EDA)\n",
        "\n",
        "[**Сегментация клиентов банка**](#segmentation)\n",
        "\n",
        "[**Формулировка и проверка статистических гипотез**](#hypotheses)\n",
        "\n",
        "[**Выводы и рекомендации**](#summary)\n",
        "\n",
        "---\n",
        "\n",
        "\n"
      ]
    },
    {
      "cell_type": "markdown",
      "metadata": {
        "id": "LXdTlNpIEsfP"
      },
      "source": [
        "## **Описание проекта**<a  class=\"anchor\" id=\"description\"></a>"
      ]
    },
    {
      "cell_type": "markdown",
      "metadata": {
        "id": "r_m1IPEL1nHI"
      },
      "source": [
        "\n",
        "\n",
        "---\n",
        "\n",
        "\n",
        "**Описание данных**"
      ]
    },
    {
      "cell_type": "markdown",
      "metadata": {
        "id": "w_WBn9Fuva0T"
      },
      "source": [
        "\n",
        "\n",
        "---\n",
        "\n",
        "\n",
        "\n",
        "---\n",
        "\n"
      ]
    },
    {
      "cell_type": "markdown",
      "metadata": {
        "id": "Me4NtdmrkV87"
      },
      "source": [
        "##  **Импорт библиотек и загрузка данных**<a  class=\"anchor\" id=\"loading\"></a>"
      ]
    },
    {
      "cell_type": "code",
      "metadata": {
        "id": "SsQSzoig2Xos",
        "colab": {
          "base_uri": "https://localhost:8080/"
        },
        "outputId": "4d0a7709-dcb0-4e4e-dc61-06b3ea1b0367"
      },
      "source": [
        "# импортируем библиотеки для работы с данными, построения моделей и \n",
        "import pandas as pd\n",
        "import datetime as dt\n",
        "from datetime import datetime\n",
        "\n",
        "import matplotlib\n",
        "from matplotlib import pyplot as plt\n",
        "from plotly import graph_objects as go\n",
        "import seaborn as sns\n",
        "\n",
        "\n",
        "import numpy as np\n",
        "from scipy import stats as st\n",
        "from statsmodels.stats.proportion import proportions_ztest\n",
        "from statsmodels.stats.multitest import multipletests\n",
        "\n",
        "import warnings\n",
        "warnings.filterwarnings(\"ignore\")"
      ],
      "execution_count": 1,
      "outputs": [
        {
          "output_type": "stream",
          "name": "stderr",
          "text": [
            "/usr/local/lib/python3.7/dist-packages/statsmodels/tools/_testing.py:19: FutureWarning:\n",
            "\n",
            "pandas.util.testing is deprecated. Use the functions in the public API at pandas.testing instead.\n",
            "\n"
          ]
        }
      ]
    },
    {
      "cell_type": "code",
      "metadata": {
        "id": "-BaMuQRn0Ng1"
      },
      "source": [
        "# устанавливаем параметры отображения данных\n",
        "pd.set_option(\"precision\", 2)\n",
        "pd.set_option('display.max_columns', 15)\n",
        "pd.set_option('display.max_colwidth', 40)\n",
        "pd.set_option('display.width', 120)\n",
        "sns.set(style=\"whitegrid\")"
      ],
      "execution_count": 2,
      "outputs": []
    },
    {
      "cell_type": "code",
      "metadata": {
        "id": "6H6IsXQ9KQbl"
      },
      "source": [
        "# загружаем данные\n",
        "try:\n",
        "    logs=pd.read_csv(' ',sep='\\t')\n",
        "    \n",
        "except:\n",
        "    url='https://drive.google.com/file/d/ /view?usp=sharing'\n",
        "    url2='https://drive.google.com/uc?id=' + url.split('/')[-2]\n",
        "    logs = pd.read_csv(url2,sep='\\t')"
      ],
      "execution_count": 3,
      "outputs": []
    },
    {
      "cell_type": "markdown",
      "metadata": {
        "id": "hTPfMKRSvYyn"
      },
      "source": [
        "\n",
        "\n",
        "---\n",
        "\n",
        "\n",
        "\n",
        "---\n",
        "\n"
      ]
    },
    {
      "cell_type": "markdown",
      "metadata": {
        "id": "RxVVqqDGKET4"
      },
      "source": [
        "\n",
        "## **Предобработка данных**<a  class=\"anchor\" id=\"preparing\"></a>"
      ]
    },
    {
      "cell_type": "markdown",
      "metadata": {
        "id": "4YpSwwuzn1Zv"
      },
      "source": [
        "**Общая информация о данных**"
      ]
    },
    {
      "cell_type": "code",
      "metadata": {
        "id": "sSLN9KfX5RWu"
      },
      "source": [
        "def check_dataset(dataset):\n",
        "    \"\"\"\n",
        "    Функция для вывода информации о структуре и типах данных датафрейма, проверки на пропуски в столбцах и дубликаты записей\n",
        "    Принимает на вход датафрейм\n",
        "    Выводит информацию о:\n",
        "    типах данных, наименовании столбцов и количестве записей в датафрейме;\n",
        "    наличии пропусков в данных и их долей по столбцам;\n",
        "    наличии и количестве дубликатов записей;\n",
        "    десять случайных записей из датафрейма\n",
        "    \"\"\"\n",
        "    try:\n",
        "        name =[x for x in globals() if globals()[x] is dataset][0]\n",
        "        cols=len(dataset.columns) if len(dataset.columns)<pd.get_option('display.max_columns') else pd.get_option('display.max_columns')\n",
        "        width = pd.get_option('display.max_colwidth')*cols\n",
        "        print('\\033[1m','Проверка таблицы: {}'.format(name),'\\033[0m')\n",
        "        print('.'*width)\n",
        "        print('\\033[1m','\\nИнформация о типах данных:', '\\033[0m')\n",
        "        display(dataset.info())\n",
        "        print('.'*width)\n",
        "        if dataset.isna().mean().sum()==0:\n",
        "            print('\\033[1m', '\\nПропусков в столбцах \\033[32;1m НЕТ', '\\033[0m')\n",
        "        else:\n",
        "            print('\\033[1m', '\\nДоля пропусков в столбцах:', '\\033[0m')\n",
        "            display(pd.DataFrame(round((dataset.isna().mean()*100),2)))\n",
        "        print('.'*width)\n",
        "        if dataset.duplicated().sum()==0:\n",
        "            print('\\033[1m', '\\nДубликатов строк НЕТ', '\\033[0m')\n",
        "        else:\n",
        "            print('\\033[1m', '\\nКоличество дубликатов: \\033[31;1m{}\\033[0m'.format(dataset.duplicated().sum()))\n",
        "        print('.'*width)\n",
        "        print('\\033[1m', '\\n10 случайных строк датафрейма', '\\033[0m')\n",
        "        display(dataset.sample(10))\n",
        "           \n",
        "    except:\n",
        "        print('Ошибка')"
      ],
      "execution_count": 4,
      "outputs": []
    },
    {
      "cell_type": "code",
      "metadata": {
        "colab": {
          "base_uri": "https://localhost:8080/",
          "height": 784
        },
        "id": "RwSYyzxmcYqp",
        "outputId": "38939a06-3326-47fa-9766-e0f14d66db2b"
      },
      "source": [
        "check_dataset(logs)"
      ],
      "execution_count": 5,
      "outputs": [
        {
          "output_type": "stream",
          "name": "stdout",
          "text": [
            "\u001b[1m Проверка таблицы: logs \u001b[0m\n",
            "................................................................................................................................................................\n",
            "\u001b[1m \n",
            "Информация о типах данных: \u001b[0m\n",
            "<class 'pandas.core.frame.DataFrame'>\n",
            "RangeIndex: 244126 entries, 0 to 244125\n",
            "Data columns (total 4 columns):\n",
            " #   Column          Non-Null Count   Dtype \n",
            "---  ------          --------------   ----- \n",
            " 0   EventName       244126 non-null  object\n",
            " 1   DeviceIDHash    244126 non-null  int64 \n",
            " 2   EventTimestamp  244126 non-null  int64 \n",
            " 3   ExpId           244126 non-null  int64 \n",
            "dtypes: int64(3), object(1)\n",
            "memory usage: 7.5+ MB\n"
          ]
        },
        {
          "output_type": "display_data",
          "data": {
            "text/plain": [
              "None"
            ]
          },
          "metadata": {}
        },
        {
          "output_type": "stream",
          "name": "stdout",
          "text": [
            "................................................................................................................................................................\n",
            "\u001b[1m \n",
            "Пропусков в столбцах \u001b[32;1m НЕТ \u001b[0m\n",
            "................................................................................................................................................................\n",
            "\u001b[1m \n",
            "Количество дубликатов: \u001b[31;1m413\u001b[0m\n",
            "................................................................................................................................................................\n",
            "\u001b[1m \n",
            "10 случайных строк датафрейма \u001b[0m\n"
          ]
        },
        {
          "output_type": "display_data",
          "data": {
            "text/html": [
              "<div>\n",
              "<style scoped>\n",
              "    .dataframe tbody tr th:only-of-type {\n",
              "        vertical-align: middle;\n",
              "    }\n",
              "\n",
              "    .dataframe tbody tr th {\n",
              "        vertical-align: top;\n",
              "    }\n",
              "\n",
              "    .dataframe thead th {\n",
              "        text-align: right;\n",
              "    }\n",
              "</style>\n",
              "<table border=\"1\" class=\"dataframe\">\n",
              "  <thead>\n",
              "    <tr style=\"text-align: right;\">\n",
              "      <th></th>\n",
              "      <th>EventName</th>\n",
              "      <th>DeviceIDHash</th>\n",
              "      <th>EventTimestamp</th>\n",
              "      <th>ExpId</th>\n",
              "    </tr>\n",
              "  </thead>\n",
              "  <tbody>\n",
              "    <tr>\n",
              "      <th>55826</th>\n",
              "      <td>CartScreenAppear</td>\n",
              "      <td>3465976068272903092</td>\n",
              "      <td>1564747958</td>\n",
              "      <td>248</td>\n",
              "    </tr>\n",
              "    <tr>\n",
              "      <th>21385</th>\n",
              "      <td>MainScreenAppear</td>\n",
              "      <td>3032338719854871114</td>\n",
              "      <td>1564666146</td>\n",
              "      <td>247</td>\n",
              "    </tr>\n",
              "    <tr>\n",
              "      <th>138104</th>\n",
              "      <td>MainScreenAppear</td>\n",
              "      <td>7092770789375305513</td>\n",
              "      <td>1564946725</td>\n",
              "      <td>247</td>\n",
              "    </tr>\n",
              "    <tr>\n",
              "      <th>85748</th>\n",
              "      <td>MainScreenAppear</td>\n",
              "      <td>1010439893181060015</td>\n",
              "      <td>1564827892</td>\n",
              "      <td>246</td>\n",
              "    </tr>\n",
              "    <tr>\n",
              "      <th>90294</th>\n",
              "      <td>MainScreenAppear</td>\n",
              "      <td>4063315612183415901</td>\n",
              "      <td>1564834395</td>\n",
              "      <td>246</td>\n",
              "    </tr>\n",
              "    <tr>\n",
              "      <th>157210</th>\n",
              "      <td>MainScreenAppear</td>\n",
              "      <td>3051480192517827706</td>\n",
              "      <td>1565008774</td>\n",
              "      <td>246</td>\n",
              "    </tr>\n",
              "    <tr>\n",
              "      <th>82255</th>\n",
              "      <td>MainScreenAppear</td>\n",
              "      <td>944989533256675646</td>\n",
              "      <td>1564822563</td>\n",
              "      <td>247</td>\n",
              "    </tr>\n",
              "    <tr>\n",
              "      <th>193889</th>\n",
              "      <td>PaymentScreenSuccessful</td>\n",
              "      <td>6932517045703054087</td>\n",
              "      <td>1565095278</td>\n",
              "      <td>248</td>\n",
              "    </tr>\n",
              "    <tr>\n",
              "      <th>111982</th>\n",
              "      <td>CartScreenAppear</td>\n",
              "      <td>197027893265565660</td>\n",
              "      <td>1564901693</td>\n",
              "      <td>246</td>\n",
              "    </tr>\n",
              "    <tr>\n",
              "      <th>38568</th>\n",
              "      <td>Tutorial</td>\n",
              "      <td>3473691793382022823</td>\n",
              "      <td>1564697510</td>\n",
              "      <td>248</td>\n",
              "    </tr>\n",
              "  </tbody>\n",
              "</table>\n",
              "</div>"
            ],
            "text/plain": [
              "                      EventName         DeviceIDHash  EventTimestamp  ExpId\n",
              "55826          CartScreenAppear  3465976068272903092      1564747958    248\n",
              "21385          MainScreenAppear  3032338719854871114      1564666146    247\n",
              "138104         MainScreenAppear  7092770789375305513      1564946725    247\n",
              "85748          MainScreenAppear  1010439893181060015      1564827892    246\n",
              "90294          MainScreenAppear  4063315612183415901      1564834395    246\n",
              "157210         MainScreenAppear  3051480192517827706      1565008774    246\n",
              "82255          MainScreenAppear   944989533256675646      1564822563    247\n",
              "193889  PaymentScreenSuccessful  6932517045703054087      1565095278    248\n",
              "111982         CartScreenAppear   197027893265565660      1564901693    246\n",
              "38568                  Tutorial  3473691793382022823      1564697510    248"
            ]
          },
          "metadata": {}
        }
      ]
    },
    {
      "cell_type": "markdown",
      "metadata": {
        "id": "523FF_N1kXsi"
      },
      "source": [
        "Выведем 5 случайных строк таблицы \"Логи\":"
      ]
    },
    {
      "cell_type": "code",
      "metadata": {
        "colab": {
          "base_uri": "https://localhost:8080/",
          "height": 204
        },
        "id": "sw7H9jUNh8rs",
        "outputId": "238a56f7-3703-4afe-aad6-b5d22820fd2b"
      },
      "source": [
        "logs.sample(n=5,random_state=42)"
      ],
      "execution_count": 6,
      "outputs": [
        {
          "output_type": "execute_result",
          "data": {
            "text/html": [
              "<div>\n",
              "<style scoped>\n",
              "    .dataframe tbody tr th:only-of-type {\n",
              "        vertical-align: middle;\n",
              "    }\n",
              "\n",
              "    .dataframe tbody tr th {\n",
              "        vertical-align: top;\n",
              "    }\n",
              "\n",
              "    .dataframe thead th {\n",
              "        text-align: right;\n",
              "    }\n",
              "</style>\n",
              "<table border=\"1\" class=\"dataframe\">\n",
              "  <thead>\n",
              "    <tr style=\"text-align: right;\">\n",
              "      <th></th>\n",
              "      <th>EventName</th>\n",
              "      <th>DeviceIDHash</th>\n",
              "      <th>EventTimestamp</th>\n",
              "      <th>ExpId</th>\n",
              "    </tr>\n",
              "  </thead>\n",
              "  <tbody>\n",
              "    <tr>\n",
              "      <th>100536</th>\n",
              "      <td>PaymentScreenSuccessful</td>\n",
              "      <td>2910761286178294850</td>\n",
              "      <td>1564850670</td>\n",
              "      <td>248</td>\n",
              "    </tr>\n",
              "    <tr>\n",
              "      <th>243827</th>\n",
              "      <td>MainScreenAppear</td>\n",
              "      <td>4164287718073415198</td>\n",
              "      <td>1565210495</td>\n",
              "      <td>246</td>\n",
              "    </tr>\n",
              "    <tr>\n",
              "      <th>222854</th>\n",
              "      <td>MainScreenAppear</td>\n",
              "      <td>499118262689586521</td>\n",
              "      <td>1565171733</td>\n",
              "      <td>247</td>\n",
              "    </tr>\n",
              "    <tr>\n",
              "      <th>33362</th>\n",
              "      <td>MainScreenAppear</td>\n",
              "      <td>3008457239613772584</td>\n",
              "      <td>1564683241</td>\n",
              "      <td>248</td>\n",
              "    </tr>\n",
              "    <tr>\n",
              "      <th>16881</th>\n",
              "      <td>CartScreenAppear</td>\n",
              "      <td>197027893265565660</td>\n",
              "      <td>1564659398</td>\n",
              "      <td>246</td>\n",
              "    </tr>\n",
              "  </tbody>\n",
              "</table>\n",
              "</div>"
            ],
            "text/plain": [
              "                      EventName         DeviceIDHash  EventTimestamp  ExpId\n",
              "100536  PaymentScreenSuccessful  2910761286178294850      1564850670    248\n",
              "243827         MainScreenAppear  4164287718073415198      1565210495    246\n",
              "222854         MainScreenAppear   499118262689586521      1565171733    247\n",
              "33362          MainScreenAppear  3008457239613772584      1564683241    248\n",
              "16881          CartScreenAppear   197027893265565660      1564659398    246"
            ]
          },
          "metadata": {},
          "execution_count": 6
        }
      ]
    },
    {
      "cell_type": "markdown",
      "metadata": {
        "id": "YKeuFd26oJrH"
      },
      "source": [
        "Таблица \"Логи\" содержит 243 713 уникальных записей (413 дублированных) по четырем полям. Требуется:\n",
        "- привести названия полей к удобному виду;\n",
        "- привести столбец 'EventTimestamp' к формату даты и времени;\n",
        "- выделить столбец с датой события;\n",
        "- удалить дубликаты строк.\n",
        "\n",
        "---\n",
        "\n"
      ]
    },
    {
      "cell_type": "markdown",
      "metadata": {
        "id": "dGHj6OYklZ3F"
      },
      "source": [
        "Приведем наименования столбцов к удобному виду:"
      ]
    },
    {
      "cell_type": "code",
      "metadata": {
        "id": "sB0EAWY1ZhrV"
      },
      "source": [
        "logs.rename({'EventName' : 'event', 'DeviceIDHash' : 'uid', 'EventTimestamp' : 'timestamp', 'ExpId' : 'group'}, axis=1, inplace=True)"
      ],
      "execution_count": 7,
      "outputs": []
    },
    {
      "cell_type": "markdown",
      "metadata": {
        "id": "_vhKgwNZmalu"
      },
      "source": [
        "Переведем столбец 'timestamp' в формат даты и времени:"
      ]
    },
    {
      "cell_type": "code",
      "metadata": {
        "id": "3eBKgS9oxKyk"
      },
      "source": [
        "logs['timestamp'] = pd.to_datetime(logs['timestamp'], unit='s')"
      ],
      "execution_count": 8,
      "outputs": []
    },
    {
      "cell_type": "markdown",
      "metadata": {
        "id": "W6_4JZ1vmmZH"
      },
      "source": [
        "Добавим столбец с датой события:"
      ]
    },
    {
      "cell_type": "code",
      "metadata": {
        "id": "WHCxkcBtl780"
      },
      "source": [
        "logs['date']=logs['timestamp'].dt.date\n",
        "logs=logs[['event','uid','timestamp','date','group']]"
      ],
      "execution_count": 9,
      "outputs": []
    },
    {
      "cell_type": "markdown",
      "metadata": {
        "id": "M8j1l0aSmsYf"
      },
      "source": [
        "Удалим дубликаты строк:"
      ]
    },
    {
      "cell_type": "code",
      "metadata": {
        "id": "SeRBM59wjR66"
      },
      "source": [
        "logs.drop_duplicates(inplace=True);"
      ],
      "execution_count": 10,
      "outputs": []
    },
    {
      "cell_type": "markdown",
      "metadata": {
        "id": "vfyhAcuMmyjz"
      },
      "source": [
        "Выведем 5 строк обновленной таблицы \"Логи\":"
      ]
    },
    {
      "cell_type": "code",
      "metadata": {
        "colab": {
          "base_uri": "https://localhost:8080/",
          "height": 204
        },
        "id": "99KunHBFkL_1",
        "outputId": "a89a269d-569e-4134-b06e-28dd1734509a"
      },
      "source": [
        "logs.sample(n=5,random_state=42)"
      ],
      "execution_count": 11,
      "outputs": [
        {
          "output_type": "execute_result",
          "data": {
            "text/html": [
              "<div>\n",
              "<style scoped>\n",
              "    .dataframe tbody tr th:only-of-type {\n",
              "        vertical-align: middle;\n",
              "    }\n",
              "\n",
              "    .dataframe tbody tr th {\n",
              "        vertical-align: top;\n",
              "    }\n",
              "\n",
              "    .dataframe thead th {\n",
              "        text-align: right;\n",
              "    }\n",
              "</style>\n",
              "<table border=\"1\" class=\"dataframe\">\n",
              "  <thead>\n",
              "    <tr style=\"text-align: right;\">\n",
              "      <th></th>\n",
              "      <th>event</th>\n",
              "      <th>uid</th>\n",
              "      <th>timestamp</th>\n",
              "      <th>date</th>\n",
              "      <th>group</th>\n",
              "    </tr>\n",
              "  </thead>\n",
              "  <tbody>\n",
              "    <tr>\n",
              "      <th>240000</th>\n",
              "      <td>CartScreenAppear</td>\n",
              "      <td>2570971451355530886</td>\n",
              "      <td>2019-08-07 18:04:22</td>\n",
              "      <td>2019-08-07</td>\n",
              "      <td>248</td>\n",
              "    </tr>\n",
              "    <tr>\n",
              "      <th>233810</th>\n",
              "      <td>CartScreenAppear</td>\n",
              "      <td>2431455045762717569</td>\n",
              "      <td>2019-08-07 15:20:38</td>\n",
              "      <td>2019-08-07</td>\n",
              "      <td>247</td>\n",
              "    </tr>\n",
              "    <tr>\n",
              "      <th>180426</th>\n",
              "      <td>MainScreenAppear</td>\n",
              "      <td>8233040176393470157</td>\n",
              "      <td>2019-08-06 05:28:15</td>\n",
              "      <td>2019-08-06</td>\n",
              "      <td>246</td>\n",
              "    </tr>\n",
              "    <tr>\n",
              "      <th>12575</th>\n",
              "      <td>MainScreenAppear</td>\n",
              "      <td>438481114985016111</td>\n",
              "      <td>2019-08-01 09:39:31</td>\n",
              "      <td>2019-08-01</td>\n",
              "      <td>247</td>\n",
              "    </tr>\n",
              "    <tr>\n",
              "      <th>201095</th>\n",
              "      <td>CartScreenAppear</td>\n",
              "      <td>4877161838950700944</td>\n",
              "      <td>2019-08-06 15:36:16</td>\n",
              "      <td>2019-08-06</td>\n",
              "      <td>247</td>\n",
              "    </tr>\n",
              "  </tbody>\n",
              "</table>\n",
              "</div>"
            ],
            "text/plain": [
              "                   event                  uid           timestamp        date  group\n",
              "240000  CartScreenAppear  2570971451355530886 2019-08-07 18:04:22  2019-08-07    248\n",
              "233810  CartScreenAppear  2431455045762717569 2019-08-07 15:20:38  2019-08-07    247\n",
              "180426  MainScreenAppear  8233040176393470157 2019-08-06 05:28:15  2019-08-06    246\n",
              "12575   MainScreenAppear   438481114985016111 2019-08-01 09:39:31  2019-08-01    247\n",
              "201095  CartScreenAppear  4877161838950700944 2019-08-06 15:36:16  2019-08-06    247"
            ]
          },
          "metadata": {},
          "execution_count": 11
        }
      ]
    },
    {
      "cell_type": "markdown",
      "metadata": {
        "id": "lAaMx0M8sK67"
      },
      "source": [
        "---\n",
        "\n",
        "\n",
        "## **Исследовательский анализ данных (EDA)**<a  class=\"anchor\" id=\"EDA\"></a>\n",
        "\n"
      ]
    },
    {
      "cell_type": "markdown",
      "metadata": {
        "id": "HebcZZ6rpQpl"
      },
      "source": [
        "Информация по событиям и пользователям:"
      ]
    },
    {
      "cell_type": "code",
      "metadata": {
        "colab": {
          "base_uri": "https://localhost:8080/"
        },
        "id": "PFvsv_LEphwR",
        "outputId": "f3f16dca-86da-4993-9173-92b40af67779"
      },
      "source": [
        "print('\\033[1m','В логе {} уникальных событий, всего событий: {}.'.format(logs.event.nunique(),logs.event.count()),'\\033[0m')"
      ],
      "execution_count": 12,
      "outputs": [
        {
          "output_type": "stream",
          "name": "stdout",
          "text": [
            "\u001b[1m В логе 5 уникальных событий, всего событий: 243713. \u001b[0m\n"
          ]
        }
      ]
    },
    {
      "cell_type": "code",
      "metadata": {
        "colab": {
          "base_uri": "https://localhost:8080/"
        },
        "id": "tt5ujGu3qsDZ",
        "outputId": "b6d0ca34-9f11-4c5d-a8bb-aa5cd2b3ea5a"
      },
      "source": [
        "print('\\033[1m','В логе всего {} уникальных пользователей.'.format(logs.uid.nunique()),'\\033[0m')"
      ],
      "execution_count": 13,
      "outputs": [
        {
          "output_type": "stream",
          "name": "stdout",
          "text": [
            "\u001b[1m В логе всего 7551 уникальных пользователей. \u001b[0m\n"
          ]
        }
      ]
    },
    {
      "cell_type": "markdown",
      "metadata": {
        "id": "zsU4UR7rOaJ2"
      },
      "source": [
        "В среднем на одного пользователя приходится 32,3 события. Однако стандартное отклонение этого параметра превышает среднее в два раза, и половина пользователей генерирует не более 20 событий."
      ]
    },
    {
      "cell_type": "code",
      "metadata": {
        "colab": {
          "base_uri": "https://localhost:8080/"
        },
        "id": "LQwRpmaPB_Dq",
        "outputId": "f2736cd7-ec41-48ab-f54f-5bb1d28bd26d"
      },
      "source": [
        "logs.groupby('uid')['event'].count().describe().apply(lambda x: format(x, '.1f'))"
      ],
      "execution_count": 14,
      "outputs": [
        {
          "output_type": "execute_result",
          "data": {
            "text/plain": [
              "count    7551.0\n",
              "mean       32.3\n",
              "std        65.2\n",
              "min         1.0\n",
              "25%         9.0\n",
              "50%        20.0\n",
              "75%        37.0\n",
              "max      2307.0\n",
              "Name: event, dtype: object"
            ]
          },
          "metadata": {},
          "execution_count": 14
        }
      ]
    },
    {
      "cell_type": "markdown",
      "metadata": {
        "id": "3xrU0MCCxy0j"
      },
      "source": [
        "\n",
        "\n",
        "---\n",
        "\n"
      ]
    },
    {
      "cell_type": "markdown",
      "metadata": {
        "id": "4jxZIRSkdtXc"
      },
      "source": [
        "Определим минимальную и максимальную дату в логах = временной интервал зафиксированных событий."
      ]
    },
    {
      "cell_type": "code",
      "metadata": {
        "colab": {
          "base_uri": "https://localhost:8080/"
        },
        "id": "ioeA4Nrqd73Q",
        "outputId": "d51b0dcb-f4d6-43a6-ea9a-7860ef3bd57a"
      },
      "source": [
        "print('\\033[1m','Временной интервал событий лежит в границах от \"{}\" до \"{}\".'.format(logs.timestamp.min(),logs.timestamp.max()),'\\033[0m')"
      ],
      "execution_count": 15,
      "outputs": [
        {
          "output_type": "stream",
          "name": "stdout",
          "text": [
            "\u001b[1m Временной интервал событий лежит в границах от \"2019-07-25 04:43:36\" до \"2019-08-07 21:15:17\". \u001b[0m\n"
          ]
        }
      ]
    },
    {
      "cell_type": "markdown",
      "metadata": {
        "id": "laVJ0oSZekuC"
      },
      "source": [
        "Для построения гистограммы распределения данных о событиях по дате и времени добавим в данные столбец с датой-временем, усеченными до часа совершения события. Это позволит уплотнить данные и улучшить визуализацию распределения."
      ]
    },
    {
      "cell_type": "code",
      "metadata": {
        "id": "MO_cKSxPfJSy"
      },
      "source": [
        "logs['dt_hour']=logs.timestamp.dt.floor('h')"
      ],
      "execution_count": 16,
      "outputs": []
    },
    {
      "cell_type": "markdown",
      "metadata": {
        "id": "Zw3cSwKsAdLO"
      },
      "source": [
        "Отобразим распределение данных о событиях по дате и времени на графике."
      ]
    },
    {
      "cell_type": "code",
      "metadata": {
        "id": "sSwBeu1yMJBn"
      },
      "source": [
        "def plot_attr(title,xlabel,ylabel):\n",
        "    ax.title.set_text(title)\n",
        "    ax.title.set_fontsize(20)\n",
        "    ax.title.set_color('red')\n",
        "    ax.set_xlabel(xlabel,fontsize=14)\n",
        "    ax.set_ylabel(ylabel,fontsize=14)\n",
        "    ax.set_facecolor('azure')"
      ],
      "execution_count": 17,
      "outputs": []
    },
    {
      "cell_type": "code",
      "metadata": {
        "colab": {
          "base_uri": "https://localhost:8080/",
          "height": 567
        },
        "id": "SCDjaJFFyFLj",
        "outputId": "e84f103a-d41c-4be9-d5fa-7e4a002622e9"
      },
      "source": [
        "fig,ax = plt.subplots(figsize=(20, 8))\n",
        "plt.hist(logs.dt_hour,bins=logs.dt_hour.nunique())\n",
        "title='Distribution of events by date-time'\n",
        "xlabel='events date-time'\n",
        "ylabel='events count'\n",
        "plot_attr(title,xlabel,ylabel)\n",
        "plt.xticks(logs.date.unique(),rotation=45)\n",
        "plt.annotate('скачок', xy=(pd.to_datetime(\"2019-07-31 21:00:00\"), 700), xytext=(pd.to_datetime(\"2019-07-30\"), 2100),\n",
        "            arrowprops=dict(facecolor='g'))\n",
        "plt.show();"
      ],
      "execution_count": 18,
      "outputs": [
        {
          "output_type": "display_data",
          "data": {
            "image/png": "[encoded data removed]",
            "text/plain": [
              "<Figure size 1440x576 with 1 Axes>"
            ]
          },
          "metadata": {}
        }
      ]
    },
    {
      "cell_type": "markdown",
      "metadata": {
        "id": "FcZc37tpGIPV"
      },
      "source": [
        "График показывает, что данные лога о событиях не обладают полнотой на протяжении номинального временного периода. Определим дату, в которой происходит резкое измнение количества регистрируемых событий."
      ]
    },
    {
      "cell_type": "code",
      "metadata": {
        "colab": {
          "base_uri": "https://localhost:8080/",
          "height": 80
        },
        "id": "qX5lwNVRiliY",
        "outputId": "720cc924-fca3-429f-d3f3-4d886c1a0b0b"
      },
      "source": [
        "logs_date_pivot=logs.pivot_table(index='date',values='event',aggfunc='count').reset_index()\n",
        "logs_date_pivot['count_ratio']=logs_date_pivot['event'].pct_change()\n",
        "logs_date_pivot[logs_date_pivot.count_ratio==logs_date_pivot.count_ratio.max()]\n"
      ],
      "execution_count": 19,
      "outputs": [
        {
          "output_type": "execute_result",
          "data": {
            "text/html": [
              "<div>\n",
              "<style scoped>\n",
              "    .dataframe tbody tr th:only-of-type {\n",
              "        vertical-align: middle;\n",
              "    }\n",
              "\n",
              "    .dataframe tbody tr th {\n",
              "        vertical-align: top;\n",
              "    }\n",
              "\n",
              "    .dataframe thead th {\n",
              "        text-align: right;\n",
              "    }\n",
              "</style>\n",
              "<table border=\"1\" class=\"dataframe\">\n",
              "  <thead>\n",
              "    <tr style=\"text-align: right;\">\n",
              "      <th></th>\n",
              "      <th>date</th>\n",
              "      <th>event</th>\n",
              "      <th>count_ratio</th>\n",
              "    </tr>\n",
              "  </thead>\n",
              "  <tbody>\n",
              "    <tr>\n",
              "      <th>7</th>\n",
              "      <td>2019-08-01</td>\n",
              "      <td>36141</td>\n",
              "      <td>16.8</td>\n",
              "    </tr>\n",
              "  </tbody>\n",
              "</table>\n",
              "</div>"
            ],
            "text/plain": [
              "         date  event  count_ratio\n",
              "7  2019-08-01  36141         16.8"
            ]
          },
          "metadata": {},
          "execution_count": 19
        }
      ]
    },
    {
      "cell_type": "markdown",
      "metadata": {
        "id": "VpEDPnQ7HWYO"
      },
      "source": [
        "Объем данных о событиях за 01.08.2019 превышает объем зарегистрированных данных предыдущего дня в 16,8 раза. Определим с точностью до часа левую границу временного интервала, данные за который полны и пригодны для дальнейшего анализа. \n",
        "\n",
        "Построим распределение логов по часам за период с 31.07.2019 по 01.08.2019 в разрезе событий."
      ]
    },
    {
      "cell_type": "code",
      "metadata": {
        "colab": {
          "base_uri": "https://localhost:8080/",
          "height": 633
        },
        "id": "Ce6lOp7L8IU8",
        "outputId": "e525c095-ddc4-4c19-ae8e-9c121396675a"
      },
      "source": [
        "df=logs.query('date>=@pd.to_datetime(\"2019-07-31\") and date<=@pd.to_datetime(\"2019-08-01\")')\n",
        "\n",
        "fig,ax = plt.subplots(figsize=(20, 10))\n",
        "ax = sns.countplot(y=df['dt_hour'].dt.strftime('%Y-%m-%d %H'), hue='event', data=df, dodge=False)\n",
        "title='Distribution of events between 2019-07-31 and 2019-08-01'\n",
        "xlabel='events count'\n",
        "ylabel='events date-time'\n",
        "plot_attr(title,xlabel,ylabel)\n",
        "ax.legend(loc='upper right')\n",
        "fig.show() "
      ],
      "execution_count": 20,
      "outputs": [
        {
          "output_type": "display_data",
          "data": {
            "image/png": "[encoded data removed]",
            "text/plain": [
              "<Figure size 1440x720 with 1 Axes>"
            ]
          },
          "metadata": {}
        }
      ]
    },
    {
      "cell_type": "markdown",
      "metadata": {
        "id": "kV4SZujhIHXN"
      },
      "source": [
        "Резкое изменение количества регистрируемых событий просходит в 21 час 31.07.2019. Таким образом, период, содержащий полные данный, который будет использован для дальнейшего анализа, сокращается до интервала с 31.07.2019 21:00 до 07.08.2019 21.15.\n",
        "\n",
        "---\n",
        "\n"
      ]
    },
    {
      "cell_type": "markdown",
      "metadata": {
        "id": "FlCEFaqNI_bF"
      },
      "source": [
        "Создадаим датафрейм, содержащий логи пользователей за релевантный период и рассчитаем потери данных в результате сокращения временного интервала."
      ]
    },
    {
      "cell_type": "code",
      "metadata": {
        "id": "NqXNtJg7JRuc"
      },
      "source": [
        "logs_rel=logs.query('timestamp>=@pd.to_datetime(\"2019-07-31 21:00:00\")').copy()"
      ],
      "execution_count": 21,
      "outputs": []
    },
    {
      "cell_type": "code",
      "metadata": {
        "colab": {
          "base_uri": "https://localhost:8080/"
        },
        "id": "wX5ysLlCGVal",
        "outputId": "c5e8af6d-5a0c-4700-f884-76df87f110ab"
      },
      "source": [
        "logs_rel.groupby('uid')['event'].count().describe().apply(lambda x: format(x, '.1f'))"
      ],
      "execution_count": 22,
      "outputs": [
        {
          "output_type": "execute_result",
          "data": {
            "text/plain": [
              "count    7538.0\n",
              "mean       32.1\n",
              "std        65.2\n",
              "min         1.0\n",
              "25%         9.0\n",
              "50%        19.0\n",
              "75%        37.0\n",
              "max      2307.0\n",
              "Name: event, dtype: object"
            ]
          },
          "metadata": {},
          "execution_count": 22
        }
      ]
    },
    {
      "cell_type": "code",
      "metadata": {
        "colab": {
          "base_uri": "https://localhost:8080/"
        },
        "id": "qDllKe4GJ1FW",
        "outputId": "ff35d972-ef45-4a20-e881-fa0f1cc4bb8a"
      },
      "source": [
        "print('\\033[1m','В обновленном логе {} уникальных событий, всего событий: {}. Количество событий сократилось на {:.1%}.'.\\\n",
        "      format(logs_rel.event.nunique(),logs_rel.event.count(),(logs_rel.event.count()-logs.event.count())/logs.event.count()),'\\033[0m')"
      ],
      "execution_count": 23,
      "outputs": [
        {
          "output_type": "stream",
          "name": "stdout",
          "text": [
            "\u001b[1m В обновленном логе 5 уникальных событий, всего событий: 241724. Количество событий сократилось на -0.8%. \u001b[0m\n"
          ]
        }
      ]
    },
    {
      "cell_type": "code",
      "metadata": {
        "colab": {
          "base_uri": "https://localhost:8080/"
        },
        "id": "oXkcIVumKcOI",
        "outputId": "590fce71-a6be-4996-bd20-cc403d2f255b"
      },
      "source": [
        "print('\\033[1m','В обновленном логе всего {} уникальных пользователей. Количество пользователей сократилось на {:.1%}.'.\\\n",
        "      format(logs_rel.uid.nunique(),(logs_rel.uid.nunique()-logs.uid.nunique())/logs.uid.nunique()),'\\033[0m')"
      ],
      "execution_count": 24,
      "outputs": [
        {
          "output_type": "stream",
          "name": "stdout",
          "text": [
            "\u001b[1m В обновленном логе всего 7538 уникальных пользователей. Количество пользователей сократилось на -0.2%. \u001b[0m\n"
          ]
        }
      ]
    },
    {
      "cell_type": "markdown",
      "metadata": {
        "id": "dngBZ_oQKbGe"
      },
      "source": [
        "Построим на графике распределение данных о зарегистрированных событиях за релевантный период в разрезе групп."
      ]
    },
    {
      "cell_type": "code",
      "metadata": {
        "id": "5C-_BM5iLFv1"
      },
      "source": [
        "df=logs_rel.groupby(['date','group'])['event'].count().reset_index()"
      ],
      "execution_count": 25,
      "outputs": []
    },
    {
      "cell_type": "code",
      "metadata": {
        "colab": {
          "base_uri": "https://localhost:8080/",
          "height": 524
        },
        "id": "RZ5ElHsMLtPS",
        "outputId": "016a63cf-ed33-4396-9373-176c6111ef8c"
      },
      "source": [
        "fig,ax = plt.subplots(figsize=(20, 8))\n",
        "ax=sns.barplot(x='date', y='event', hue='group',data=df)\n",
        "title='Distribution of events by group during relevant period'\n",
        "xlabel='date'\n",
        "ylabel='events count'\n",
        "plot_attr(title,xlabel,ylabel)\n",
        "fig.show() "
      ],
      "execution_count": 26,
      "outputs": [
        {
          "output_type": "display_data",
          "data": {
            "image/png": "[encoded data removed]",
            "text/plain": [
              "<Figure size 1440x576 with 1 Axes>"
            ]
          },
          "metadata": {}
        }
      ]
    },
    {
      "cell_type": "markdown",
      "metadata": {
        "id": "tWOdJgzwOUC-"
      },
      "source": [
        "В логах за релевантный период содержатся данные о событиях для всех групп пользователей. В результате сокращения временного интервала логов данные о событиях сократились на 0,8%, база пользователей уменьшилась на 0,2%.\n",
        "\n",
        "---\n",
        "\n"
      ]
    },
    {
      "cell_type": "markdown",
      "metadata": {
        "id": "0fgi10XFbh5y"
      },
      "source": [
        "##  **Изучение воронки событий**<a  class=\"anchor\" id=\"funnel\"></a>"
      ]
    },
    {
      "cell_type": "markdown",
      "metadata": {
        "id": "-1jlYkrsPG5j"
      },
      "source": [
        "Для анализа воронки событий создадам датафрейм, сгруппировав логи по наименованию события и рассчитав количество событий и число сгенерировавших их пользователей. также рассчитаем долю пользователей, хотя бы раз генерировавших конкретное событие."
      ]
    },
    {
      "cell_type": "code",
      "metadata": {
        "id": "gs_XFfUqRSLO"
      },
      "source": [
        "events = logs_rel.groupby('event')['uid'].agg(['count', 'nunique']).reset_index()\n",
        "events.columns =['event', 'events_cnt', 'users_cnt']\n",
        "events['users_share']=events['users_cnt']/logs_rel.uid.nunique()"
      ],
      "execution_count": 27,
      "outputs": []
    },
    {
      "cell_type": "markdown",
      "metadata": {
        "id": "qjhHkWEAbMil"
      },
      "source": [
        "Отобразим частоту событий, количество и долю пользователей, сгенерировавших события от общего числа пользователей в логах,  на графиках, упорядочив данные по убыванию значений."
      ]
    },
    {
      "cell_type": "code",
      "metadata": {
        "colab": {
          "base_uri": "https://localhost:8080/",
          "height": 569
        },
        "id": "PEg7bKfVLolf",
        "outputId": "da259b81-ec1f-4fa7-8037-717000568003"
      },
      "source": [
        "fig, axes = plt.subplots(nrows=1, ncols=2,figsize=(25, 8))\n",
        "order = events.sort_values('events_cnt').reset_index(drop=True)['event']\n",
        "sns.barplot(ax=axes[0], y='event', x='events_cnt', order = order,  data=events)\n",
        "axes[0].set_yticklabels(order, fontsize=14,color='black')\n",
        "axes[0].invert_yaxis()\n",
        "axes[0].set_xlabel('events count', fontsize=14,color='black')\n",
        "axes[0].set_title('Distribution of events by frequency')\n",
        "axes[0].title.set_fontsize(20)\n",
        "axes[0].title.set_color('red')\n",
        "for i in axes[0].patches:\n",
        "    if i.get_width() > 20000:\n",
        "        axes[0].text(i.get_width()-15000, i.get_y()+0.5, \n",
        "                str(int(i.get_width())), fontsize=20, color='white')\n",
        "    else:\n",
        "        axes[0].text(i.get_width()+30, i.get_y()+0.5, \n",
        "                str(int(i.get_width())), fontsize=20, color='grey')\n",
        "axes[0].set_facecolor('azure')\n",
        "\n",
        "order = events.sort_values('users_cnt').reset_index(drop=True)['event']\n",
        "sns.barplot(ax=axes[1],y='event', x='users_cnt', order = order,  data=events)\n",
        "axes[1].set_yticklabels(order, fontsize=14,color='black')\n",
        "axes[1].set_ylabel(None)\n",
        "axes[1].invert_yaxis()\n",
        "axes[1].set_xlabel('users count', fontsize=14,color='black')\n",
        "axes[1].set_title('Distribution  of events by users')\n",
        "axes[1].title.set_fontsize(20)\n",
        "axes[1].title.set_color('red')\n",
        "for i in axes[1].patches:\n",
        "    if i.get_width() > 5000:\n",
        "        axes[1].text(i.get_width()-2000, i.get_y()+0.5, \n",
        "                str(int(i.get_width()))+' ({:.1%})'.format(i.get_width() / logs_rel.uid.nunique()), fontsize=20, color='white')\n",
        "    else:\n",
        "        axes[1].text(i.get_width()+30, i.get_y()+0.5, \n",
        "                str(int(i.get_width()))+' ({:.1%})'.format(i.get_width() / logs_rel.uid.nunique()), fontsize=20, color='grey')\n",
        "axes[1].set_facecolor('azure')\n",
        "fig.tight_layout()\n",
        "fig.subplots_adjust(wspace=0.3)\n",
        "plt.show()"
      ],
      "execution_count": 28,
      "outputs": [
        {
          "output_type": "display_data",
          "data": {
            "image/png": "[encoded data removed]",
            "text/plain": [
              "<Figure size 1800x576 with 2 Axes>"
            ]
          },
          "metadata": {}
        }
      ]
    },
    {
      "cell_type": "markdown",
      "metadata": {
        "id": "6kYAgIXkbn3x"
      },
      "source": [
        "\n",
        "\n",
        "---\n",
        "\n",
        "Логичным порядком событий, регистрирующих отдельные этапы законченного алгоритма поведения пользователя, является:\n",
        "1. Появление основного экрана (MainScreenAppear);\n",
        "2. Появление экрана с каталогом (OffersScreenAppear);\n",
        "3. Появление экрана с корзиной (CartScreenAppear);\n",
        "4. Появление экрана с успешной оплатой (PaymentScreenSuccessful).\n",
        "\n",
        "Пятое по популярности событие в логах: переход в руководство пользователя(Tutorial) может следовать перед и после любого из вышеперечисленных событий и является тангенциальным воронке регистрации продаж."
      ]
    },
    {
      "cell_type": "markdown",
      "metadata": {
        "id": "eEjiX4_QZhri"
      },
      "source": [
        "Сгруппируем данные по событиям и группам с расчетом количества пользователей."
      ]
    },
    {
      "cell_type": "code",
      "metadata": {
        "id": "78ssHEu6Zhrj"
      },
      "source": [
        "events_gr = logs_rel[ logs_rel['event'] != 'Tutorial'].groupby(['event','group'])['uid'].agg('nunique').reset_index()"
      ],
      "execution_count": 29,
      "outputs": []
    },
    {
      "cell_type": "markdown",
      "metadata": {
        "id": "UkllzDRBZhrj"
      },
      "source": [
        "Определим явно порядок событий в воронке и сохраним в переменной."
      ]
    },
    {
      "cell_type": "code",
      "metadata": {
        "id": "zXoIHicMuHIL"
      },
      "source": [
        "steps=['MainScreenAppear','OffersScreenAppear','CartScreenAppear','PaymentScreenSuccessful']"
      ],
      "execution_count": 30,
      "outputs": []
    },
    {
      "cell_type": "markdown",
      "metadata": {
        "id": "dfPkiDkLZhrj"
      },
      "source": [
        "Рассчитаем размеры групп эксперимента."
      ]
    },
    {
      "cell_type": "code",
      "metadata": {
        "id": "Jcfd2JeNZhrj"
      },
      "source": [
        "group_246_total=logs_rel.query('group==246')['uid'].nunique()\n",
        "group_247_total=logs_rel.query('group==247')['uid'].nunique()\n",
        "group_248_total=logs_rel.query('group==248')['uid'].nunique()"
      ],
      "execution_count": 31,
      "outputs": []
    },
    {
      "cell_type": "markdown",
      "metadata": {
        "id": "kAK2_WzPZhrk"
      },
      "source": [
        "Отобразим на графике число и долю пользователей на каждом шаге воронки по группам."
      ]
    },
    {
      "cell_type": "code",
      "metadata": {
        "id": "c3TESHGmZhrk",
        "colab": {
          "base_uri": "https://localhost:8080/",
          "height": 524
        },
        "outputId": "850a0c19-7d66-4942-e2be-6c63c129d7ec"
      },
      "source": [
        "plt.figure(figsize=(20, 8))\n",
        "ax = sns.barplot(y='event', x='uid', order = steps, hue='group', data=events_gr)\n",
        "ax.set_title('Share of users in groups that have passed the event at least once')\n",
        "for i,v in enumerate(ax.patches):\n",
        "    if i < 5:\n",
        "        if v.get_width() > 1000:\n",
        "            ax.text(v.get_width()-310, v.get_y()+0.2, \n",
        "                str(int(v.get_width()))+' ({:.1%})'.format(v.get_width() / group_246_total),\n",
        "                    fontsize=15, color='white')\n",
        "        else:\n",
        "            ax.text(v.get_width()+10, v.get_y()+0.2, \n",
        "                str(int(v.get_width()))+' ({:.1%})'.format(v.get_width() / group_246_total),\n",
        "                    fontsize=15, color='grey')\n",
        "    if 5 <= i < 10:\n",
        "        if v.get_width() > 1000:\n",
        "            ax.text(v.get_width()-310, v.get_y()+0.2, \n",
        "                str(int(v.get_width()))+' ({:.1%})'.format(v.get_width() / group_247_total),\n",
        "                    fontsize=15, color='white')\n",
        "        else:\n",
        "            ax.text(v.get_width()+10, v.get_y()+0.2, \n",
        "                str(int(v.get_width()))+' ({:.1%})'.format(v.get_width() / group_247_total),\n",
        "                    fontsize=15, color='grey')\n",
        "    if i >= 10:\n",
        "        if v.get_width() > 1000:\n",
        "            ax.text(v.get_width()-310, v.get_y()+0.2, \n",
        "                str(int(v.get_width()))+' ({:.1%})'.format(v.get_width() / group_248_total),\n",
        "                    fontsize=15, color='white')\n",
        "        else:\n",
        "            ax.text(v.get_width()+10, v.get_y()+0.2, \n",
        "                str(int(v.get_width()))+' ({:.1%})'.format(v.get_width() / group_248_total),\n",
        "                    fontsize=15, color='grey')\n",
        "title='Distribution  of events by users in groups'\n",
        "xlabel='users count'\n",
        "ylabel='event'\n",
        "plot_attr(title,xlabel,ylabel)\n",
        "plt.show()"
      ],
      "execution_count": 32,
      "outputs": [
        {
          "output_type": "display_data",
          "data": {
            "image/png": "[encoded data removed]",
            "text/plain": [
              "<Figure size 1440x576 with 1 Axes>"
            ]
          },
          "metadata": {}
        }
      ]
    },
    {
      "cell_type": "markdown",
      "metadata": {
        "id": "NBcaDT-2lQXE"
      },
      "source": [
        "\n",
        "\n",
        "---\n",
        "\n",
        "Построим воронку событий рассчитав, какая доля пользователей проходит на следующий шаг воронки (от числа пользователей на предыдущем)."
      ]
    },
    {
      "cell_type": "code",
      "metadata": {
        "id": "QYL0fGc9ZIJ0"
      },
      "source": [
        "def funnel(steps,steps_val,ylabel,title_text):\n",
        "    fig = go.Figure(\n",
        "        go.Funnel(\n",
        "            y = steps,\n",
        "            x = steps_val,\n",
        "            textinfo = \"value+percent previous\")\n",
        "    )\n",
        "    fig.update_layout(\n",
        "        yaxis_title=ylabel,\n",
        "        title={\n",
        "        'text': title_text,\n",
        "        'y':0.9,\n",
        "        'x':0.5,\n",
        "        'xanchor': 'center',\n",
        "        'yanchor': 'top'},\n",
        "        font={\n",
        "            'size':18\n",
        "        }    \n",
        "    )\n",
        "    fig.show()"
      ],
      "execution_count": 33,
      "outputs": []
    },
    {
      "cell_type": "code",
      "metadata": {
        "colab": {
          "base_uri": "https://localhost:8080/",
          "height": 542
        },
        "id": "NRK7K4F7l7xr",
        "outputId": "68c696da-404d-484c-af84-3d11da83e2e4"
      },
      "source": [
        "steps = events[events['event'] != 'Tutorial'].sort_values('users_cnt',ascending=False).reset_index(drop=True)['event']\n",
        "steps_val = events[events['event'] != 'Tutorial'].sort_values('users_cnt',ascending=False).reset_index(drop=True)['users_cnt']\n",
        "ylabel=\"event\"\n",
        "title_text=\"Funnel of events by users\"\n",
        "funnel(steps,steps_val,ylabel,title_text)"
      ],
      "execution_count": 34,
      "outputs": [
        {
          "output_type": "display_data",
          "data": {
            "text/html": [
              "<html>\n",
              "<head><meta charset=\"utf-8\" /></head>\n",
              "<body>\n",
              "    <div>\n",
              "            <script src=\"https://cdnjs.cloudflare.com/ajax/libs/mathjax/2.7.5/MathJax.js?config=TeX-AMS-MML_SVG\"></script><script type=\"text/javascript\">if (window.MathJax) {MathJax.Hub.Config({SVG: {font: \"STIX-Web\"}});}</script>\n",
              "                <script type=\"text/javascript\">window.PlotlyConfig = {MathJaxConfig: 'local'};</script>\n",
              "        <script src=\"https://cdn.plot.ly/plotly-latest.min.js\"></script>    \n",
              "            <div id=\"562ed4e1-4525-4e4a-8d00-84cbe7965f9a\" class=\"plotly-graph-div\" style=\"height:525px; width:100%;\"></div>\n",
              "            <script type=\"text/javascript\">\n",
              "                \n",
              "                    window.PLOTLYENV=window.PLOTLYENV || {};\n",
              "                    \n",
              "                if (document.getElementById(\"562ed4e1-4525-4e4a-8d00-84cbe7965f9a\")) {\n",
              "                    Plotly.newPlot(\n",
              "                        '562ed4e1-4525-4e4a-8d00-84cbe7965f9a',\n",
              "                        [{\"textinfo\": \"value+percent previous\", \"type\": \"funnel\", \"x\": [7423, 4597, 3736, 3540], \"y\": [\"MainScreenAppear\", \"OffersScreenAppear\", \"CartScreenAppear\", \"PaymentScreenSuccessful\"]}],\n",
              "                        {\"font\": {\"size\": 18}, \"template\": {\"data\": {\"bar\": [{\"error_x\": {\"color\": \"#2a3f5f\"}, \"error_y\": {\"color\": \"#2a3f5f\"}, \"marker\": {\"line\": {\"color\": \"#E5ECF6\", \"width\": 0.5}}, \"type\": \"bar\"}], \"barpolar\": [{\"marker\": {\"line\": {\"color\": \"#E5ECF6\", \"width\": 0.5}}, \"type\": \"barpolar\"}], \"carpet\": [{\"aaxis\": {\"endlinecolor\": \"#2a3f5f\", \"gridcolor\": \"white\", \"linecolor\": \"white\", \"minorgridcolor\": \"white\", \"startlinecolor\": \"#2a3f5f\"}, \"baxis\": {\"endlinecolor\": \"#2a3f5f\", \"gridcolor\": \"white\", \"linecolor\": \"white\", \"minorgridcolor\": \"white\", \"startlinecolor\": \"#2a3f5f\"}, \"type\": \"carpet\"}], \"choropleth\": [{\"colorbar\": {\"outlinewidth\": 0, \"ticks\": \"\"}, \"type\": \"choropleth\"}], \"contour\": [{\"colorbar\": {\"outlinewidth\": 0, \"ticks\": \"\"}, \"colorscale\": [[0.0, \"#0d0887\"], [0.1111111111111111, \"#46039f\"], [0.2222222222222222, \"#7201a8\"], [0.3333333333333333, \"#9c179e\"], [0.4444444444444444, \"#bd3786\"], [0.5555555555555556, \"#d8576b\"], [0.6666666666666666, \"#ed7953\"], [0.7777777777777778, \"#fb9f3a\"], [0.8888888888888888, \"#fdca26\"], [1.0, \"#f0f921\"]], \"type\": \"contour\"}], \"contourcarpet\": [{\"colorbar\": {\"outlinewidth\": 0, \"ticks\": \"\"}, \"type\": \"contourcarpet\"}], \"heatmap\": [{\"colorbar\": {\"outlinewidth\": 0, \"ticks\": \"\"}, \"colorscale\": [[0.0, \"#0d0887\"], [0.1111111111111111, \"#46039f\"], [0.2222222222222222, \"#7201a8\"], [0.3333333333333333, \"#9c179e\"], [0.4444444444444444, \"#bd3786\"], [0.5555555555555556, \"#d8576b\"], [0.6666666666666666, \"#ed7953\"], [0.7777777777777778, \"#fb9f3a\"], [0.8888888888888888, \"#fdca26\"], [1.0, \"#f0f921\"]], \"type\": \"heatmap\"}], \"heatmapgl\": [{\"colorbar\": {\"outlinewidth\": 0, \"ticks\": \"\"}, \"colorscale\": [[0.0, \"#0d0887\"], [0.1111111111111111, \"#46039f\"], [0.2222222222222222, \"#7201a8\"], [0.3333333333333333, \"#9c179e\"], [0.4444444444444444, \"#bd3786\"], [0.5555555555555556, \"#d8576b\"], [0.6666666666666666, \"#ed7953\"], [0.7777777777777778, \"#fb9f3a\"], [0.8888888888888888, \"#fdca26\"], [1.0, \"#f0f921\"]], \"type\": \"heatmapgl\"}], \"histogram\": [{\"marker\": {\"colorbar\": {\"outlinewidth\": 0, \"ticks\": \"\"}}, \"type\": \"histogram\"}], \"histogram2d\": [{\"colorbar\": {\"outlinewidth\": 0, \"ticks\": \"\"}, \"colorscale\": [[0.0, \"#0d0887\"], [0.1111111111111111, \"#46039f\"], [0.2222222222222222, \"#7201a8\"], [0.3333333333333333, \"#9c179e\"], [0.4444444444444444, \"#bd3786\"], [0.5555555555555556, \"#d8576b\"], [0.6666666666666666, \"#ed7953\"], [0.7777777777777778, \"#fb9f3a\"], [0.8888888888888888, \"#fdca26\"], [1.0, \"#f0f921\"]], \"type\": \"histogram2d\"}], \"histogram2dcontour\": [{\"colorbar\": {\"outlinewidth\": 0, \"ticks\": \"\"}, \"colorscale\": [[0.0, \"#0d0887\"], [0.1111111111111111, \"#46039f\"], [0.2222222222222222, \"#7201a8\"], [0.3333333333333333, \"#9c179e\"], [0.4444444444444444, \"#bd3786\"], [0.5555555555555556, \"#d8576b\"], [0.6666666666666666, \"#ed7953\"], [0.7777777777777778, \"#fb9f3a\"], [0.8888888888888888, \"#fdca26\"], [1.0, \"#f0f921\"]], \"type\": \"histogram2dcontour\"}], \"mesh3d\": [{\"colorbar\": {\"outlinewidth\": 0, \"ticks\": \"\"}, \"type\": \"mesh3d\"}], \"parcoords\": [{\"line\": {\"colorbar\": {\"outlinewidth\": 0, \"ticks\": \"\"}}, \"type\": \"parcoords\"}], \"pie\": [{\"automargin\": true, \"type\": \"pie\"}], \"scatter\": [{\"marker\": {\"colorbar\": {\"outlinewidth\": 0, \"ticks\": \"\"}}, \"type\": \"scatter\"}], \"scatter3d\": [{\"line\": {\"colorbar\": {\"outlinewidth\": 0, \"ticks\": \"\"}}, \"marker\": {\"colorbar\": {\"outlinewidth\": 0, \"ticks\": \"\"}}, \"type\": \"scatter3d\"}], \"scattercarpet\": [{\"marker\": {\"colorbar\": {\"outlinewidth\": 0, \"ticks\": \"\"}}, \"type\": \"scattercarpet\"}], \"scattergeo\": [{\"marker\": {\"colorbar\": {\"outlinewidth\": 0, \"ticks\": \"\"}}, \"type\": \"scattergeo\"}], \"scattergl\": [{\"marker\": {\"colorbar\": {\"outlinewidth\": 0, \"ticks\": \"\"}}, \"type\": \"scattergl\"}], \"scattermapbox\": [{\"marker\": {\"colorbar\": {\"outlinewidth\": 0, \"ticks\": \"\"}}, \"type\": \"scattermapbox\"}], \"scatterpolar\": [{\"marker\": {\"colorbar\": {\"outlinewidth\": 0, \"ticks\": \"\"}}, \"type\": \"scatterpolar\"}], \"scatterpolargl\": [{\"marker\": {\"colorbar\": {\"outlinewidth\": 0, \"ticks\": \"\"}}, \"type\": \"scatterpolargl\"}], \"scatterternary\": [{\"marker\": {\"colorbar\": {\"outlinewidth\": 0, \"ticks\": \"\"}}, \"type\": \"scatterternary\"}], \"surface\": [{\"colorbar\": {\"outlinewidth\": 0, \"ticks\": \"\"}, \"colorscale\": [[0.0, \"#0d0887\"], [0.1111111111111111, \"#46039f\"], [0.2222222222222222, \"#7201a8\"], [0.3333333333333333, \"#9c179e\"], [0.4444444444444444, \"#bd3786\"], [0.5555555555555556, \"#d8576b\"], [0.6666666666666666, \"#ed7953\"], [0.7777777777777778, \"#fb9f3a\"], [0.8888888888888888, \"#fdca26\"], [1.0, \"#f0f921\"]], \"type\": \"surface\"}], \"table\": [{\"cells\": {\"fill\": {\"color\": \"#EBF0F8\"}, \"line\": {\"color\": \"white\"}}, \"header\": {\"fill\": {\"color\": \"#C8D4E3\"}, \"line\": {\"color\": \"white\"}}, \"type\": \"table\"}]}, \"layout\": {\"annotationdefaults\": {\"arrowcolor\": \"#2a3f5f\", \"arrowhead\": 0, \"arrowwidth\": 1}, \"coloraxis\": {\"colorbar\": {\"outlinewidth\": 0, \"ticks\": \"\"}}, \"colorscale\": {\"diverging\": [[0, \"#8e0152\"], [0.1, \"#c51b7d\"], [0.2, \"#de77ae\"], [0.3, \"#f1b6da\"], [0.4, \"#fde0ef\"], [0.5, \"#f7f7f7\"], [0.6, \"#e6f5d0\"], [0.7, \"#b8e186\"], [0.8, \"#7fbc41\"], [0.9, \"#4d9221\"], [1, \"#276419\"]], \"sequential\": [[0.0, \"#0d0887\"], [0.1111111111111111, \"#46039f\"], [0.2222222222222222, \"#7201a8\"], [0.3333333333333333, \"#9c179e\"], [0.4444444444444444, \"#bd3786\"], [0.5555555555555556, \"#d8576b\"], [0.6666666666666666, \"#ed7953\"], [0.7777777777777778, \"#fb9f3a\"], [0.8888888888888888, \"#fdca26\"], [1.0, \"#f0f921\"]], \"sequentialminus\": [[0.0, \"#0d0887\"], [0.1111111111111111, \"#46039f\"], [0.2222222222222222, \"#7201a8\"], [0.3333333333333333, \"#9c179e\"], [0.4444444444444444, \"#bd3786\"], [0.5555555555555556, \"#d8576b\"], [0.6666666666666666, \"#ed7953\"], [0.7777777777777778, \"#fb9f3a\"], [0.8888888888888888, \"#fdca26\"], [1.0, \"#f0f921\"]]}, \"colorway\": [\"#636efa\", \"#EF553B\", \"#00cc96\", \"#ab63fa\", \"#FFA15A\", \"#19d3f3\", \"#FF6692\", \"#B6E880\", \"#FF97FF\", \"#FECB52\"], \"font\": {\"color\": \"#2a3f5f\"}, \"geo\": {\"bgcolor\": \"white\", \"lakecolor\": \"white\", \"landcolor\": \"#E5ECF6\", \"showlakes\": true, \"showland\": true, \"subunitcolor\": \"white\"}, \"hoverlabel\": {\"align\": \"left\"}, \"hovermode\": \"closest\", \"mapbox\": {\"style\": \"light\"}, \"paper_bgcolor\": \"white\", \"plot_bgcolor\": \"#E5ECF6\", \"polar\": {\"angularaxis\": {\"gridcolor\": \"white\", \"linecolor\": \"white\", \"ticks\": \"\"}, \"bgcolor\": \"#E5ECF6\", \"radialaxis\": {\"gridcolor\": \"white\", \"linecolor\": \"white\", \"ticks\": \"\"}}, \"scene\": {\"xaxis\": {\"backgroundcolor\": \"#E5ECF6\", \"gridcolor\": \"white\", \"gridwidth\": 2, \"linecolor\": \"white\", \"showbackground\": true, \"ticks\": \"\", \"zerolinecolor\": \"white\"}, \"yaxis\": {\"backgroundcolor\": \"#E5ECF6\", \"gridcolor\": \"white\", \"gridwidth\": 2, \"linecolor\": \"white\", \"showbackground\": true, \"ticks\": \"\", \"zerolinecolor\": \"white\"}, \"zaxis\": {\"backgroundcolor\": \"#E5ECF6\", \"gridcolor\": \"white\", \"gridwidth\": 2, \"linecolor\": \"white\", \"showbackground\": true, \"ticks\": \"\", \"zerolinecolor\": \"white\"}}, \"shapedefaults\": {\"line\": {\"color\": \"#2a3f5f\"}}, \"ternary\": {\"aaxis\": {\"gridcolor\": \"white\", \"linecolor\": \"white\", \"ticks\": \"\"}, \"baxis\": {\"gridcolor\": \"white\", \"linecolor\": \"white\", \"ticks\": \"\"}, \"bgcolor\": \"#E5ECF6\", \"caxis\": {\"gridcolor\": \"white\", \"linecolor\": \"white\", \"ticks\": \"\"}}, \"title\": {\"x\": 0.05}, \"xaxis\": {\"automargin\": true, \"gridcolor\": \"white\", \"linecolor\": \"white\", \"ticks\": \"\", \"title\": {\"standoff\": 15}, \"zerolinecolor\": \"white\", \"zerolinewidth\": 2}, \"yaxis\": {\"automargin\": true, \"gridcolor\": \"white\", \"linecolor\": \"white\", \"ticks\": \"\", \"title\": {\"standoff\": 15}, \"zerolinecolor\": \"white\", \"zerolinewidth\": 2}}}, \"title\": {\"text\": \"Funnel of events by users\", \"x\": 0.5, \"xanchor\": \"center\", \"y\": 0.9, \"yanchor\": \"top\"}, \"yaxis\": {\"title\": {\"text\": \"event\"}}},\n",
              "                        {\"responsive\": true}\n",
              "                    ).then(function(){\n",
              "                            \n",
              "var gd = document.getElementById('562ed4e1-4525-4e4a-8d00-84cbe7965f9a');\n",
              "var x = new MutationObserver(function (mutations, observer) {{\n",
              "        var display = window.getComputedStyle(gd).display;\n",
              "        if (!display || display === 'none') {{\n",
              "            console.log([gd, 'removed!']);\n",
              "            Plotly.purge(gd);\n",
              "            observer.disconnect();\n",
              "        }}\n",
              "}});\n",
              "\n",
              "// Listen for the removal of the full notebook cells\n",
              "var notebookContainer = gd.closest('#notebook-container');\n",
              "if (notebookContainer) {{\n",
              "    x.observe(notebookContainer, {childList: true});\n",
              "}}\n",
              "\n",
              "// Listen for the clearing of the current output cell\n",
              "var outputEl = gd.closest('.output');\n",
              "if (outputEl) {{\n",
              "    x.observe(outputEl, {childList: true});\n",
              "}}\n",
              "\n",
              "                        })\n",
              "                };\n",
              "                \n",
              "            </script>\n",
              "        </div>\n",
              "</body>\n",
              "</html>"
            ]
          },
          "metadata": {}
        }
      ]
    },
    {
      "cell_type": "markdown",
      "metadata": {
        "id": "3e44oG54yuYM"
      },
      "source": [
        "Наибольшее количество пользователей \"теряется\" при переходе с первого шага воронки на второй: число перешедших на страницу каталога на 38% меньше количества пользователей, открывших главную страницу.\n",
        "\n",
        "Помимо естественных причин оттока пользователей (случайное открытие, не соотвествие тематики интересам и прочее), этот факт может свидетельствовать о проблемах с дизайном main-page, кросс-браузерными, кросс-платформенными проблемами отображения, сложной для пользователя маршрутизацией и т.д. Требуется более детально исследование этого факта."
      ]
    },
    {
      "cell_type": "markdown",
      "metadata": {
        "id": "2yBHpDCa0jyi"
      },
      "source": [
        "\n",
        "\n",
        "---\n",
        "\n",
        "Определим пользователей, последовательно проходящих от первого события до оплаты."
      ]
    },
    {
      "cell_type": "code",
      "metadata": {
        "id": "RjQEqu5b486L"
      },
      "source": [
        "full_step_users = logs_rel[ logs_rel['event'] != 'Tutorial'].pivot_table(index=['uid'], columns='event', values='timestamp', aggfunc='min').reset_index()\n",
        "full_step_users['one_steps_flag'] = (~full_step_users['MainScreenAppear'].isna())\n",
        "full_step_users['two_steps_flag'] = full_step_users['one_steps_flag'] & (full_step_users['OffersScreenAppear'] > full_step_users['MainScreenAppear'])\n",
        "full_step_users['three_steps_flag'] = full_step_users['two_steps_flag'] & (full_step_users['CartScreenAppear'] > full_step_users['OffersScreenAppear'])\n",
        "full_step_users['all_steps_flag'] = full_step_users['three_steps_flag'] & (full_step_users['PaymentScreenSuccessful'] > full_step_users['CartScreenAppear'])"
      ],
      "execution_count": 35,
      "outputs": []
    },
    {
      "cell_type": "markdown",
      "metadata": {
        "id": "OG4mFZLxc6Pc"
      },
      "source": [
        "Построим воронку событий для пользователей, генерирующих события в соотвествии с предполагаемым порядком действий."
      ]
    },
    {
      "cell_type": "code",
      "metadata": {
        "colab": {
          "base_uri": "https://localhost:8080/",
          "height": 542
        },
        "id": "rzg9oVt5c6bV",
        "outputId": "c73fa69d-791b-429f-ff74-264a3950ff98"
      },
      "source": [
        "steps_val = [full_step_users['one_steps_flag'].sum(),full_step_users['two_steps_flag'].sum(), full_step_users['three_steps_flag'].sum(), full_step_users['all_steps_flag'].sum()]\n",
        "ylabel=\"event\"\n",
        "title_text=\"Funnel of events step-by-step users\"\n",
        "funnel(steps,steps_val,ylabel,title_text)"
      ],
      "execution_count": 36,
      "outputs": [
        {
          "output_type": "display_data",
          "data": {
            "text/html": [
              "<html>\n",
              "<head><meta charset=\"utf-8\" /></head>\n",
              "<body>\n",
              "    <div>\n",
              "            <script src=\"https://cdnjs.cloudflare.com/ajax/libs/mathjax/2.7.5/MathJax.js?config=TeX-AMS-MML_SVG\"></script><script type=\"text/javascript\">if (window.MathJax) {MathJax.Hub.Config({SVG: {font: \"STIX-Web\"}});}</script>\n",
              "                <script type=\"text/javascript\">window.PlotlyConfig = {MathJaxConfig: 'local'};</script>\n",
              "        <script src=\"https://cdn.plot.ly/plotly-latest.min.js\"></script>    \n",
              "            <div id=\"69820441-9e84-48af-939a-e3884d325a6e\" class=\"plotly-graph-div\" style=\"height:525px; width:100%;\"></div>\n",
              "            <script type=\"text/javascript\">\n",
              "                \n",
              "                    window.PLOTLYENV=window.PLOTLYENV || {};\n",
              "                    \n",
              "                if (document.getElementById(\"69820441-9e84-48af-939a-e3884d325a6e\")) {\n",
              "                    Plotly.newPlot(\n",
              "                        '69820441-9e84-48af-939a-e3884d325a6e',\n",
              "                        [{\"textinfo\": \"value+percent previous\", \"type\": \"funnel\", \"x\": [7423, 4203, 1781, 458], \"y\": [\"MainScreenAppear\", \"OffersScreenAppear\", \"CartScreenAppear\", \"PaymentScreenSuccessful\"]}],\n",
              "                        {\"font\": {\"size\": 18}, \"template\": {\"data\": {\"bar\": [{\"error_x\": {\"color\": \"#2a3f5f\"}, \"error_y\": {\"color\": \"#2a3f5f\"}, \"marker\": {\"line\": {\"color\": \"#E5ECF6\", \"width\": 0.5}}, \"type\": \"bar\"}], \"barpolar\": [{\"marker\": {\"line\": {\"color\": \"#E5ECF6\", \"width\": 0.5}}, \"type\": \"barpolar\"}], \"carpet\": [{\"aaxis\": {\"endlinecolor\": \"#2a3f5f\", \"gridcolor\": \"white\", \"linecolor\": \"white\", \"minorgridcolor\": \"white\", \"startlinecolor\": \"#2a3f5f\"}, \"baxis\": {\"endlinecolor\": \"#2a3f5f\", \"gridcolor\": \"white\", \"linecolor\": \"white\", \"minorgridcolor\": \"white\", \"startlinecolor\": \"#2a3f5f\"}, \"type\": \"carpet\"}], \"choropleth\": [{\"colorbar\": {\"outlinewidth\": 0, \"ticks\": \"\"}, \"type\": \"choropleth\"}], \"contour\": [{\"colorbar\": {\"outlinewidth\": 0, \"ticks\": \"\"}, \"colorscale\": [[0.0, \"#0d0887\"], [0.1111111111111111, \"#46039f\"], [0.2222222222222222, \"#7201a8\"], [0.3333333333333333, \"#9c179e\"], [0.4444444444444444, \"#bd3786\"], [0.5555555555555556, \"#d8576b\"], [0.6666666666666666, \"#ed7953\"], [0.7777777777777778, \"#fb9f3a\"], [0.8888888888888888, \"#fdca26\"], [1.0, \"#f0f921\"]], \"type\": \"contour\"}], \"contourcarpet\": [{\"colorbar\": {\"outlinewidth\": 0, \"ticks\": \"\"}, \"type\": \"contourcarpet\"}], \"heatmap\": [{\"colorbar\": {\"outlinewidth\": 0, \"ticks\": \"\"}, \"colorscale\": [[0.0, \"#0d0887\"], [0.1111111111111111, \"#46039f\"], [0.2222222222222222, \"#7201a8\"], [0.3333333333333333, \"#9c179e\"], [0.4444444444444444, \"#bd3786\"], [0.5555555555555556, \"#d8576b\"], [0.6666666666666666, \"#ed7953\"], [0.7777777777777778, \"#fb9f3a\"], [0.8888888888888888, \"#fdca26\"], [1.0, \"#f0f921\"]], \"type\": \"heatmap\"}], \"heatmapgl\": [{\"colorbar\": {\"outlinewidth\": 0, \"ticks\": \"\"}, \"colorscale\": [[0.0, \"#0d0887\"], [0.1111111111111111, \"#46039f\"], [0.2222222222222222, \"#7201a8\"], [0.3333333333333333, \"#9c179e\"], [0.4444444444444444, \"#bd3786\"], [0.5555555555555556, \"#d8576b\"], [0.6666666666666666, \"#ed7953\"], [0.7777777777777778, \"#fb9f3a\"], [0.8888888888888888, \"#fdca26\"], [1.0, \"#f0f921\"]], \"type\": \"heatmapgl\"}], \"histogram\": [{\"marker\": {\"colorbar\": {\"outlinewidth\": 0, \"ticks\": \"\"}}, \"type\": \"histogram\"}], \"histogram2d\": [{\"colorbar\": {\"outlinewidth\": 0, \"ticks\": \"\"}, \"colorscale\": [[0.0, \"#0d0887\"], [0.1111111111111111, \"#46039f\"], [0.2222222222222222, \"#7201a8\"], [0.3333333333333333, \"#9c179e\"], [0.4444444444444444, \"#bd3786\"], [0.5555555555555556, \"#d8576b\"], [0.6666666666666666, \"#ed7953\"], [0.7777777777777778, \"#fb9f3a\"], [0.8888888888888888, \"#fdca26\"], [1.0, \"#f0f921\"]], \"type\": \"histogram2d\"}], \"histogram2dcontour\": [{\"colorbar\": {\"outlinewidth\": 0, \"ticks\": \"\"}, \"colorscale\": [[0.0, \"#0d0887\"], [0.1111111111111111, \"#46039f\"], [0.2222222222222222, \"#7201a8\"], [0.3333333333333333, \"#9c179e\"], [0.4444444444444444, \"#bd3786\"], [0.5555555555555556, \"#d8576b\"], [0.6666666666666666, \"#ed7953\"], [0.7777777777777778, \"#fb9f3a\"], [0.8888888888888888, \"#fdca26\"], [1.0, \"#f0f921\"]], \"type\": \"histogram2dcontour\"}], \"mesh3d\": [{\"colorbar\": {\"outlinewidth\": 0, \"ticks\": \"\"}, \"type\": \"mesh3d\"}], \"parcoords\": [{\"line\": {\"colorbar\": {\"outlinewidth\": 0, \"ticks\": \"\"}}, \"type\": \"parcoords\"}], \"pie\": [{\"automargin\": true, \"type\": \"pie\"}], \"scatter\": [{\"marker\": {\"colorbar\": {\"outlinewidth\": 0, \"ticks\": \"\"}}, \"type\": \"scatter\"}], \"scatter3d\": [{\"line\": {\"colorbar\": {\"outlinewidth\": 0, \"ticks\": \"\"}}, \"marker\": {\"colorbar\": {\"outlinewidth\": 0, \"ticks\": \"\"}}, \"type\": \"scatter3d\"}], \"scattercarpet\": [{\"marker\": {\"colorbar\": {\"outlinewidth\": 0, \"ticks\": \"\"}}, \"type\": \"scattercarpet\"}], \"scattergeo\": [{\"marker\": {\"colorbar\": {\"outlinewidth\": 0, \"ticks\": \"\"}}, \"type\": \"scattergeo\"}], \"scattergl\": [{\"marker\": {\"colorbar\": {\"outlinewidth\": 0, \"ticks\": \"\"}}, \"type\": \"scattergl\"}], \"scattermapbox\": [{\"marker\": {\"colorbar\": {\"outlinewidth\": 0, \"ticks\": \"\"}}, \"type\": \"scattermapbox\"}], \"scatterpolar\": [{\"marker\": {\"colorbar\": {\"outlinewidth\": 0, \"ticks\": \"\"}}, \"type\": \"scatterpolar\"}], \"scatterpolargl\": [{\"marker\": {\"colorbar\": {\"outlinewidth\": 0, \"ticks\": \"\"}}, \"type\": \"scatterpolargl\"}], \"scatterternary\": [{\"marker\": {\"colorbar\": {\"outlinewidth\": 0, \"ticks\": \"\"}}, \"type\": \"scatterternary\"}], \"surface\": [{\"colorbar\": {\"outlinewidth\": 0, \"ticks\": \"\"}, \"colorscale\": [[0.0, \"#0d0887\"], [0.1111111111111111, \"#46039f\"], [0.2222222222222222, \"#7201a8\"], [0.3333333333333333, \"#9c179e\"], [0.4444444444444444, \"#bd3786\"], [0.5555555555555556, \"#d8576b\"], [0.6666666666666666, \"#ed7953\"], [0.7777777777777778, \"#fb9f3a\"], [0.8888888888888888, \"#fdca26\"], [1.0, \"#f0f921\"]], \"type\": \"surface\"}], \"table\": [{\"cells\": {\"fill\": {\"color\": \"#EBF0F8\"}, \"line\": {\"color\": \"white\"}}, \"header\": {\"fill\": {\"color\": \"#C8D4E3\"}, \"line\": {\"color\": \"white\"}}, \"type\": \"table\"}]}, \"layout\": {\"annotationdefaults\": {\"arrowcolor\": \"#2a3f5f\", \"arrowhead\": 0, \"arrowwidth\": 1}, \"coloraxis\": {\"colorbar\": {\"outlinewidth\": 0, \"ticks\": \"\"}}, \"colorscale\": {\"diverging\": [[0, \"#8e0152\"], [0.1, \"#c51b7d\"], [0.2, \"#de77ae\"], [0.3, \"#f1b6da\"], [0.4, \"#fde0ef\"], [0.5, \"#f7f7f7\"], [0.6, \"#e6f5d0\"], [0.7, \"#b8e186\"], [0.8, \"#7fbc41\"], [0.9, \"#4d9221\"], [1, \"#276419\"]], \"sequential\": [[0.0, \"#0d0887\"], [0.1111111111111111, \"#46039f\"], [0.2222222222222222, \"#7201a8\"], [0.3333333333333333, \"#9c179e\"], [0.4444444444444444, \"#bd3786\"], [0.5555555555555556, \"#d8576b\"], [0.6666666666666666, \"#ed7953\"], [0.7777777777777778, \"#fb9f3a\"], [0.8888888888888888, \"#fdca26\"], [1.0, \"#f0f921\"]], \"sequentialminus\": [[0.0, \"#0d0887\"], [0.1111111111111111, \"#46039f\"], [0.2222222222222222, \"#7201a8\"], [0.3333333333333333, \"#9c179e\"], [0.4444444444444444, \"#bd3786\"], [0.5555555555555556, \"#d8576b\"], [0.6666666666666666, \"#ed7953\"], [0.7777777777777778, \"#fb9f3a\"], [0.8888888888888888, \"#fdca26\"], [1.0, \"#f0f921\"]]}, \"colorway\": [\"#636efa\", \"#EF553B\", \"#00cc96\", \"#ab63fa\", \"#FFA15A\", \"#19d3f3\", \"#FF6692\", \"#B6E880\", \"#FF97FF\", \"#FECB52\"], \"font\": {\"color\": \"#2a3f5f\"}, \"geo\": {\"bgcolor\": \"white\", \"lakecolor\": \"white\", \"landcolor\": \"#E5ECF6\", \"showlakes\": true, \"showland\": true, \"subunitcolor\": \"white\"}, \"hoverlabel\": {\"align\": \"left\"}, \"hovermode\": \"closest\", \"mapbox\": {\"style\": \"light\"}, \"paper_bgcolor\": \"white\", \"plot_bgcolor\": \"#E5ECF6\", \"polar\": {\"angularaxis\": {\"gridcolor\": \"white\", \"linecolor\": \"white\", \"ticks\": \"\"}, \"bgcolor\": \"#E5ECF6\", \"radialaxis\": {\"gridcolor\": \"white\", \"linecolor\": \"white\", \"ticks\": \"\"}}, \"scene\": {\"xaxis\": {\"backgroundcolor\": \"#E5ECF6\", \"gridcolor\": \"white\", \"gridwidth\": 2, \"linecolor\": \"white\", \"showbackground\": true, \"ticks\": \"\", \"zerolinecolor\": \"white\"}, \"yaxis\": {\"backgroundcolor\": \"#E5ECF6\", \"gridcolor\": \"white\", \"gridwidth\": 2, \"linecolor\": \"white\", \"showbackground\": true, \"ticks\": \"\", \"zerolinecolor\": \"white\"}, \"zaxis\": {\"backgroundcolor\": \"#E5ECF6\", \"gridcolor\": \"white\", \"gridwidth\": 2, \"linecolor\": \"white\", \"showbackground\": true, \"ticks\": \"\", \"zerolinecolor\": \"white\"}}, \"shapedefaults\": {\"line\": {\"color\": \"#2a3f5f\"}}, \"ternary\": {\"aaxis\": {\"gridcolor\": \"white\", \"linecolor\": \"white\", \"ticks\": \"\"}, \"baxis\": {\"gridcolor\": \"white\", \"linecolor\": \"white\", \"ticks\": \"\"}, \"bgcolor\": \"#E5ECF6\", \"caxis\": {\"gridcolor\": \"white\", \"linecolor\": \"white\", \"ticks\": \"\"}}, \"title\": {\"x\": 0.05}, \"xaxis\": {\"automargin\": true, \"gridcolor\": \"white\", \"linecolor\": \"white\", \"ticks\": \"\", \"title\": {\"standoff\": 15}, \"zerolinecolor\": \"white\", \"zerolinewidth\": 2}, \"yaxis\": {\"automargin\": true, \"gridcolor\": \"white\", \"linecolor\": \"white\", \"ticks\": \"\", \"title\": {\"standoff\": 15}, \"zerolinecolor\": \"white\", \"zerolinewidth\": 2}}}, \"title\": {\"text\": \"Funnel of events step-by-step users\", \"x\": 0.5, \"xanchor\": \"center\", \"y\": 0.9, \"yanchor\": \"top\"}, \"yaxis\": {\"title\": {\"text\": \"event\"}}},\n",
              "                        {\"responsive\": true}\n",
              "                    ).then(function(){\n",
              "                            \n",
              "var gd = document.getElementById('69820441-9e84-48af-939a-e3884d325a6e');\n",
              "var x = new MutationObserver(function (mutations, observer) {{\n",
              "        var display = window.getComputedStyle(gd).display;\n",
              "        if (!display || display === 'none') {{\n",
              "            console.log([gd, 'removed!']);\n",
              "            Plotly.purge(gd);\n",
              "            observer.disconnect();\n",
              "        }}\n",
              "}});\n",
              "\n",
              "// Listen for the removal of the full notebook cells\n",
              "var notebookContainer = gd.closest('#notebook-container');\n",
              "if (notebookContainer) {{\n",
              "    x.observe(notebookContainer, {childList: true});\n",
              "}}\n",
              "\n",
              "// Listen for the clearing of the current output cell\n",
              "var outputEl = gd.closest('.output');\n",
              "if (outputEl) {{\n",
              "    x.observe(outputEl, {childList: true});\n",
              "}}\n",
              "\n",
              "                        })\n",
              "                };\n",
              "                \n",
              "            </script>\n",
              "        </div>\n",
              "</body>\n",
              "</html>"
            ]
          },
          "metadata": {}
        }
      ]
    },
    {
      "cell_type": "markdown",
      "metadata": {
        "id": "Zous_tMPgdV-"
      },
      "source": [
        "Изучение воронки событий для пользователей, генерирующих события в соотвествии с предполагаемым порядком действий, позволяет определеить еще одно узкое место приложения: при переходе от корзины до завершения оплаты \"теряется\" две трети пользователей. Это может свидетельствовать о наличии проблем как с дизайном приложения, так и с работой api платежной системы или доступными вариантами оплаты."
      ]
    },
    {
      "cell_type": "code",
      "metadata": {
        "colab": {
          "base_uri": "https://localhost:8080/"
        },
        "id": "Kl9OX8iH5OLI",
        "outputId": "5283db58-c335-404c-f9da-1ba6c6078802"
      },
      "source": [
        "print('\\033[1m','Доля пользователей, последовательно прошедших 4 шага воронки: {:.1%}.'.\\\n",
        "      format(full_step_users.all_steps_flag.sum()/len((~full_step_users['MainScreenAppear'].isna()))),'\\033[0m')"
      ],
      "execution_count": 37,
      "outputs": [
        {
          "output_type": "stream",
          "name": "stdout",
          "text": [
            "\u001b[1m Доля пользователей, последовательно прошедших 4 шага воронки: 6.1%. \u001b[0m\n"
          ]
        }
      ]
    },
    {
      "cell_type": "markdown",
      "metadata": {
        "id": "tEChuzPy9hKA"
      },
      "source": [
        "Маленькая доля пользователей, последовательно прошедших все четыре шага воронки, может свидетельствовать о том, что главная страница не является единственным стартовым лендингом для сессии, завершающейся заказом. Скорее всего, часть заказов несколько дублирующих шагов проходит либо на маркетплейсах, либо на других страницах приложения.\n",
        "\n",
        "---\n",
        "\n"
      ]
    },
    {
      "cell_type": "markdown",
      "metadata": {
        "id": "sqQyW5vzbvII"
      },
      "source": [
        "##  **Изучение результатов эксперимента**<a  class=\"anchor\" id=\"testing\"></a>"
      ]
    },
    {
      "cell_type": "markdown",
      "metadata": {
        "id": "__F7J4IFBNdv"
      },
      "source": [
        "Определим размеры групп эксперимента и проиллюстрируем их соотношение на графике."
      ]
    },
    {
      "cell_type": "code",
      "metadata": {
        "id": "qefKG9OBBO2_"
      },
      "source": [
        "df=logs_rel.pivot_table(index='group',values='uid',aggfunc=['nunique']).reset_index()\n",
        "df.columns=['group','users_cnt']"
      ],
      "execution_count": 38,
      "outputs": []
    },
    {
      "cell_type": "code",
      "metadata": {
        "colab": {
          "base_uri": "https://localhost:8080/",
          "height": 524
        },
        "id": "xK9OSPlwBNok",
        "outputId": "305f254b-d1e9-4e12-c2ac-a7bad647e2f2"
      },
      "source": [
        "fig,ax = plt.subplots(figsize=(10, 8))\n",
        "ax=sns.barplot(x='group', y='users_cnt', data=df)\n",
        "title='Ratio of groups by number'\n",
        "xlabel='group'\n",
        "ylabel='users count'\n",
        "for i, v in enumerate(df['users_cnt']):\n",
        "            if isinstance(v, float): v=round(v,2)\n",
        "            ax.text(i-0.1,v*0.5, str(v), fontsize=20,color='white')\n",
        "plot_attr(title,xlabel,ylabel)\n",
        "fig.show() "
      ],
      "execution_count": 39,
      "outputs": [
        {
          "output_type": "display_data",
          "data": {
            "image/png": "[encoded data removed]",
            "text/plain": [
              "<Figure size 720x576 with 1 Axes>"
            ]
          },
          "metadata": {}
        }
      ]
    },
    {
      "cell_type": "markdown",
      "metadata": {
        "id": "QINhJD9Eh_mA"
      },
      "source": [
        "Группы пользователей, сформированные в результате проведения эксперимента, практически равны по численности.\n",
        "\n",
        "---\n",
        "\n"
      ]
    },
    {
      "cell_type": "markdown",
      "metadata": {
        "id": "xWAJMqD-HV0l"
      },
      "source": [
        "При выборе критического уровня значимости необходимо обращать внимание на объем выборки. При увеличении объема выборки случайные отклонения компенсируют друг друга, и получить значимое различие в выборках при их однородности менее вероятно. При больших выборках, измеряемых тысячами наблюдений (в нашем случае наблюдением является поведение каждого пользователя), уверенно отвергать нулевую гипотезу можно только при значимости меньшей 0,01.\n",
        "Примем уровень значимости альфа равным 0,01.\n",
        "\n",
        "---\n",
        "\n"
      ]
    },
    {
      "cell_type": "markdown",
      "metadata": {
        "id": "PlQjgGjNjafy"
      },
      "source": [
        "Сформируем датафреймы по группам эксперимента:"
      ]
    },
    {
      "cell_type": "code",
      "metadata": {
        "id": "fuuiNLpWiRux"
      },
      "source": [
        "group_246=logs_rel.query('group==246').copy()\n",
        "group_247=logs_rel.query('group==247').copy()\n",
        "group_248=logs_rel.query('group==248').copy()"
      ],
      "execution_count": 40,
      "outputs": []
    },
    {
      "cell_type": "markdown",
      "metadata": {
        "id": "xqnhpjSjjmeq"
      },
      "source": [
        "\n",
        "\n",
        "---\n",
        "\n",
        "\n",
        "Проверим однородность контрольных групп, 246 и 247. Сформулируем нулевую гипотезу: среднее количество событий, генерируемых пользователями групп 246 и 247 не отличается. Соотвественно, альтернативной гипотезой будет являться: есть статистически значимые различия в средних по выборкам 246 и 247."
      ]
    },
    {
      "cell_type": "markdown",
      "metadata": {
        "id": "GwDenSJjq5lN"
      },
      "source": [
        "Для выбора критерия оценки статистической значимости (t-критерия Стюарта или Манна-Уитни) различий в средних между группами проверим выборки на нормальность распределения данных в самих выборках и t-статистики выборок.\n",
        "Применим функцию, проверяющую гипотезу о нормальном распределении данных (строящую для данных графики распределения вероятностей (Q-Q plot) и проводящую тест Шапиро-Вилка)."
      ]
    },
    {
      "cell_type": "code",
      "metadata": {
        "id": "vDqPW-G7iqVW"
      },
      "source": [
        "group_246_evmean=group_246.groupby('uid')['event'].agg('count').reset_index()\n",
        "group_247_evmean=group_247.groupby('uid')['event'].agg('count').reset_index()"
      ],
      "execution_count": 41,
      "outputs": []
    },
    {
      "cell_type": "code",
      "metadata": {
        "id": "eivdX4PIr_xL"
      },
      "source": [
        "def distribution_normality_check(data1,data2,n=10000,s=0.1,alpha=0.001):\n",
        "\n",
        "    def set_titles(ax,title):\n",
        "        ax.set_title(title)\n",
        "        ax.title.set_color('black')\n",
        "        ax.title.set_size(14)\n",
        "\n",
        "    sample_size=round(min(len(data1),len(data2))*s)\n",
        "    result=[]\n",
        "    for _ in range(n):\n",
        "        result.append(st.ttest_ind(np.random.choice(np.array(data1),size=sample_size,replace=False),np.random.choice(np.array(data2),size=sample_size,replace=False)).statistic)\n",
        "\n",
        "    plt.figure(figsize=(21,7))    \n",
        "    ax1 = plt.subplot2grid((3, 3), (0, 0),rowspan=2)\n",
        "    st.probplot(data1, dist=\"norm\", plot=plt, rvalue=True)\n",
        "    set_titles(ax1,'Proximity to the normal distribution (red line) of first sample')\n",
        "    ax2 = plt.subplot2grid((3, 3), (0, 1),rowspan=2)\n",
        "    st.probplot(data2, dist=\"norm\", plot=plt,rvalue=True)\n",
        "    set_titles(ax2,'Proximity to the normal distribution (red line) of second sample')\n",
        "    ax3 = plt.subplot2grid((3, 3), (0, 2),rowspan=2)\n",
        "    st.probplot(result, dist=\"norm\", plot=plt,rvalue=True)\n",
        "    set_titles(ax3,'Proximity to the normal distribution (red line) of t-statistics')\n",
        "   \n",
        "    def shapiro_test(data):\n",
        "        x,y = st.shapiro(data)\n",
        "        p_value=format(y,'.8f')\n",
        "        if (y < alpha):\n",
        "            verdict='Normal distribution of data: rejected'\n",
        "            passed='no'\n",
        "        else:\n",
        "            verdict='Normal distribution of data: not rejected'\n",
        "            passed='yes'\n",
        "        return ['p-value = '+p_value+'\\n'+verdict,passed]\n",
        "   \n",
        "    def plt_text(ax,text,passed):\n",
        "        if passed=='yes':\n",
        "            color='green'\n",
        "        else:\n",
        "            color='tab:red'\n",
        "        ax.text(0.5,0.5,text,fontsize='x-large',horizontalalignment='center',verticalalignment='center',linespacing=2,c=color) \n",
        "        ax.set_xticks([])\n",
        "        ax.set_yticks([])\n",
        "        ax.axis('off')\n",
        "    \n",
        "    ax4 = plt.subplot2grid((3, 3), (2, 0))\n",
        "    test_res=shapiro_test(data1)\n",
        "    text='Shapiro–Wilk test for first sample:\\n'+test_res[0]\n",
        "    plt_text(ax4,text,test_res[1])\n",
        "    \n",
        "    ax5 = plt.subplot2grid((3, 3), (2, 1))\n",
        "    test_res=shapiro_test(data2)\n",
        "    text='Shapiro–Wilk test for second sample:\\n'+test_res[0]\n",
        "    plt_text(ax5,text,test_res[1])\n",
        "\n",
        "    ax6 = plt.subplot2grid((3, 3), (2, 2))\n",
        "    test_res=shapiro_test(result)\n",
        "    text='Shapiro–Wilk test for t-statistics:\\n'+test_res[0]\n",
        "    plt_text(ax6,text,test_res[1])\n",
        "\n",
        "    plt.tight_layout()\n",
        "    plt.show() "
      ],
      "execution_count": 42,
      "outputs": []
    },
    {
      "cell_type": "markdown",
      "metadata": {
        "id": "Uvn7Bz2cEeaO"
      },
      "source": [
        "Сформулируем нулевую гипотезу проверки на нормальность: данные в выборках 246 и 247 распределены нормально и  для оценки статистической значимости различий в их средних может быть использован дисперсионный анализ или t-критерий Стюарта.\n",
        "Соотвественно, альтернативной гипотезой будет: распределение данных в выборках 246 и 247 отличается от нормального и для оценки статистической значимости различий в их средних следует использовать критерий Манна-Уитни."
      ]
    },
    {
      "cell_type": "code",
      "metadata": {
        "colab": {
          "base_uri": "https://localhost:8080/",
          "height": 509
        },
        "id": "xu3tYbM5kOao",
        "outputId": "0996ace1-4514-458c-9756-51fa3a561135"
      },
      "source": [
        "distribution_normality_check(group_246_evmean.event,group_247_evmean.event)"
      ],
      "execution_count": 43,
      "outputs": [
        {
          "output_type": "display_data",
          "data": {
            "image/png": "[encoded data removed]",
            "text/plain": [
              "<Figure size 1512x504 with 6 Axes>"
            ]
          },
          "metadata": {}
        }
      ]
    },
    {
      "cell_type": "markdown",
      "metadata": {
        "id": "-iNgG1l_vvhP"
      },
      "source": [
        "Отвергаем гипотезу о нормальности распределания данных. \n",
        "\n",
        "Для проверки нулевой гипотезы о том, что среднее количество событий, генерируемых пользователями групп 246 и 247 не отличается, применим критерий Манна-Уитни. Пороговый уровень значимости примем в 1% (alpha=0.01). "
      ]
    },
    {
      "cell_type": "code",
      "metadata": {
        "colab": {
          "base_uri": "https://localhost:8080/"
        },
        "id": "stIw-JA4q54H",
        "outputId": "dc1341a3-a8df-4014-92c8-f0ce223961a2"
      },
      "source": [
        "print(\"p-value: {0:.3f}\".format(st.mannwhitneyu(group_246_evmean.event,group_247_evmean.event, alternative=\"two-sided\")[1]))"
      ],
      "execution_count": 44,
      "outputs": [
        {
          "output_type": "stream",
          "name": "stdout",
          "text": [
            "p-value: 0.807\n"
          ]
        }
      ]
    },
    {
      "cell_type": "markdown",
      "metadata": {
        "id": "Pjgiw_hcXQW2"
      },
      "source": [
        "Вероятность получить подобные или еще более выраженные отклонения средних из этих двух выборок при условии верности нулевой гипотезы превышает пороговое значение уровня значимости. **Вывод:** не отвергаем нулевую гипотезу. Нельзя утверждать, что среднее количество событий по группе эксперимента 246 отличается от среднего количества событий по группе эксперимента 247."
      ]
    },
    {
      "cell_type": "markdown",
      "metadata": {
        "id": "HQ_CmjzT_Xe_"
      },
      "source": [
        "Проверим с помощью пропорционального z-теста, будет ли отличие между группами статистически достоверным. "
      ]
    },
    {
      "cell_type": "code",
      "metadata": {
        "id": "hg_5fa1uqfX7"
      },
      "source": [
        "def perform_ztest(group_A,group_B,group_A_name,group_B_name,steps,alpha=0.01):\n",
        "    plt.figure(figsize=(25,7))\n",
        "    plt.suptitle('Share of users having events in group '+group_A_name+' and '+group_B_name, y=1.05, fontsize=22,color='red')\n",
        "    \n",
        "    def set_titles(ax,title):\n",
        "        ax.set_title(title)\n",
        "        ax.title.set_color('black')\n",
        "        ax.title.set_size(20)\n",
        "        ax.set_ylabel('share of users')\n",
        "        ax.set_xlabel('groups')\n",
        "        ax.set_ylim(0,1)\n",
        "    \n",
        "    def plt_text(ax,text,passed):\n",
        "        if passed=='yes':\n",
        "            color='green'\n",
        "        else:\n",
        "            color='tab:red'\n",
        "        ax.text(0.5,0.5,text,fontsize='x-large',horizontalalignment='center',verticalalignment='center',linespacing=2,c=color) \n",
        "        ax.set_xticks([])\n",
        "        ax.set_yticks([])\n",
        "        ax.axis('off')\n",
        "\n",
        "    total_A=group_A.uid.nunique()\n",
        "    total_B=group_B.uid.nunique()\n",
        "    p_vals=[]\n",
        "\n",
        "    for i in range(len(steps)):\n",
        "        pozitive_A=group_A[group_A['event']==steps[i]].uid.nunique()\n",
        "        pozitive_B=group_B[group_B['event']==steps[i]].uid.nunique()\n",
        "        share_A=pozitive_A/total_A\n",
        "        share_B=pozitive_B/total_B\n",
        "\n",
        "        ax=plt.subplot2grid((3, 4), (0, i),rowspan=2)\n",
        "        sns.barplot(ax=ax, x=[group_A_name,group_B_name], y=[share_A,share_B])\n",
        "        set_titles(ax,steps[i])\n",
        "        for ind, v in enumerate([share_A,share_B]):\n",
        "            if isinstance(v, float): v=round(v,2)\n",
        "            ax.text(ind-0.1,v*0.5, str(v), fontsize=20,color='white')\n",
        "        \n",
        "\n",
        "        p_vals.append(proportions_ztest(\n",
        "        [pozitive_A,pozitive_B],\n",
        "        [total_A,total_B])[1])\n",
        "    \n",
        "    p_correction=multipletests(p_vals, alpha, method='holm')\n",
        "    \n",
        "    for i in range(len(steps)):\n",
        "        if p_correction[0][i]:\n",
        "            verdict='H0 rejected'\n",
        "            passed='no'\n",
        "        else:\n",
        "            verdict='H0 not rejected'\n",
        "            passed='yes'\n",
        "        \n",
        "        text='multitest corrected \\n p-value = '+str(round(p_correction[1][i],5))+'\\n'+verdict\n",
        "        plt_text(plt.subplot2grid((3, 4), (2, i)),text,passed)\n",
        "   \n",
        "    plt.tight_layout()\n",
        "    plt.show() "
      ],
      "execution_count": 45,
      "outputs": []
    },
    {
      "cell_type": "code",
      "metadata": {
        "colab": {
          "base_uri": "https://localhost:8080/",
          "height": 536
        },
        "id": "26xQg_rfv905",
        "outputId": "dd1ec621-d225-4bc1-835b-287dd619f505"
      },
      "source": [
        "perform_ztest(group_246,group_247,'246','247',steps)"
      ],
      "execution_count": 46,
      "outputs": [
        {
          "output_type": "display_data",
          "data": {
            "image/png": "[encoded data removed]",
            "text/plain": [
              "<Figure size 1800x504 with 8 Axes>"
            ]
          },
          "metadata": {}
        }
      ]
    },
    {
      "cell_type": "markdown",
      "metadata": {
        "id": "Ax4OK-HLAH7W"
      },
      "source": [
        "Результаты z-теста не позволяют отвергнуть нулевую гипотезу об отсутствии различий между группами в долях пользователей, сгенерировавших то или иное событие по всем ступеням воронки продажи. \n",
        "На основании проведенных U и Z тестов, группы 246 и 247 можно признать контрольными.\n",
        "\n",
        "---\n",
        "\n"
      ]
    },
    {
      "cell_type": "markdown",
      "metadata": {
        "id": "y4iHa02qDgnJ"
      },
      "source": [
        "Сформулируем нулевую гипотезу А/В теста: статистически значимые различия в пропорциях контрольных и экспериментальной групп отсуствуют."
      ]
    },
    {
      "cell_type": "markdown",
      "metadata": {
        "id": "6TZcCCK_BBPc"
      },
      "source": [
        "Проверим статистическую значимость различий параметров между контрольной группой 246 и экспериментальной группой 248:"
      ]
    },
    {
      "cell_type": "code",
      "metadata": {
        "colab": {
          "base_uri": "https://localhost:8080/",
          "height": 536
        },
        "id": "ijRZCM_dBBZ3",
        "outputId": "ce9f197f-541b-4b9d-ef0c-24a26954052d"
      },
      "source": [
        "perform_ztest(group_246,group_248,'246','248',steps)"
      ],
      "execution_count": 47,
      "outputs": [
        {
          "output_type": "display_data",
          "data": {
            "image/png": "[encoded data removed]",
            "text/plain": [
              "<Figure size 1800x504 with 8 Axes>"
            ]
          },
          "metadata": {}
        }
      ]
    },
    {
      "cell_type": "markdown",
      "metadata": {
        "id": "ywgY8_ddCCEq"
      },
      "source": [
        "Проверим статистическую значимость различий параметров между контрольной группой 247 и экспериментальной группой 248:"
      ]
    },
    {
      "cell_type": "code",
      "metadata": {
        "colab": {
          "base_uri": "https://localhost:8080/",
          "height": 536
        },
        "id": "K3wFq2IqBFSW",
        "outputId": "19f623c4-aa76-41ce-a5be-9a7c604896ca"
      },
      "source": [
        "perform_ztest(group_247,group_248,'247','248',steps)"
      ],
      "execution_count": 48,
      "outputs": [
        {
          "output_type": "display_data",
          "data": {
            "image/png": "[encoded data removed]",
            "text/plain": [
              "<Figure size 1800x504 with 8 Axes>"
            ]
          },
          "metadata": {}
        }
      ]
    },
    {
      "cell_type": "markdown",
      "metadata": {
        "id": "do3R1NaYCDYs"
      },
      "source": [
        "Проверим статистическую значимость различий параметров между объединенной контрольной группой 246+247 и экспериментальной группой 248:"
      ]
    },
    {
      "cell_type": "code",
      "metadata": {
        "colab": {
          "base_uri": "https://localhost:8080/",
          "height": 536
        },
        "id": "OrnKjoDEBOgT",
        "outputId": "547c732e-ed3d-4cfa-ea51-a3805509628a"
      },
      "source": [
        "perform_ztest(pd.concat([group_246,group_247]),group_248,'246+247','248',steps)"
      ],
      "execution_count": 49,
      "outputs": [
        {
          "output_type": "display_data",
          "data": {
            "image/png": "[encoded data removed]",
            "text/plain": [
              "<Figure size 1800x504 with 8 Axes>"
            ]
          },
          "metadata": {}
        }
      ]
    },
    {
      "cell_type": "markdown",
      "metadata": {
        "id": "TGszU65rDAUO"
      },
      "source": [
        "Ни один из тестов не отверг нулевую гипотезу ни по одному событию, а, следовательно, наличие статистической значимости различий параметров между контрольными группами и экспериментальной группой подтвердить невозможно."
      ]
    },
    {
      "cell_type": "markdown",
      "metadata": {
        "id": "_1wPppqrbvet"
      },
      "source": [
        "##  **Выводы**<a  class=\"anchor\" id=\"summary\"></a>"
      ]
    },
    {
      "cell_type": "markdown",
      "metadata": {
        "id": "xkBnPs8vED4z"
      },
      "source": [
        "Для проведения А/В теста использованы данные о поведении трех групп пользователей (две контрольных и одна экспериментальная) в виде логов мобильного приложения за период с 31.07.2019 по 07.08.2019. Группы эксперимента однороды по поведению пользователей, медианное количество на одного пользователя составило 19 событий."
      ]
    },
    {
      "cell_type": "markdown",
      "metadata": {
        "id": "uDxvrkiaED8X"
      },
      "source": [
        "Воронкой продаж по исследованным логам мы приняли последовательность событий: Появление основного экрана (MainScreenAppear)-> Появление экрана с каталогом (OffersScreenAppear) -> Появление экрана с корзиной (CartScreenAppear) -> Появление экрана с успешной оплатой (PaymentScreenSuccessful).  "
      ]
    },
    {
      "cell_type": "markdown",
      "metadata": {
        "id": "SLb4risnIEkm"
      },
      "source": [
        "По результатам анализа событий по количеству пользователей их иннициировавших по данным по всем группам выяснилось, что событие \"Появление основного экрана\" зарегистрровано для 98,5% пользователей. Сделан вывод о возможном стартовом лендинге в приложении помимо главной страницы. \n",
        "\n",
        "Каталог товаров открывал 61% пользователей, что является самой большой ступенью в воронке продаж. Рекомендовано было проведение дополнительного исследования наличия возможных проблем отображения или маршрутизации пользователей между главной страницей и страницей каталога.\n",
        "\n",
        "В корзину перешли 49,6% пользователей и оформили покупку, успешно совершив оплату 47% пользователей."
      ]
    },
    {
      "cell_type": "markdown",
      "metadata": {
        "id": "JFsCpIw3KLLG"
      },
      "source": [
        "Анализ по покупателям, совершавшим последовательные действия по ступениям воронки продаж, выявил, что из пользователей, открывших главную страницу, через каталог и корзину, завершили покупку оплатой лишь 6,1%.\n",
        "\n",
        "Так как успешно совершали оплату 47% пользователей, то такая маленькая доля покупок в результате последовательных шагов позволяет сделать вывод о наличии альтернативных путей завершения транзакций.\n",
        "Также определено потенциальное узкое место приложения: при переходе из корзины к оплате отсеивается 2/3 пользователей. Требуется дополнительная диагностика выявленной аномалии. "
      ]
    },
    {
      "cell_type": "markdown",
      "metadata": {
        "id": "2nI9hq7cED__"
      },
      "source": [
        "Анализ контрольных групп 246 и 247 на однородность (тест Манна-Уитни для проверки гипотезы о равенстве средних двух групп и z-тест для проверки статзначимости пропорций в группах) подтвердил корректность разбиения на группы."
      ]
    },
    {
      "cell_type": "markdown",
      "metadata": {
        "id": "dpP17Mwk5Mc9"
      },
      "source": [
        "Для проверки влияния измнения шрифта в приложении на поведение пользователей проведено 12 тестов, ни один из которых не показал наличия статистически значимого различия в группах. Таким образом, нельзя утверждать, что изменение текста окажет позитивное, либо негативное влияние на пользователей приложения."
      ]
    }
  ]
}